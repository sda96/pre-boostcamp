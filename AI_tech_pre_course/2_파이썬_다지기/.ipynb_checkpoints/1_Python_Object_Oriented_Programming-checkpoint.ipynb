{
 "cells": [
  {
   "cell_type": "markdown",
   "id": "growing-terrain",
   "metadata": {},
   "source": [
    "### Object Oriented Programming(객체지향 프로그래밍)"
   ]
  },
  {
   "cell_type": "markdown",
   "id": "finished-backup",
   "metadata": {},
   "source": [
    "파이썬을 개발하는 과정에서 만들어 놓은 코드를 재사용하거나 다른 사람의 코드를 자신의 입맛대로 커스텀하고 싶을 경우!"
   ]
  },
  {
   "cell_type": "markdown",
   "id": "discrete-emerald",
   "metadata": {},
   "source": [
    "#### 객체 지향 언어의 이해(클래스와 객체) ex) C#, Java, C++, etc..."
   ]
  },
  {
   "cell_type": "markdown",
   "id": "assumed-coral",
   "metadata": {},
   "source": [
    "예시) 수강신청 프로그램을 작성하자!"
   ]
  },
  {
   "cell_type": "markdown",
   "id": "russian-associate",
   "metadata": {},
   "source": [
    "- 수강신청이 시작부터 끝까지 순서대로 작성\n",
    "- 수강신청 관련 **주체**들(교수, 학생, 관리자)의 **행동**(수강신청, 과목입력)과 **데이터**(수강과목, 강의과목)들을 중심으로 프로그램 작성 후 연결  \n",
    "(해당 기법이 객체 지향 프로그램 방식임)"
   ]
  },
  {
   "cell_type": "markdown",
   "id": "fiscal-search",
   "metadata": {},
   "source": [
    "#### 객체지향 프로그래밍 개요"
   ]
  },
  {
   "cell_type": "markdown",
   "id": "characteristic-import",
   "metadata": {},
   "source": [
    "- Object-Oriented-Programming(OOP)\n",
    "- 객체 : 실생활에서 일종의 물건으로 속성(Attribution)과 행동(Action)을 가짐\n",
    "- OOP는 이러한 객체 개념을 프로그램으로 표현하였으며,  \n",
    " **속성은 변수(variable), 행동은 함수(method)로 표현됨**\n",
    "- 파이썬 역시 객체 지향 프로그램 언어임"
   ]
  },
  {
   "cell_type": "markdown",
   "id": "genetic-subdivision",
   "metadata": {},
   "source": [
    "예시) 축구 프로그램을 작성한다고 가정"
   ]
  },
  {
   "cell_type": "markdown",
   "id": "artificial-desperate",
   "metadata": {},
   "source": [
    "- 객체 종류 : 팀, 선수, 심판, 공\n",
    "- Action :  \n",
    "선수 - 공을 차다, 패스하다  \n",
    "심판 - 휘슬을 불다, 경고를 주다\n",
    "- Attribute :  \n",
    "선수 - 선수 이름, 포지션, 소속팀  \n",
    "팀 - 팀 이름, 팀 연고지, 팀소속 선수"
   ]
  },
  {
   "cell_type": "markdown",
   "id": "approximate-peeing",
   "metadata": {},
   "source": [
    "OOP는 설계도에 해당하는 클래스(Class)와 실져 구현체인 인스턴스(instance)로 나눔  \n",
    "- 클래스(붕어빵틀)\n",
    "- 인스턴스(붕어빵)"
   ]
  },
  {
   "cell_type": "markdown",
   "id": "racial-humidity",
   "metadata": {},
   "source": [
    "#### Object in Python"
   ]
  },
  {
   "cell_type": "code",
   "execution_count": 9,
   "id": "productive-manufacturer",
   "metadata": {},
   "outputs": [
    {
     "data": {
      "text/plain": [
       "False"
      ]
     },
     "execution_count": 9,
     "metadata": {},
     "output_type": "execute_result"
    }
   ],
   "source": [
    "class SoccerPlayer(object):\n",
    "    pass\n",
    "\n",
    "# 클래스인 SoccerPlayer에서 객체 abc와 bcd를 찍어냄\n",
    "abc = SoccerPlayer()\n",
    "bcd = SoccerPlayer()\n",
    "\n",
    "# 클래스에서 찍어낸 두 객체는 서로 다른 메모리 주소를 가짐\n",
    "abc is bcd"
   ]
  },
  {
   "cell_type": "markdown",
   "id": "peripheral-conjunction",
   "metadata": {},
   "source": [
    "참조) Python naming rule\n",
    "- 변수와 class명 함수명은 짓느 방식이 존재\n",
    "- snake_case : 띄어쓰기 부분에 _ 를 추가하는 방식으로 뱀처럼 늘여쓰기 : 파이썬 함수/ 변수명에 사용\n",
    "- CamelCase : 띄어쓰기 부분에 대문자를 사용하는 방식으로 낙타의 등 모양과 닮은 : 파이썬 클래스명에 사용"
   ]
  },
  {
   "cell_type": "markdown",
   "id": "exotic-provider",
   "metadata": {},
   "source": [
    "#### Attribute(속성) 구현하기"
   ]
  },
  {
   "cell_type": "markdown",
   "id": "local-semiconductor",
   "metadata": {},
   "source": [
    "ex) 축구 선수 정보를 class로 구현하기"
   ]
  },
  {
   "cell_type": "code",
   "execution_count": 12,
   "id": "automotive-element",
   "metadata": {},
   "outputs": [],
   "source": [
    "# 상속받는 객체인 object로 파이썬3에서는 자동상속이 일어남\n",
    "class SoccerPlayer(object): \n",
    "    # 클래스의 속성을 추가하는 부분으로 객체 초기화 예약함수인 init을 사용\n",
    "    def __init__(self, name : str, position : str, bakc_number : int): # 속성 정보 : name, position, bakc_number\n",
    "        # self.name은 self라는 객체에서 불러온 name이고,\n",
    "        # name은 init함수의 parameter에서 불러온 name으로\n",
    "        # parameter name을 self.name에 할당시켜줌\n",
    "        self.name = name\n",
    "        self.position = position\n",
    "        self.bakc_number = bakc_number"
   ]
  },
  {
   "cell_type": "code",
   "execution_count": 18,
   "id": "sharing-strain",
   "metadata": {},
   "outputs": [
    {
     "data": {
      "text/plain": [
       "False"
      ]
     },
     "execution_count": 18,
     "metadata": {},
     "output_type": "execute_result"
    }
   ],
   "source": [
    "abc = SoccerPlayer(\"Son\", \"FW\", 7)\n",
    "kein = SoccerPlayer(\"Park\", \"WF\", 13)\n",
    "abc is kein"
   ]
  },
  {
   "cell_type": "markdown",
   "id": "square-revision",
   "metadata": {},
   "source": [
    "참조) 더블언더바 __ 의 의미"
   ]
  },
  {
   "cell_type": "markdown",
   "id": "entertaining-tolerance",
   "metadata": {},
   "source": [
    "더블언더바는 특수한 [예약함수(매직 메소드)](https://corikachu.github.io/articles/python/python-magic-method)나 변수 그리고 기존의 함수명 변경(맨글링)으로 사용 ex) __main__, __add__, __str__, __eq__"
   ]
  },
  {
   "cell_type": "code",
   "execution_count": 22,
   "id": "demographic-imagination",
   "metadata": {},
   "outputs": [],
   "source": [
    "class SoccerPlayer(object): \n",
    "    def __init__(self, name, position, bakc_number): # 속성 정보 : name, position, bakc_number\n",
    "        self.name = name\n",
    "        self.position = position\n",
    "        self.bakc_number = bakc_number\n",
    "    # print 함수에 대한 예약함수인 __str__\n",
    "    def __str__(self): \n",
    "        return f\"Hello, My name is {self.name}. I play in {self.position}\"\n",
    "    # 연산기호 + 에 대한 예약함수인 __add__\n",
    "    def __add__(self, other): \n",
    "        return self.name + other.name\n",
    "    "
   ]
  },
  {
   "cell_type": "code",
   "execution_count": 66,
   "id": "welsh-intersection",
   "metadata": {},
   "outputs": [
    {
     "name": "stdout",
     "output_type": "stream",
     "text": [
      "Hello, My name is Son. I play in FW\n"
     ]
    }
   ],
   "source": [
    "abc = SoccerPlayer(\"Son\", \"FW\", 7)\n",
    "kein = SoccerPlayer(\"Park\", \"WF\", 13)\n",
    "print(abc)"
   ]
  },
  {
   "cell_type": "code",
   "execution_count": 24,
   "id": "twenty-deficit",
   "metadata": {},
   "outputs": [
    {
     "data": {
      "text/plain": [
       "'SonPark'"
      ]
     },
     "execution_count": 24,
     "metadata": {},
     "output_type": "execute_result"
    }
   ],
   "source": [
    "abc + kein"
   ]
  },
  {
   "cell_type": "markdown",
   "id": "religious-moderator",
   "metadata": {},
   "source": [
    "#### Method(행동) 구현하기"
   ]
  },
  {
   "cell_type": "markdown",
   "id": "auburn-memphis",
   "metadata": {},
   "source": [
    "method 추가는 기존 함수와 같으나 반드시 self를 추가해야만 class 함수로 인정이 됨"
   ]
  },
  {
   "cell_type": "code",
   "execution_count": 61,
   "id": "optional-aspect",
   "metadata": {},
   "outputs": [],
   "source": [
    "class SoccerPlayer(object): \n",
    "    def __init__(self, name, position, back_number): # 속성 정보 : name, position, bakc_number\n",
    "        self.name = name\n",
    "        self.position = position\n",
    "        self.back_number = back_number\n",
    "    # print 함수에 대한 예약함수인 __str__\n",
    "    def __str__(self): \n",
    "        return f\"Hello, My name is {self.name}. I play in {self.position}\"\n",
    "    # 연산기호 + 에 대한 예약함수인 __add__\n",
    "    def __add__(self, other): \n",
    "        return self.name + other.name\n",
    "    # self는 생성된 instance 를 의미함 아래의 경우 변수명 abc, kein을 의미함\n",
    "    def chang_back_number(self, new_number):\n",
    "        print(f\"선수의 등번호를 변경합니다 : \\n \\\n",
    "        From {self.back_number} to {new_number}\")\n",
    "        self.back_number = new_number"
   ]
  },
  {
   "cell_type": "code",
   "execution_count": 51,
   "id": "suspected-garage",
   "metadata": {},
   "outputs": [],
   "source": [
    "abc = SoccerPlayer(\"Son\", \"FW\", 7)\n",
    "kein = SoccerPlayer(\"Park\", \"WF\", 13)"
   ]
  },
  {
   "cell_type": "code",
   "execution_count": 52,
   "id": "recorded-submission",
   "metadata": {},
   "outputs": [
    {
     "name": "stdout",
     "output_type": "stream",
     "text": [
      "선수의 등번호를 변경합니다 : \n",
      "         From 7 to 10\n"
     ]
    }
   ],
   "source": [
    "abc.chang_back_number(10)"
   ]
  },
  {
   "cell_type": "markdown",
   "id": "forward-consumption",
   "metadata": {},
   "source": [
    "#### objects(instance) 사용하기"
   ]
  },
  {
   "cell_type": "code",
   "execution_count": 63,
   "id": "polyphonic-reality",
   "metadata": {},
   "outputs": [
    {
     "name": "stdout",
     "output_type": "stream",
     "text": [
      "현재 선수의 등번호는 :  7\n",
      "선수의 등번호를 변경합니다 : \n",
      "         From 7 to 10\n",
      "현재 선수의 등번호는 :  10\n"
     ]
    }
   ],
   "source": [
    "# 객체명 = 클래스명(init함수에 있는 속성들 및 초기값)\n",
    "abc = SoccerPlayer(\"Son\", \"FW\", 7)\n",
    "print(\"현재 선수의 등번호는 : \", abc.back_number)\n",
    "abc.chang_back_number(10)\n",
    "print(\"현재 선수의 등번호는 : \", abc.back_number)"
   ]
  },
  {
   "cell_type": "code",
   "execution_count": 65,
   "id": "documentary-requirement",
   "metadata": {},
   "outputs": [
    {
     "data": {
      "text/plain": [
       "22"
      ]
     },
     "execution_count": 65,
     "metadata": {},
     "output_type": "execute_result"
    }
   ],
   "source": [
    "abc.back_number = 22\n",
    "abc.back_number"
   ]
  },
  {
   "cell_type": "markdown",
   "id": "infrared-cleaners",
   "metadata": {},
   "source": [
    "### OOP Implementation Example"
   ]
  },
  {
   "cell_type": "markdown",
   "id": "uniform-retailer",
   "metadata": {},
   "source": [
    "Note를 정리하는 프로그램  \n",
    "사용자는 Note에 뭔가를 적을 수 있다  \n",
    "Note에는 Content가 있고, 내용을 제거할 수 있다  \n",
    "두 개의 노트북을 합쳐 하나로 만들 수 있다  \n",
    "Note는 Notebook에 삽입된다  \n",
    "Notebook은 Note가 삽입될 떄 페이지르 생성하며, 최고 300페이지까지 저장 가능하다  \n",
    "300페이지가 넘으면서 더 이상 노트를 삽입하지 못한다"
   ]
  },
  {
   "cell_type": "code",
   "execution_count": 75,
   "id": "south-prisoner",
   "metadata": {},
   "outputs": [],
   "source": [
    "class Note(object):\n",
    "    def __init__(self, content):\n",
    "        self.content = content\n",
    "    def write(self, new_content):\n",
    "        self.content = new_content\n",
    "    def remove(self):\n",
    "        self.content = \"\"\n",
    "\n",
    "class Notebook(Note):\n",
    "    "
   ]
  },
  {
   "cell_type": "code",
   "execution_count": 76,
   "id": "welsh-source",
   "metadata": {},
   "outputs": [
    {
     "name": "stdout",
     "output_type": "stream",
     "text": [
      "I want to be a rich\n",
      "Changing content to bio\n",
      "\n"
     ]
    }
   ],
   "source": [
    "note = Note(\"I want to be a rich\")\n",
    "print(note.content)\n",
    "note.write(\"Changing content to bio\")\n",
    "print(note.content)\n",
    "note.remove()\n",
    "print(note.content)"
   ]
  },
  {
   "cell_type": "code",
   "execution_count": 79,
   "id": "friendly-grain",
   "metadata": {},
   "outputs": [],
   "source": [
    "class Note(object):\n",
    "    def __init__(self, content = None):\n",
    "        self.content = content\n",
    "        \n",
    "    def write_content(self, content):\n",
    "        self.content = content\n",
    "    \n",
    "    def remove_all(self):\n",
    "        self.count = \"\"\n",
    "    \n",
    "    def __add__(self, other):\n",
    "        return self.content + other.content\n",
    "    \n",
    "    def __str__(self):\n",
    "        return self.content"
   ]
  },
  {
   "cell_type": "code",
   "execution_count": 80,
   "id": "clinical-pillow",
   "metadata": {},
   "outputs": [],
   "source": [
    "class Notebook(object):\n",
    "    def __init__(self, title):\n",
    "        self.title = title\n",
    "        self.page_number = 1\n",
    "        self.notes = {}\n",
    "    \n",
    "    def add_note(self, note, page = 0):\n",
    "        if self.page_number < 300:\n",
    "            if page == 0:\n",
    "                self.notes[self.page_number] = note\n",
    "                self.page_number += 1\n",
    "            else:\n",
    "                self.notes = {page : note}\n",
    "                self.page_number += 1\n",
    "        else:\n",
    "            print(\"Page가 모두 채워졌습니다.\")\n",
    "    \n",
    "    def remove_note(self, page_number):\n",
    "        if page_number in self.notes.keys():\n",
    "            return self.notest.pop(page_number)\n",
    "        else:\n",
    "            print(\"해당 페이지는 존재하지 않습니다\")\n",
    "    \n",
    "    def get_number_of_pages(self):\n",
    "        return len(self.notes.keys())"
   ]
  },
  {
   "cell_type": "code",
   "execution_count": 81,
   "id": "contrary-backing",
   "metadata": {},
   "outputs": [],
   "source": [
    "my_notebook = Notebook(\"팀랩 강의노트\")"
   ]
  },
  {
   "cell_type": "code",
   "execution_count": 83,
   "id": "welsh-spirit",
   "metadata": {},
   "outputs": [],
   "source": [
    "new_note = Note(\"으히미미\")"
   ]
  },
  {
   "cell_type": "code",
   "execution_count": 85,
   "id": "occasional-baseball",
   "metadata": {},
   "outputs": [
    {
     "name": "stdout",
     "output_type": "stream",
     "text": [
      "으히미미\n"
     ]
    }
   ],
   "source": [
    "print(new_note.content)"
   ]
  },
  {
   "cell_type": "code",
   "execution_count": 86,
   "id": "friendly-trader",
   "metadata": {},
   "outputs": [],
   "source": [
    "my_notebook.add_note(new_note)"
   ]
  },
  {
   "cell_type": "code",
   "execution_count": 87,
   "id": "fifteen-rwanda",
   "metadata": {},
   "outputs": [
    {
     "name": "stdout",
     "output_type": "stream",
     "text": [
      "으히미미\n"
     ]
    }
   ],
   "source": [
    "print(my_notebook.notes[1])"
   ]
  },
  {
   "cell_type": "markdown",
   "id": "electric-weight",
   "metadata": {},
   "source": [
    "### OOP characteristic(특징)"
   ]
  },
  {
   "cell_type": "markdown",
   "id": "alike-imperial",
   "metadata": {},
   "source": [
    "객체 지향 언어의 특징은 실제 세상을 컴퓨터 프로그램으로 모델링 하기 위함이다.  \n",
    "1. Inheritance(상속)\n",
    "2. Polymorphism(다형성)\n",
    "3. Visibility, hidden class"
   ]
  },
  {
   "cell_type": "markdown",
   "id": "fresh-person",
   "metadata": {},
   "source": [
    "#### 1. Inheritance"
   ]
  },
  {
   "cell_type": "markdown",
   "id": "higher-sector",
   "metadata": {},
   "source": [
    "- 부모 클래스로 부터 속성과 메소드를 물려받은 자식 클래스를 생성하는 것"
   ]
  },
  {
   "cell_type": "code",
   "execution_count": 93,
   "id": "tight-climate",
   "metadata": {},
   "outputs": [],
   "source": [
    "# 부모 클래스인 Person, 초기 상속인 object\n",
    "class Person(object):\n",
    "    def __init__(self, name, age):\n",
    "        self.name = name\n",
    "        self.age = age\n",
    "# 부모 클래스의 속성을 이어받은 자식 클래스 Korean\n",
    "class Korean(Person):\n",
    "    pass"
   ]
  },
  {
   "cell_type": "code",
   "execution_count": 92,
   "id": "encouraging-justice",
   "metadata": {},
   "outputs": [
    {
     "name": "stdout",
     "output_type": "stream",
     "text": [
      "<__main__.Korean object at 0x0000024B95DADF28>\n"
     ]
    }
   ],
   "source": [
    "first_korean = Korean(\"Kim\", 15)\n",
    "print(first_korean)"
   ]
  },
  {
   "cell_type": "code",
   "execution_count": 98,
   "id": "external-pavilion",
   "metadata": {},
   "outputs": [],
   "source": [
    "# 예제\n",
    "# 부모 클래스 선언\n",
    "class Person:\n",
    "    def __init__(self, name, age, gender): # 속성 선언\n",
    "        self.name = name # 각 속성값들을 지정하여 해당 변수가 클래스의 attr임을 명시함\n",
    "        self.age = age\n",
    "        self.gender = gender\n",
    "    \n",
    "    def about_me(self): # method 선언\n",
    "        print(f\"저의 이름 {self.name} 이고, 제 나이는 {self.age}살 입니다.\")\n",
    "    \n",
    "    def __str__(self):\n",
    "        return f\"저의 이름 {self.name} 이고, 제 나이는 {self.age}살 입니다.\""
   ]
  },
  {
   "cell_type": "code",
   "execution_count": 101,
   "id": "married-maintenance",
   "metadata": {},
   "outputs": [],
   "source": [
    "# super()는 자기자신의 부모클래스 객체를 불러옴\n",
    "class Employee(Person): # 부모 클래스 Person으로 부터 상속받음\n",
    "    def __init__(self, name, age, gender, salary, hire_date):\n",
    "        super().__init__(name, age, gender) # 부모 객체 사용\n",
    "        self.salary = salary # 속성값 추가\n",
    "        self.hire_date = hire_date\n",
    "        \n",
    "    def do_work(self): # 새로운 메소드를 추가\n",
    "        print(\"열심히 일을 합니다.\")\n",
    "    \n",
    "    def about_me(self): # 부모 클래스의 함수를 재정의\n",
    "        super().about_me() # 부모 클래스 함수를 사용\n",
    "        print(f\"제 급여는 {self.salary}원 이고, 제 입사일은 {self.hire_date}입니다.\")"
   ]
  },
  {
   "cell_type": "code",
   "execution_count": 102,
   "id": "tutorial-pakistan",
   "metadata": {},
   "outputs": [
    {
     "name": "stdout",
     "output_type": "stream",
     "text": [
      "저의 이름 Daeho 이고, 제 나이는 24살 입니다.\n",
      "제 급여는 350000원 이고, 제 입사일은 2021/06/13입니다.\n"
     ]
    }
   ],
   "source": [
    "myPerson = Person(\"John\", 34, \"Male\")\n",
    "myEmployee = Employee(\"Daeho\", 24, \"Male\", 350000, \"2021/06/13\")\n",
    "myEmployee.about_me()"
   ]
  },
  {
   "cell_type": "markdown",
   "id": "external-package",
   "metadata": {},
   "source": [
    "#### 2. Polymorphims"
   ]
  },
  {
   "cell_type": "markdown",
   "id": "worldwide-holiday",
   "metadata": {},
   "source": [
    "- 비슷한 기능을 하면서, 같은 이름의 메소드에서 세부적인 내부 로직을 다르게 작성\n",
    "- Dynamic Typing 특성으로 인해 파이썬에서는 같은 부모클래스의 상속에서 주로 발생함\n",
    "- 중요한 OOP의 개념이나 너무 깊이 알 필요없음"
   ]
  },
  {
   "cell_type": "code",
   "execution_count": 105,
   "id": "small-friend",
   "metadata": {},
   "outputs": [],
   "source": [
    "# 부모 클래스\n",
    "class Animal:\n",
    "    def __init__(self, name):\n",
    "        self.name = name\n",
    "    \n",
    "    def talk(self):\n",
    "        raise NotImplementedError(\"Subclass must implement abstrack method\")\n",
    "\n",
    "# 자식1 클래스\n",
    "class Cat(Animal):\n",
    "    def talk(self):\n",
    "        return \"Meow!\"\n",
    "# 자식2 클래스\n",
    "class Dog(Animal):\n",
    "    def talk(self):\n",
    "        return \"Woof! Woof!\""
   ]
  },
  {
   "cell_type": "code",
   "execution_count": 106,
   "id": "educational-fancy",
   "metadata": {},
   "outputs": [
    {
     "name": "stdout",
     "output_type": "stream",
     "text": [
      "Missy:Meow!\n",
      "Miss:Meow!\n",
      "Lassie:Woof! Woof!\n"
     ]
    }
   ],
   "source": [
    "animals = [Cat(\"Missy\"), Cat(\"Miss\"), Dog(\"Lassie\")]\n",
    "for animal in animals:\n",
    "    print(animal.name + \":\" + animal.talk())"
   ]
  },
  {
   "cell_type": "markdown",
   "id": "saved-satin",
   "metadata": {},
   "source": [
    "Polymorphism(다형성)은 위의 예시와 같이 같은 기능을 하는 메소드의 함수명을 동일하게 해주지만 각 자식클래스의 특성에 맞게 약간이 다른 내부 로직을 만들어 줘서 편의성을 제공해 줍니다."
   ]
  },
  {
   "cell_type": "markdown",
   "id": "distant-catholic",
   "metadata": {},
   "source": [
    "#### 3. Visiability(가시성)"
   ]
  },
  {
   "cell_type": "markdown",
   "id": "induced-nirvana",
   "metadata": {},
   "source": [
    "- 객체의 정보를 볼 수 있는 레벨을 조절하는 것\n",
    "- 누구나 객체 안에 모든 변수를 볼 필요가 없을 수도 있음  \n",
    "1. 객체를 사용하는 사용자가 임의로 정보 수정시\n",
    "2. 필요없는 정보에는 접근 할 필요가 없는 경우\n",
    "3. 만약 제품으로 판매할 때, 소스 코드의 보호를 위해\n",
    "\n",
    "- 캡슐화 또는 정보 은닉(Information Hiding)의 목적\n",
    "- Class를 설계할 떄, 클래스 간 간섭/ 정보공유의 최소화가 목적\n",
    "- 캡슐을 던지듯, 인터페이스만 알아서 써야함"
   ]
  },
  {
   "cell_type": "markdown",
   "id": "expanded-generic",
   "metadata": {},
   "source": [
    "예시) Product 객체를 Inventory 객체에 추가하였고, Inventory에는 오직 Product 객체만 들어갔는데 Inventory에 Product가 몇 개 인지 확인이 필요하며, Inventory에서는 Product items에 직접 접근이 불가능하게 만들 경우"
   ]
  },
  {
   "cell_type": "code",
   "execution_count": 118,
   "id": "mounted-halifax",
   "metadata": {},
   "outputs": [],
   "source": [
    "class Product(object):\n",
    "    pass"
   ]
  },
  {
   "cell_type": "code",
   "execution_count": 126,
   "id": "retained-pierre",
   "metadata": {},
   "outputs": [],
   "source": [
    "class Inventory(object):\n",
    "    def __init__(self):\n",
    "        self.items = [] \n",
    "    \n",
    "    def add_new_item(self, product):\n",
    "        if type(product) == Product:\n",
    "            self.items.append(product)\n",
    "            print(\"new item added\")\n",
    "        else:\n",
    "            raise ValueError(\"Invalid Item\")\n",
    "    \n",
    "    def get_number_of_items(self):\n",
    "        return len(self.__items)    "
   ]
  },
  {
   "cell_type": "code",
   "execution_count": 127,
   "id": "nominated-certification",
   "metadata": {},
   "outputs": [
    {
     "name": "stdout",
     "output_type": "stream",
     "text": [
      "new item added\n",
      "new item added\n"
     ]
    },
    {
     "data": {
      "text/plain": [
       "<__main__.Inventory at 0x24b96228d68>"
      ]
     },
     "execution_count": 127,
     "metadata": {},
     "output_type": "execute_result"
    }
   ],
   "source": [
    "pro = Product()\n",
    "abc = Inventory()\n",
    "abc.add_new_item(pro)\n",
    "abc.add_new_item(pro)\n",
    "abc"
   ]
  },
  {
   "cell_type": "code",
   "execution_count": 134,
   "id": "northern-student",
   "metadata": {},
   "outputs": [
    {
     "data": {
      "text/plain": [
       "[<__main__.Product at 0x24b96228e10>,\n",
       " <__main__.Product at 0x24b96228e10>,\n",
       " 'abc',\n",
       " 'abc',\n",
       " 'abc',\n",
       " 'abc',\n",
       " 'abc',\n",
       " 'abc']"
      ]
     },
     "execution_count": 134,
     "metadata": {},
     "output_type": "execute_result"
    }
   ],
   "source": [
    "abc.items.append(\"abc\")\n",
    "abc.items # 외부에서 접근할 수 있게됨"
   ]
  },
  {
   "cell_type": "code",
   "execution_count": 163,
   "id": "dense-continuity",
   "metadata": {},
   "outputs": [],
   "source": [
    "class Inventory(object):\n",
    "    def __init__(self):\n",
    "        self.__items = [] # Private 변수, 속성으로 선언하여 다른 객체가 접근하지 못함, \n",
    "    \n",
    "    def add_new_item(self, product):\n",
    "        if type(product) == Product:\n",
    "            self.__items.append(product)\n",
    "            print(\"new item added\")\n",
    "        else:\n",
    "            raise ValueError(\"Invalid Item\")\n",
    "    \n",
    "    def get_number_of_items(self):\n",
    "        return len(self.__items)    "
   ]
  },
  {
   "cell_type": "code",
   "execution_count": 138,
   "id": "dynamic-newark",
   "metadata": {},
   "outputs": [
    {
     "name": "stdout",
     "output_type": "stream",
     "text": [
      "new item added\n",
      "new item added\n"
     ]
    },
    {
     "ename": "AttributeError",
     "evalue": "'Inventory' object has no attribute 'items'",
     "output_type": "error",
     "traceback": [
      "\u001b[1;31m---------------------------------------------------------------------------\u001b[0m",
      "\u001b[1;31mAttributeError\u001b[0m                            Traceback (most recent call last)",
      "\u001b[1;32m<ipython-input-138-f89bccf6eb0f>\u001b[0m in \u001b[0;36m<module>\u001b[1;34m\u001b[0m\n\u001b[0;32m      3\u001b[0m \u001b[0mabc\u001b[0m\u001b[1;33m.\u001b[0m\u001b[0madd_new_item\u001b[0m\u001b[1;33m(\u001b[0m\u001b[0mpro\u001b[0m\u001b[1;33m)\u001b[0m\u001b[1;33m\u001b[0m\u001b[1;33m\u001b[0m\u001b[0m\n\u001b[0;32m      4\u001b[0m \u001b[0mabc\u001b[0m\u001b[1;33m.\u001b[0m\u001b[0madd_new_item\u001b[0m\u001b[1;33m(\u001b[0m\u001b[0mpro\u001b[0m\u001b[1;33m)\u001b[0m\u001b[1;33m\u001b[0m\u001b[1;33m\u001b[0m\u001b[0m\n\u001b[1;32m----> 5\u001b[1;33m \u001b[0mabc\u001b[0m\u001b[1;33m.\u001b[0m\u001b[0mitems\u001b[0m\u001b[1;33m.\u001b[0m\u001b[0mappend\u001b[0m\u001b[1;33m(\u001b[0m\u001b[1;34m\"abc\"\u001b[0m\u001b[1;33m)\u001b[0m\u001b[1;33m\u001b[0m\u001b[1;33m\u001b[0m\u001b[0m\n\u001b[0m\u001b[0;32m      6\u001b[0m \u001b[0mabc\u001b[0m\u001b[1;33m.\u001b[0m\u001b[0m__items\u001b[0m \u001b[1;31m# 외부에서 접근할 수 없게됨\u001b[0m\u001b[1;33m\u001b[0m\u001b[1;33m\u001b[0m\u001b[0m\n",
      "\u001b[1;31mAttributeError\u001b[0m: 'Inventory' object has no attribute 'items'"
     ]
    }
   ],
   "source": [
    "pro = Product()\n",
    "abc = Inventory()\n",
    "abc.add_new_item(pro)\n",
    "abc.add_new_item(pro)\n",
    "abc.items.append(\"abc\")\n",
    "abc.__items # 외부에서 접근할 수 없게됨"
   ]
  },
  {
   "cell_type": "markdown",
   "id": "framed-prescription",
   "metadata": {},
   "source": [
    "#### 속성값에 접근이 되도록 허용하는 경우"
   ]
  },
  {
   "cell_type": "code",
   "execution_count": 143,
   "id": "interstate-implementation",
   "metadata": {},
   "outputs": [],
   "source": [
    "class Inventory(object):\n",
    "    def __init__(self):\n",
    "        self.__items = [] \n",
    "    \n",
    "    def add_new_item(self, product):\n",
    "        if type(product) == Product:\n",
    "            self.__items.append(product)\n",
    "            print(\"new item added\")\n",
    "        else:\n",
    "            raise ValueError(\"Invalid Item\")\n",
    "    \n",
    "    @property # property decorator를 사용하여 숨겨진 변수를 반환하게 해줌\n",
    "    def items(self): # 함수명을 변수명(attribute) 처럼 사용할 수 있게 해줌\n",
    "        return self.__items # 수정하면 모두다 수정이 되기에 copy를 해서 반환해줌\n",
    "    \n",
    "    \n",
    "    def get_number_of_items(self):\n",
    "        return len(self.__items)    "
   ]
  },
  {
   "cell_type": "code",
   "execution_count": 140,
   "id": "future-twins",
   "metadata": {},
   "outputs": [
    {
     "name": "stdout",
     "output_type": "stream",
     "text": [
      "new item added\n",
      "new item added\n"
     ]
    },
    {
     "ename": "AttributeError",
     "evalue": "'Inventory' object has no attribute '__items'",
     "output_type": "error",
     "traceback": [
      "\u001b[1;31m---------------------------------------------------------------------------\u001b[0m",
      "\u001b[1;31mAttributeError\u001b[0m                            Traceback (most recent call last)",
      "\u001b[1;32m<ipython-input-140-f89bccf6eb0f>\u001b[0m in \u001b[0;36m<module>\u001b[1;34m\u001b[0m\n\u001b[0;32m      4\u001b[0m \u001b[0mabc\u001b[0m\u001b[1;33m.\u001b[0m\u001b[0madd_new_item\u001b[0m\u001b[1;33m(\u001b[0m\u001b[0mpro\u001b[0m\u001b[1;33m)\u001b[0m\u001b[1;33m\u001b[0m\u001b[1;33m\u001b[0m\u001b[0m\n\u001b[0;32m      5\u001b[0m \u001b[0mabc\u001b[0m\u001b[1;33m.\u001b[0m\u001b[0mitems\u001b[0m\u001b[1;33m.\u001b[0m\u001b[0mappend\u001b[0m\u001b[1;33m(\u001b[0m\u001b[1;34m\"abc\"\u001b[0m\u001b[1;33m)\u001b[0m\u001b[1;33m\u001b[0m\u001b[1;33m\u001b[0m\u001b[0m\n\u001b[1;32m----> 6\u001b[1;33m \u001b[0mabc\u001b[0m\u001b[1;33m.\u001b[0m\u001b[0m__items\u001b[0m \u001b[1;31m# 외부에서 접근할 수 없게됨\u001b[0m\u001b[1;33m\u001b[0m\u001b[1;33m\u001b[0m\u001b[0m\n\u001b[0m",
      "\u001b[1;31mAttributeError\u001b[0m: 'Inventory' object has no attribute '__items'"
     ]
    }
   ],
   "source": [
    "pro = Product()\n",
    "abc = Inventory()\n",
    "abc.add_new_item(pro)\n",
    "abc.add_new_item(pro)\n",
    "abc.items.append(\"abc\")\n",
    "abc.__items # 외부에서 접근할 수 없게됨"
   ]
  },
  {
   "cell_type": "code",
   "execution_count": 142,
   "id": "nearby-solomon",
   "metadata": {},
   "outputs": [
    {
     "data": {
      "text/plain": [
       "[<__main__.Product at 0x24b95446e80>,\n",
       " <__main__.Product at 0x24b95446e80>,\n",
       " 'abc']"
      ]
     },
     "execution_count": 142,
     "metadata": {},
     "output_type": "execute_result"
    }
   ],
   "source": [
    "abc.items # property decorator로 함수를 변수처럼 호출"
   ]
  },
  {
   "cell_type": "markdown",
   "id": "alternate-surgeon",
   "metadata": {},
   "source": [
    "### decorate"
   ]
  },
  {
   "cell_type": "markdown",
   "id": "gothic-airport",
   "metadata": {},
   "source": [
    "decorate를 이해하기 위한 기본 용어\n",
    "1. first class object(일급객체)\n",
    "2. inner function\n",
    "3. decorator"
   ]
  },
  {
   "cell_type": "markdown",
   "id": "overhead-gasoline",
   "metadata": {},
   "source": [
    "#### 1. first class object"
   ]
  },
  {
   "cell_type": "markdown",
   "id": "english-separation",
   "metadata": {},
   "source": [
    "- 일등함수 또는 일급객체\n",
    "- 변수나 데이터 구조에 할당이 가능한 객체\n",
    "- 함수가 파라미터로 전달이 가능하며 리턴 값으로 사용 가능\n",
    "- 파이썬의 모든 함수는 일급함수임"
   ]
  },
  {
   "cell_type": "code",
   "execution_count": 149,
   "id": "demanding-buyer",
   "metadata": {},
   "outputs": [
    {
     "name": "stdout",
     "output_type": "stream",
     "text": [
      "25\n"
     ]
    }
   ],
   "source": [
    "def square(x):\n",
    "    return x * x\n",
    "f = square # 함수를 변수로 사용 가능, 메모리 주소만 저장\n",
    "print(f(5))"
   ]
  },
  {
   "cell_type": "code",
   "execution_count": 150,
   "id": "moderate-insert",
   "metadata": {},
   "outputs": [
    {
     "name": "stdout",
     "output_type": "stream",
     "text": [
      "[1, 4, 9, 16, 25]\n",
      "[1, 8, 27, 64, 125]\n"
     ]
    }
   ],
   "source": [
    "def square(x):\n",
    "    return x * x\n",
    "def cube(x):\n",
    "    return x * x * x\n",
    "\n",
    "def formula(method, argument_list): # 함수를 파라미터로 사용 가능\n",
    "    return [method(value) for value in argument_list]\n",
    "\n",
    "print(formula(square, [1,2,3,4,5]))\n",
    "print(formula(cube, [1,2,3,4,5]))"
   ]
  },
  {
   "cell_type": "markdown",
   "id": "straight-harvard",
   "metadata": {},
   "source": [
    "구조와 체계를 만들 수 있지만, 약간 이해가 어려울 수 있음"
   ]
  },
  {
   "cell_type": "markdown",
   "id": "chief-opposition",
   "metadata": {},
   "source": [
    "#### 2. inner function"
   ]
  },
  {
   "cell_type": "markdown",
   "id": "plain-salem",
   "metadata": {},
   "source": [
    "- 함수 내에 또다른 함수가 존재"
   ]
  },
  {
   "cell_type": "code",
   "execution_count": 151,
   "id": "magnetic-broadcast",
   "metadata": {},
   "outputs": [
    {
     "name": "stdout",
     "output_type": "stream",
     "text": [
      "Hello Pytohn\n"
     ]
    }
   ],
   "source": [
    "def print_msg(msg):\n",
    "    def printer():\n",
    "        print(msg)\n",
    "    printer()\n",
    "    \n",
    "print_msg(\"Hello Pytohn\")"
   ]
  },
  {
   "cell_type": "markdown",
   "id": "christian-november",
   "metadata": {},
   "source": [
    "- closures : 파이썬은 일급함수라서 Inner function을 return값으로 반환`"
   ]
  },
  {
   "cell_type": "code",
   "execution_count": 156,
   "id": "binding-animation",
   "metadata": {},
   "outputs": [
    {
     "name": "stdout",
     "output_type": "stream",
     "text": [
      "Hello Pytohn\n"
     ]
    }
   ],
   "source": [
    "def print_msg(msg):\n",
    "    def printer():\n",
    "        print(msg)\n",
    "    return printer\n",
    "    \n",
    "aa = print_msg(\"Hello Pytohn\")\n",
    "aa()"
   ]
  },
  {
   "cell_type": "code",
   "execution_count": 162,
   "id": "signal-collector",
   "metadata": {},
   "outputs": [
    {
     "name": "stdout",
     "output_type": "stream",
     "text": [
      "<title>This is Python Class<title>\n",
      "<p>Data Academy<p>\n"
     ]
    }
   ],
   "source": [
    "# 태그 함수 만들기\n",
    "def tag_func(tag, text):\n",
    "    tag = tag\n",
    "    text = text\n",
    "    def inner_func():\n",
    "        return f\"<{tag}>{text}<{tag}>\"\n",
    "    return inner_func\n",
    "\n",
    "h1_func = tag_func(\"title\", \"This is Python Class\")\n",
    "print(h1_func())\n",
    "p_func = tag_func(\"p\", \"Data Academy\")\n",
    "print(p_func())"
   ]
  },
  {
   "cell_type": "markdown",
   "id": "referenced-soccer",
   "metadata": {},
   "source": [
    "비슷한 목적을 가졋지만 조금씩 다른 내부 구조를 가진 함수를 만드는데 편한 함수임"
   ]
  },
  {
   "cell_type": "markdown",
   "id": "veterinary-equality",
   "metadata": {},
   "source": [
    "#### 3. decorator"
   ]
  },
  {
   "cell_type": "markdown",
   "id": "lesbian-spanish",
   "metadata": {},
   "source": [
    "- 복잡한 클로져 함수를 간단하게"
   ]
  },
  {
   "cell_type": "code",
   "execution_count": 171,
   "id": "viral-belize",
   "metadata": {},
   "outputs": [
    {
     "name": "stdout",
     "output_type": "stream",
     "text": [
      "TTTTTTTTTTTTTTTTTTTTTTTTTTTTTT\n",
      "&&&&&&&&&&&&&&&&&&&&&&&&&&&&&&\n",
      "Hello\n",
      "&&&&&&&&&&&&&&&&&&&&&&&&&&&&&&\n",
      "TTTTTTTTTTTTTTTTTTTTTTTTTTTTTT\n"
     ]
    }
   ],
   "source": [
    "def star(func):\n",
    "    def inner(*args, **kwargs):\n",
    "        print(args[1]*30)\n",
    "        func(*args, **kwargs)\n",
    "        print(args[1]*30)\n",
    "    return inner\n",
    "\n",
    "def percent(func):\n",
    "    def inner(*args, **kwargs):\n",
    "        print(args[2]*30)\n",
    "        func(*args, **kwargs)\n",
    "        print(args[2]*30)\n",
    "    return inner\n",
    "\n",
    "@star # decorator\n",
    "@percent\n",
    "def printer(msg, mark, mark2):\n",
    "    print(msg)\n",
    "printer(\"Hello\", \"T\", \"&\")"
   ]
  },
  {
   "cell_type": "code",
   "execution_count": 176,
   "id": "terminal-nirvana",
   "metadata": {},
   "outputs": [],
   "source": [
    "# exponent\n",
    "def generate_power(exponent): # exponent = 3\n",
    "    def wrapper(f): # f = raise_two()\n",
    "        def inner(*args): # *args = n\n",
    "            result = f(*args)\n",
    "            return exponent**result\n",
    "        return inner\n",
    "    return wrapper\n",
    "\n",
    "@generate_power(3)\n",
    "def raise_two(n):\n",
    "    return n ** 2"
   ]
  },
  {
   "cell_type": "code",
   "execution_count": 181,
   "id": "distant-andorra",
   "metadata": {},
   "outputs": [
    {
     "name": "stdout",
     "output_type": "stream",
     "text": [
      "81\n"
     ]
    }
   ],
   "source": [
    "print(raise_two(2))"
   ]
  }
 ],
 "metadata": {
  "kernelspec": {
   "display_name": "Python 3",
   "language": "python",
   "name": "python3"
  },
  "language_info": {
   "codemirror_mode": {
    "name": "ipython",
    "version": 3
   },
   "file_extension": ".py",
   "mimetype": "text/x-python",
   "name": "python",
   "nbconvert_exporter": "python",
   "pygments_lexer": "ipython3",
   "version": "3.7.3"
  }
 },
 "nbformat": 4,
 "nbformat_minor": 5
}
