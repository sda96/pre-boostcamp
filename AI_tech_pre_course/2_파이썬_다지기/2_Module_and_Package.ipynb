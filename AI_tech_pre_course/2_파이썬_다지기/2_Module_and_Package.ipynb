{
 "cells": [
  {
   "cell_type": "markdown",
   "id": "useful-height",
   "metadata": {},
   "source": [
    "남이 만든 프로그램 쓰는 법  \n",
    "객체 < 모듈"
   ]
  },
  {
   "cell_type": "markdown",
   "id": "cloudy-bahamas",
   "metadata": {},
   "source": [
    "### 모듈과 패키지"
   ]
  },
  {
   "cell_type": "markdown",
   "id": "plain-genre",
   "metadata": {},
   "source": [
    "- 어떤 대상의 부분 혹은 조각 ex)레고블록, 벽돌, 자동차 부품들\n",
    "- 프로그램에서 사용하는 작은 프로그램 조각들, 모듈들을 모아서 하나의 큰 프로그램을 개발함\n",
    "- 프로그램을 모듈화 시키면 다른 프로그램이 사용하기 쉬움"
   ]
  },
  {
   "cell_type": "markdown",
   "id": "eleven-curve",
   "metadata": {},
   "source": [
    "#### 파이썬의 모듈"
   ]
  },
  {
   "cell_type": "markdown",
   "id": "checked-pastor",
   "metadata": {},
   "source": [
    "- built i n module인 random을 사용하여 난수를 쉽게 생성하기도 함"
   ]
  },
  {
   "cell_type": "markdown",
   "id": "african-consciousness",
   "metadata": {},
   "source": [
    "#### 패키지"
   ]
  },
  {
   "cell_type": "markdown",
   "id": "valued-patent",
   "metadata": {},
   "source": [
    "- 모듈을 모아놓은 단위, 하나의 프로그램"
   ]
  },
  {
   "cell_type": "markdown",
   "id": "golden-belize",
   "metadata": {},
   "source": [
    "### 모듈"
   ]
  },
  {
   "cell_type": "markdown",
   "id": "cellular-mobility",
   "metadata": {},
   "source": [
    "- 파이썬이 모듈은 .py 파일을 의미\n",
    "- **같은 폴더**의 모듈에 해당하는 .py 파일과 사용하는 .py 을 저장한 후 import 문을 사용해서 모듈을 호출"
   ]
  },
  {
   "cell_type": "code",
   "execution_count": 3,
   "id": "dominican-vertex",
   "metadata": {},
   "outputs": [],
   "source": [
    "import fah_converter # 해당 .py 파일(=모듈)에 있는 모든 코드가 메모리로 로딩이 됨"
   ]
  },
  {
   "cell_type": "code",
   "execution_count": 4,
   "id": "minimal-brick",
   "metadata": {},
   "outputs": [
    {
     "data": {
      "text/plain": [
       "77.0"
      ]
     },
     "execution_count": 4,
     "metadata": {},
     "output_type": "execute_result"
    }
   ],
   "source": [
    "fah_converter.convert_c_to_f(25)"
   ]
  },
  {
   "cell_type": "markdown",
   "id": "graphic-momentum",
   "metadata": {},
   "source": [
    "import를 하게 되면 작업위치의 디렉토리에 __pycache__ 라는 폴더가 생기게되는데 import한 코드가 쉽게 로드될 수 있도록 파이썬의 인터프리터가 먼저 .py 모듈을 컴파일을 시켜 __pycache__ 폴더에 저장하게 됨"
   ]
  },
  {
   "cell_type": "markdown",
   "id": "chief-reservation",
   "metadata": {},
   "source": [
    "#### namespace"
   ]
  },
  {
   "cell_type": "markdown",
   "id": "advance-johns",
   "metadata": {},
   "source": [
    "- 모듈을 호출할 때 범위를 정하는 방법\n",
    "- 모듈 안에 함수와 클래스 등이 존재 가능\n",
    "- 필요한 내용만 골라서 호출할 수 있음\n",
    "- from 모듈 import 함수 의 형태로 호출함"
   ]
  },
  {
   "cell_type": "code",
   "execution_count": 9,
   "id": "driving-variation",
   "metadata": {},
   "outputs": [],
   "source": [
    "# 별칭(alias) 설정하기 (최성철썜의 원픽 : 어디서 왔는지 알기 쉽기 때문)\n",
    "import fah_converter as fah "
   ]
  },
  {
   "cell_type": "code",
   "execution_count": 7,
   "id": "renewable-booth",
   "metadata": {},
   "outputs": [],
   "source": [
    "# 모듈에서 원하는 함수만 호출\n",
    "from fah_converter import convert_c_to_f"
   ]
  },
  {
   "cell_type": "code",
   "execution_count": 11,
   "id": "innovative-watson",
   "metadata": {},
   "outputs": [],
   "source": [
    "# 모듈에 있는 모든 함수 호출\n",
    "from fah_converter import *"
   ]
  },
  {
   "cell_type": "markdown",
   "id": "brilliant-concern",
   "metadata": {},
   "source": [
    "#### Built-in Modules"
   ]
  },
  {
   "cell_type": "markdown",
   "id": "cardiac-indication",
   "metadata": {},
   "source": [
    "- 파이썬이 기본 제공하는 라이브러리\n",
    "- 문자처리, 웹, 수학등 다양한 모듈이 제공됨\n",
    "- 별다른 조치 없이 import문으로 활용 가능\n",
    "- 모르는 경우 구글에 물어보기!\n",
    "- 공식문서 찾아보기!"
   ]
  },
  {
   "cell_type": "code",
   "execution_count": 20,
   "id": "radical-basin",
   "metadata": {},
   "outputs": [
    {
     "data": {
      "text/plain": [
       "23"
      ]
     },
     "execution_count": 20,
     "metadata": {},
     "output_type": "execute_result"
    }
   ],
   "source": [
    "import random # 난수\n",
    "random.randint(1,100)"
   ]
  },
  {
   "cell_type": "code",
   "execution_count": 22,
   "id": "headed-light",
   "metadata": {},
   "outputs": [
    {
     "data": {
      "text/plain": [
       "time.struct_time(tm_year=2021, tm_mon=6, tm_mday=1, tm_hour=12, tm_min=38, tm_sec=39, tm_wday=1, tm_yday=152, tm_isdst=0)"
      ]
     },
     "execution_count": 22,
     "metadata": {},
     "output_type": "execute_result"
    }
   ],
   "source": [
    "import time # 시간\n",
    "time.localtime()"
   ]
  },
  {
   "cell_type": "code",
   "execution_count": 25,
   "id": "yellow-grenada",
   "metadata": {},
   "outputs": [],
   "source": [
    "import urllib.request # 웹\n",
    "response = urllib.request.urlopen(\"https://www.naver.com/\")\n",
    "#print(response.read())"
   ]
  },
  {
   "cell_type": "markdown",
   "id": "alive-pasta",
   "metadata": {},
   "source": [
    "### 패키지"
   ]
  },
  {
   "cell_type": "markdown",
   "id": "noticed-raising",
   "metadata": {},
   "source": [
    "- 하나의 대형 프로젝트를 만드는 코드의 묶음\n",
    "- 다양한 모듈들의 합으로 폴더로 연결됨\n",
    "- __init__, __main__ 등 키워드 파일명이 사용됨\n",
    "- 다양한 오픈 소스들이 모두 패키지로 관리됨"
   ]
  },
  {
   "cell_type": "markdown",
   "id": "finnish-henry",
   "metadata": {},
   "source": [
    "폴더별로 __init__.py 구성하기  \n",
    "- 현재 폴더가 패키지임을 알리는 초기화 스크립트\n",
    "- 없을 경우 패키지로 간주하지 않았지만 파이썬 3.3+부터 그렇지도 않음\n",
    "- 하위 폴더와 py 파일(모듈)을 모두 포함함\n",
    "- import와 __all__ keyword를 사용"
   ]
  },
  {
   "cell_type": "markdown",
   "id": "delayed-empty",
   "metadata": {},
   "source": [
    "#### package namespace"
   ]
  },
  {
   "cell_type": "markdown",
   "id": "informational-mambo",
   "metadata": {},
   "source": [
    "- 패키지내에서 다른 폴더의 모듈을 부를 때 상대 참조로 호출하는 방법"
   ]
  },
  {
   "cell_type": "code",
   "execution_count": 24,
   "id": "successful-promise",
   "metadata": {},
   "outputs": [],
   "source": [
    "# 절대 참조\n",
    "# from game.grapchic.render import render_test\n",
    "# 상대 참조 (현 디렉토리 기준)\n",
    "# from .render import render_test\n",
    "# 상대 참조 (부모 디렉토리 기준)\n",
    "# from ..render import render_test"
   ]
  },
  {
   "cell_type": "markdown",
   "id": "sunset-folks",
   "metadata": {},
   "source": [
    "### 오픈 소스 라이브러리"
   ]
  },
  {
   "cell_type": "markdown",
   "id": "varying-cooper",
   "metadata": {},
   "source": [
    "- 진짜 프로젝트를 한다.\n",
    "- 내 PC에 패키지(남들이 만든 프로젝트)를 설치한다."
   ]
  },
  {
   "cell_type": "markdown",
   "id": "promising-paraguay",
   "metadata": {},
   "source": [
    "서로 다른 프로젝트의 환경 충돌을 막기 위한 가상환경 설정"
   ]
  },
  {
   "cell_type": "markdown",
   "id": "equipped-photograph",
   "metadata": {},
   "source": [
    "- 프로젝트 진행 시 필요한 패키지만 설치하는 환경\n",
    "- 기본 인터프리터 + 프로젝트 종류별 패키지 설치\n",
    "- 다양한 패키지 관리 도구를 사용함"
   ]
  },
  {
   "cell_type": "markdown",
   "id": "grand-output",
   "metadata": {},
   "source": [
    "**대표적인 패키지(가상환경) 관리 도구**\n",
    "1. virtualenv + pip(compile된 코드가 안들어간 경우 발생)\n",
    "    - 가장 대표적인 가상환경 관리 도구  \n",
    "    - 레퍼런스 + 패키지 개수\n",
    "\n",
    "\n",
    "2. conda\n",
    "    - 상용 가상환경도구\n",
    "    - miniconda 기본 도구\n",
    "    - 설치의 용이성과 windows에서 장점임"
   ]
  },
  {
   "cell_type": "markdown",
   "id": "metric-truck",
   "metadata": {},
   "source": [
    "#### conda 가상환경"
   ]
  },
  {
   "cell_type": "code",
   "execution_count": 26,
   "id": "legitimate-sister",
   "metadata": {},
   "outputs": [],
   "source": [
    "# conda create -n my_project python=3.8"
   ]
  }
 ],
 "metadata": {
  "kernelspec": {
   "display_name": "Python 3",
   "language": "python",
   "name": "python3"
  },
  "language_info": {
   "codemirror_mode": {
    "name": "ipython",
    "version": 3
   },
   "file_extension": ".py",
   "mimetype": "text/x-python",
   "name": "python",
   "nbconvert_exporter": "python",
   "pygments_lexer": "ipython3",
   "version": "3.7.3"
  }
 },
 "nbformat": 4,
 "nbformat_minor": 5
}
