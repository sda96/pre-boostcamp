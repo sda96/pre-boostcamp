{
 "cells": [
  {
   "cell_type": "markdown",
   "id": "regional-picture",
   "metadata": {},
   "source": [
    "### 경사하강법"
   ]
  },
  {
   "cell_type": "markdown",
   "id": "surrounded-strategy",
   "metadata": {},
   "source": [
    "- 경사하강법은 딥러닝 기술에서 사용되는 굉장히 중요한 최적화 기법입니다"
   ]
  },
  {
   "cell_type": "markdown",
   "id": "obvious-graph",
   "metadata": {},
   "source": [
    "#### 미분이란?"
   ]
  },
  {
   "cell_type": "markdown",
   "id": "changed-tours",
   "metadata": {},
   "source": [
    "- 미분(differenatiation)은 변수의 움직임에 따른 함수값의 변화를 측정하기 위한 도구로 최적화에서 제일 많이 사용하는 기법입니다\n",
    "- 미분은 변화율의 극한(limit)으로 정의합니다"
   ]
  },
  {
   "cell_type": "markdown",
   "id": "visible-migration",
   "metadata": {},
   "source": [
    "<img src=\"https://imgur.com/XzhjQhE.jpg\">"
   ]
  },
  {
   "cell_type": "code",
   "execution_count": 3,
   "id": "stylish-italy",
   "metadata": {},
   "outputs": [
    {
     "data": {
      "text/latex": [
       "$\\displaystyle \\operatorname{Poly}{\\left( 2 x + 2, x, domain=\\mathbb{Z} \\right)}$"
      ],
      "text/plain": [
       "Poly(2*x + 2, x, domain='ZZ')"
      ]
     },
     "execution_count": 3,
     "metadata": {},
     "output_type": "execute_result"
    }
   ],
   "source": [
    "# 컴퓨터로 미분\n",
    "import sympy as sym\n",
    "from sympy.abc import x\n",
    "sym.diff(sym.poly(x**2 + 2*x + 3), x)"
   ]
  },
  {
   "cell_type": "markdown",
   "id": "vocational-queens",
   "metadata": {},
   "source": [
    "#### 그림으로 미분 이해하기"
   ]
  },
  {
   "cell_type": "markdown",
   "id": "higher-eating",
   "metadata": {},
   "source": [
    "<img src=\"https://imgur.com/tWOfcVe.jpg\">"
   ]
  },
  {
   "cell_type": "markdown",
   "id": "tested-parks",
   "metadata": {},
   "source": [
    "- 미분은 함수 $f$의 주어진 점 $(x, f(x))$에서의 접선의 기울기를 구하는 것 입니다\n",
    "- 한 점에서 접선의 기울기를 알면 어느 방향으로 점을 움직여야 함수값이 증가하는지, 감소하는지 알 수 있습니다\n",
    "- 증가시키고 싶으면 미분값을 더하고, 감소시키고 싶으면 미분값을 뺍니다\n",
    "- 미분값으로 더하면 경사상승법이라 하여 함수의 극대값의 위치를 구할 때 사용합니다\n",
    "- 미분값으로 빼면 경사하강법이라 하여 함수의 극솟값의 위치를 구할 때 사용합니다\n",
    "- 경사하강, 상승법이 극값에 도달하면 멈추게 됩니다"
   ]
  },
  {
   "cell_type": "markdown",
   "id": "earlier-pittsburgh",
   "metadata": {},
   "source": [
    "<img src=\"https://imgur.com/OCYg7vh.jpg\">"
   ]
  },
  {
   "cell_type": "code",
   "execution_count": 6,
   "id": "english-terrorist",
   "metadata": {},
   "outputs": [
    {
     "name": "stdout",
     "output_type": "stream",
     "text": [
      "함수 : Poly(x**2 + 2*x + 3, x, domain='ZZ'), 연산횟수 : 643, 최소점 : -0.999995073444800, 2.00000000002427\n"
     ]
    }
   ],
   "source": [
    "import numpy as np\n",
    "# 경사하강법 알고리즘\n",
    "def func(val):\n",
    "    fun = sym.poly(x**2 + 2*x + 3)\n",
    "    return fun.subs(x, val), fun\n",
    "\n",
    "def func_gradient(fun, val):\n",
    "    _, function = fun(val)\n",
    "    diff = sym.diff(function, x)\n",
    "    return diff.subs(x, val), diff\n",
    "\n",
    "def gradient_descent(fun, init_point, lr_rate=1e-2, epsilon=1e-5):\n",
    "    cnt = 0\n",
    "    val = init_point\n",
    "    diff, _ = func_gradient(fun, init_point)\n",
    "    while np.abs(diff) > epsilon:\n",
    "        val = val - lr_rate * diff\n",
    "        diff, _ = func_gradient(fun, val)\n",
    "        cnt += 1\n",
    "    print(f\"함수 : {func(val)[1]}, 연산횟수 : {cnt}, 최소점 : {val}, {func(val)[0]}\")\n",
    "\n",
    "gradient_descent(fun=func, init_point=np.random.uniform(-2,2))"
   ]
  },
  {
   "cell_type": "markdown",
   "id": "given-edmonton",
   "metadata": {},
   "source": [
    "#### 변수가 벡터인 경우"
   ]
  },
  {
   "cell_type": "markdown",
   "id": "qualified-motorcycle",
   "metadata": {},
   "source": [
    "- 벡터다 입력된 다변수 함수의 경우 편미분(partial differentiation)을 사용합니다"
   ]
  },
  {
   "cell_type": "markdown",
   "id": "careful-politics",
   "metadata": {},
   "source": [
    "<img src=\"https://imgur.com/dXPwOoX.jpg\">"
   ]
  },
  {
   "cell_type": "code",
   "execution_count": 4,
   "id": "armed-insertion",
   "metadata": {},
   "outputs": [
    {
     "data": {
      "text/latex": [
       "$\\displaystyle 2 x + 2 y - \\sin{\\left(x + 2 y \\right)}$"
      ],
      "text/plain": [
       "2*x + 2*y - sin(x + 2*y)"
      ]
     },
     "execution_count": 4,
     "metadata": {},
     "output_type": "execute_result"
    }
   ],
   "source": [
    "import sympy as sym\n",
    "from sympy.abc import x, y\n",
    "\n",
    "sym.diff(sym.poly(x**2 + 2*x*y + 3) + sym.cos(x+2*y), x) # x에 대한 편미분"
   ]
  },
  {
   "cell_type": "markdown",
   "id": "known-weight",
   "metadata": {},
   "source": [
    "- 각 변수 별로 편미분을 계산한 그레디언트 벡터를 이용하여 경사하강/경사상승법에 사용할 수 있습니다."
   ]
  },
  {
   "cell_type": "markdown",
   "id": "structural-partnership",
   "metadata": {},
   "source": [
    "<img src=\"https://imgur.com/lZkZiNh.jpg\">"
   ]
  },
  {
   "cell_type": "markdown",
   "id": "transparent-shakespeare",
   "metadata": {},
   "source": [
    "#### 그레디언트 벡터 시각화"
   ]
  },
  {
   "cell_type": "markdown",
   "id": "racial-trailer",
   "metadata": {},
   "source": [
    "<img src=\"https://imgur.com/TFuJXF7.jpg\">"
   ]
  },
  {
   "cell_type": "code",
   "execution_count": 11,
   "id": "needed-prophet",
   "metadata": {},
   "outputs": [
    {
     "name": "stdout",
     "output_type": "stream",
     "text": [
      "함수 : Poly(x**2 + 2*x + 3, x, domain='ZZ'), 연산횟수 : 620, 최소점 : [-4.99855598e-06 -8.38257819e-12], Poly(x**2 + 2*x + 3, x, domain='ZZ')\n"
     ]
    }
   ],
   "source": [
    "import numpy as np\n",
    "# 다변수 경사하강법 알고리즘\n",
    "def eval_(fun, val):\n",
    "    val_x, val_y = val\n",
    "    fun_eval = fun.subs(x, val_x).subs(y, val_y)\n",
    "    return fun_eval\n",
    "    \n",
    "def func_multi(val):\n",
    "    x_, y_ = val\n",
    "    func = sym.poly(x**2 + 2*y**2)\n",
    "    return eval_(func, [x_, y_]), func\n",
    "\n",
    "def func_gradient(fun, val):\n",
    "    x_, y_ = val\n",
    "    _, function = fun(val)\n",
    "    diff_x = sym.diff(function, x)\n",
    "    diff_y = sym.diff(function, y)\n",
    "    grad_vec = np.array([eval_(diff_x, [x_, y_]), eval_(diff_y, [x_,y_])], dtype = float)\n",
    "    return grad_vec, [diff_x, diff_y]\n",
    "\n",
    "def gradient_descent(fun, init_point, lr_rate=1e-2, epsilon=1e-5):\n",
    "    cnt = 0\n",
    "    val = init_point\n",
    "    diff, _ = func_gradient(fun, val)\n",
    "    while np.linalg.norm(diff) > epsilon:\n",
    "        val = val - lr_rate * diff\n",
    "        diff, _ = func_gradient(fun, val)\n",
    "        cnt += 1\n",
    "    print(f\"함수 : {func(val)[1]}, 연산횟수 : {cnt}, 최소점 : {val}, {func(val)[0]}\")\n",
    "\n",
    "    \n",
    "pt = [np.random.uniform(-2,2), np.random.uniform(-2,2)]\n",
    "gradient_descent(fun=func_multi, init_point=pt)"
   ]
  }
 ],
 "metadata": {
  "kernelspec": {
   "display_name": "Python 3",
   "language": "python",
   "name": "python3"
  },
  "language_info": {
   "codemirror_mode": {
    "name": "ipython",
    "version": 3
   },
   "file_extension": ".py",
   "mimetype": "text/x-python",
   "name": "python",
   "nbconvert_exporter": "python",
   "pygments_lexer": "ipython3",
   "version": "3.7.3"
  }
 },
 "nbformat": 4,
 "nbformat_minor": 5
}
