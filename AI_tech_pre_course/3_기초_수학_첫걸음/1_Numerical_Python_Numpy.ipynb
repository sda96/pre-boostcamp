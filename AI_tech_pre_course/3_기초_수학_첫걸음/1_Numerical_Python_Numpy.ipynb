{
 "cells": [
  {
   "cell_type": "markdown",
   "id": "cubic-movement",
   "metadata": {},
   "source": [
    "#### 코드로 방정식 표현하기"
   ]
  },
  {
   "cell_type": "code",
   "execution_count": 18,
   "id": "above-mouth",
   "metadata": {},
   "outputs": [
    {
     "name": "stdout",
     "output_type": "stream",
     "text": [
      "행렬곱 결과 : [35, 22, 13]\n"
     ]
    }
   ],
   "source": [
    "# numpy 없이 행렬 곱하기\n",
    "coefficient_matrix = [[2,2,1], [2,-1,2], [1,-1,2]]\n",
    "vector = [9,6,5]\n",
    "\n",
    "result = []\n",
    "for row in coefficient_matrix:\n",
    "    list_k = []\n",
    "    for i, j in zip(row,vector):\n",
    "        k = i * j\n",
    "        list_k.append(k)\n",
    "    sum_k = sum(list_k)\n",
    "    result += [sum_k]\n",
    "    \n",
    "print(f\"행렬곱 결과 : {result}\")"
   ]
  },
  {
   "cell_type": "markdown",
   "id": "abroad-dream",
   "metadata": {},
   "source": [
    "- 위와 같은 방식으로 행렬곱을 구하면 굉장히 큰 차원의 행렬에서는 속도 문제가 생김\n",
    "- 파이썬은 인터프리터언어이기 때문에 속도가 느림\n",
    "- 파이썬의 List는 만들어질때 메모리 공간을 가져옴\n",
    "- 넘파이는 차례대로 데이터를 쌓는 형태를 가진다."
   ]
  },
  {
   "cell_type": "markdown",
   "id": "skilled-twenty",
   "metadata": {},
   "source": [
    "### Numpy(파이썬 과학 처리 패키지)"
   ]
  },
  {
   "cell_type": "markdown",
   "id": "secondary-metro",
   "metadata": {},
   "source": [
    "- Numerical Python\n",
    "- 파이썬의 고성능 과학 계산용 패키지\n",
    "- Matrix와 Vector와 같은 Array 연산의 표준\n",
    "- 일반 List에 비해 빠르고 메모리 효율적임\n",
    "- 반복문 없이 데이터 배열에 대한 처리를 지원함\n",
    "- 선형대수와 관련된 다양한 기능을 제공함\n",
    "- 인터페이스는 파이썬으로 되어있지만 내부적으로 돌아가는 구조는 C로 되었기에 C, C++, 포트란등의 언어와 통합 가능"
   ]
  },
  {
   "cell_type": "markdown",
   "id": "simple-vulnerability",
   "metadata": {},
   "source": [
    "참고\n",
    "- cs231n\n",
    "- scipy 공홈\n",
    "- 데이터 사이언스 스쿨\n",
    "- numpy 공홈\n",
    "- 파이썬 라이브러리를 활용한 데이터 분석(책)"
   ]
  },
  {
   "cell_type": "markdown",
   "id": "structured-screen",
   "metadata": {},
   "source": [
    "#### numpy의 가장 기본이 되는 단위(ndarray)"
   ]
  },
  {
   "cell_type": "code",
   "execution_count": 34,
   "id": "living-blade",
   "metadata": {},
   "outputs": [
    {
     "name": "stdout",
     "output_type": "stream",
     "text": [
      "[1. 4. 5. 7.]\n",
      "<class 'numpy.ndarray'>\n",
      "<class 'numpy.float32'>\n",
      "(4,)\n"
     ]
    }
   ],
   "source": [
    "import numpy as np\n",
    "test_array = np.array([\"1\",4,\"5\",7], np.float32) # numpy는 Dynamic Typing을 허용하지 않음, 사전에 메모리 공간을 정함\n",
    "print(test_array)\n",
    "print(type(test_array))\n",
    "print(type(test_array[0])) # 하나의 원소(element)가 차지하는 메모리 공간이 64bit 까지이다.\n",
    "print(test_array.shape) # 1-dimension : vector"
   ]
  },
  {
   "cell_type": "code",
   "execution_count": 35,
   "id": "realistic-albert",
   "metadata": {},
   "outputs": [
    {
     "name": "stdout",
     "output_type": "stream",
     "text": [
      "float32\n",
      "(1, 4)\n"
     ]
    }
   ],
   "source": [
    "test_array = np.array([[\"1\",4,\"5\",7]], np.float32)\n",
    "print(test_array.dtype)\n",
    "print(test_array.shape) # 튜플형태로 shape을 반환함, 2-dimsnsion : matrix"
   ]
  },
  {
   "cell_type": "markdown",
   "id": "german-retention",
   "metadata": {},
   "source": [
    "matrix의 형태를 따라가는 shape를 잘 파악해야 함\n",
    "- shape: numpy array object의 dimension 구성을 반환함\n",
    "- dtype: numpy array object의 데이터 타입(type, 자료형, 형)을 반환함"
   ]
  },
  {
   "cell_type": "code",
   "execution_count": 40,
   "id": "swedish-jimmy",
   "metadata": {},
   "outputs": [
    {
     "data": {
      "text/plain": [
       "(2, 2, 2)"
      ]
     },
     "execution_count": 40,
     "metadata": {},
     "output_type": "execute_result"
    }
   ],
   "source": [
    "array_shape = np.array([[[1,2],[3,4]],[[5,6],[7,8]]]) # 3-dimension : tensor\n",
    "array_shape.shape # 맨앞은 텐서의 깊이, col, row 순으로 의미함, 차원이 늘어날때마다 row는 뒤로 한칸씩 밀림"
   ]
  },
  {
   "cell_type": "code",
   "execution_count": 42,
   "id": "vanilla-emergency",
   "metadata": {},
   "outputs": [
    {
     "name": "stdout",
     "output_type": "stream",
     "text": [
      "3\n",
      "8\n"
     ]
    }
   ],
   "source": [
    "print(array_shape.ndim) # 텐서의 크기, 차원의 크기 출력\n",
    "print(array_shape.size) # 전체 데이터의 개수를 int값으로 출력"
   ]
  },
  {
   "cell_type": "markdown",
   "id": "expensive-thirty",
   "metadata": {},
   "source": [
    "numpy의 데이터 타입은 C 데이터 타입과 호환이 가능함 : float32, float64, int32, int64"
   ]
  },
  {
   "cell_type": "markdown",
   "id": "occupied-harvard",
   "metadata": {},
   "source": [
    "#### handling shape"
   ]
  },
  {
   "cell_type": "code",
   "execution_count": 45,
   "id": "unable-criticism",
   "metadata": {},
   "outputs": [
    {
     "name": "stdout",
     "output_type": "stream",
     "text": [
      "[[1 2 3 4]\n",
      " [5 6 7 8]]\n",
      "(2, 4)\n"
     ]
    }
   ],
   "source": [
    "b = array_shape.reshape([2,4]) # array의 shape 크기를 바꿔주며 size만 같으면 맘대로 바꿀 수 있음\n",
    "print(b)\n",
    "print(b.shape)"
   ]
  },
  {
   "cell_type": "markdown",
   "id": "medical-cheat",
   "metadata": {},
   "source": [
    "가져오는 데이터가 vector인 경우 matrix로 바꿔주기 위해서 reshape함수를 사용하는 경우가 많음, 특히 sklearn을 사용하여 머신러닝 모델을 만드는 경우 입력값이 matrix로 들어가야 해서 많이 쓰임"
   ]
  },
  {
   "cell_type": "code",
   "execution_count": 49,
   "id": "covered-petroleum",
   "metadata": {},
   "outputs": [
    {
     "data": {
      "text/plain": [
       "array([[1],\n",
       "       [2],\n",
       "       [3],\n",
       "       [4],\n",
       "       [5],\n",
       "       [6],\n",
       "       [7],\n",
       "       [8]])"
      ]
     },
     "execution_count": 49,
     "metadata": {},
     "output_type": "execute_result"
    }
   ],
   "source": [
    "b.reshape(-1,1) # 일반 vector array를 2-dimensional로 바구는 방법"
   ]
  },
  {
   "cell_type": "markdown",
   "id": "enhanced-training",
   "metadata": {},
   "source": [
    "#### flatten"
   ]
  },
  {
   "cell_type": "markdown",
   "id": "introductory-exclusive",
   "metadata": {},
   "source": [
    "- 다차원의 배열을 일차원의 vector로 쫙 펴주는 함수"
   ]
  },
  {
   "cell_type": "code",
   "execution_count": 54,
   "id": "provincial-divide",
   "metadata": {},
   "outputs": [
    {
     "name": "stdout",
     "output_type": "stream",
     "text": [
      "[[[1 2]\n",
      "  [3 4]]\n",
      "\n",
      " [[5 6]\n",
      "  [7 8]]]\n",
      "[1 2 3 4 5 6 7 8]\n"
     ]
    }
   ],
   "source": [
    "print(array_shape)\n",
    "print(array_shape.flatten())"
   ]
  },
  {
   "cell_type": "markdown",
   "id": "capital-gross",
   "metadata": {},
   "source": [
    "#### indexing & slicing"
   ]
  },
  {
   "cell_type": "code",
   "execution_count": 58,
   "id": "ceramic-associate",
   "metadata": {},
   "outputs": [
    {
     "name": "stdout",
     "output_type": "stream",
     "text": [
      "[[1 2 3]\n",
      " [4 5 6]]\n",
      "1\n",
      "1\n"
     ]
    }
   ],
   "source": [
    "# indexing\n",
    "a = np.array([[1,2,3],[4,5,6]],int)\n",
    "print(a)\n",
    "print(a[0,0]) # numpy indexing\n",
    "print(a[0][0]) # list indexing"
   ]
  },
  {
   "cell_type": "code",
   "execution_count": 59,
   "id": "compact-freight",
   "metadata": {},
   "outputs": [
    {
     "name": "stdout",
     "output_type": "stream",
     "text": [
      "[[12  2  3]\n",
      " [ 4  5  6]]\n"
     ]
    }
   ],
   "source": [
    "a[0,0] = 12\n",
    "print(a)"
   ]
  },
  {
   "cell_type": "code",
   "execution_count": 66,
   "id": "indie-sperm",
   "metadata": {},
   "outputs": [
    {
     "name": "stdout",
     "output_type": "stream",
     "text": [
      "[[3]\n",
      " [6]]\n",
      "[5 6]\n",
      "[[12  2  3]\n",
      " [ 4  5  6]]\n"
     ]
    }
   ],
   "source": [
    "# slicing\n",
    "print(a[:,2:]) # 전체 행에 2열 이상\n",
    "print(a[1,1:3]) # 1번째 행에 1~2열\n",
    "print(a[0:2]) # 0~1 번째 행"
   ]
  },
  {
   "cell_type": "markdown",
   "id": "balanced-ethernet",
   "metadata": {},
   "source": [
    "슬라이싱 용법을 사용하여 for문을 사용하지 않고 바로 데이터를 가져와서 사용이 가능함"
   ]
  },
  {
   "cell_type": "code",
   "execution_count": 68,
   "id": "reduced-harmony",
   "metadata": {},
   "outputs": [
    {
     "data": {
      "text/plain": [
       "array([[12,  3],\n",
       "       [ 4,  6]])"
      ]
     },
     "execution_count": 68,
     "metadata": {},
     "output_type": "execute_result"
    }
   ],
   "source": [
    "a[:,::2] # 2칸 씩 띄어서"
   ]
  },
  {
   "cell_type": "markdown",
   "id": "whole-latest",
   "metadata": {},
   "source": [
    "#### arange"
   ]
  },
  {
   "cell_type": "code",
   "execution_count": 70,
   "id": "configured-wellington",
   "metadata": {},
   "outputs": [
    {
     "data": {
      "text/plain": [
       "array([ 0,  1,  2,  3,  4,  5,  6,  7,  8,  9, 10, 11, 12, 13, 14, 15, 16,\n",
       "       17, 18, 19, 20, 21, 22, 23, 24, 25, 26, 27, 28, 29])"
      ]
     },
     "execution_count": 70,
     "metadata": {},
     "output_type": "execute_result"
    }
   ],
   "source": [
    "np.arange(30) # 범위를 지정하여 값의 list를 생성한느 명령어"
   ]
  },
  {
   "cell_type": "code",
   "execution_count": 71,
   "id": "frozen-environment",
   "metadata": {},
   "outputs": [
    {
     "data": {
      "text/plain": [
       "array([[[ 0,  1,  2,  3,  4],\n",
       "        [ 5,  6,  7,  8,  9]],\n",
       "\n",
       "       [[10, 11, 12, 13, 14],\n",
       "        [15, 16, 17, 18, 19]]])"
      ]
     },
     "execution_count": 71,
     "metadata": {},
     "output_type": "execute_result"
    }
   ],
   "source": [
    "np.arange(20).reshape(2,2,5)"
   ]
  },
  {
   "cell_type": "code",
   "execution_count": 73,
   "id": "novel-framing",
   "metadata": {},
   "outputs": [
    {
     "data": {
      "text/plain": [
       "array([[ 0,  1,  2,  3,  4],\n",
       "       [ 5,  6,  7,  8,  9],\n",
       "       [10, 11, 12, 13, 14],\n",
       "       [15, 16, 17, 18, 19]])"
      ]
     },
     "execution_count": 73,
     "metadata": {},
     "output_type": "execute_result"
    }
   ],
   "source": [
    "np.arange(20).reshape(-1,5)"
   ]
  },
  {
   "cell_type": "code",
   "execution_count": 76,
   "id": "killing-boating",
   "metadata": {},
   "outputs": [
    {
     "data": {
      "text/plain": [
       "array([0. , 0.7, 1.4, 2.1, 2.8, 3.5, 4.2, 4.9, 5.6, 6.3, 7. , 7.7, 8.4,\n",
       "       9.1, 9.8])"
      ]
     },
     "execution_count": 76,
     "metadata": {},
     "output_type": "execute_result"
    }
   ],
   "source": [
    "np.arange(0, 10, 0.7) # 일반 python range는 float 단위로 나누지는 못함"
   ]
  },
  {
   "cell_type": "markdown",
   "id": "retired-maria",
   "metadata": {},
   "source": [
    "#### ones, zeros"
   ]
  },
  {
   "cell_type": "code",
   "execution_count": 79,
   "id": "mounted-superior",
   "metadata": {},
   "outputs": [
    {
     "data": {
      "text/plain": [
       "array([0, 0, 0, 0, 0, 0, 0, 0, 0, 0], dtype=int8)"
      ]
     },
     "execution_count": 79,
     "metadata": {},
     "output_type": "execute_result"
    }
   ],
   "source": [
    "np.zeros(shape=(10,), dtype=np.int8)"
   ]
  },
  {
   "cell_type": "code",
   "execution_count": 82,
   "id": "dense-nevada",
   "metadata": {},
   "outputs": [
    {
     "data": {
      "text/plain": [
       "array([[0. , 0.7, 1.4, 2.1, 2.8],\n",
       "       [3.5, 4.2, 4.9, 5.6, 6.3],\n",
       "       [7. , 7.7, 8.4, 9.1, 9.8]])"
      ]
     },
     "execution_count": 82,
     "metadata": {},
     "output_type": "execute_result"
    }
   ],
   "source": [
    "np.empty([3,5])"
   ]
  },
  {
   "cell_type": "code",
   "execution_count": 84,
   "id": "varied-distinction",
   "metadata": {},
   "outputs": [
    {
     "data": {
      "text/plain": [
       "array([[1, 1, 1, 1, 1, 1],\n",
       "       [1, 1, 1, 1, 1, 1],\n",
       "       [1, 1, 1, 1, 1, 1],\n",
       "       [1, 1, 1, 1, 1, 1],\n",
       "       [1, 1, 1, 1, 1, 1]])"
      ]
     },
     "execution_count": 84,
     "metadata": {},
     "output_type": "execute_result"
    }
   ],
   "source": [
    "test = np.arange(30).reshape(5,6)\n",
    "np.ones_like(test) # test라는 변수의 같은 shape를 가지고 원소는 1로 채운 값 반환"
   ]
  },
  {
   "cell_type": "markdown",
   "id": "limited-energy",
   "metadata": {},
   "source": [
    "#### identity(단위행렬)"
   ]
  },
  {
   "cell_type": "code",
   "execution_count": 85,
   "id": "graduate-sheep",
   "metadata": {},
   "outputs": [
    {
     "data": {
      "text/plain": [
       "array([[1, 0, 0],\n",
       "       [0, 1, 0],\n",
       "       [0, 0, 1]], dtype=int8)"
      ]
     },
     "execution_count": 85,
     "metadata": {},
     "output_type": "execute_result"
    }
   ],
   "source": [
    "np.identity(n=3, dtype=np.int8)"
   ]
  },
  {
   "cell_type": "code",
   "execution_count": 86,
   "id": "textile-privilege",
   "metadata": {},
   "outputs": [
    {
     "data": {
      "text/plain": [
       "array([[1., 0., 0., 0., 0.],\n",
       "       [0., 1., 0., 0., 0.],\n",
       "       [0., 0., 1., 0., 0.],\n",
       "       [0., 0., 0., 1., 0.],\n",
       "       [0., 0., 0., 0., 1.]])"
      ]
     },
     "execution_count": 86,
     "metadata": {},
     "output_type": "execute_result"
    }
   ],
   "source": [
    "np.identity(5)"
   ]
  },
  {
   "cell_type": "markdown",
   "id": "suspected-recall",
   "metadata": {},
   "source": [
    "#### eye"
   ]
  },
  {
   "cell_type": "markdown",
   "id": "dominant-durham",
   "metadata": {},
   "source": [
    "- 대각선이 1인 행렬로 k값의 시작 index의 변경이 가능함"
   ]
  },
  {
   "cell_type": "code",
   "execution_count": 89,
   "id": "hired-desktop",
   "metadata": {},
   "outputs": [
    {
     "data": {
      "text/plain": [
       "array([[1, 0, 0, 0, 0],\n",
       "       [0, 1, 0, 0, 0],\n",
       "       [0, 0, 1, 0, 0]], dtype=int8)"
      ]
     },
     "execution_count": 89,
     "metadata": {},
     "output_type": "execute_result"
    }
   ],
   "source": [
    "np.eye(N=3, M=5, dtype=np.int8)"
   ]
  },
  {
   "cell_type": "code",
   "execution_count": 91,
   "id": "united-photographer",
   "metadata": {},
   "outputs": [
    {
     "data": {
      "text/plain": [
       "array([[0, 0, 1, 0, 0],\n",
       "       [0, 0, 0, 1, 0],\n",
       "       [0, 0, 0, 0, 1]], dtype=int8)"
      ]
     },
     "execution_count": 91,
     "metadata": {},
     "output_type": "execute_result"
    }
   ],
   "source": [
    "np.eye(N=3, M=5, dtype=np.int8, k=2) # 대각선이 시작하는 위치값"
   ]
  },
  {
   "cell_type": "markdown",
   "id": "beneficial-subcommittee",
   "metadata": {},
   "source": [
    "#### diag"
   ]
  },
  {
   "cell_type": "markdown",
   "id": "shaped-greece",
   "metadata": {},
   "source": [
    "- 대각 행렬의 값을 추출함"
   ]
  },
  {
   "cell_type": "code",
   "execution_count": 95,
   "id": "demonstrated-jewel",
   "metadata": {},
   "outputs": [
    {
     "name": "stdout",
     "output_type": "stream",
     "text": [
      "[[0 1 2]\n",
      " [3 4 5]\n",
      " [6 7 8]]\n",
      "[0 4 8]\n",
      "[2]\n"
     ]
    }
   ],
   "source": [
    "matrix = np.arange(9).reshape(3,3)\n",
    "print(matrix)\n",
    "print(np.diag(matrix))\n",
    "print(np.diag(matrix, k=2)) # 대각선이 시작하는 위치값"
   ]
  },
  {
   "cell_type": "markdown",
   "id": "included-bacon",
   "metadata": {},
   "source": [
    "#### random sampling"
   ]
  },
  {
   "cell_type": "markdown",
   "id": "eligible-ratio",
   "metadata": {},
   "source": [
    "- 데이터 분포에 따른 sampling으로 array를 생성"
   ]
  },
  {
   "cell_type": "code",
   "execution_count": 105,
   "id": "revised-mediterranean",
   "metadata": {},
   "outputs": [
    {
     "data": {
      "text/plain": [
       "array([[0.21317769, 0.18266289, 0.41300679, 0.48895939, 0.66948375],\n",
       "       [0.52480468, 0.21536651, 0.09633726, 0.82192343, 0.83996889]])"
      ]
     },
     "execution_count": 105,
     "metadata": {},
     "output_type": "execute_result"
    }
   ],
   "source": [
    "np.random.uniform(0,1,10).reshape(2,5) # 0~1사이의 균등분포를 이루는 값 10개를 반환"
   ]
  },
  {
   "cell_type": "code",
   "execution_count": 106,
   "id": "declared-acoustic",
   "metadata": {},
   "outputs": [
    {
     "data": {
      "text/plain": [
       "array([[ 0.97096993, -0.09449965, -1.46452086,  0.62241614, -0.09339091],\n",
       "       [-1.04057764,  0.43527668,  0.75002769,  1.64471723, -0.96215659]])"
      ]
     },
     "execution_count": 106,
     "metadata": {},
     "output_type": "execute_result"
    }
   ],
   "source": [
    "np.random.normal(0,1,10).reshape(2,5) # 0~1사이의 정규분포를 이루는 값 10개를 반환"
   ]
  },
  {
   "cell_type": "markdown",
   "id": "digital-bulgaria",
   "metadata": {},
   "source": [
    "### axis(축)"
   ]
  },
  {
   "cell_type": "markdown",
   "id": "infectious-equation",
   "metadata": {},
   "source": [
    "- 모든 operation function을 실행할 떄, 기준이 되는 dimension 축\n",
    "- 새로 생기는 부분이 axis가 0이 되고 기존 부분의 axis는 1씩 밀리게됨\n",
    "- 축에 따라서 sum, min, max, sin, cos 계산이 가능함"
   ]
  },
  {
   "cell_type": "markdown",
   "id": "conditional-dubai",
   "metadata": {},
   "source": [
    "#### concatenate"
   ]
  },
  {
   "cell_type": "markdown",
   "id": "prompt-biodiversity",
   "metadata": {},
   "source": [
    "- numpy array를 합치는 함수\n",
    "- vstack, hstack, concatenate"
   ]
  },
  {
   "cell_type": "code",
   "execution_count": 108,
   "id": "planned-italy",
   "metadata": {},
   "outputs": [
    {
     "data": {
      "text/plain": [
       "array([[1, 2, 3],\n",
       "       [4, 5, 6]])"
      ]
     },
     "execution_count": 108,
     "metadata": {},
     "output_type": "execute_result"
    }
   ],
   "source": [
    "a = np.array([1,2,3])\n",
    "b = np.array([4,5,6])\n",
    "np.vstack((a,b))"
   ]
  },
  {
   "cell_type": "code",
   "execution_count": 109,
   "id": "primary-accessory",
   "metadata": {},
   "outputs": [
    {
     "data": {
      "text/plain": [
       "array([1, 2, 3, 4, 5, 6])"
      ]
     },
     "execution_count": 109,
     "metadata": {},
     "output_type": "execute_result"
    }
   ],
   "source": [
    "np.hstack((a,b))"
   ]
  },
  {
   "cell_type": "code",
   "execution_count": 110,
   "id": "periodic-works",
   "metadata": {},
   "outputs": [
    {
     "data": {
      "text/plain": [
       "array([1, 2, 3, 4, 5, 6])"
      ]
     },
     "execution_count": 110,
     "metadata": {},
     "output_type": "execute_result"
    }
   ],
   "source": [
    "np.concatenate((a,b), axis=0)"
   ]
  },
  {
   "cell_type": "code",
   "execution_count": 113,
   "id": "photographic-barrier",
   "metadata": {},
   "outputs": [
    {
     "data": {
      "text/plain": [
       "array([[1, 2, 5],\n",
       "       [3, 4, 6]])"
      ]
     },
     "execution_count": 113,
     "metadata": {},
     "output_type": "execute_result"
    }
   ],
   "source": [
    "a = np.array([[1,2], [3,4]])\n",
    "b = np.array([[5,6]])\n",
    "np.concatenate((a,b.T), axis=1)"
   ]
  },
  {
   "cell_type": "markdown",
   "id": "backed-museum",
   "metadata": {},
   "source": [
    "### array operation"
   ]
  },
  {
   "cell_type": "code",
   "execution_count": 115,
   "id": "expanded-canberra",
   "metadata": {},
   "outputs": [
    {
     "data": {
      "text/plain": [
       "array([[0, 1, 2],\n",
       "       [3, 4, 5]])"
      ]
     },
     "execution_count": 115,
     "metadata": {},
     "output_type": "execute_result"
    }
   ],
   "source": [
    "test_a = np.arange(6).reshape(2,3)\n",
    "test_a"
   ]
  },
  {
   "cell_type": "code",
   "execution_count": 116,
   "id": "vocational-pursuit",
   "metadata": {},
   "outputs": [
    {
     "data": {
      "text/plain": [
       "array([[ 0,  2,  4],\n",
       "       [ 6,  8, 10]])"
      ]
     },
     "execution_count": 116,
     "metadata": {},
     "output_type": "execute_result"
    }
   ],
   "source": [
    "test_a + test_a"
   ]
  },
  {
   "cell_type": "code",
   "execution_count": 117,
   "id": "complimentary-independence",
   "metadata": {},
   "outputs": [
    {
     "data": {
      "text/plain": [
       "array([[0, 0, 0],\n",
       "       [0, 0, 0]])"
      ]
     },
     "execution_count": 117,
     "metadata": {},
     "output_type": "execute_result"
    }
   ],
   "source": [
    "test_a - test_a"
   ]
  },
  {
   "cell_type": "code",
   "execution_count": 123,
   "id": "acceptable-level",
   "metadata": {},
   "outputs": [
    {
     "data": {
      "text/plain": [
       "array([[ 0,  1,  4],\n",
       "       [ 9, 16, 25]])"
      ]
     },
     "execution_count": 123,
     "metadata": {},
     "output_type": "execute_result"
    }
   ],
   "source": [
    "# matrix 내 같은 위치의 원소끼리 연산 : element-wise operations\n",
    "test_a * test_a"
   ]
  },
  {
   "cell_type": "code",
   "execution_count": 122,
   "id": "amended-anatomy",
   "metadata": {},
   "outputs": [
    {
     "data": {
      "text/plain": [
       "array([[ 5, 14],\n",
       "       [14, 50]])"
      ]
     },
     "execution_count": 122,
     "metadata": {},
     "output_type": "execute_result"
    }
   ],
   "source": [
    "test_a.dot(test_a.T) # 행렬곱"
   ]
  },
  {
   "cell_type": "code",
   "execution_count": 125,
   "id": "married-spare",
   "metadata": {},
   "outputs": [
    {
     "data": {
      "text/plain": [
       "array([[0, 3],\n",
       "       [1, 4],\n",
       "       [2, 5]])"
      ]
     },
     "execution_count": 125,
     "metadata": {},
     "output_type": "execute_result"
    }
   ],
   "source": [
    "test_a.T # 전치행렬"
   ]
  },
  {
   "cell_type": "markdown",
   "id": "manufactured-young",
   "metadata": {},
   "source": [
    "#### broadcasting"
   ]
  },
  {
   "cell_type": "markdown",
   "id": "trying-springer",
   "metadata": {},
   "source": [
    "- shape이 다른 배열 간 연산을 지원하는 기능"
   ]
  },
  {
   "cell_type": "code",
   "execution_count": 127,
   "id": "primary-eclipse",
   "metadata": {},
   "outputs": [
    {
     "data": {
      "text/plain": [
       "array([[10, 11, 12],\n",
       "       [13, 14, 15]])"
      ]
     },
     "execution_count": 127,
     "metadata": {},
     "output_type": "execute_result"
    }
   ],
   "source": [
    "matrix = np.arange(6).reshape(2,3)\n",
    "scalar = 10\n",
    "matrix + scalar"
   ]
  },
  {
   "cell_type": "code",
   "execution_count": 138,
   "id": "reserved-aurora",
   "metadata": {},
   "outputs": [
    {
     "name": "stdout",
     "output_type": "stream",
     "text": [
      "(3, 3)\n",
      "(3,)\n"
     ]
    },
    {
     "data": {
      "text/plain": [
       "array([[ 2,  4,  6],\n",
       "       [ 8, 10, 12],\n",
       "       [14, 16, 18]])"
      ]
     },
     "execution_count": 138,
     "metadata": {},
     "output_type": "execute_result"
    }
   ],
   "source": [
    "matrix1 = np.arange(1,10).reshape(3,3)\n",
    "matrix2 = np.array([10,20,30])\n",
    "print(matrix1.shape)\n",
    "print(matrix2.shape)\n",
    "matrix1 + matrix1"
   ]
  },
  {
   "cell_type": "code",
   "execution_count": 140,
   "id": "dutch-innocent",
   "metadata": {},
   "outputs": [
    {
     "name": "stdout",
     "output_type": "stream",
     "text": [
      "(10,)\n",
      "(3, 1)\n"
     ]
    },
    {
     "data": {
      "text/plain": [
       "array([[10, 11, 12, 13, 14, 15, 16, 17, 18, 19],\n",
       "       [20, 21, 22, 23, 24, 25, 26, 27, 28, 29],\n",
       "       [30, 31, 32, 33, 34, 35, 36, 37, 38, 39]])"
      ]
     },
     "execution_count": 140,
     "metadata": {},
     "output_type": "execute_result"
    }
   ],
   "source": [
    "matrix1 = np.arange(10)\n",
    "matrix2 = np.array([10,20,30]).reshape(-1,1)\n",
    "print(matrix1.shape)\n",
    "print(matrix2.shape)\n",
    "matrix1 + matrix2"
   ]
  },
  {
   "cell_type": "markdown",
   "id": "miniature-criminal",
   "metadata": {},
   "source": [
    "#### All & Any"
   ]
  },
  {
   "cell_type": "code",
   "execution_count": 141,
   "id": "micro-sewing",
   "metadata": {},
   "outputs": [
    {
     "data": {
      "text/plain": [
       "(True, False)"
      ]
     },
     "execution_count": 141,
     "metadata": {},
     "output_type": "execute_result"
    }
   ],
   "source": [
    "a = np.arange(10)\n",
    "np.any(a>5), np.any(a<0) # 조건에 맞는 원소가 하나라도 있으면 true"
   ]
  },
  {
   "cell_type": "code",
   "execution_count": 143,
   "id": "saving-orchestra",
   "metadata": {},
   "outputs": [
    {
     "data": {
      "text/plain": [
       "(False, True)"
      ]
     },
     "execution_count": 143,
     "metadata": {},
     "output_type": "execute_result"
    }
   ],
   "source": [
    "np.all(a>5), np.all(a<10) # 모든 원소가 조건에 맞으면 true"
   ]
  },
  {
   "cell_type": "markdown",
   "id": "going-moment",
   "metadata": {},
   "source": [
    "#### Comparison operation"
   ]
  },
  {
   "cell_type": "markdown",
   "id": "diverse-estate",
   "metadata": {},
   "source": [
    "- numpy는 배열의 크기가 동일 할 때, element간 비교의 결과를 boolean type으로 반환하여 돌려줌"
   ]
  },
  {
   "cell_type": "code",
   "execution_count": 154,
   "id": "vertical-contribution",
   "metadata": {},
   "outputs": [
    {
     "data": {
      "text/plain": [
       "array([False,  True, False])"
      ]
     },
     "execution_count": 154,
     "metadata": {},
     "output_type": "execute_result"
    }
   ],
   "source": [
    "test_a = np.array([1,3,0], float)\n",
    "test_b = np.array([5,2,1], float)\n",
    "test_a > test_b"
   ]
  },
  {
   "cell_type": "code",
   "execution_count": 155,
   "id": "chubby-shade",
   "metadata": {},
   "outputs": [
    {
     "data": {
      "text/plain": [
       "True"
      ]
     },
     "execution_count": 155,
     "metadata": {},
     "output_type": "execute_result"
    }
   ],
   "source": [
    "(test_a > test_b).any()"
   ]
  },
  {
   "cell_type": "code",
   "execution_count": 157,
   "id": "compatible-batman",
   "metadata": {},
   "outputs": [
    {
     "data": {
      "text/plain": [
       "array([ True, False, False])"
      ]
     },
     "execution_count": 157,
     "metadata": {},
     "output_type": "execute_result"
    }
   ],
   "source": [
    "a = np.array([1,3,0], float)\n",
    "np.logical_and(a > 0, a < 3) # and 조건의 condition"
   ]
  },
  {
   "cell_type": "code",
   "execution_count": 159,
   "id": "executive-individual",
   "metadata": {},
   "outputs": [
    {
     "data": {
      "text/plain": [
       "array([False, False,  True])"
      ]
     },
     "execution_count": 159,
     "metadata": {},
     "output_type": "execute_result"
    }
   ],
   "source": [
    "b = np.array([True, True, False], bool)\n",
    "np.logical_not(b) # not 조건의 conditionz"
   ]
  },
  {
   "cell_type": "code",
   "execution_count": 161,
   "id": "right-brisbane",
   "metadata": {},
   "outputs": [
    {
     "data": {
      "text/plain": [
       "array([ True,  True, False])"
      ]
     },
     "execution_count": 161,
     "metadata": {},
     "output_type": "execute_result"
    }
   ],
   "source": [
    "c = np.array([True, True, False], bool)\n",
    "np.logical_or(b,c) # or 조건의 conditionz"
   ]
  },
  {
   "cell_type": "markdown",
   "id": "forward-corporation",
   "metadata": {},
   "source": [
    "#### np.where"
   ]
  },
  {
   "cell_type": "code",
   "execution_count": 168,
   "id": "terminal-consideration",
   "metadata": {},
   "outputs": [
    {
     "name": "stdout",
     "output_type": "stream",
     "text": [
      "[1. 3. 0.]\n"
     ]
    },
    {
     "data": {
      "text/plain": [
       "array([3, 3, 2])"
      ]
     },
     "execution_count": 168,
     "metadata": {},
     "output_type": "execute_result"
    }
   ],
   "source": [
    "print(a)\n",
    "np.where(a > 0, 3, 2) # 조건에 맞는 인덱스값을 반환해줌, True면 3 False면 2를 반환하도록"
   ]
  },
  {
   "cell_type": "code",
   "execution_count": 170,
   "id": "universal-venture",
   "metadata": {},
   "outputs": [
    {
     "data": {
      "text/plain": [
       "(array([0, 1], dtype=int64),)"
      ]
     },
     "execution_count": 170,
     "metadata": {},
     "output_type": "execute_result"
    }
   ],
   "source": [
    "np.where(a>0) "
   ]
  },
  {
   "cell_type": "code",
   "execution_count": 172,
   "id": "resident-poster",
   "metadata": {},
   "outputs": [
    {
     "data": {
      "text/plain": [
       "array([False,  True, False])"
      ]
     },
     "execution_count": 172,
     "metadata": {},
     "output_type": "execute_result"
    }
   ],
   "source": [
    "a = np.array([1, np.NaN, np.Inf], float)\n",
    "np.isnan(a) # Null값 반환"
   ]
  },
  {
   "cell_type": "markdown",
   "id": "unavailable-client",
   "metadata": {},
   "source": [
    "#### np.argmax"
   ]
  },
  {
   "cell_type": "code",
   "execution_count": 188,
   "id": "fatal-greece",
   "metadata": {},
   "outputs": [
    {
     "data": {
      "text/plain": [
       "9"
      ]
     },
     "execution_count": 188,
     "metadata": {},
     "output_type": "execute_result"
    }
   ],
   "source": [
    "a = np.arange(10)\n",
    "np.argmax(a) # 가장 큰 값의 인덱스값 반환"
   ]
  },
  {
   "cell_type": "code",
   "execution_count": 190,
   "id": "classified-proposition",
   "metadata": {},
   "outputs": [
    {
     "data": {
      "text/plain": [
       "4"
      ]
     },
     "execution_count": 190,
     "metadata": {},
     "output_type": "execute_result"
    }
   ],
   "source": [
    "a = np.arange(10).reshape(2,5)\n",
    "np.argmax(a[0], axis=0)"
   ]
  },
  {
   "cell_type": "markdown",
   "id": "underlying-motel",
   "metadata": {},
   "source": [
    "### boolean index"
   ]
  },
  {
   "cell_type": "markdown",
   "id": "plain-brook",
   "metadata": {},
   "source": [
    "- numpy 배열은 특정 조건에 따른 값을 배열 형태로 추출 할 수 있음\n",
    "- Comparison operation 함수들도 모두 사용가능"
   ]
  },
  {
   "cell_type": "code",
   "execution_count": 194,
   "id": "coastal-popularity",
   "metadata": {},
   "outputs": [
    {
     "name": "stdout",
     "output_type": "stream",
     "text": [
      "[[0 1 2 3 4]\n",
      " [5 6 7 8 9]]\n",
      "[[False False False False False]\n",
      " [False  True  True  True  True]]\n"
     ]
    },
    {
     "data": {
      "text/plain": [
       "array([6, 7, 8, 9])"
      ]
     },
     "execution_count": 194,
     "metadata": {},
     "output_type": "execute_result"
    }
   ],
   "source": [
    "# 조건이 True인 index만 추출함\n",
    "print(a)\n",
    "print(a>5)\n",
    "a[a>5]"
   ]
  },
  {
   "cell_type": "code",
   "execution_count": 197,
   "id": "ethical-orange",
   "metadata": {},
   "outputs": [
    {
     "data": {
      "text/plain": [
       "array([1, 1, 0, 0, 1, 1, 0, 0, 0, 0, 0, 0, 0, 1, 0, 0, 0, 0, 1, 0, 0, 1,\n",
       "       1, 0, 0, 0, 1, 0, 1, 0, 0, 0, 0, 1, 0, 0, 0, 0, 0, 0, 0, 0, 0, 0,\n",
       "       0, 0, 0, 0, 0, 0, 0, 0, 0, 1, 0, 0, 0, 0, 0, 0, 0, 0, 0, 1, 0, 0,\n",
       "       0, 0, 0, 0, 0, 0, 0, 0, 1, 0, 1, 0, 0, 0, 0, 0, 0, 0, 0, 0, 0, 1,\n",
       "       0, 0, 1, 0, 0, 0, 0, 0, 0, 1, 0, 0])"
      ]
     },
     "execution_count": 197,
     "metadata": {},
     "output_type": "execute_result"
    }
   ],
   "source": [
    "a = np.random.normal(0,5,100)\n",
    "b = a > 3\n",
    "b.astype(np.int) # 기존의 boolean 값을 int 자료형으로 바꿈으로써 조건에 맞으면 1 아니면 0으로 반환"
   ]
  },
  {
   "cell_type": "markdown",
   "id": "transparent-booth",
   "metadata": {},
   "source": [
    "### fancy index"
   ]
  },
  {
   "cell_type": "markdown",
   "id": "little-fortune",
   "metadata": {},
   "source": [
    "- numpy는 array를 index value로 사용해서 값을 추출하는 방법"
   ]
  },
  {
   "cell_type": "code",
   "execution_count": 199,
   "id": "interpreted-fields",
   "metadata": {},
   "outputs": [
    {
     "data": {
      "text/plain": [
       "array([2., 2., 4., 8., 6., 4.])"
      ]
     },
     "execution_count": 199,
     "metadata": {},
     "output_type": "execute_result"
    }
   ],
   "source": [
    "a = np.array([2,4,6,8], float)\n",
    "b = np.array([0,0,1,3,2,1], int) # 반드시 int로 선언\n",
    "a[b] # bracket index, b 배열의 값을 index로 하여 a의 값들을 추출함"
   ]
  },
  {
   "cell_type": "code",
   "execution_count": 202,
   "id": "equal-repository",
   "metadata": {},
   "outputs": [
    {
     "data": {
      "text/plain": [
       "array([2., 2., 4., 8., 6., 4.])"
      ]
     },
     "execution_count": 202,
     "metadata": {},
     "output_type": "execute_result"
    }
   ],
   "source": [
    "a.take(b) # bracket index와 같은 효과"
   ]
  },
  {
   "cell_type": "code",
   "execution_count": 204,
   "id": "forbidden-disclosure",
   "metadata": {},
   "outputs": [
    {
     "data": {
      "text/plain": [
       "array([ 1.,  4., 16., 16.,  4.])"
      ]
     },
     "execution_count": 204,
     "metadata": {},
     "output_type": "execute_result"
    }
   ],
   "source": [
    "# matrix 형태의 데이터도 가능\n",
    "a = np.array([[1,4], [9,16]], float)\n",
    "b = np.array([0,0,1,1,0], int)\n",
    "c = np.array([0,1,1,1,1], int)\n",
    "a[b,c] # b를 row index, c를 column index로 변환하여 표시함"
   ]
  }
 ],
 "metadata": {
  "kernelspec": {
   "display_name": "Python 3",
   "language": "python",
   "name": "python3"
  },
  "language_info": {
   "codemirror_mode": {
    "name": "ipython",
    "version": 3
   },
   "file_extension": ".py",
   "mimetype": "text/x-python",
   "name": "python",
   "nbconvert_exporter": "python",
   "pygments_lexer": "ipython3",
   "version": "3.7.3"
  }
 },
 "nbformat": 4,
 "nbformat_minor": 5
}
