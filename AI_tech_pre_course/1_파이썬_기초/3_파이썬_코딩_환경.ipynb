{
 "cells": [
  {
   "cell_type": "markdown",
   "id": "south-kitty",
   "metadata": {},
   "source": [
    "### 개발 환경 설정"
   ]
  },
  {
   "cell_type": "markdown",
   "id": "increased-safety",
   "metadata": {},
   "source": [
    "개발 환경 설정시 고려사항 3가지\n",
    "1. 운영체제\n",
    "2. Python Interpreter\n",
    "3. 코드 편집기"
   ]
  },
  {
   "cell_type": "markdown",
   "id": "precise-underground",
   "metadata": {},
   "source": [
    "#### 1. 운영체제"
   ]
  },
  {
   "cell_type": "markdown",
   "id": "straight-bankruptcy",
   "metadata": {},
   "source": [
    "|Windows|Linux|Mac OS|\n",
    "|-|-|-|\n",
    "|친숙한 환경, 초기에는 쉬움|모듈 설치 용이, 공짜 참고문서가 많음|모듈 설치 용이, 참고문서도 많음|\n",
    "|모듈 설치가 어려움(최근 많이 개선됨), 참고문서 부족, 터미널 환경이 다름|OS 자체 사용이 어려움|비쌈|"
   ]
  },
  {
   "cell_type": "markdown",
   "id": "destroyed-maria",
   "metadata": {},
   "source": [
    "#### 2. Python Interpreter"
   ]
  },
  {
   "cell_type": "markdown",
   "id": "administrative-wildlife",
   "metadata": {},
   "source": [
    "Python Interpreter는 파이썬 코드를 OS에 번역해주는 프로그램  \n",
    "- 2.7rhk 3.X 버전이 존재하며 현재는 3.X 기준으로 모든 시스템이 작동함\n",
    "- 기존 라이브러리 사용 여부에 따라 버전을 선택하며 보통 requirement.txt에 맞는 버전을 사용\n",
    "- 일반 파이썬에는 기본적인 모듈이 포함되었으며 Anaconda는 다양한 과학 계산용 모듈들을 묶어서 패키지화 시킴"
   ]
  },
  {
   "cell_type": "markdown",
   "id": "moral-drink",
   "metadata": {},
   "source": [
    "#### 3. 코드 편집기"
   ]
  },
  {
   "cell_type": "markdown",
   "id": "starting-split",
   "metadata": {},
   "source": [
    "파이썬 코드도 일종의 문서로 한글, 워드 처럼 코드를 입력할 문서 편집기가 필요함  \n",
    "text 타입의 문서를 저장하는 모든 편집기 사용가능\n",
    "- 메모장 : 윈도우의 기본 문서 편집 도구\n",
    "- VI editor, VIM : 리눅스이 기본 문서 편집 도구\n",
    "- Sublime Text, Atom(Git), VS Code(MS) : 프로그래밍에 특화된 문서 편집 도구\n",
    "- PyCharm(Jetbrain) : 다양한 기능을 갖춘 파이썬 전용 개발 도구"
   ]
  },
  {
   "cell_type": "markdown",
   "id": "spiritual-vulnerability",
   "metadata": {},
   "source": [
    "코드 편집기의 두가지 타입\n",
    "1. 설치된 어플리케이션(파이썬 코딩 환경) : VS Code(code .), Anaconda \n",
    "- 파이썬 쉘에서 코드 편집 도구 실행\n",
    "2. 웹 기반 인터랙티브(주고 받는) 편집기 : Jupyter(jupyter notebook), Colab <- 데이터 분석 도구의 역할이 강함\n",
    "- 파이썬 쉘 + 코드 편집기 = 데이터 분석을 위한 파이썬 IDE"
   ]
  },
  {
   "cell_type": "markdown",
   "id": "ignored-resolution",
   "metadata": {},
   "source": [
    "#### Jupyter 개요"
   ]
  },
  {
   "cell_type": "markdown",
   "id": "international-entrepreneur",
   "metadata": {},
   "source": [
    "- IPython 커널을 기반으로 한 대화형 파이썬 쉘\n",
    "- 일반적인 터미널 쉘 + 웹 기반 데이터 분석 notebook 제공\n",
    "- 미디어, 텍스트, 코드, 수식등을 하나의 문서로 표현 가능\n",
    "- 사실상 데이터 분석 Interactive(엔터를 눌러 결과를 바로 보여주는 형식) Shell의 표준\n",
    "- Julia + Python + R\n",
    "- cell 단위로 실행(메모리를 사용한다는 의미)\n",
    "- edit 모드, command 모드"
   ]
  },
  {
   "cell_type": "markdown",
   "id": "anticipated-insert",
   "metadata": {},
   "source": [
    "#### Colab 개요"
   ]
  },
  {
   "cell_type": "markdown",
   "id": "relative-field",
   "metadata": {},
   "source": [
    "- 구글이 개발한 클라우드 기반의 jupyter notebook\n",
    "- 구글 드라이브 + GCP + jupyter 등이 합쳐져서 사용자가 손쉽게 접근\n",
    "- 초반 여러가지 모듈 설치의 장점을 가짐\n",
    "- 구글 드라이브의 파일을 업로드하여 사용가능한 장점을 가짐\n",
    "- VSCode 등과 연결해서 사용가능\n",
    "- V100 이상의 GPU를 무료로 쓸 수 있다는 장점을 가짐\n",
    "- 코랩에서 사용하는 리소스는 구글의 리소스를 사용함\n",
    "- pro는 월 1만5천원"
   ]
  }
 ],
 "metadata": {
  "kernelspec": {
   "display_name": "Python 3",
   "language": "python",
   "name": "python3"
  },
  "language_info": {
   "codemirror_mode": {
    "name": "ipython",
    "version": 3
   },
   "file_extension": ".py",
   "mimetype": "text/x-python",
   "name": "python",
   "nbconvert_exporter": "python",
   "pygments_lexer": "ipython3",
   "version": "3.7.3"
  }
 },
 "nbformat": 4,
 "nbformat_minor": 5
}
