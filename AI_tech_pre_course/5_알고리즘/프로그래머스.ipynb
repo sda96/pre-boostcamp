{
 "cells": [
  {
   "cell_type": "markdown",
   "id": "hidden-rapid",
   "metadata": {},
   "source": [
    "https://train-validation-test.tistory.com/entry/Programmers-level-2-%ED%83%80%EA%B2%9F-%EB%84%98%EB%B2%84-python"
   ]
  },
  {
   "cell_type": "code",
   "execution_count": 13,
   "id": "functional-entertainment",
   "metadata": {},
   "outputs": [
    {
     "name": "stdout",
     "output_type": "stream",
     "text": [
      "sup :  [1, -1]\n",
      "sup :  [2, 0, 0, -2]\n",
      "sup :  [3, 1, 1, -1, 1, -1, -1, -3]\n",
      "sup :  [4, 2, 2, 0, 2, 0, 0, -2, 2, 0, 0, -2, 0, -2, -2, -4]\n",
      "sup :  [5, 3, 3, 1, 3, 1, 1, -1, 3, 1, 1, -1, 1, -1, -1, -3, 3, 1, 1, -1, 1, -1, -1, -3, 1, -1, -1, -3, -1, -3, -3, -5]\n"
     ]
    },
    {
     "data": {
      "text/plain": [
       "5"
      ]
     },
     "execution_count": 13,
     "metadata": {},
     "output_type": "execute_result"
    }
   ],
   "source": [
    "numbers = [1,1,1,1,1]\n",
    "target = 3\n",
    "# dfs\n",
    "def solution(numbers, target):\n",
    "    sup= [0]\n",
    "    for i in numbers:\n",
    "        sub = []\n",
    "        for j in sup : \n",
    "            sub.append(j+i)\n",
    "            sub.append(j-i)\n",
    "        sup = sub\n",
    "        print(\"sup : \",sup)\n",
    "    return sup.count(target)\n",
    "\n",
    "solution(numbers, target)"
   ]
  }
 ],
 "metadata": {
  "kernelspec": {
   "display_name": "Python 3",
   "language": "python",
   "name": "python3"
  },
  "language_info": {
   "codemirror_mode": {
    "name": "ipython",
    "version": 3
   },
   "file_extension": ".py",
   "mimetype": "text/x-python",
   "name": "python",
   "nbconvert_exporter": "python",
   "pygments_lexer": "ipython3",
   "version": "3.7.3"
  }
 },
 "nbformat": 4,
 "nbformat_minor": 5
}
