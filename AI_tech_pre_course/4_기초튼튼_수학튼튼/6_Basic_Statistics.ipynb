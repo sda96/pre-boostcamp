{
 "cells": [
  {
   "cell_type": "markdown",
   "id": "chinese-monthly",
   "metadata": {},
   "source": [
    "#### 모수란?"
   ]
  },
  {
   "cell_type": "markdown",
   "id": "liked-potential",
   "metadata": {},
   "source": [
    "- 통계적 모델링은 적절한 가정 위에서 확률분포를 추정(inference)하는 것이 목표이며, 기계학습과 통계학이 공통적으로 추구하는 목표입니다\n",
    "- 그러나 유한한 개수의 데이터만 관찰해서 모집단의 분포를 정확하게 알아낸다는 것은 불가능하므로, 근사적으로 확률분포를 추정할 수 밖에 없습니다\n",
    "- 예측모형의 목적은 분포를 정확하게 맞추는 것보다는 **데이터와 추정 방법의 불확실성을 고려해서 위험을 최소화** 하는 것입니다"
   ]
  },
  {
   "cell_type": "markdown",
   "id": "cathedral-potential",
   "metadata": {},
   "source": [
    "<img src=\"https://imgur.com/xbtBiEH.jpg\">"
   ]
  },
  {
   "cell_type": "markdown",
   "id": "developmental-doctor",
   "metadata": {},
   "source": [
    "#### 모수적 방법론"
   ]
  },
  {
   "cell_type": "markdown",
   "id": "reliable-visibility",
   "metadata": {},
   "source": [
    "- 데이터가 특정 확률분포를 따른다고 선험적으로(a priori) 가정한 후 그 분포를 결정하는 모수(parameter)를 추정하는 방법입니다"
   ]
  },
  {
   "cell_type": "markdown",
   "id": "ethical-mouse",
   "metadata": {},
   "source": [
    "#### 비모수적 방법론"
   ]
  },
  {
   "cell_type": "markdown",
   "id": "colonial-hypothetical",
   "metadata": {},
   "source": [
    "- 특정 확률분포를 가정하지 않고 데이터에 따라 모델의 구조 및 모수의 개수가 유연하게 바뀌는 방법입니다\n",
    "- 대부분의 기계학습 모델은 비모수적 방법론을 따릅니다\n",
    "- 비모수적 방법론은 모수가 없다기 보다는 모수가 무한히 많거나 데이터에 따라서 바뀌는 경우를 말합니다"
   ]
  },
  {
   "attachments": {},
   "cell_type": "markdown",
   "id": "exposed-pointer",
   "metadata": {},
   "source": [
    "<img src=\"\">"
   ]
  },
  {
   "cell_type": "markdown",
   "id": "swiss-genesis",
   "metadata": {},
   "source": [
    "#### 확률분포 가정하기"
   ]
  },
  {
   "cell_type": "markdown",
   "id": "naked-vampire",
   "metadata": {},
   "source": [
    "- 데이터의 전체적인 분포를 확인 및 관찰하여 어떠한 분포를 따르는지 확인합니다\n",
    "    - 데이터가 2개의 값(0 또는 1)만 가지는 경우 베르누이 분포\n",
    "    - 데이터가 n개의 이산적인 값을 가지는 경우 카테고리 분포\n",
    "    - 데이터가 [0,1] 사이에서 값을 가지는 경우 베타 분포\n",
    "    - 데이터가 0 이상의 값을 가지는 경우 감마 분포, 로그 정규분포 등등..\n",
    "    - 데이터가 실수집합 전체를 가진느 경우 정규 분포, 라플라스 분포 등등\n",
    "- 각 분포마다 검정하는 방법들이 있으므로 모수를 추정한 후에는 반드시 검정을 해야 합니다\n",
    "- 기계적으로 확률분포를 가정해서는 안되며, 데이터를 생성하는 원리를 먼저 고려하는 것이 원칙입니다"
   ]
  },
  {
   "cell_type": "markdown",
   "id": "identical-universal",
   "metadata": {},
   "source": [
    "#### 데이터로 모수 추정하기"
   ]
  },
  {
   "cell_type": "markdown",
   "id": "infrared-determination",
   "metadata": {},
   "source": [
    "- 데이터의 확률분포를 가정했다면 모수를 추정해 볼수 있습니다\n",
    "- 정규분포의 모수는 평균 $\\mu$과 분산 $\\sigma^2$으로 이를 추정하는 통계량은 다음과 같습니다"
   ]
  },
  {
   "cell_type": "markdown",
   "id": "wired-childhood",
   "metadata": {},
   "source": [
    "<img src=\"https://imgur.com/rEO5wRI.jpg\">"
   ]
  },
  {
   "cell_type": "markdown",
   "id": "solar-acoustic",
   "metadata": {},
   "source": [
    "- 다른 통계량을 사용할 수 있으며 보통 추정량을 구할 때 통계적으로 중요한 성질에 따라서 다른 통계량을 사용할 수 있습니다  \n",
    "    1. 표본 평균과 표본 분산을 정의하게되면 \n",
    "    2. 주어진 데이터로 전체 데이터의 확률분포의 모수를 추정할 수 있고 \n",
    "    3. 추정된 모수를 가지고 데이터의 성질 및 정보를 취합가능하며 \n",
    "    4. 이를 통해 예측이나 의사결정에 활용이 가능합니다."
   ]
  },
  {
   "cell_type": "markdown",
   "id": "contained-saudi",
   "metadata": {},
   "source": [
    "- 통계량의 확률분포를 표집분포(sampling distribution)라 부프며, 특히 표본 평균의 표집분포는 데이터의 개수가 커질수록 정규분포를 따릅니다\n",
    "    - 이를 중심극한정리라고 부르며 모집단의 분포가 정규분포를 따르지 않아도 성립합니다"
   ]
  },
  {
   "cell_type": "code",
   "execution_count": null,
   "id": "separate-partition",
   "metadata": {},
   "outputs": [],
   "source": []
  },
  {
   "cell_type": "code",
   "execution_count": null,
   "id": "thrown-london",
   "metadata": {},
   "outputs": [],
   "source": []
  },
  {
   "cell_type": "code",
   "execution_count": null,
   "id": "permanent-replication",
   "metadata": {},
   "outputs": [],
   "source": []
  },
  {
   "cell_type": "code",
   "execution_count": null,
   "id": "chemical-adobe",
   "metadata": {},
   "outputs": [],
   "source": []
  },
  {
   "cell_type": "code",
   "execution_count": null,
   "id": "brilliant-acquisition",
   "metadata": {},
   "outputs": [],
   "source": []
  }
 ],
 "metadata": {
  "kernelspec": {
   "display_name": "Python 3",
   "language": "python",
   "name": "python3"
  },
  "language_info": {
   "codemirror_mode": {
    "name": "ipython",
    "version": 3
   },
   "file_extension": ".py",
   "mimetype": "text/x-python",
   "name": "python",
   "nbconvert_exporter": "python",
   "pygments_lexer": "ipython3",
   "version": "3.7.3"
  }
 },
 "nbformat": 4,
 "nbformat_minor": 5
}
