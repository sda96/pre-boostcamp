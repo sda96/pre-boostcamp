{
 "cells": [
  {
   "cell_type": "markdown",
   "id": "hidden-rapid",
   "metadata": {},
   "source": [
    "https://train-validation-test.tistory.com/entry/Programmers-level-2-%ED%83%80%EA%B2%9F-%EB%84%98%EB%B2%84-python"
   ]
  },
  {
   "cell_type": "code",
   "execution_count": 13,
   "id": "functional-entertainment",
   "metadata": {},
   "outputs": [
    {
     "name": "stdout",
     "output_type": "stream",
     "text": [
      "sup :  [1, -1]\n",
      "sup :  [2, 0, 0, -2]\n",
      "sup :  [3, 1, 1, -1, 1, -1, -1, -3]\n",
      "sup :  [4, 2, 2, 0, 2, 0, 0, -2, 2, 0, 0, -2, 0, -2, -2, -4]\n",
      "sup :  [5, 3, 3, 1, 3, 1, 1, -1, 3, 1, 1, -1, 1, -1, -1, -3, 3, 1, 1, -1, 1, -1, -1, -3, 1, -1, -1, -3, -1, -3, -3, -5]\n"
     ]
    },
    {
     "data": {
      "text/plain": [
       "5"
      ]
     },
     "execution_count": 13,
     "metadata": {},
     "output_type": "execute_result"
    }
   ],
   "source": [
    "numbers = [1,1,1,1,1]\n",
    "target = 3\n",
    "# dfs\n",
    "def solution(numbers, target):\n",
    "    sup= [0]\n",
    "    for i in numbers:\n",
    "        sub = []\n",
    "        for j in sup : \n",
    "            sub.append(j+i)\n",
    "            sub.append(j-i)\n",
    "        sup = sub\n",
    "        print(\"sup : \",sup)\n",
    "    return sup.count(target)\n",
    "\n",
    "solution(numbers, target)"
   ]
  },
  {
   "cell_type": "code",
   "execution_count": 11,
   "id": "unknown-custom",
   "metadata": {},
   "outputs": [],
   "source": [
    "# 신규 아이디 추천\n",
    "\n",
    "import re\n",
    "def solution(new_id):\n",
    "    new_id = new_id.lower() # 1단계\n",
    "    new_id = re.sub(\"[^a-z0-9-_.]\",\"\", new_id) # 2단계\n",
    "    new_id = re.sub(\"[..]+\",\".\", new_id) # 3단계\n",
    "    new_id = re.sub(\"^[.]|[.]$\",\"\", new_id) # 4단계\n",
    "    if len(new_id) == 0: # 5단계\n",
    "        new_id = \"a\"\n",
    "    if len(new_id) >= 16: # 6단계\n",
    "        new_id = re.sub(\"[.]$\",\"\", new_id[:15])\n",
    "    while len(new_id) < 3: # 7단계\n",
    "        new_id += new_id[-1]\n",
    "    return new_id"
   ]
  },
  {
   "cell_type": "code",
   "execution_count": 26,
   "id": "ancient-chosen",
   "metadata": {},
   "outputs": [
    {
     "data": {
      "text/plain": [
       "4"
      ]
     },
     "execution_count": 26,
     "metadata": {},
     "output_type": "execute_result"
    }
   ],
   "source": [
    "from itertools import combinations\n",
    "\n",
    "nums = [1,2,7,6,4]\n",
    "\n",
    "def is_prime(x):\n",
    "    for i in range(2, x):\n",
    "        if x % i == 0:\n",
    "            return False\n",
    "    return True\n",
    "\n",
    "def solution(nums):\n",
    "    lists = list(combinations(nums, 3))\n",
    "    sums = list(map(lambda x : sum(x), lists))\n",
    "    result = list(map(is_prime, sums))\n",
    "    return sum(result)\n",
    "\n",
    "solution(nums)"
   ]
  },
  {
   "cell_type": "code",
   "execution_count": 135,
   "id": "broken-belfast",
   "metadata": {},
   "outputs": [
    {
     "name": "stdout",
     "output_type": "stream",
     "text": [
      "ababcdcdababcdc\n"
     ]
    },
    {
     "ename": "AttributeError",
     "evalue": "'list' object has no attribute 'drop'",
     "output_type": "error",
     "traceback": [
      "\u001b[1;31m---------------------------------------------------------------------------\u001b[0m",
      "\u001b[1;31mAttributeError\u001b[0m                            Traceback (most recent call last)",
      "\u001b[1;32m<ipython-input-135-a7b9321757f8>\u001b[0m in \u001b[0;36m<module>\u001b[1;34m\u001b[0m\n\u001b[0;32m     26\u001b[0m     \u001b[1;32mreturn\u001b[0m \u001b[0mresult_bucket\u001b[0m\u001b[1;33m\u001b[0m\u001b[1;33m\u001b[0m\u001b[0m\n\u001b[0;32m     27\u001b[0m \u001b[1;33m\u001b[0m\u001b[0m\n\u001b[1;32m---> 28\u001b[1;33m \u001b[0msolution\u001b[0m\u001b[1;33m(\u001b[0m\u001b[0ms\u001b[0m\u001b[1;33m)\u001b[0m\u001b[1;33m\u001b[0m\u001b[1;33m\u001b[0m\u001b[0m\n\u001b[0m",
      "\u001b[1;32m<ipython-input-135-a7b9321757f8>\u001b[0m in \u001b[0;36msolution\u001b[1;34m(s)\u001b[0m\n\u001b[0;32m     23\u001b[0m                 \u001b[1;32mpass\u001b[0m\u001b[1;33m\u001b[0m\u001b[1;33m\u001b[0m\u001b[0m\n\u001b[0;32m     24\u001b[0m         \u001b[0mprint\u001b[0m\u001b[1;33m(\u001b[0m\u001b[0mnew_word\u001b[0m\u001b[1;33m)\u001b[0m\u001b[1;33m\u001b[0m\u001b[1;33m\u001b[0m\u001b[0m\n\u001b[1;32m---> 25\u001b[1;33m         \u001b[0mresult_bucket\u001b[0m \u001b[1;33m+=\u001b[0m \u001b[1;33m[\u001b[0m\u001b[0mlen\u001b[0m\u001b[1;33m(\u001b[0m\u001b[0mnew_word\u001b[0m\u001b[1;33m)\u001b[0m \u001b[1;33m+\u001b[0m \u001b[0mword_number\u001b[0m\u001b[1;33m]\u001b[0m\u001b[1;33m.\u001b[0m\u001b[0mdrop\u001b[0m\u001b[1;33m(\u001b[0m\u001b[1;36m0\u001b[0m\u001b[1;33m)\u001b[0m\u001b[1;33m\u001b[0m\u001b[1;33m\u001b[0m\u001b[0m\n\u001b[0m\u001b[0;32m     26\u001b[0m     \u001b[1;32mreturn\u001b[0m \u001b[0mresult_bucket\u001b[0m\u001b[1;33m\u001b[0m\u001b[1;33m\u001b[0m\u001b[0m\n\u001b[0;32m     27\u001b[0m \u001b[1;33m\u001b[0m\u001b[0m\n",
      "\u001b[1;31mAttributeError\u001b[0m: 'list' object has no attribute 'drop'"
     ]
    }
   ],
   "source": [
    "from collections import Counter, deque\n",
    "\n",
    "\n",
    "s = \"ababcdcdababcdcd\"\n",
    "# 칸수 나누기\n",
    "def split_str(s, j):\n",
    "    return [s[i:i+j] for i in range(0, len(s), j)]\n",
    "\n",
    "# 나누어진 pop된 단어가 이전단어와 동일하면 숫자 아니면 그대로 붙여넣기\n",
    "def solution(s):\n",
    "    result_bucket = []\n",
    "    for split_n in range(1, len(s)):\n",
    "        bucket = split_str(s, split_n)\n",
    "        new_word = \"\"\n",
    "        word_number = 0\n",
    "        for i in range(len(bucket)):\n",
    "            try:\n",
    "                if bucket[i] != bucket[i+1]:\n",
    "                    new_word += bucket[i]\n",
    "                    word_number += 1\n",
    "                \n",
    "            except:\n",
    "                pass\n",
    "        print(new_word)\n",
    "        result_bucket += [len(new_word) + word_number]\n",
    "    return result_bucket\n",
    "\n",
    "solution(s)"
   ]
  }
 ],
 "metadata": {
  "kernelspec": {
   "display_name": "Python 3",
   "language": "python",
   "name": "python3"
  },
  "language_info": {
   "codemirror_mode": {
    "name": "ipython",
    "version": 3
   },
   "file_extension": ".py",
   "mimetype": "text/x-python",
   "name": "python",
   "nbconvert_exporter": "python",
   "pygments_lexer": "ipython3",
   "version": "3.7.3"
  }
 },
 "nbformat": 4,
 "nbformat_minor": 5
}
