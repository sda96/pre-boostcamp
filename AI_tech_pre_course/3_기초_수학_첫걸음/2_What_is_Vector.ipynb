{
 "cells": [
  {
   "cell_type": "markdown",
   "id": "critical-vertex",
   "metadata": {},
   "source": [
    "### 벡터란?"
   ]
  },
  {
   "cell_type": "markdown",
   "id": "expected-aviation",
   "metadata": {},
   "source": [
    "- 벡터는 숫자를 원소로 가지는 리스트(list) 또는 배열(array)\n",
    "- 열벡터와 행벡터가 있으며 일반적으로 행벡터로 표현함\n",
    "- 벡터끼리 같은 모양(shape)를 가지면 덧셈, 뺄셈, 성분곱(Hadamard prduct, element-wise product)을 계산할 수 있음"
   ]
  },
  {
   "cell_type": "code",
   "execution_count": 4,
   "id": "demonstrated-accessory",
   "metadata": {},
   "outputs": [],
   "source": [
    "import numpy as np\n",
    "x = [1, 7, 2]\n",
    "x = np.array([1, 7, 2]) # 행벡터"
   ]
  },
  {
   "cell_type": "markdown",
   "id": "blind-asbestos",
   "metadata": {},
   "source": [
    "1차원의 공간(스칼라) - 1차원 1개의 축인 수직선 상에 놓인 숫자  \n",
    "2차원의 공간(벡터) - 2차원 2개의 축으로 좌표공간 상에서의 한점  \n",
    "3차원 이상의 공간(텐서) - 3차원 3개 이상의 축으로 공간 에서의 한점\n",
    "\n",
    "- 벡터는 공간에서 한 점을 나타냅니다\n",
    "- 벡터는 원점으로부터 상대적 위치를 표현함\n",
    "- 벡터에 스칼라 곱을 해주면 길이만 변함\n",
    "- 스칼라의 값이 1보다 크면 길이가 늘어나고 1보다 작으면 길이가 줄어듬\n",
    "- 단, 스칼라의 값이 0보다 작으면 벡터의 방향이 반대방향으로 가게됨"
   ]
  },
  {
   "cell_type": "code",
   "execution_count": 15,
   "id": "acting-institute",
   "metadata": {},
   "outputs": [],
   "source": [
    "x = np.array([1, 2, 3])\n",
    "y = np.array([2, 4, 6])"
   ]
  },
  {
   "cell_type": "code",
   "execution_count": 16,
   "id": "instructional-environment",
   "metadata": {},
   "outputs": [
    {
     "data": {
      "text/plain": [
       "array([3, 6, 9])"
      ]
     },
     "execution_count": 16,
     "metadata": {},
     "output_type": "execute_result"
    }
   ],
   "source": [
    "x + y # 벡터의 덧셈 : 벡터의 덧셈은 다른 벡터로부터 상대적 위치 이동을 표현합니다."
   ]
  },
  {
   "cell_type": "code",
   "execution_count": 13,
   "id": "imported-error",
   "metadata": {},
   "outputs": [
    {
     "data": {
      "text/plain": [
       "array([-1, -2, -3])"
      ]
     },
     "execution_count": 13,
     "metadata": {},
     "output_type": "execute_result"
    }
   ],
   "source": [
    "x - y # 벡터의 뺄셈"
   ]
  },
  {
   "cell_type": "code",
   "execution_count": 18,
   "id": "breeding-postcard",
   "metadata": {},
   "outputs": [
    {
     "data": {
      "text/plain": [
       "array([ 2,  8, 18])"
      ]
     },
     "execution_count": 18,
     "metadata": {},
     "output_type": "execute_result"
    }
   ],
   "source": [
    "x * y # 성분곱"
   ]
  },
  {
   "cell_type": "markdown",
   "id": "royal-accessory",
   "metadata": {},
   "source": [
    "#### 벡터의 노름"
   ]
  },
  {
   "cell_type": "markdown",
   "id": "czech-healthcare",
   "metadata": {},
   "source": [
    "- 벡터의 노름(norm)은 한 점인 벡터로 부터 원점까지의 거리를 말합니다.\n",
    "- L1, L2 노름 두가지 종류가 있습니다\n",
    "- L1 노름 : 각 성분 변화량의 절대값을 모두 더함(맨하튼 거리 방식)\n",
    "- L2 노름 : 피타고라스 정리를 이용한 유클리드 거리를 계산함"
   ]
  },
  {
   "cell_type": "code",
   "execution_count": 20,
   "id": "palestinian-crack",
   "metadata": {},
   "outputs": [],
   "source": [
    "def l1_norm(x):\n",
    "    x_norm = np.abs(x) # 절대값\n",
    "    x_norm = np.sum(x) # 원소를 모두 더함\n",
    "    return x_norm\n",
    "\n",
    "def l2_norm(x):\n",
    "    x_norm = np.abs(x) # 절대값\n",
    "    x_norm = np.sum(x) # 원소를 모두 더함\n",
    "    x_norm = np.sqrt(x) # 제곱근을 구함\n",
    "    return x_norm"
   ]
  },
  {
   "cell_type": "markdown",
   "id": "traditional-yellow",
   "metadata": {},
   "source": [
    "<img src=\"https://imgur.com/7Luk5pr.jpg\">"
   ]
  },
  {
   "cell_type": "markdown",
   "id": "incorporated-clarity",
   "metadata": {},
   "source": [
    "위의 그림은 원점으로 부터 거리가 1인 지점을 그린 그림으로 노름의 종류에 따라서 그림과 같이 기하학적 성질이 달라지게 됨  \n",
    "\n",
    "기계학습의 목적에 따라서 사용되는 노름의 종류가 달라짐  \n",
    "   - L1 노름 : 로버스트 학습, 라쏘 회귀\n",
    "   - L2 노름 : 라플라스 분산, 릿지 회귀"
   ]
  },
  {
   "cell_type": "markdown",
   "id": "moving-grocery",
   "metadata": {},
   "source": [
    "#### 두 벡터 사이의 거리"
   ]
  },
  {
   "cell_type": "markdown",
   "id": "going-phrase",
   "metadata": {},
   "source": [
    "- 노름을 이용해 두 벡터 사이의 거리를 계산할 수 있음\n",
    "- 두 벡터 사이의 거리를 계산할때는 벡터의 뺄셈이 이용됨\n",
    "- 두 벡터 사이의 거리를 이용하여 각도를 계산할 수 있음(L2 노름에서만 가능,제 2코싸인 법칙 활용)\n",
    "- 제2 코사인 법칙 : $cos\\theta = \\frac {\\lvert{x}\\rvert^2 + \\lvert{y}\\rvert^2 - \\lvert{x-y}\\rvert^2}{2\\lvert{x}\\rvert^2\\lvert{y}\\rvert^2}$ , $cos\\theta = \\frac {2<x,y>}{2\\lvert{x}\\rvert^2\\lvert{y}\\rvert^2}, <x,y> = \\sum^{d}_{i}{x_iy_i}$\n",
    "- 내적(inner product) : 두 벡터들의 연산에 성분곱을 취한다음에 성분곱을 취한 벡터들을 모두 더하는 연산"
   ]
  },
  {
   "cell_type": "markdown",
   "id": "welcome-exclusive",
   "metadata": {},
   "source": [
    "#### 내적 이해하기"
   ]
  },
  {
   "cell_type": "markdown",
   "id": "clear-staff",
   "metadata": {},
   "source": [
    "<img src=\"https://imgur.com/c8Tu0Xx.jpg\">"
   ]
  },
  {
   "cell_type": "markdown",
   "id": "suffering-zealand",
   "metadata": {},
   "source": [
    "- 내적은 정사영(orthogonal projection)된 벡터의 길이와 관련이 있음\n",
    "- 정사영된 길이는 코사인 법칙에 의해 원래 벡터의 길이 a에 $cos\\theta$를 곱한 값과 동일함\n",
    "- 내적은 정사영 길이를 벡터 b의 길이 $\\lvert\\lvert{b}\\rvert\\rvert$ 만큼 조정한 값임\n",
    "- **내적은 두 벡터의 유사도(similarity)를 측정하는데 사용 가능함**"
   ]
  }
 ],
 "metadata": {
  "kernelspec": {
   "display_name": "Python 3",
   "language": "python",
   "name": "python3"
  },
  "language_info": {
   "codemirror_mode": {
    "name": "ipython",
    "version": 3
   },
   "file_extension": ".py",
   "mimetype": "text/x-python",
   "name": "python",
   "nbconvert_exporter": "python",
   "pygments_lexer": "ipython3",
   "version": "3.7.3"
  }
 },
 "nbformat": 4,
 "nbformat_minor": 5
}
