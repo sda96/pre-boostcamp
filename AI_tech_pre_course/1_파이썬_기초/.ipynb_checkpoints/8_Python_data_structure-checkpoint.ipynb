{
 "cells": [
  {
   "cell_type": "markdown",
   "id": "domestic-collection",
   "metadata": {},
   "source": [
    "### Data structure(데이터 구조)"
   ]
  },
  {
   "cell_type": "markdown",
   "id": "chicken-state",
   "metadata": {},
   "source": [
    "데이터 타입(숫자형, 문자형 자료형, data type)  \n",
    "데이터를 어떻게 효율적으로 저장하면 좋을까?"
   ]
  },
  {
   "cell_type": "markdown",
   "id": "prime-ideal",
   "metadata": {},
   "source": [
    "#### 파이썬 기본 데이터 구조"
   ]
  },
  {
   "cell_type": "markdown",
   "id": "mighty-strain",
   "metadata": {},
   "source": [
    "1. 스택과 큐(stack & queue with list)\n",
    "2. 튜플과 집합(tuple & set)\n",
    "3. 사전(dictionary)\n",
    "4. Collection 모듈"
   ]
  },
  {
   "cell_type": "markdown",
   "id": "subtle-encyclopedia",
   "metadata": {},
   "source": [
    "#### 스택(stack)"
   ]
  },
  {
   "cell_type": "markdown",
   "id": "excited-conclusion",
   "metadata": {},
   "source": [
    "- 후입선출 방식으로 나중에 넣은 데이터를 먼저 반환하도록 설계된 메모리 구조\n",
    "- Last In First Out(LIFO)\n",
    "- Data의 입력을 Push 출력을 Pop이라고 함"
   ]
  },
  {
   "cell_type": "code",
   "execution_count": 3,
   "id": "liable-clothing",
   "metadata": {},
   "outputs": [
    {
     "name": "stdout",
     "output_type": "stream",
     "text": [
      "10 [1, 2, 3, 4, 5]\n"
     ]
    }
   ],
   "source": [
    "# 리스트를 사용하여 스택 구조를 구현\n",
    "a = [1,2,3,4,5]\n",
    "a.append(10) # 10 Push\n",
    "c = a.pop() # pop함수는 return이 존재하는 함수로 지금은 10을 반환함\n",
    "print(c, a)"
   ]
  },
  {
   "cell_type": "code",
   "execution_count": 8,
   "id": "monthly-beatles",
   "metadata": {},
   "outputs": [
    {
     "name": "stdout",
     "output_type": "stream",
     "text": [
      "입력해주세요 : naver\n",
      "revan\n"
     ]
    }
   ],
   "source": [
    "# 스택 구조를 이용한 입력된 데이터를 역순으로 정렬\n",
    "x = list(map(str, input(\"입력해주세요 : \")))\n",
    "y = []\n",
    "for i in range(len(x)):\n",
    "    y.append(x.pop())\n",
    "y = \"\".join(y)\n",
    "print(y)"
   ]
  },
  {
   "cell_type": "markdown",
   "id": "mature-barcelona",
   "metadata": {},
   "source": [
    "#### 큐(queue)"
   ]
  },
  {
   "cell_type": "markdown",
   "id": "animated-failing",
   "metadata": {},
   "source": [
    "- 선입후출방식으로 먼저 넣은 데이터를 먼저 반환하도록 설계된 메모리 구조\n",
    "- First In First Out(FIFO)\n",
    "- Stack과 반대되는 개념"
   ]
  },
  {
   "cell_type": "code",
   "execution_count": 10,
   "id": "surgical-superintendent",
   "metadata": {},
   "outputs": [
    {
     "name": "stdout",
     "output_type": "stream",
     "text": [
      "1 [2, 3, 4, 5, 10]\n"
     ]
    }
   ],
   "source": [
    "a = [1,2,3,4,5]\n",
    "a.append(10)\n",
    "c = a.pop(0) # 가장 먼저 넣은 값 반환\n",
    "print(c, a)"
   ]
  },
  {
   "cell_type": "markdown",
   "id": "fewer-september",
   "metadata": {},
   "source": [
    "#### 튜플(tuple)"
   ]
  },
  {
   "cell_type": "markdown",
   "id": "former-sullivan",
   "metadata": {},
   "source": [
    "- 값의 변경이 불가능한 리스트\n",
    "- 선언시 []가 아닌 ()를 사용\n",
    "- 리스트의 연산, 인덱싱, 슬라이싱 등을 동일하게 사용"
   ]
  },
  {
   "cell_type": "code",
   "execution_count": 11,
   "id": "disabled-oracle",
   "metadata": {},
   "outputs": [
    {
     "data": {
      "text/plain": [
       "tuple"
      ]
     },
     "execution_count": 11,
     "metadata": {},
     "output_type": "execute_result"
    }
   ],
   "source": [
    "t = (1,2,3)\n",
    "type(t)"
   ]
  },
  {
   "cell_type": "code",
   "execution_count": 14,
   "id": "hearing-ethiopia",
   "metadata": {},
   "outputs": [
    {
     "ename": "TypeError",
     "evalue": "'tuple' object does not support item assignment",
     "output_type": "error",
     "traceback": [
      "\u001b[1;31m---------------------------------------------------------------------------\u001b[0m",
      "\u001b[1;31mTypeError\u001b[0m                                 Traceback (most recent call last)",
      "\u001b[1;32m<ipython-input-14-c34e52410176>\u001b[0m in \u001b[0;36m<module>\u001b[1;34m\u001b[0m\n\u001b[1;32m----> 1\u001b[1;33m \u001b[0mt\u001b[0m\u001b[1;33m[\u001b[0m\u001b[1;36m0\u001b[0m\u001b[1;33m]\u001b[0m \u001b[1;33m=\u001b[0m \u001b[1;36m2\u001b[0m \u001b[1;31m# 데이터 값의 변화가 안됨.\u001b[0m\u001b[1;33m\u001b[0m\u001b[1;33m\u001b[0m\u001b[0m\n\u001b[0m",
      "\u001b[1;31mTypeError\u001b[0m: 'tuple' object does not support item assignment"
     ]
    }
   ],
   "source": [
    "t[0] = 2 # 데이터 값의 변화가 안됨."
   ]
  },
  {
   "cell_type": "markdown",
   "id": "widespread-inspection",
   "metadata": {},
   "source": [
    "튜플은 함수의 반환값등으로 쓰이며 사용자의 실수에 의한 에러를 사전에 방지  \n",
    "프로그램을 작동하는 동안 변경되지 않은 데이터의 저장"
   ]
  },
  {
   "cell_type": "code",
   "execution_count": 16,
   "id": "complete-cycling",
   "metadata": {},
   "outputs": [
    {
     "name": "stdout",
     "output_type": "stream",
     "text": [
      "<class 'int'> <class 'tuple'>\n"
     ]
    }
   ],
   "source": [
    "t = (1) # int 타입\n",
    "t1 = (1,) # tuple 타입\n",
    "print(type(t), type(t1))"
   ]
  },
  {
   "cell_type": "markdown",
   "id": "knowing-india",
   "metadata": {},
   "source": [
    "#### 집합(set)"
   ]
  },
  {
   "cell_type": "markdown",
   "id": "engaging-fifth",
   "metadata": {},
   "source": [
    "- 값을 순서없이 저장, 중복을 불허하는 자료형\n",
    "- set 객체 선언을 이용하여 객체 생성"
   ]
  },
  {
   "cell_type": "code",
   "execution_count": null,
   "id": "biological-thousand",
   "metadata": {},
   "outputs": [],
   "source": []
  },
  {
   "cell_type": "code",
   "execution_count": null,
   "id": "suitable-punch",
   "metadata": {},
   "outputs": [],
   "source": []
  },
  {
   "cell_type": "code",
   "execution_count": null,
   "id": "ceramic-bones",
   "metadata": {},
   "outputs": [],
   "source": []
  }
 ],
 "metadata": {
  "kernelspec": {
   "display_name": "Python 3",
   "language": "python",
   "name": "python3"
  },
  "language_info": {
   "codemirror_mode": {
    "name": "ipython",
    "version": 3
   },
   "file_extension": ".py",
   "mimetype": "text/x-python",
   "name": "python",
   "nbconvert_exporter": "python",
   "pygments_lexer": "ipython3",
   "version": "3.7.3"
  }
 },
 "nbformat": 4,
 "nbformat_minor": 5
}
