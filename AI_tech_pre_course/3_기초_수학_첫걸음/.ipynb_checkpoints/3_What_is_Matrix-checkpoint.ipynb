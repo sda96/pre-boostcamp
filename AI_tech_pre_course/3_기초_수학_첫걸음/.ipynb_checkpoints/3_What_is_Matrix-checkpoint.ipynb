{
 "cells": [
  {
   "cell_type": "markdown",
   "id": "nutritional-gilbert",
   "metadata": {},
   "source": [
    "### 행렬이란?"
   ]
  },
  {
   "cell_type": "markdown",
   "id": "level-knitting",
   "metadata": {},
   "source": [
    "- 벡터는 숫자(스칼라)를 원소로 가지는 1차원 배열입니다\n",
    "- 행렬은 벡터를 원소로 가지는 2차원 배열입니다\n",
    "- 행렬은 행(row)과 열(column)이라는 인덱스(index)를 가집니다.\n",
    "- 행렬의 특정 행(열)을 고정하면 행(열)벡터라 부릅니다."
   ]
  },
  {
   "cell_type": "markdown",
   "id": "immediate-occurrence",
   "metadata": {},
   "source": [
    "<img src=\"https://imgur.com/vVOETec.jpg\">"
   ]
  },
  {
   "cell_type": "code",
   "execution_count": 4,
   "id": "indie-giving",
   "metadata": {},
   "outputs": [
    {
     "data": {
      "text/plain": [
       "array([[ 1, -2,  3],\n",
       "       [ 7,  5,  8],\n",
       "       [-2, -1,  2]])"
      ]
     },
     "execution_count": 4,
     "metadata": {},
     "output_type": "execute_result"
    }
   ],
   "source": [
    "import numpy as np\n",
    "x = np.array([[1,-2,3], [7,5,8], [-2,-1,2]]) # 행렬\n",
    "x # numpy에선 행이 기본단위 입니다."
   ]
  },
  {
   "cell_type": "markdown",
   "id": "extra-married",
   "metadata": {},
   "source": [
    "#### 전치 행렬"
   ]
  },
  {
   "cell_type": "markdown",
   "id": "harmful-annotation",
   "metadata": {},
   "source": [
    "- 전치행렬(transpose matrix)는 행과 열의 인덱스가 바뀐 행렬을 말합니다."
   ]
  },
  {
   "cell_type": "markdown",
   "id": "criminal-jurisdiction",
   "metadata": {},
   "source": [
    "<img src=\"https://imgur.com/7bTiXeP.jpg\">"
   ]
  },
  {
   "cell_type": "markdown",
   "id": "robust-steel",
   "metadata": {},
   "source": [
    "#### 행렬을 공간상에서 이해하기"
   ]
  },
  {
   "cell_type": "markdown",
   "id": "finished-award",
   "metadata": {},
   "source": [
    "- 벡터가 공간에서 한 점을 의미한다면 행렬은 여러개의 점들을 나타냅니다.\n",
    "- 행렬의 행벡터 $x_i$는 i번째 데이터를 의미합니다.\n",
    "- 행렬의 $x_{ij}$는 i번째 데이터의 j번째 변수의 값을 말합니다."
   ]
  },
  {
   "cell_type": "markdown",
   "id": "miniature-affair",
   "metadata": {},
   "source": [
    "행렬끼리의 모양이 같으면 덧셈, 뺄셈을 계산할 수 있습니다.  \n",
    "성분곱(element-wise-product)도 벡터와 동일합니다.   \n",
    "성분곱은 같은 위치의 값끼리 곱한 것을 의미합니다.  \n",
    "스칼라곱도 동일합니다."
   ]
  },
  {
   "cell_type": "markdown",
   "id": "developed-excuse",
   "metadata": {},
   "source": [
    "#### 행렬 곱셈"
   ]
  },
  {
   "cell_type": "markdown",
   "id": "stupid-register",
   "metadata": {},
   "source": [
    "- 행렬 곱셈(matrix multiplication)은 **i번째 행벡터와 j번째 열벡터 사이의 내적**을 성분으로 가지는 행렬을 계산합니다.\n",
    "- 내적(inner product) : 두 벡터들의 연산에 성분곱을 취한다음에 성분곱을 취한 벡터들을 모두 더하는 연산"
   ]
  },
  {
   "cell_type": "markdown",
   "id": "polar-scale",
   "metadata": {},
   "source": [
    "<img src=\"https://imgur.com/xtrL8FU.jpg\">"
   ]
  },
  {
   "cell_type": "code",
   "execution_count": 8,
   "id": "boolean-future",
   "metadata": {},
   "outputs": [
    {
     "data": {
      "text/plain": [
       "array([[ -8,   4],\n",
       "       [-11,  -4],\n",
       "       [ -5,   5]])"
      ]
     },
     "execution_count": 8,
     "metadata": {},
     "output_type": "execute_result"
    }
   ],
   "source": [
    "x = np.array([[1,-2,3], \n",
    "              [7,5,8], \n",
    "              [-2,-1,2]]) \n",
    "\n",
    "\n",
    "y = np.array([[0,-1], \n",
    "              [1,-1], \n",
    "              [-2,1]]) \n",
    "\n",
    "x @ y # 두 행렬의 행렬곱"
   ]
  },
  {
   "cell_type": "markdown",
   "id": "occasional-necklace",
   "metadata": {},
   "source": [
    "#### 행렬 내적"
   ]
  },
  {
   "cell_type": "markdown",
   "id": "growing-great",
   "metadata": {},
   "source": [
    "- 넘파이의 np.inner는 **i번째 행벡터와 j번째 행벡터 사이의 내적**을 성분으로 가지는 행렬을 계산합니다\n",
    "- 수학에서 말하는 내적과는 다르므로 주의해야 합니다."
   ]
  },
  {
   "cell_type": "markdown",
   "id": "expressed-spine",
   "metadata": {},
   "source": [
    "<img src=\"https://imgur.com/fo9JJdA.jpg\">"
   ]
  },
  {
   "cell_type": "code",
   "execution_count": 9,
   "id": "protective-november",
   "metadata": {},
   "outputs": [
    {
     "data": {
      "text/plain": [
       "array([[ 14,  21],\n",
       "       [ 21, 138],\n",
       "       [  6,  -3]])"
      ]
     },
     "execution_count": 9,
     "metadata": {},
     "output_type": "execute_result"
    }
   ],
   "source": [
    "x = np.array([[1,-2,3], \n",
    "              [7,5,8], \n",
    "              [-2,-1,2]]) \n",
    "\n",
    "y = np.array([[1,-2,3], \n",
    "              [7,5,8]])\n",
    "\n",
    "np.inner(x,y)"
   ]
  },
  {
   "cell_type": "markdown",
   "id": "corresponding-benchmark",
   "metadata": {},
   "source": [
    "#### 행렬의 이해 두번쨰"
   ]
  },
  {
   "cell_type": "markdown",
   "id": "attractive-eligibility",
   "metadata": {},
   "source": [
    "- 행렬은 벡터공간에서 사용되는 연산자(operator)로 이해한다\n",
    "- 행렬곱을 통해 벡터를 다른 차원의 공간으로 보낼 수 있습니다\n",
    "- 행렬을 통해서 두 벡터를 연결할 수 있습니다\n",
    "- 행렬곱을 통해 패턴을 추출할 수 있고 데이터를 압축할 수도 있습니다.\n",
    "- 모든 선형변환(linear transform)은 행렬곱으로 계산할 수 있습니다."
   ]
  },
  {
   "cell_type": "markdown",
   "id": "treated-chapter",
   "metadata": {},
   "source": [
    "<img src=\"https://imgur.com/QUwUbqJ.jpg\">"
   ]
  },
  {
   "cell_type": "markdown",
   "id": "defensive-slave",
   "metadata": {},
   "source": [
    "#### 역행렬"
   ]
  },
  {
   "cell_type": "markdown",
   "id": "united-ability",
   "metadata": {},
   "source": [
    "- 어떤 행렬 A의 연산을 거꾸로 되돌리는 행렬을 역행렬(inverse matrix) $A^{-1}$라고 부른다.\n",
    "- 역행렬은 행과 열 숫자가 같고 행렬식이 0이 아닌 경우에만 계산할 수 있습니다."
   ]
  },
  {
   "cell_type": "markdown",
   "id": "difficult-auction",
   "metadata": {},
   "source": [
    "<img src=\"https://imgur.com/oWNG9Kd.jpg\">"
   ]
  },
  {
   "cell_type": "code",
   "execution_count": 12,
   "id": "joined-indianapolis",
   "metadata": {},
   "outputs": [
    {
     "data": {
      "text/plain": [
       "array([[ 0.20689655,  0.01149425, -0.35632184],\n",
       "       [-0.34482759,  0.09195402,  0.14942529],\n",
       "       [ 0.03448276,  0.05747126,  0.2183908 ]])"
      ]
     },
     "execution_count": 12,
     "metadata": {},
     "output_type": "execute_result"
    }
   ],
   "source": [
    "np.linalg.inv(x) # 역행렬 구하는 방법"
   ]
  },
  {
   "cell_type": "code",
   "execution_count": 14,
   "id": "close-barcelona",
   "metadata": {},
   "outputs": [
    {
     "data": {
      "text/plain": [
       "array([[ 1.00000000e+00,  1.38777878e-17,  5.55111512e-17],\n",
       "       [-5.55111512e-17,  1.00000000e+00,  0.00000000e+00],\n",
       "       [-6.93889390e-17,  0.00000000e+00,  1.00000000e+00]])"
      ]
     },
     "execution_count": 14,
     "metadata": {},
     "output_type": "execute_result"
    }
   ],
   "source": [
    "x @ np.linalg.inv(x) # 기존 행렬과 역행렬을 행렬곱하면 항등행렬이 나옴"
   ]
  },
  {
   "cell_type": "markdown",
   "id": "heavy-quebec",
   "metadata": {},
   "source": [
    "- 만일 역행렬을 계산할 수 없다면 유사역행렬(pseudo-inverse)또는 무어 펜로즈 역행렬 $A^+$을 이용합니다\n",
    "- n은 행, m이 열인 경우"
   ]
  },
  {
   "cell_type": "markdown",
   "id": "educational-assumption",
   "metadata": {},
   "source": [
    "<img src=\"https://imgur.com/IaXYRKt.jpg\">"
   ]
  },
  {
   "cell_type": "code",
   "execution_count": 17,
   "id": "flying-annual",
   "metadata": {},
   "outputs": [
    {
     "data": {
      "text/plain": [
       "array([[ 0.20689655,  0.01149425, -0.35632184],\n",
       "       [-0.34482759,  0.09195402,  0.14942529],\n",
       "       [ 0.03448276,  0.05747126,  0.2183908 ]])"
      ]
     },
     "execution_count": 17,
     "metadata": {},
     "output_type": "execute_result"
    }
   ],
   "source": [
    "np.linalg.pinv(x) # 유사역행렬"
   ]
  },
  {
   "cell_type": "code",
   "execution_count": 20,
   "id": "determined-universal",
   "metadata": {},
   "outputs": [
    {
     "data": {
      "text/plain": [
       "array([[ 1.00000000e+00, -1.38777878e-16, -2.77555756e-17],\n",
       "       [-9.43689571e-16,  1.00000000e+00,  1.11022302e-15],\n",
       "       [ 1.80411242e-16, -2.77555756e-17,  1.00000000e+00]])"
      ]
     },
     "execution_count": 20,
     "metadata": {},
     "output_type": "execute_result"
    }
   ],
   "source": [
    "x @ np.linalg.pinv(x) # 항등행렬을 구할 수 있음"
   ]
  },
  {
   "cell_type": "markdown",
   "id": "charming-fault",
   "metadata": {},
   "source": [
    "#### 연립방정식 풀기"
   ]
  },
  {
   "cell_type": "markdown",
   "id": "realistic-suicide",
   "metadata": {},
   "source": [
    "- ```np.linalg.pinv()```를 활용하여 연립방정식의 해를 구할 수 있습니다"
   ]
  },
  {
   "cell_type": "markdown",
   "id": "adequate-oxide",
   "metadata": {},
   "source": [
    "<img src=\"https://imgur.com/EZxjEMJ.jpg\">"
   ]
  },
  {
   "cell_type": "markdown",
   "id": "reverse-theology",
   "metadata": {},
   "source": [
    "#### 선형회귀분석"
   ]
  },
  {
   "cell_type": "markdown",
   "id": "bizarre-massage",
   "metadata": {},
   "source": [
    "- ```np.linalg.pinv()```를 이용하면 데이털르 선형모델로 해석하는 선형회귀식을 찾을 수 있습니다\n",
    "- 선형회귀분석은 연립방정식과 달리 행이 더 크므로 방정식을 푸는건 불가능합니다\n",
    "- 데이터를 최대한 잘 표현 가능한 회귀선을 찾아야 합니다\n",
    "- 현실에서는 완전히 동일한 y를 구할 수 없으므로 $\\hat{y}$를 구해야 합니다\n",
    "\n",
    "$X\\beta = \\hat{y} ~ y,$  $L_2$ 노름을 최소화하는 $\\hat{y}$를 찾아야 합니다  \n",
    "$\\beta = X^{+}y = (X^{T}X)^{-1}X^Ty$ Moore-Penrose 역행렬을 이용하여 y에 근접한 $\\hat{y}$을 찾을 수 있습니다"
   ]
  },
  {
   "cell_type": "markdown",
   "id": "brief-century",
   "metadata": {},
   "source": [
    "<img src=\"https://imgur.com/Sh84K25.jpg\">"
   ]
  },
  {
   "cell_type": "markdown",
   "id": "adult-royal",
   "metadata": {},
   "source": [
    "sklearn y절편 자동으로 추가  \n",
    "Moore- Penrose는 y절편을 따로 추가해줘야함"
   ]
  }
 ],
 "metadata": {
  "kernelspec": {
   "display_name": "Python 3",
   "language": "python",
   "name": "python3"
  },
  "language_info": {
   "codemirror_mode": {
    "name": "ipython",
    "version": 3
   },
   "file_extension": ".py",
   "mimetype": "text/x-python",
   "name": "python",
   "nbconvert_exporter": "python",
   "pygments_lexer": "ipython3",
   "version": "3.7.3"
  }
 },
 "nbformat": 4,
 "nbformat_minor": 5
}
