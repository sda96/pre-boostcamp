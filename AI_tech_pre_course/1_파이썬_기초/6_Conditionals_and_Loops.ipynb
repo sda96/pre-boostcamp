{
 "cells": [
  {
   "cell_type": "markdown",
   "id": "accompanied-xerox",
   "metadata": {},
   "source": [
    "### Conditions(조건문)"
   ]
  },
  {
   "cell_type": "markdown",
   "id": "complete-class",
   "metadata": {},
   "source": [
    "프로그램 작성 시, 조건에 따른 판단과 반복은 필수  \n",
    "조건문은 조건을 나타내는 기준과 실행해야할 명령으로 구성됨  \n",
    "조건의 참, 거짓에 따라 실행해야할 명령이 수행되거나 되지 않음  \n",
    "파이썬은 조건문으로 ```if```, ```else```, ```elif``` 등의 예약어를 사용함  \n",
    "모든 if문을 순차적으로 실행"
   ]
  },
  {
   "cell_type": "code",
   "execution_count": 2,
   "id": "fiscal-honey",
   "metadata": {},
   "outputs": [
    {
     "name": "stdout",
     "output_type": "stream",
     "text": [
      "True\n"
     ]
    }
   ],
   "source": [
    "example = 5\n",
    "if example == 5:\n",
    "    print(True)\n",
    "else:\n",
    "    print(False)"
   ]
  },
  {
   "cell_type": "code",
   "execution_count": 5,
   "id": "unnecessary-angel",
   "metadata": {},
   "outputs": [
    {
     "name": "stdout",
     "output_type": "stream",
     "text": [
      "Tell me your age? 30\n",
      "Welcome!\n"
     ]
    }
   ],
   "source": [
    "myage = int(input(\"Tell me your age? \"))\n",
    "if myage <= 30:\n",
    "    print(\"Welcome!\")\n",
    "else:\n",
    "    print(\"You're not accepted\")"
   ]
  },
  {
   "cell_type": "code",
   "execution_count": 7,
   "id": "acceptable-spain",
   "metadata": {},
   "outputs": [
    {
     "name": "stdout",
     "output_type": "stream",
     "text": [
      "True\n",
      "True\n"
     ]
    }
   ],
   "source": [
    "#비교연산자\n",
    "x = 100\n",
    "y = 100\n",
    "print(x == y)\n",
    "print(x is y)"
   ]
  },
  {
   "cell_type": "code",
   "execution_count": 14,
   "id": "middle-subject",
   "metadata": {},
   "outputs": [
    {
     "name": "stdout",
     "output_type": "stream",
     "text": [
      "True\n",
      "False\n"
     ]
    }
   ],
   "source": [
    "# 숫자형 데이터 타입은 일정 수치를 넘어가면 새로운 메모리 주소를 할당함\n",
    "# -5 ~ 255까지는 메모리 주소를 저장시켜놓음, 과거에 느린 속도를 개선하기 위한 메모리 주소 저장방식을 위한 개선\n",
    "x = 300\n",
    "y = 300\n",
    "print(x == y)\n",
    "print(x is y)"
   ]
  },
  {
   "cell_type": "markdown",
   "id": "offensive-thong",
   "metadata": {},
   "source": [
    "```is```연산자는 두 변수의 **메모리 주소를 비교**하여 같으면 True 다르면 False를 출력합니다.  \n",
    "```==```연산자는 두 변수의 값만 비교하여 같으면 True 다르면 False를 출력합니다."
   ]
  },
  {
   "cell_type": "markdown",
   "id": "blessed-liverpool",
   "metadata": {},
   "source": [
    "VSCode에서 Ctrl + Shift + P 눌러서 jupyter 를 검색하면 jupyter notebook을 사용할 수 있다. (단, 설치해야함)"
   ]
  },
  {
   "cell_type": "code",
   "execution_count": 16,
   "id": "final-haiti",
   "metadata": {},
   "outputs": [
    {
     "data": {
      "text/plain": [
       "True"
      ]
     },
     "execution_count": 16,
     "metadata": {},
     "output_type": "execute_result"
    }
   ],
   "source": [
    "a = True\n",
    "b = True\n",
    "a and b"
   ]
  },
  {
   "cell_type": "code",
   "execution_count": 18,
   "id": "veterinary-metropolitan",
   "metadata": {},
   "outputs": [
    {
     "data": {
      "text/plain": [
       "False"
      ]
     },
     "execution_count": 18,
     "metadata": {},
     "output_type": "execute_result"
    }
   ],
   "source": [
    "a = True\n",
    "b = False\n",
    "a and b"
   ]
  },
  {
   "cell_type": "code",
   "execution_count": 20,
   "id": "equipped-ancient",
   "metadata": {},
   "outputs": [
    {
     "data": {
      "text/plain": [
       "True"
      ]
     },
     "execution_count": 20,
     "metadata": {},
     "output_type": "execute_result"
    }
   ],
   "source": [
    "a = True\n",
    "b = True\n",
    "a or b"
   ]
  },
  {
   "cell_type": "code",
   "execution_count": 22,
   "id": "atmospheric-turkey",
   "metadata": {},
   "outputs": [
    {
     "data": {
      "text/plain": [
       "True"
      ]
     },
     "execution_count": 22,
     "metadata": {},
     "output_type": "execute_result"
    }
   ],
   "source": [
    "a = True\n",
    "b = False\n",
    "a or b"
   ]
  },
  {
   "cell_type": "code",
   "execution_count": 23,
   "id": "obvious-summit",
   "metadata": {},
   "outputs": [
    {
     "data": {
      "text/plain": [
       "False"
      ]
     },
     "execution_count": 23,
     "metadata": {},
     "output_type": "execute_result"
    }
   ],
   "source": [
    "boolean_list = [True, False, True, False, True]\n",
    "all(boolean_list) # argument가 iterable해야 하며 모든 요소가 True여야만 True를 반환"
   ]
  },
  {
   "cell_type": "code",
   "execution_count": 25,
   "id": "racial-savings",
   "metadata": {},
   "outputs": [
    {
     "data": {
      "text/plain": [
       "True"
      ]
     },
     "execution_count": 25,
     "metadata": {},
     "output_type": "execute_result"
    }
   ],
   "source": [
    "any(boolean_list) # 요소중에서 True가 하나라도 있으면 True 반환"
   ]
  },
  {
   "cell_type": "markdown",
   "id": "english-episode",
   "metadata": {},
   "source": [
    "삼항 연산자(Ternary operators)\n",
    "- 조건문을 사용하여 참일 경우와 거짓일 경우의 결과를 한줄에 표현"
   ]
  },
  {
   "cell_type": "code",
   "execution_count": 26,
   "id": "royal-router",
   "metadata": {},
   "outputs": [
    {
     "name": "stdout",
     "output_type": "stream",
     "text": [
      "True\n"
     ]
    }
   ],
   "source": [
    "value = 12\n",
    "is_even = True if value % 2 == 0 else False\n",
    "print(is_even)"
   ]
  },
  {
   "cell_type": "code",
   "execution_count": 4,
   "id": "robust-tulsa",
   "metadata": {
    "collapsed": true
   },
   "outputs": [
    {
     "ename": "KeyboardInterrupt",
     "evalue": "Interrupted by user",
     "output_type": "error",
     "traceback": [
      "\u001b[1;31m---------------------------------------------------------------------------\u001b[0m",
      "\u001b[1;31mKeyboardInterrupt\u001b[0m                         Traceback (most recent call last)",
      "\u001b[1;32m<ipython-input-4-f9a74e97382f>\u001b[0m in \u001b[0;36m<module>\u001b[1;34m\u001b[0m\n\u001b[0;32m      1\u001b[0m \u001b[1;31m# 태어난 연도를 계산하여 학교 종류를 맞추는 프로그램\u001b[0m\u001b[1;33m\u001b[0m\u001b[1;33m\u001b[0m\u001b[1;33m\u001b[0m\u001b[0m\n\u001b[1;32m----> 2\u001b[1;33m \u001b[0myear\u001b[0m \u001b[1;33m=\u001b[0m \u001b[0mint\u001b[0m\u001b[1;33m(\u001b[0m\u001b[0minput\u001b[0m\u001b[1;33m(\u001b[0m\u001b[1;34m\"당신이 태어난 년도를 입력하세요 \"\u001b[0m\u001b[1;33m)\u001b[0m\u001b[1;33m)\u001b[0m\u001b[1;33m\u001b[0m\u001b[1;33m\u001b[0m\u001b[0m\n\u001b[0m\u001b[0;32m      3\u001b[0m \u001b[0mold\u001b[0m \u001b[1;33m=\u001b[0m \u001b[1;36m2021\u001b[0m \u001b[1;33m-\u001b[0m \u001b[0myear\u001b[0m \u001b[1;33m+\u001b[0m \u001b[1;36m1\u001b[0m\u001b[1;33m\u001b[0m\u001b[1;33m\u001b[0m\u001b[0m\n\u001b[0;32m      4\u001b[0m \u001b[1;32mif\u001b[0m \u001b[0mold\u001b[0m \u001b[1;33m>=\u001b[0m \u001b[1;36m20\u001b[0m\u001b[1;33m:\u001b[0m\u001b[1;33m\u001b[0m\u001b[1;33m\u001b[0m\u001b[0m\n\u001b[0;32m      5\u001b[0m     \u001b[0mprint\u001b[0m\u001b[1;33m(\u001b[0m\u001b[1;34m\"대학생\"\u001b[0m\u001b[1;33m)\u001b[0m\u001b[1;33m\u001b[0m\u001b[1;33m\u001b[0m\u001b[0m\n",
      "\u001b[1;32m~\\Anaconda3\\lib\\site-packages\\ipykernel\\kernelbase.py\u001b[0m in \u001b[0;36mraw_input\u001b[1;34m(self, prompt)\u001b[0m\n\u001b[0;32m    861\u001b[0m             \u001b[0mself\u001b[0m\u001b[1;33m.\u001b[0m\u001b[0m_parent_ident\u001b[0m\u001b[1;33m,\u001b[0m\u001b[1;33m\u001b[0m\u001b[1;33m\u001b[0m\u001b[0m\n\u001b[0;32m    862\u001b[0m             \u001b[0mself\u001b[0m\u001b[1;33m.\u001b[0m\u001b[0m_parent_header\u001b[0m\u001b[1;33m,\u001b[0m\u001b[1;33m\u001b[0m\u001b[1;33m\u001b[0m\u001b[0m\n\u001b[1;32m--> 863\u001b[1;33m             \u001b[0mpassword\u001b[0m\u001b[1;33m=\u001b[0m\u001b[1;32mFalse\u001b[0m\u001b[1;33m,\u001b[0m\u001b[1;33m\u001b[0m\u001b[1;33m\u001b[0m\u001b[0m\n\u001b[0m\u001b[0;32m    864\u001b[0m         )\n\u001b[0;32m    865\u001b[0m \u001b[1;33m\u001b[0m\u001b[0m\n",
      "\u001b[1;32m~\\Anaconda3\\lib\\site-packages\\ipykernel\\kernelbase.py\u001b[0m in \u001b[0;36m_input_request\u001b[1;34m(self, prompt, ident, parent, password)\u001b[0m\n\u001b[0;32m    902\u001b[0m             \u001b[1;32mexcept\u001b[0m \u001b[0mKeyboardInterrupt\u001b[0m\u001b[1;33m:\u001b[0m\u001b[1;33m\u001b[0m\u001b[1;33m\u001b[0m\u001b[0m\n\u001b[0;32m    903\u001b[0m                 \u001b[1;31m# re-raise KeyboardInterrupt, to truncate traceback\u001b[0m\u001b[1;33m\u001b[0m\u001b[1;33m\u001b[0m\u001b[1;33m\u001b[0m\u001b[0m\n\u001b[1;32m--> 904\u001b[1;33m                 \u001b[1;32mraise\u001b[0m \u001b[0mKeyboardInterrupt\u001b[0m\u001b[1;33m(\u001b[0m\u001b[1;34m\"Interrupted by user\"\u001b[0m\u001b[1;33m)\u001b[0m \u001b[1;32mfrom\u001b[0m \u001b[1;32mNone\u001b[0m\u001b[1;33m\u001b[0m\u001b[1;33m\u001b[0m\u001b[0m\n\u001b[0m\u001b[0;32m    905\u001b[0m             \u001b[1;32mexcept\u001b[0m \u001b[0mException\u001b[0m \u001b[1;32mas\u001b[0m \u001b[0me\u001b[0m\u001b[1;33m:\u001b[0m\u001b[1;33m\u001b[0m\u001b[1;33m\u001b[0m\u001b[0m\n\u001b[0;32m    906\u001b[0m                 \u001b[0mself\u001b[0m\u001b[1;33m.\u001b[0m\u001b[0mlog\u001b[0m\u001b[1;33m.\u001b[0m\u001b[0mwarning\u001b[0m\u001b[1;33m(\u001b[0m\u001b[1;34m\"Invalid Message:\"\u001b[0m\u001b[1;33m,\u001b[0m \u001b[0mexc_info\u001b[0m\u001b[1;33m=\u001b[0m\u001b[1;32mTrue\u001b[0m\u001b[1;33m)\u001b[0m\u001b[1;33m\u001b[0m\u001b[1;33m\u001b[0m\u001b[0m\n",
      "\u001b[1;31mKeyboardInterrupt\u001b[0m: Interrupted by user"
     ]
    }
   ],
   "source": [
    "# 태어난 연도를 계산하여 학교 종류를 맞추는 프로그램\n",
    "year = int(input(\"당신이 태어난 년도를 입력하세요 \"))\n",
    "old = 2021 - year + 1\n",
    "if old >= 20:\n",
    "    print(\"대학생\")\n",
    "elif old >= 17:\n",
    "    print(\"고등학생\")\n",
    "elif old >= 14:\n",
    "    print(\"중학생\")\n",
    "elif old >= 8:\n",
    "    print(\"초등학생\")\n",
    "else:\n",
    "    print(\"학생이 아닙니다.\")"
   ]
  },
  {
   "cell_type": "code",
   "execution_count": 9,
   "id": "pressing-healing",
   "metadata": {},
   "outputs": [
    {
     "name": "stdout",
     "output_type": "stream",
     "text": [
      "값 비교 : True\n",
      "객체 비교 : False\n",
      "서로 다른 메모리 주소 (140726254342976, 1512372967488)\n"
     ]
    }
   ],
   "source": [
    "a = 1\n",
    "b = 1.0\n",
    "print(f\"값 비교 : {a == b}\")\n",
    "print(f\"객체 비교 : {a is b}\")\n",
    "print(f\"서로 다른 메모리 주소 {id(a), id(b)}\")"
   ]
  },
  {
   "cell_type": "markdown",
   "id": "tender-madison",
   "metadata": {},
   "source": [
    "### loop(반복문)"
   ]
  },
  {
   "cell_type": "markdown",
   "id": "agreed-warrior",
   "metadata": {},
   "source": [
    "정해진 동작을 반복적으로 수행하게 되는 명령문  \n",
    "반복문은 반복 시작 조건, 종료 조건, 수행 명령으로 구성됨  \n",
    "반복문 역시 반복 구문 들여쓰기와 block으로 구분됨  \n",
    "파이썬은 반복문으로 ```for```,```while```등의 명령 키워드를 사용함"
   ]
  },
  {
   "cell_type": "code",
   "execution_count": 37,
   "id": "recorded-dublin",
   "metadata": {},
   "outputs": [
    {
     "name": "stdout",
     "output_type": "stream",
     "text": [
      "0 : Hello\n",
      "1 : Hello\n",
      "2 : Hello\n",
      "3 : Hello\n",
      "4 : Hello\n"
     ]
    }
   ],
   "source": [
    "# range(시작값, 끝값)\n",
    "for loop in range(0,5): \n",
    "    print(f\"{loop} : Hello\")"
   ]
  },
  {
   "cell_type": "markdown",
   "id": "pacific-might",
   "metadata": {},
   "source": [
    "반복문 변수명\n",
    "- 임시적인 반복 변수는 대부분 i,j,k로 정함\n",
    "- 이것은 수학에서 변수를 x,y,z로 정하는 것과 유사한 관례\n",
    "\n",
    "0부터 시작하는 반복문\n",
    "- 반복문은 대부분 0부터 반복을 시작\n",
    "- 이것도 일종의 관례로 1부터 시작하는 언어도 존재\n",
    "- 2진수가 0부터 시작하기 떄문에 0부터 시작하는 걸 권장\n",
    "\n",
    "무한 loop\n",
    "- 반복 명령이 끝나지 않는 프로그램 오류\n",
    "- CPU와 메모리 등 컴퓨터의 리소스를 과다하게 점유"
   ]
  },
  {
   "cell_type": "code",
   "execution_count": 38,
   "id": "secondary-vegetable",
   "metadata": {},
   "outputs": [
    {
     "name": "stdout",
     "output_type": "stream",
     "text": [
      "a\n",
      "b\n",
      "c\n",
      "d\n",
      "e\n",
      "f\n",
      "g\n"
     ]
    }
   ],
   "source": [
    "for i in \"abcdefg\":\n",
    "    print(i)"
   ]
  },
  {
   "cell_type": "code",
   "execution_count": 39,
   "id": "informal-librarian",
   "metadata": {},
   "outputs": [
    {
     "name": "stdout",
     "output_type": "stream",
     "text": [
      "americano\n",
      "latte\n",
      "capuchino\n"
     ]
    }
   ],
   "source": [
    "for i in [\"americano\", \"latte\", \"capuchino\"]:\n",
    "    print(i)"
   ]
  },
  {
   "cell_type": "code",
   "execution_count": 41,
   "id": "verified-alabama",
   "metadata": {},
   "outputs": [
    {
     "name": "stdout",
     "output_type": "stream",
     "text": [
      "1\n",
      "3\n",
      "5\n",
      "7\n",
      "9\n"
     ]
    }
   ],
   "source": [
    "for i in range(1,10,2):\n",
    "    print(i)"
   ]
  },
  {
   "cell_type": "code",
   "execution_count": 44,
   "id": "polar-tolerance",
   "metadata": {},
   "outputs": [
    {
     "name": "stdout",
     "output_type": "stream",
     "text": [
      "10\n",
      "9\n",
      "8\n",
      "7\n",
      "6\n",
      "5\n",
      "4\n",
      "3\n",
      "2\n"
     ]
    }
   ],
   "source": [
    "for i in range(10,1,-1):\n",
    "    print(i)"
   ]
  },
  {
   "cell_type": "markdown",
   "id": "serious-majority",
   "metadata": {},
   "source": [
    "for문의 경우 반복 횟수가 정해진 경우에 사용하는 것이 좋음"
   ]
  },
  {
   "cell_type": "markdown",
   "id": "considerable-fleece",
   "metadata": {},
   "source": [
    "#### while"
   ]
  },
  {
   "cell_type": "markdown",
   "id": "union-dutch",
   "metadata": {},
   "source": [
    "조건이 만족하는 동안 반복 명령문을 수행  \n",
    "while문의 경우 반복 횟수가 정해지지 않은 경우에 사용하는 것이 좋음"
   ]
  },
  {
   "cell_type": "code",
   "execution_count": 46,
   "id": "alike-wilson",
   "metadata": {},
   "outputs": [
    {
     "name": "stdout",
     "output_type": "stream",
     "text": [
      "1 : Hello\n",
      "2 : Hello\n",
      "3 : Hello\n",
      "4 : Hello\n",
      "5 : Hello\n",
      "6 : Hello\n",
      "7 : Hello\n",
      "8 : Hello\n",
      "9 : Hello\n"
     ]
    }
   ],
   "source": [
    "i = 1\n",
    "while i < 10:\n",
    "    print(f\"{i} : Hello\")\n",
    "    i += 1"
   ]
  },
  {
   "cell_type": "markdown",
   "id": "caroline-placement",
   "metadata": {},
   "source": [
    "반복의 제어 - break, continue, pass"
   ]
  },
  {
   "cell_type": "code",
   "execution_count": 47,
   "id": "abandoned-implement",
   "metadata": {
    "scrolled": true
   },
   "outputs": [
    {
     "name": "stdout",
     "output_type": "stream",
     "text": [
      "0\n",
      "1\n",
      "2\n",
      "3\n",
      "4\n",
      "EOF\n"
     ]
    }
   ],
   "source": [
    "for i in range(10):\n",
    "    if i == 5:\n",
    "        break\n",
    "    print(i)\n",
    "print(\"EOF\")"
   ]
  },
  {
   "cell_type": "code",
   "execution_count": 49,
   "id": "forbidden-hamilton",
   "metadata": {
    "scrolled": true
   },
   "outputs": [
    {
     "name": "stdout",
     "output_type": "stream",
     "text": [
      "0\n",
      "1\n",
      "2\n",
      "3\n",
      "4\n",
      "6\n",
      "7\n",
      "8\n",
      "9\n",
      "EOF\n"
     ]
    }
   ],
   "source": [
    "for i in range(10):\n",
    "    if i == 5:\n",
    "        i = 0 # continue 위에 있는 블록은 스킵이 되므로 i = 0이 안됨\n",
    "        continue # 해당 부분을 건너뛰고 다음걸로 넘어감\n",
    "    print(i)\n",
    "print(\"EOF\")"
   ]
  },
  {
   "cell_type": "code",
   "execution_count": 3,
   "id": "enclosed-distribution",
   "metadata": {},
   "outputs": [
    {
     "name": "stdout",
     "output_type": "stream",
     "text": [
      "0\n",
      "1\n",
      "2\n",
      "3\n",
      "4\n",
      "0\n",
      "6\n",
      "7\n",
      "8\n",
      "9\n",
      "EOF\n"
     ]
    }
   ],
   "source": [
    "for i in range(10):\n",
    "    if i == 5:\n",
    "        i = 0 # pass 위에 있는 블록은 그대로 실행되므로 i = 0이 됨\n",
    "        pass # 해당 부분을 건너뛰지 않고 실행 후 다음걸로 넘어감\n",
    "    print(i)\n",
    "print(\"EOF\")"
   ]
  },
  {
   "cell_type": "code",
   "execution_count": 53,
   "id": "declared-fruit",
   "metadata": {},
   "outputs": [
    {
     "name": "stdout",
     "output_type": "stream",
     "text": [
      "구구단 몇단을 계산할까요? 5\n",
      "구구단 5단을 시작합니다.\n",
      "5 X 1 = 5\n",
      "5 X 2 = 10\n",
      "5 X 3 = 15\n",
      "5 X 4 = 20\n",
      "5 X 5 = 25\n",
      "5 X 6 = 30\n",
      "5 X 7 = 35\n",
      "5 X 8 = 40\n",
      "5 X 9 = 45\n"
     ]
    }
   ],
   "source": [
    "# 구구단 계산기\n",
    "x = int(input(\"구구단 몇단을 계산할까요? \"))\n",
    "print(f\"구구단 {x}단을 시작합니다.\")\n",
    "for i in range(1,10):\n",
    "    print(f\"{x} X {i} = {5*i}\")"
   ]
  },
  {
   "cell_type": "code",
   "execution_count": 57,
   "id": "martial-license",
   "metadata": {},
   "outputs": [
    {
     "name": "stdout",
     "output_type": "stream",
     "text": [
      "REVERSE #1 : \n",
      "REVERSE #2 : I\n",
      "\n",
      "\n",
      "REVERSE #1 : I\n",
      "REVERSE #2 :  I\n",
      "\n",
      "\n",
      "REVERSE #1 :  I\n",
      "REVERSE #2 : l I\n",
      "\n",
      "\n",
      "REVERSE #1 : l I\n",
      "REVERSE #2 : ol I\n",
      "\n",
      "\n",
      "REVERSE #1 : ol I\n",
      "REVERSE #2 : vol I\n",
      "\n",
      "\n",
      "REVERSE #1 : vol I\n",
      "REVERSE #2 : evol I\n",
      "\n",
      "\n",
      "REVERSE #1 : evol I\n",
      "REVERSE #2 :  evol I\n",
      "\n",
      "\n",
      "REVERSE #1 :  evol I\n",
      "REVERSE #2 : y evol I\n",
      "\n",
      "\n",
      "REVERSE #1 : y evol I\n",
      "REVERSE #2 : oy evol I\n",
      "\n",
      "\n",
      "REVERSE #1 : oy evol I\n",
      "REVERSE #2 : uoy evol I\n",
      "\n",
      "\n",
      "uoy evol I\n"
     ]
    }
   ],
   "source": [
    "# 문자열 반대로 출력\n",
    "sentence = \"I love you\"\n",
    "reverse_sentence = \"\"\n",
    "for char in sentence:\n",
    "    # loop review 프린트문을 통하여 명령문 수행전과 후를 비교\n",
    "    print(f\"REVERSE #1 : {reverse_sentence}\")\n",
    "    reverse_sentence = char + reverse_sentence\n",
    "    print(f\"REVERSE #2 : {reverse_sentence}\")\n",
    "    print(\"\\n\")\n",
    "print(reverse_sentence)"
   ]
  },
  {
   "cell_type": "code",
   "execution_count": 58,
   "id": "unique-leonard",
   "metadata": {},
   "outputs": [
    {
     "name": "stdout",
     "output_type": "stream",
     "text": [
      "1010\n"
     ]
    }
   ],
   "source": [
    "# 이진수 계산\n",
    "decimal = 10\n",
    "result = \"\"\n",
    "while decimal > 0:\n",
    "    remainder = decimal % 2\n",
    "    decimal //= 2\n",
    "    result = str(remainder) + result\n",
    "print(result)"
   ]
  },
  {
   "cell_type": "code",
   "execution_count": 61,
   "id": "associate-concentration",
   "metadata": {},
   "outputs": [
    {
     "name": "stdout",
     "output_type": "stream",
     "text": [
      "input decimal number : 10\n",
      "---------------- 0 ----------------\n",
      "Initial decimal: 10 , Remainder: 0 , Initial_result: \n",
      "Output decimal: 5 Output result: 0\n",
      "----------------------------------------\n",
      "---------------- 1 ----------------\n",
      "Initial decimal: 5 , Remainder: 1 , Initial_result: 0\n",
      "Output decimal: 2 Output result: 10\n",
      "----------------------------------------\n",
      "---------------- 2 ----------------\n",
      "Initial decimal: 2 , Remainder: 0 , Initial_result: 10\n",
      "Output decimal: 1 Output result: 010\n",
      "----------------------------------------\n",
      "---------------- 3 ----------------\n",
      "Initial decimal: 1 , Remainder: 1 , Initial_result: 010\n",
      "Output decimal: 0 Output result: 1010\n",
      "----------------------------------------\n",
      "Binary number is 1010\n"
     ]
    }
   ],
   "source": [
    "# Debugging Loop : loop의 처리 결과들을 매번 확인하여 코드를 이해함\n",
    "decimal = int(input(\"input decimal number : \"))\n",
    "result = \"\"\n",
    "loop_counter = 0\n",
    "while decimal > 0:\n",
    "    temp_decimal = decimal\n",
    "    temp_result_input = result\n",
    "    \n",
    "    remainder = decimal % 2\n",
    "    decimal = decimal // 2\n",
    "    result = str(remainder) + result\n",
    "    \n",
    "    print(\"----------------\",loop_counter,\"----------------\")\n",
    "    print(\"Initial decimal:\", temp_decimal,\n",
    "         \", Remainder:\", remainder,\n",
    "         \", Initial_result:\", temp_result_input)\n",
    "    print(\"Output decimal:\", decimal,\n",
    "         \"Output result:\", result)\n",
    "    print(\"----------------------------------------\")\n",
    "    loop_counter += 1\n",
    "print(\"Binary number is\", result)"
   ]
  },
  {
   "cell_type": "markdown",
   "id": "instant-cooper",
   "metadata": {},
   "source": [
    "#### loop & control lab"
   ]
  },
  {
   "cell_type": "markdown",
   "id": "fatal-portuguese",
   "metadata": {},
   "source": [
    "실제 프로그램에서는 반복문은 사용자의 입력에 따라 가변적으로 반복되고 하나의 반복이 아닌 중복되어 반복이 일어남"
   ]
  },
  {
   "cell_type": "code",
   "execution_count": 74,
   "id": "complex-savage",
   "metadata": {},
   "outputs": [
    {
     "name": "stdout",
     "output_type": "stream",
     "text": [
      "숫자를 맞춰보세요(1~100)\n",
      "1\n",
      "숫자가 너무 작습니다.\n",
      "100\n",
      "숫자가 너무 큽니다.\n",
      "50\n",
      "숫자가 너무 작습니다.\n",
      "60\n",
      "숫자가 너무 작습니다.\n",
      "70\n",
      "숫자가 너무 작습니다.\n",
      "80\n",
      "숫자가 너무 큽니다.\n",
      "75\n",
      "숫자가 너무 큽니다.\n",
      "74\n",
      "숫자가 너무 큽니다.\n",
      "73\n",
      "정답입니다. 입력한 숫자는 73 입니다.\n"
     ]
    }
   ],
   "source": [
    "import random\n",
    "print(\"숫자를 맞춰보세요(1~100)\")\n",
    "y = random.randrange(1,101)\n",
    "while True:\n",
    "    x = int(input())\n",
    "    if x > y:\n",
    "        print(\"숫자가 너무 큽니다.\")\n",
    "    elif x < y:\n",
    "        print(\"숫자가 너무 작습니다.\")\n",
    "    else:\n",
    "        print(f\"정답입니다. 입력한 숫자는 {x} 입니다.\")\n",
    "        break"
   ]
  },
  {
   "cell_type": "markdown",
   "id": "regulated-gather",
   "metadata": {},
   "source": [
    "### debugging(오류 핸들링)"
   ]
  },
  {
   "cell_type": "markdown",
   "id": "modern-burden",
   "metadata": {},
   "source": [
    "코드의 오류를 발견하여 수정하는 과정  \n",
    "오류의 원인을 알고 해결책을 찾아야함  \n",
    "문법적 에러를 찾기 위한 에러 메시지 분석\n",
    "- 들려쓰기 에러(Indentation Error) : 들여쓰기를 통하여 코드와 코드블록을 나누는데 문제가 생김\n",
    "- 오탈자(NameError) : Not defined error\n",
    "- 대소문자 구분 : Not defined error\n",
    "- 에러가 발생하면 인터프리터가 에러를 알려줌\n",
    "\n",
    "논리적 에러를 찾기 위한 테스트도 중요  \n",
    "- 논리적 에러는 뜻대로 실행이 안되는 코드\n",
    "- 중간 중간 프린터 문을 찍어서 확인(loop review, debugging loop)"
   ]
  },
  {
   "cell_type": "markdown",
   "id": "normal-germany",
   "metadata": {},
   "source": [
    "```import```를 하게되면 불러온 패키지는 메모리에 올라오게 되어서 실행(연산)이 가능해짐  \n",
    "```import random```을 하게 되면 random이라는 패키지의 함수들이 메모리에 저장되어 원할 때 바로 불러와서 사용이 가능해짐"
   ]
  },
  {
   "cell_type": "markdown",
   "id": "prescribed-doubt",
   "metadata": {},
   "source": [
    ".py 파일에 마지막에 if __name__ == \"__main__\": 을 적을 경우 해당 파일을 호출하는 순간 가장 먼저 실행하게 되는 함수임."
   ]
  }
 ],
 "metadata": {
  "kernelspec": {
   "display_name": "Python 3",
   "language": "python",
   "name": "python3"
  },
  "language_info": {
   "codemirror_mode": {
    "name": "ipython",
    "version": 3
   },
   "file_extension": ".py",
   "mimetype": "text/x-python",
   "name": "python",
   "nbconvert_exporter": "python",
   "pygments_lexer": "ipython3",
   "version": "3.7.3"
  }
 },
 "nbformat": 4,
 "nbformat_minor": 5
}
