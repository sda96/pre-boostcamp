{
 "cells": [
  {
   "cell_type": "markdown",
   "id": "temporal-style",
   "metadata": {},
   "source": [
    "### Pythonic Code(파이썬 스타일 코드)"
   ]
  },
  {
   "cell_type": "markdown",
   "id": "native-recognition",
   "metadata": {},
   "source": [
    "- 파이썬 특유의 문법을 활용하여 효율적으로 코드를 표현함\n",
    "- 그러나 더 이상 파이썬 특유는 아니며, 많은 언어들이 서로의 장점을 채용\n",
    "- 고급 코드를 작성 할 수록 더 많이 필요해짐"
   ]
  },
  {
   "cell_type": "code",
   "execution_count": 3,
   "id": "gorgeous-dollar",
   "metadata": {},
   "outputs": [],
   "source": [
    "# 나쁜 예시\n",
    "colors = [\"red\", \"blue\", \"green\", \"yellow\"]\n",
    "result = \"\"\n",
    "for i in colors:\n",
    "    result += i\n",
    "\n",
    "# for, loop문을 사용하지 않고, 한 줄로 표현한 코드 (좋은 예시)\n",
    "colors = [\"red\", \"blue\", \"green\", \"yellow\"]\n",
    "result = \"\".join(colors)"
   ]
  },
  {
   "cell_type": "markdown",
   "id": "talented-swedish",
   "metadata": {},
   "source": [
    "파이썬 특유의 함수들"
   ]
  },
  {
   "cell_type": "markdown",
   "id": "yellow-basic",
   "metadata": {},
   "source": [
    "1. split & join\n",
    "2. list comprehension\n",
    "3. enumerate  & zip\n",
    "4. lambda & map & reduce\n",
    "5. generator\n",
    "6. asterisk"
   ]
  },
  {
   "cell_type": "markdown",
   "id": "stone-sympathy",
   "metadata": {},
   "source": [
    "파이쏘닉 코드를 사용하는 이유?"
   ]
  },
  {
   "cell_type": "markdown",
   "id": "damaged-folder",
   "metadata": {},
   "source": [
    "- 남 코드에 대한 이해도를 높여줌(많은 개발자들이 python 스타일로 코딩함)\n",
    "- 효율성이 좋음(단순 for loop append보다 list가 조금 더 빠르다)\n",
    "- 간지???"
   ]
  },
  {
   "cell_type": "markdown",
   "id": "interracial-saying",
   "metadata": {},
   "source": [
    "#### 1. split & join"
   ]
  },
  {
   "cell_type": "markdown",
   "id": "virgin-projector",
   "metadata": {},
   "source": [
    "- ```split```함수는 string type의 값을 \"기준값\"으로 나눠서 List 형태로 변환\n",
    "- ```join```함수는 List 형태의 객체를 하나의 string type의 값으로 합침"
   ]
  },
  {
   "cell_type": "code",
   "execution_count": 5,
   "id": "corporate-cornwall",
   "metadata": {},
   "outputs": [
    {
     "name": "stdout",
     "output_type": "stream",
     "text": [
      "['zero', 'one', 'two', 'three']\n"
     ]
    }
   ],
   "source": [
    "items = \"zero one two three\".split()\n",
    "print(items)"
   ]
  },
  {
   "cell_type": "code",
   "execution_count": 6,
   "id": "indoor-twenty",
   "metadata": {},
   "outputs": [
    {
     "name": "stdout",
     "output_type": "stream",
     "text": [
      "zero*one*two*three\n"
     ]
    }
   ],
   "source": [
    "print(\"*\".join(items))"
   ]
  },
  {
   "cell_type": "markdown",
   "id": "medieval-stretch",
   "metadata": {},
   "source": [
    "#### 2. List comprehension"
   ]
  },
  {
   "cell_type": "markdown",
   "id": "residential-advantage",
   "metadata": {},
   "source": [
    "- 기존 list를 사용하여 간단히 다른 list를 만드느 기법\n",
    "- 포괄적인 List, 포함되는 리스트라는 의미로 사용됨\n",
    "- 파이썬에서 가장 많이 사용되는 기법 중 하나\n",
    "- 일반적으로 for + append 보다 속도가 빠름"
   ]
  },
  {
   "cell_type": "code",
   "execution_count": 8,
   "id": "portuguese-florist",
   "metadata": {},
   "outputs": [
    {
     "name": "stdout",
     "output_type": "stream",
     "text": [
      "[0, 1, 2, 3, 4, 5, 6, 7, 8, 9]\n"
     ]
    }
   ],
   "source": [
    "result = [i for i in range(10)]\n",
    "print(result)"
   ]
  },
  {
   "cell_type": "code",
   "execution_count": 12,
   "id": "unlike-battle",
   "metadata": {},
   "outputs": [
    {
     "name": "stdout",
     "output_type": "stream",
     "text": [
      "[0, 2, 4, 6, 8]\n"
     ]
    }
   ],
   "source": [
    "result = [i for i in range(10) if i % 2 == 0]\n",
    "print(result)"
   ]
  },
  {
   "cell_type": "code",
   "execution_count": 15,
   "id": "virtual-kingston",
   "metadata": {},
   "outputs": [
    {
     "name": "stdout",
     "output_type": "stream",
     "text": [
      "['hb', 'hy', 'he', 'eb', 'ey', 'ee', 'lb', 'ly', 'le', 'lb', 'ly', 'le', 'ob', 'oy', 'oe']\n"
     ]
    }
   ],
   "source": [
    "word1 = \"hello\"\n",
    "word2 = \"bye\"\n",
    "result = [i+j for i in word1 for j in word2]\n",
    "print(result)"
   ]
  },
  {
   "cell_type": "code",
   "execution_count": 18,
   "id": "heated-florence",
   "metadata": {},
   "outputs": [
    {
     "name": "stdout",
     "output_type": "stream",
     "text": [
      "['hb', 'hy', 'he', 'eb', 'ey', 'lb', 'ly', 'le', 'lb', 'ly', 'le', 'ob', 'oy', 'oe']\n"
     ]
    }
   ],
   "source": [
    "result = [i+j for i in word1 for j in word2 if not(i==j)] # filter인 if문\n",
    "print(result)"
   ]
  },
  {
   "cell_type": "code",
   "execution_count": 23,
   "id": "unauthorized-exchange",
   "metadata": {},
   "outputs": [
    {
     "name": "stdout",
     "output_type": "stream",
     "text": [
      "['hb',\n",
      " 'hy',\n",
      " 'he',\n",
      " 'eb',\n",
      " 'ey',\n",
      " 'wodw',\n",
      " 'lb',\n",
      " 'ly',\n",
      " 'le',\n",
      " 'lb',\n",
      " 'ly',\n",
      " 'le',\n",
      " 'ob',\n",
      " 'oy',\n",
      " 'oe']\n"
     ]
    }
   ],
   "source": [
    "import pprint\n",
    "result = [i+j if not(i==j) else \"wodw\" for i in word1 for j in word2] # filter인 if문\n",
    "pprint.pprint(result)"
   ]
  },
  {
   "cell_type": "code",
   "execution_count": 26,
   "id": "labeled-cutting",
   "metadata": {},
   "outputs": [
    {
     "name": "stdout",
     "output_type": "stream",
     "text": [
      "[['THE', 'the', 3],\n",
      " ['QUICK', 'quick', 5],\n",
      " ['BROWN', 'brown', 5],\n",
      " ['FOX', 'fox', 3],\n",
      " ['JUMPS', 'jumps', 5],\n",
      " ['OVER', 'over', 4],\n",
      " ['THE', 'the', 3],\n",
      " ['LAZY', 'lazy', 4],\n",
      " ['DOG', 'dog', 3]]\n"
     ]
    }
   ],
   "source": [
    "# 모든 알파벳이 들어간 문장\n",
    "words = \"The quick brown fox jumps over the lazy dog\".split()\n",
    "# two dimensional\n",
    "stuff = [[w.upper(), w.lower(), len(w)] for w in words]\n",
    "pprint.pprint(stuff)"
   ]
  },
  {
   "cell_type": "code",
   "execution_count": 27,
   "id": "harmful-return",
   "metadata": {},
   "outputs": [
    {
     "name": "stdout",
     "output_type": "stream",
     "text": [
      "[['AF', 'CF', 'BF'], ['AG', 'CG', 'BG'], ['AH', 'CH', 'BH']]\n"
     ]
    }
   ],
   "source": [
    "case1 = [\"A\", \"C\", \"B\"]\n",
    "case2 = [\"F\", \"G\", \"H\"]\n",
    "result = [[i+j for i in case1] for j in case2] # []밖의 for문이 먼저 돌아감\n",
    "pprint.pprint(result)"
   ]
  },
  {
   "cell_type": "markdown",
   "id": "existing-valve",
   "metadata": {},
   "source": [
    "#### 3. enumerate  & zip"
   ]
  },
  {
   "cell_type": "markdown",
   "id": "indoor-transcription",
   "metadata": {},
   "source": [
    "- enumerate(열거하다) : list의 element(값, 원소)를 추출하 때 번호를 붙여서 추출"
   ]
  },
  {
   "cell_type": "code",
   "execution_count": 30,
   "id": "tamil-psychology",
   "metadata": {},
   "outputs": [
    {
     "name": "stdout",
     "output_type": "stream",
     "text": [
      "0 one\n",
      "1 two\n",
      "2 three\n"
     ]
    }
   ],
   "source": [
    "for i, v in enumerate([\"one\", \"two\", \"three\"]):\n",
    "    print(i, v)"
   ]
  },
  {
   "cell_type": "code",
   "execution_count": 32,
   "id": "lasting-inspection",
   "metadata": {},
   "outputs": [
    {
     "data": {
      "text/plain": [
       "{'A': 0, 'B': 1, 'C': 2, 'D': 3}"
      ]
     },
     "execution_count": 32,
     "metadata": {},
     "output_type": "execute_result"
    }
   ],
   "source": [
    "my_str = \"ABCD\"\n",
    "{v : i for i,v in enumerate(my_str)}"
   ]
  },
  {
   "cell_type": "markdown",
   "id": "unavailable-excitement",
   "metadata": {},
   "source": [
    "- zip : 두 개의 list의 값을 병렬적으로 추출함"
   ]
  },
  {
   "cell_type": "code",
   "execution_count": 35,
   "id": "formed-radical",
   "metadata": {},
   "outputs": [
    {
     "name": "stdout",
     "output_type": "stream",
     "text": [
      "a1 b1\n",
      "a2 b2\n",
      "a3 b3\n"
     ]
    }
   ],
   "source": [
    "# 같은 위치의 값끼리 묶어서 출력함\n",
    "alist = [\"a1\", \"a2\", \"a3\"]\n",
    "blist = [\"b1\", \"b2\", \"b3\"]\n",
    "for a, b in zip(alist, blist):\n",
    "    print(a, b)"
   ]
  },
  {
   "cell_type": "code",
   "execution_count": 39,
   "id": "banned-finance",
   "metadata": {},
   "outputs": [
    {
     "name": "stdout",
     "output_type": "stream",
     "text": [
      "0 ('a1', 'b1')\n",
      "1 ('a2', 'b2')\n",
      "2 ('a3', 'b3')\n"
     ]
    }
   ],
   "source": [
    "for ind,c in enumerate(zip(alist, blist)): # tuple로 묶어줌\n",
    "    print(ind, c) "
   ]
  },
  {
   "cell_type": "markdown",
   "id": "objective-species",
   "metadata": {},
   "source": [
    "#### 4. lambda & map & reduce"
   ]
  },
  {
   "cell_type": "markdown",
   "id": "statutory-supplier",
   "metadata": {},
   "source": [
    "#### lambda"
   ]
  },
  {
   "cell_type": "markdown",
   "id": "affected-geography",
   "metadata": {},
   "source": [
    "- 함수 이름 없이, 함수처럼 쓸 수 있는 익명함수\n",
    "- 수학의 람다 대수에서 유래함"
   ]
  },
  {
   "cell_type": "code",
   "execution_count": 42,
   "id": "small-tunisia",
   "metadata": {},
   "outputs": [
    {
     "name": "stdout",
     "output_type": "stream",
     "text": [
      "5\n"
     ]
    }
   ],
   "source": [
    "f = lambda x,y: x + y # return 값\n",
    "print(f(1, 4))"
   ]
  },
  {
   "cell_type": "code",
   "execution_count": 43,
   "id": "cleared-wrong",
   "metadata": {},
   "outputs": [
    {
     "data": {
      "text/plain": [
       "50"
      ]
     },
     "execution_count": 43,
     "metadata": {},
     "output_type": "execute_result"
    }
   ],
   "source": [
    "(lambda x,y: x * y)(5, 10)"
   ]
  },
  {
   "cell_type": "markdown",
   "id": "cheap-anthropology",
   "metadata": {},
   "source": [
    "- 파이썬 3부터는 권장하지 않으나 여전히 많이 쓰임\n",
    "- PEP 8에서는 lambda의 사용을 권장하지 않음"
   ]
  },
  {
   "cell_type": "markdown",
   "id": "utility-phrase",
   "metadata": {},
   "source": [
    "lambda의 문제점\n"
   ]
  },
  {
   "cell_type": "markdown",
   "id": "appreciated-confidentiality",
   "metadata": {},
   "source": [
    "- 어려운 문법\n",
    "- 테스트의 어려움\n",
    "- 문서화 docstring 지원 미비\n",
    "- 새로운 사용자가 사용하기에는 코드 해석의 어려움 발생\n",
    "- 이름이 존재하지 않는 함수의 출현"
   ]
  },
  {
   "cell_type": "markdown",
   "id": "assigned-resistance",
   "metadata": {},
   "source": [
    "#### map"
   ]
  },
  {
   "cell_type": "markdown",
   "id": "blond-librarian",
   "metadata": {},
   "source": [
    "- 두 개 이상의 list에도 함수를 적용, if filter도 사용 가능"
   ]
  },
  {
   "cell_type": "code",
   "execution_count": 44,
   "id": "expensive-fusion",
   "metadata": {},
   "outputs": [
    {
     "data": {
      "text/plain": [
       "[1, 4, 9, 16, 25]"
      ]
     },
     "execution_count": 44,
     "metadata": {},
     "output_type": "execute_result"
    }
   ],
   "source": [
    "ex = [1,2,3,4,5]\n",
    "f = lambda x: x**2\n",
    "list(map(f, ex))"
   ]
  },
  {
   "cell_type": "code",
   "execution_count": 45,
   "id": "interstate-saturn",
   "metadata": {},
   "outputs": [
    {
     "data": {
      "text/plain": [
       "[2, 4, 6, 8, 10]"
      ]
     },
     "execution_count": 45,
     "metadata": {},
     "output_type": "execute_result"
    }
   ],
   "source": [
    "f = lambda x, y : x + y\n",
    "list(map(f, ex, ex))"
   ]
  },
  {
   "cell_type": "code",
   "execution_count": 46,
   "id": "stable-hammer",
   "metadata": {},
   "outputs": [
    {
     "data": {
      "text/plain": [
       "[1, 4, 3, 16, 5]"
      ]
     },
     "execution_count": 46,
     "metadata": {},
     "output_type": "execute_result"
    }
   ],
   "source": [
    "list(map(lambda x: x ** 2 if x % 2 == 0 else x, ex))"
   ]
  },
  {
   "cell_type": "markdown",
   "id": "extraordinary-halifax",
   "metadata": {},
   "source": [
    "- python3는 iteration을 생성되므로 list()를 붙여줘야 사용하기 편함\n",
    "- 실행시점의 값을 생성, 메모리 효율적"
   ]
  },
  {
   "cell_type": "markdown",
   "id": "sexual-cleaners",
   "metadata": {},
   "source": [
    "최근에는 map 함수를 사용하는건 권장하지 않음  \n",
    "왜나하면 코드의 복잡성을 높이게됨  \n",
    "차라리 list comprehension을 이용해라"
   ]
  },
  {
   "cell_type": "code",
   "execution_count": 47,
   "id": "dynamic-fault",
   "metadata": {},
   "outputs": [
    {
     "data": {
      "text/plain": [
       "[1, 4, 3, 16, 5]"
      ]
     },
     "execution_count": 47,
     "metadata": {},
     "output_type": "execute_result"
    }
   ],
   "source": [
    "[i**2 if i%2 == 0 else i for i in ex]"
   ]
  },
  {
   "cell_type": "markdown",
   "id": "governmental-webcam",
   "metadata": {},
   "source": [
    "#### reduce"
   ]
  },
  {
   "cell_type": "markdown",
   "id": "serious-projection",
   "metadata": {},
   "source": [
    "- map function과 달리 list의 원소에 똑같은 함수를 적용해서 통합"
   ]
  },
  {
   "cell_type": "code",
   "execution_count": 49,
   "id": "third-fraction",
   "metadata": {},
   "outputs": [
    {
     "data": {
      "text/plain": [
       "15"
      ]
     },
     "execution_count": 49,
     "metadata": {},
     "output_type": "execute_result"
    }
   ],
   "source": [
    "from functools import reduce\n",
    "reduce(lambda x, y: x + y, [1, 2, 3, 4, 5])"
   ]
  },
  {
   "cell_type": "markdown",
   "id": "accomplished-ireland",
   "metadata": {},
   "source": [
    "요약"
   ]
  },
  {
   "cell_type": "markdown",
   "id": "micro-raise",
   "metadata": {},
   "source": [
    "- lambda, map, reduce는 간단한 코드로 다양한 기능을 제공\n",
    "- 그러나 코드의 직관성이 떨어져서 lambda나 reduce는 python3에서 사용을 권장하지 않음\n",
    "- Legacy library나 다양한 머신러닝 코드에서 보일 수 있음"
   ]
  },
  {
   "cell_type": "markdown",
   "id": "tough-passenger",
   "metadata": {},
   "source": [
    "#### 5. generator, iterable object"
   ]
  },
  {
   "cell_type": "markdown",
   "id": "duplicate-blackjack",
   "metadata": {},
   "source": [
    "#### iterable object"
   ]
  },
  {
   "cell_type": "markdown",
   "id": "former-sculpture",
   "metadata": {},
   "source": [
    "- 시퀀스(Sequnce)형 자료형(list, str)에서 데이터를 순서대로 추출하는 object\n",
    "- iterable object의 특징은 내부적으로 ```iter```와 ```next```라는 메소드가 구현되어 있음\n",
    "- ```iter```와 ```next```함수로 iterable 객체를 iterator object로 사용"
   ]
  },
  {
   "cell_type": "code",
   "execution_count": 2,
   "id": "forward-cheese",
   "metadata": {},
   "outputs": [
    {
     "name": "stdout",
     "output_type": "stream",
     "text": [
      "0 1 2 "
     ]
    }
   ],
   "source": [
    "class Counter:\n",
    "    def __init__(self, stop):\n",
    "        self.current = 0    # 현재 숫자 유지, 0부터 지정된 숫자 직전까지 반복\n",
    "        self.stop = stop    # 반복을 끝낼 숫자\n",
    " \n",
    "    def __iter__(self):\n",
    "        return self         # 현재 인스턴스를 반환\n",
    " \n",
    "    def __next__(self):\n",
    "        if self.current < self.stop:    # 현재 숫자가 반복을 끝낼 숫자보다 작을 때\n",
    "            r = self.current            # 반환할 숫자를 변수에 저장\n",
    "            self.current += 1           # 현재 숫자를 1 증가시킴\n",
    "            return r                    # 숫자를 반환\n",
    "        else:                           # 현재 숫자가 반복을 끝낼 숫자보다 크거나 같을 때\n",
    "            raise StopIteration         # 예외 발생\n",
    " \n",
    "for i in Counter(3):\n",
    "    print(i, end=' ')"
   ]
  },
  {
   "cell_type": "markdown",
   "id": "headed-bachelor",
   "metadata": {},
   "source": [
    "iterable 객체로 만들면 메모리 순서에 대한 정보만 가지고 있으며 next함수를 사용을 해야 메모리에 저장이 되어짐(== 값이 생성되어짐)."
   ]
  },
  {
   "cell_type": "code",
   "execution_count": 53,
   "id": "orange-intellectual",
   "metadata": {},
   "outputs": [
    {
     "name": "stdout",
     "output_type": "stream",
     "text": [
      "Seoul\n",
      "Busan\n",
      "Jeju\n"
     ]
    },
    {
     "ename": "StopIteration",
     "evalue": "",
     "output_type": "error",
     "traceback": [
      "\u001b[1;31m---------------------------------------------------------------------------\u001b[0m",
      "\u001b[1;31mStopIteration\u001b[0m                             Traceback (most recent call last)",
      "\u001b[1;32m<ipython-input-53-1f7057ddccbb>\u001b[0m in \u001b[0;36m<module>\u001b[1;34m\u001b[0m\n\u001b[0;32m      4\u001b[0m \u001b[0mprint\u001b[0m\u001b[1;33m(\u001b[0m\u001b[0mnext\u001b[0m\u001b[1;33m(\u001b[0m\u001b[0mmemory_address\u001b[0m\u001b[1;33m)\u001b[0m\u001b[1;33m)\u001b[0m\u001b[1;33m\u001b[0m\u001b[1;33m\u001b[0m\u001b[0m\n\u001b[0;32m      5\u001b[0m \u001b[0mprint\u001b[0m\u001b[1;33m(\u001b[0m\u001b[0mnext\u001b[0m\u001b[1;33m(\u001b[0m\u001b[0mmemory_address\u001b[0m\u001b[1;33m)\u001b[0m\u001b[1;33m)\u001b[0m\u001b[1;33m\u001b[0m\u001b[1;33m\u001b[0m\u001b[0m\n\u001b[1;32m----> 6\u001b[1;33m \u001b[0mprint\u001b[0m\u001b[1;33m(\u001b[0m\u001b[0mnext\u001b[0m\u001b[1;33m(\u001b[0m\u001b[0mmemory_address\u001b[0m\u001b[1;33m)\u001b[0m\u001b[1;33m)\u001b[0m\u001b[1;33m\u001b[0m\u001b[1;33m\u001b[0m\u001b[0m\n\u001b[0m",
      "\u001b[1;31mStopIteration\u001b[0m: "
     ]
    }
   ],
   "source": [
    "cities = [\"Seoul\", \"Busan\", \"Jeju\"]\n",
    "memory_address = iter(cities) # iterable 객체로 변환\n",
    "print(next(memory_address))\n",
    "print(next(memory_address))\n",
    "print(next(memory_address))\n",
    "print(next(memory_address))"
   ]
  },
  {
   "cell_type": "markdown",
   "id": "divine-analyst",
   "metadata": {},
   "source": [
    "<img src=\"https://imgur.com/bsqbRmt.jpg\">"
   ]
  },
  {
   "cell_type": "markdown",
   "id": "radio-country",
   "metadata": {},
   "source": [
    "```next```함수로 순서에 맞는 값을 불러오면 이와 함께 다음 순서의 메모리 주소를 가져옴"
   ]
  },
  {
   "cell_type": "markdown",
   "id": "indoor-fence",
   "metadata": {},
   "source": [
    "**getitem** 메서드를 활용하여 인덱스를 사용해 접근 가능한 이터레이터를 만들 수 있습니다."
   ]
  },
  {
   "cell_type": "code",
   "execution_count": 1,
   "id": "forty-wheel",
   "metadata": {},
   "outputs": [
    {
     "name": "stdout",
     "output_type": "stream",
     "text": [
      "0 1 2\n",
      "0 1 2 "
     ]
    }
   ],
   "source": [
    "class Counter:\n",
    "    def __init__(self, stop):\n",
    "        self.stop = stop\n",
    " \n",
    "    def __getitem__(self, index):\n",
    "        if index < self.stop:\n",
    "            return index\n",
    "        else:\n",
    "            raise IndexError\n",
    " \n",
    "print(Counter(3)[0], Counter(3)[1], Counter(3)[2])\n",
    " \n",
    "for i in Counter(3):\n",
    "    print(i, end=' ')"
   ]
  },
  {
   "cell_type": "markdown",
   "id": "selected-torture",
   "metadata": {},
   "source": [
    "#### generator"
   ]
  },
  {
   "cell_type": "markdown",
   "id": "smart-yemen",
   "metadata": {},
   "source": [
    "플러스 참고 자료 : [파이썬 코딩 도장](https://dojang.io/mod/page/view.php?id=2412)"
   ]
  },
  {
   "cell_type": "markdown",
   "id": "potential-india",
   "metadata": {},
   "source": [
    "- 제너레이터(generator)는 이터레이터(iterator)를 생성해주는 함수입니다\n",
    "- Iterable object를 특수한 형태로 사용해주는 함수\n",
    "- element(원소, 값)가 사용되는 시점에 값을 메모리에 반환\n",
    "- yield를 사용해 한번에 하나의 element만 반환함"
   ]
  },
  {
   "cell_type": "code",
   "execution_count": 11,
   "id": "listed-worth",
   "metadata": {},
   "outputs": [
    {
     "name": "stdout",
     "output_type": "stream",
     "text": [
      "[0, 1, 2, 3, 4, 5, 6, 7, 8, 9]\n",
      "\n",
      "\n",
      "해당 리스트가 차지하는 메모리 크기(공간) : 528\n"
     ]
    }
   ],
   "source": [
    "import sys\n",
    "\n",
    "# 기존 예시\n",
    "def general_list(value):\n",
    "    result = []\n",
    "    for i in range(value):\n",
    "        result += [i]\n",
    "    return result\n",
    "\n",
    "# 0 ~ 9까지의 값을 가지고 있음\n",
    "print(general_list(10))\n",
    "print(\"\\n\")\n",
    "print(f\"해당 리스트가 차지하는 메모리 크기(공간) : {sys.getsizeof(general_list(50))}\") # 528byte"
   ]
  },
  {
   "cell_type": "code",
   "execution_count": 15,
   "id": "amazing-status",
   "metadata": {},
   "outputs": [
    {
     "name": "stdout",
     "output_type": "stream",
     "text": [
      "해당 리스트가 차지하는 메모리 크기(공간) : 120\n"
     ]
    }
   ],
   "source": [
    "# generator를 이용한 예시\n",
    "def generator_list(value):\n",
    "    result = []\n",
    "    for i in range(value):\n",
    "        yield i # 메모리 주소만 가지고 있다가 함수가 사용(호출)되면 값을 반환\n",
    "\n",
    "# 메모리 사이즈를 효율적으로 사용할 수 있음\n",
    "print(f\"해당 리스트가 차지하는 메모리 크기(공간) : {sys.getsizeof(generator_list(50))}\") # 120byte"
   ]
  },
  {
   "cell_type": "markdown",
   "id": "spatial-mauritius",
   "metadata": {},
   "source": [
    "제네레이터 객체에서 __iter__, __next__ 메소드를 찾아 볼 수 있으므로 제네레이터 객체는 이터레이터 입니다."
   ]
  },
  {
   "cell_type": "code",
   "execution_count": 21,
   "id": "billion-fence",
   "metadata": {},
   "outputs": [
    {
     "data": {
      "text/plain": [
       "['__class__',\n",
       " '__del__',\n",
       " '__delattr__',\n",
       " '__dir__',\n",
       " '__doc__',\n",
       " '__eq__',\n",
       " '__format__',\n",
       " '__ge__',\n",
       " '__getattribute__',\n",
       " '__gt__',\n",
       " '__hash__',\n",
       " '__init__',\n",
       " '__init_subclass__',\n",
       " '__iter__',\n",
       " '__le__',\n",
       " '__lt__',\n",
       " '__name__',\n",
       " '__ne__',\n",
       " '__new__',\n",
       " '__next__',\n",
       " '__qualname__',\n",
       " '__reduce__',\n",
       " '__reduce_ex__',\n",
       " '__repr__',\n",
       " '__setattr__',\n",
       " '__sizeof__',\n",
       " '__str__',\n",
       " '__subclasshook__',\n",
       " 'close',\n",
       " 'gi_code',\n",
       " 'gi_frame',\n",
       " 'gi_running',\n",
       " 'gi_yieldfrom',\n",
       " 'send',\n",
       " 'throw']"
      ]
     },
     "execution_count": 21,
     "metadata": {},
     "output_type": "execute_result"
    }
   ],
   "source": [
    "ex = generator_list(20)\n",
    "dir(ex)"
   ]
  },
  {
   "cell_type": "code",
   "execution_count": 16,
   "id": "veterinary-bridges",
   "metadata": {
    "scrolled": true
   },
   "outputs": [
    {
     "name": "stdout",
     "output_type": "stream",
     "text": [
      "0 1 2 3 4 5 6 7 8 9 10 11 12 13 14 15 16 17 18 19 20 21 22 23 24 25 26 27 28 29 30 31 32 33 34 35 36 37 38 39 40 41 42 43 44 45 46 47 48 49 "
     ]
    }
   ],
   "source": [
    "# 아래와 같이 generator를 호출하게 되면 값이 불러와짐\n",
    "for i in generator_list(50):\n",
    "    print(i, end = \" \")"
   ]
  },
  {
   "cell_type": "code",
   "execution_count": 17,
   "id": "rolled-costa",
   "metadata": {},
   "outputs": [
    {
     "data": {
      "text/plain": [
       "[0,\n",
       " 1,\n",
       " 2,\n",
       " 3,\n",
       " 4,\n",
       " 5,\n",
       " 6,\n",
       " 7,\n",
       " 8,\n",
       " 9,\n",
       " 10,\n",
       " 11,\n",
       " 12,\n",
       " 13,\n",
       " 14,\n",
       " 15,\n",
       " 16,\n",
       " 17,\n",
       " 18,\n",
       " 19,\n",
       " 20,\n",
       " 21,\n",
       " 22,\n",
       " 23,\n",
       " 24,\n",
       " 25,\n",
       " 26,\n",
       " 27,\n",
       " 28,\n",
       " 29,\n",
       " 30,\n",
       " 31,\n",
       " 32,\n",
       " 33,\n",
       " 34,\n",
       " 35,\n",
       " 36,\n",
       " 37,\n",
       " 38,\n",
       " 39,\n",
       " 40,\n",
       " 41,\n",
       " 42,\n",
       " 43,\n",
       " 44,\n",
       " 45,\n",
       " 46,\n",
       " 47,\n",
       " 48,\n",
       " 49]"
      ]
     },
     "execution_count": 17,
     "metadata": {},
     "output_type": "execute_result"
    }
   ],
   "source": [
    "list(generator_list(50))"
   ]
  },
  {
   "cell_type": "markdown",
   "id": "vital-chamber",
   "metadata": {},
   "source": [
    "대용량의 데이터를 불러오는 경우 generator함수를 쓰는것이 권장된다."
   ]
  },
  {
   "cell_type": "markdown",
   "id": "duplicate-survey",
   "metadata": {},
   "source": [
    "#### generator comprehension"
   ]
  },
  {
   "cell_type": "markdown",
   "id": "oriented-graham",
   "metadata": {},
   "source": [
    "- list comprehension과 유사한 형태로 generator 형태의 list 생성\n",
    "- generator expression 이라는 이름으로도 부름\n",
    "- [] 대신 ()를 사용하여 표현\n",
    "- yield from을 사용하여 한정된 시퀀스 자료형의 원소를 불러올 수 있음"
   ]
  },
  {
   "cell_type": "code",
   "execution_count": 72,
   "id": "native-evolution",
   "metadata": {},
   "outputs": [
    {
     "name": "stdout",
     "output_type": "stream",
     "text": [
      "<class 'generator'>\n"
     ]
    }
   ],
   "source": [
    "gen_ex = (n*n for n in range(500))\n",
    "print(type(gen_ex))"
   ]
  },
  {
   "cell_type": "code",
   "execution_count": 73,
   "id": "considerable-honey",
   "metadata": {
    "scrolled": true
   },
   "outputs": [
    {
     "data": {
      "text/plain": [
       "[0,\n",
       " 1,\n",
       " 4,\n",
       " 9,\n",
       " 16,\n",
       " 25,\n",
       " 36,\n",
       " 49,\n",
       " 64,\n",
       " 81,\n",
       " 100,\n",
       " 121,\n",
       " 144,\n",
       " 169,\n",
       " 196,\n",
       " 225,\n",
       " 256,\n",
       " 289,\n",
       " 324,\n",
       " 361,\n",
       " 400,\n",
       " 441,\n",
       " 484,\n",
       " 529,\n",
       " 576,\n",
       " 625,\n",
       " 676,\n",
       " 729,\n",
       " 784,\n",
       " 841,\n",
       " 900,\n",
       " 961,\n",
       " 1024,\n",
       " 1089,\n",
       " 1156,\n",
       " 1225,\n",
       " 1296,\n",
       " 1369,\n",
       " 1444,\n",
       " 1521,\n",
       " 1600,\n",
       " 1681,\n",
       " 1764,\n",
       " 1849,\n",
       " 1936,\n",
       " 2025,\n",
       " 2116,\n",
       " 2209,\n",
       " 2304,\n",
       " 2401,\n",
       " 2500,\n",
       " 2601,\n",
       " 2704,\n",
       " 2809,\n",
       " 2916,\n",
       " 3025,\n",
       " 3136,\n",
       " 3249,\n",
       " 3364,\n",
       " 3481,\n",
       " 3600,\n",
       " 3721,\n",
       " 3844,\n",
       " 3969,\n",
       " 4096,\n",
       " 4225,\n",
       " 4356,\n",
       " 4489,\n",
       " 4624,\n",
       " 4761,\n",
       " 4900,\n",
       " 5041,\n",
       " 5184,\n",
       " 5329,\n",
       " 5476,\n",
       " 5625,\n",
       " 5776,\n",
       " 5929,\n",
       " 6084,\n",
       " 6241,\n",
       " 6400,\n",
       " 6561,\n",
       " 6724,\n",
       " 6889,\n",
       " 7056,\n",
       " 7225,\n",
       " 7396,\n",
       " 7569,\n",
       " 7744,\n",
       " 7921,\n",
       " 8100,\n",
       " 8281,\n",
       " 8464,\n",
       " 8649,\n",
       " 8836,\n",
       " 9025,\n",
       " 9216,\n",
       " 9409,\n",
       " 9604,\n",
       " 9801,\n",
       " 10000,\n",
       " 10201,\n",
       " 10404,\n",
       " 10609,\n",
       " 10816,\n",
       " 11025,\n",
       " 11236,\n",
       " 11449,\n",
       " 11664,\n",
       " 11881,\n",
       " 12100,\n",
       " 12321,\n",
       " 12544,\n",
       " 12769,\n",
       " 12996,\n",
       " 13225,\n",
       " 13456,\n",
       " 13689,\n",
       " 13924,\n",
       " 14161,\n",
       " 14400,\n",
       " 14641,\n",
       " 14884,\n",
       " 15129,\n",
       " 15376,\n",
       " 15625,\n",
       " 15876,\n",
       " 16129,\n",
       " 16384,\n",
       " 16641,\n",
       " 16900,\n",
       " 17161,\n",
       " 17424,\n",
       " 17689,\n",
       " 17956,\n",
       " 18225,\n",
       " 18496,\n",
       " 18769,\n",
       " 19044,\n",
       " 19321,\n",
       " 19600,\n",
       " 19881,\n",
       " 20164,\n",
       " 20449,\n",
       " 20736,\n",
       " 21025,\n",
       " 21316,\n",
       " 21609,\n",
       " 21904,\n",
       " 22201,\n",
       " 22500,\n",
       " 22801,\n",
       " 23104,\n",
       " 23409,\n",
       " 23716,\n",
       " 24025,\n",
       " 24336,\n",
       " 24649,\n",
       " 24964,\n",
       " 25281,\n",
       " 25600,\n",
       " 25921,\n",
       " 26244,\n",
       " 26569,\n",
       " 26896,\n",
       " 27225,\n",
       " 27556,\n",
       " 27889,\n",
       " 28224,\n",
       " 28561,\n",
       " 28900,\n",
       " 29241,\n",
       " 29584,\n",
       " 29929,\n",
       " 30276,\n",
       " 30625,\n",
       " 30976,\n",
       " 31329,\n",
       " 31684,\n",
       " 32041,\n",
       " 32400,\n",
       " 32761,\n",
       " 33124,\n",
       " 33489,\n",
       " 33856,\n",
       " 34225,\n",
       " 34596,\n",
       " 34969,\n",
       " 35344,\n",
       " 35721,\n",
       " 36100,\n",
       " 36481,\n",
       " 36864,\n",
       " 37249,\n",
       " 37636,\n",
       " 38025,\n",
       " 38416,\n",
       " 38809,\n",
       " 39204,\n",
       " 39601,\n",
       " 40000,\n",
       " 40401,\n",
       " 40804,\n",
       " 41209,\n",
       " 41616,\n",
       " 42025,\n",
       " 42436,\n",
       " 42849,\n",
       " 43264,\n",
       " 43681,\n",
       " 44100,\n",
       " 44521,\n",
       " 44944,\n",
       " 45369,\n",
       " 45796,\n",
       " 46225,\n",
       " 46656,\n",
       " 47089,\n",
       " 47524,\n",
       " 47961,\n",
       " 48400,\n",
       " 48841,\n",
       " 49284,\n",
       " 49729,\n",
       " 50176,\n",
       " 50625,\n",
       " 51076,\n",
       " 51529,\n",
       " 51984,\n",
       " 52441,\n",
       " 52900,\n",
       " 53361,\n",
       " 53824,\n",
       " 54289,\n",
       " 54756,\n",
       " 55225,\n",
       " 55696,\n",
       " 56169,\n",
       " 56644,\n",
       " 57121,\n",
       " 57600,\n",
       " 58081,\n",
       " 58564,\n",
       " 59049,\n",
       " 59536,\n",
       " 60025,\n",
       " 60516,\n",
       " 61009,\n",
       " 61504,\n",
       " 62001,\n",
       " 62500,\n",
       " 63001,\n",
       " 63504,\n",
       " 64009,\n",
       " 64516,\n",
       " 65025,\n",
       " 65536,\n",
       " 66049,\n",
       " 66564,\n",
       " 67081,\n",
       " 67600,\n",
       " 68121,\n",
       " 68644,\n",
       " 69169,\n",
       " 69696,\n",
       " 70225,\n",
       " 70756,\n",
       " 71289,\n",
       " 71824,\n",
       " 72361,\n",
       " 72900,\n",
       " 73441,\n",
       " 73984,\n",
       " 74529,\n",
       " 75076,\n",
       " 75625,\n",
       " 76176,\n",
       " 76729,\n",
       " 77284,\n",
       " 77841,\n",
       " 78400,\n",
       " 78961,\n",
       " 79524,\n",
       " 80089,\n",
       " 80656,\n",
       " 81225,\n",
       " 81796,\n",
       " 82369,\n",
       " 82944,\n",
       " 83521,\n",
       " 84100,\n",
       " 84681,\n",
       " 85264,\n",
       " 85849,\n",
       " 86436,\n",
       " 87025,\n",
       " 87616,\n",
       " 88209,\n",
       " 88804,\n",
       " 89401,\n",
       " 90000,\n",
       " 90601,\n",
       " 91204,\n",
       " 91809,\n",
       " 92416,\n",
       " 93025,\n",
       " 93636,\n",
       " 94249,\n",
       " 94864,\n",
       " 95481,\n",
       " 96100,\n",
       " 96721,\n",
       " 97344,\n",
       " 97969,\n",
       " 98596,\n",
       " 99225,\n",
       " 99856,\n",
       " 100489,\n",
       " 101124,\n",
       " 101761,\n",
       " 102400,\n",
       " 103041,\n",
       " 103684,\n",
       " 104329,\n",
       " 104976,\n",
       " 105625,\n",
       " 106276,\n",
       " 106929,\n",
       " 107584,\n",
       " 108241,\n",
       " 108900,\n",
       " 109561,\n",
       " 110224,\n",
       " 110889,\n",
       " 111556,\n",
       " 112225,\n",
       " 112896,\n",
       " 113569,\n",
       " 114244,\n",
       " 114921,\n",
       " 115600,\n",
       " 116281,\n",
       " 116964,\n",
       " 117649,\n",
       " 118336,\n",
       " 119025,\n",
       " 119716,\n",
       " 120409,\n",
       " 121104,\n",
       " 121801,\n",
       " 122500,\n",
       " 123201,\n",
       " 123904,\n",
       " 124609,\n",
       " 125316,\n",
       " 126025,\n",
       " 126736,\n",
       " 127449,\n",
       " 128164,\n",
       " 128881,\n",
       " 129600,\n",
       " 130321,\n",
       " 131044,\n",
       " 131769,\n",
       " 132496,\n",
       " 133225,\n",
       " 133956,\n",
       " 134689,\n",
       " 135424,\n",
       " 136161,\n",
       " 136900,\n",
       " 137641,\n",
       " 138384,\n",
       " 139129,\n",
       " 139876,\n",
       " 140625,\n",
       " 141376,\n",
       " 142129,\n",
       " 142884,\n",
       " 143641,\n",
       " 144400,\n",
       " 145161,\n",
       " 145924,\n",
       " 146689,\n",
       " 147456,\n",
       " 148225,\n",
       " 148996,\n",
       " 149769,\n",
       " 150544,\n",
       " 151321,\n",
       " 152100,\n",
       " 152881,\n",
       " 153664,\n",
       " 154449,\n",
       " 155236,\n",
       " 156025,\n",
       " 156816,\n",
       " 157609,\n",
       " 158404,\n",
       " 159201,\n",
       " 160000,\n",
       " 160801,\n",
       " 161604,\n",
       " 162409,\n",
       " 163216,\n",
       " 164025,\n",
       " 164836,\n",
       " 165649,\n",
       " 166464,\n",
       " 167281,\n",
       " 168100,\n",
       " 168921,\n",
       " 169744,\n",
       " 170569,\n",
       " 171396,\n",
       " 172225,\n",
       " 173056,\n",
       " 173889,\n",
       " 174724,\n",
       " 175561,\n",
       " 176400,\n",
       " 177241,\n",
       " 178084,\n",
       " 178929,\n",
       " 179776,\n",
       " 180625,\n",
       " 181476,\n",
       " 182329,\n",
       " 183184,\n",
       " 184041,\n",
       " 184900,\n",
       " 185761,\n",
       " 186624,\n",
       " 187489,\n",
       " 188356,\n",
       " 189225,\n",
       " 190096,\n",
       " 190969,\n",
       " 191844,\n",
       " 192721,\n",
       " 193600,\n",
       " 194481,\n",
       " 195364,\n",
       " 196249,\n",
       " 197136,\n",
       " 198025,\n",
       " 198916,\n",
       " 199809,\n",
       " 200704,\n",
       " 201601,\n",
       " 202500,\n",
       " 203401,\n",
       " 204304,\n",
       " 205209,\n",
       " 206116,\n",
       " 207025,\n",
       " 207936,\n",
       " 208849,\n",
       " 209764,\n",
       " 210681,\n",
       " 211600,\n",
       " 212521,\n",
       " 213444,\n",
       " 214369,\n",
       " 215296,\n",
       " 216225,\n",
       " 217156,\n",
       " 218089,\n",
       " 219024,\n",
       " 219961,\n",
       " 220900,\n",
       " 221841,\n",
       " 222784,\n",
       " 223729,\n",
       " 224676,\n",
       " 225625,\n",
       " 226576,\n",
       " 227529,\n",
       " 228484,\n",
       " 229441,\n",
       " 230400,\n",
       " 231361,\n",
       " 232324,\n",
       " 233289,\n",
       " 234256,\n",
       " 235225,\n",
       " 236196,\n",
       " 237169,\n",
       " 238144,\n",
       " 239121,\n",
       " 240100,\n",
       " 241081,\n",
       " 242064,\n",
       " 243049,\n",
       " 244036,\n",
       " 245025,\n",
       " 246016,\n",
       " 247009,\n",
       " 248004,\n",
       " 249001]"
      ]
     },
     "execution_count": 73,
     "metadata": {},
     "output_type": "execute_result"
    }
   ],
   "source": [
    "list(gen_ex)"
   ]
  },
  {
   "cell_type": "markdown",
   "id": "creative-politics",
   "metadata": {},
   "source": [
    "메모리를 아껴야하는 경우가 생기면 generator를 사용해줘라"
   ]
  },
  {
   "cell_type": "code",
   "execution_count": 74,
   "id": "linear-zealand",
   "metadata": {},
   "outputs": [
    {
     "name": "stdout",
     "output_type": "stream",
     "text": [
      "120\n",
      "4576\n",
      "4272\n"
     ]
    }
   ],
   "source": [
    "gen_ex = (n*n for n in range(500))\n",
    "print(sys.getsizeof(gen_ex))\n",
    "print(sys.getsizeof(list(gen_ex)))\n",
    "list_ex = [n*n for n in range(500)]\n",
    "print(sys.getsizeof(list_ex))"
   ]
  },
  {
   "cell_type": "markdown",
   "id": "white-discount",
   "metadata": {},
   "source": [
    "기존에는 한정된 리스트의 원소를 하나씩 yield에 넣으려면 반복문을 사용해야 했습니다."
   ]
  },
  {
   "cell_type": "code",
   "execution_count": null,
   "id": "collectible-november",
   "metadata": {},
   "outputs": [],
   "source": [
    "def number_generator():\n",
    "    x = [1, 2, 3]\n",
    "    for i in x:\n",
    "        yield i\n",
    "        \n",
    "for i in number_generator():\n",
    "    print(i)"
   ]
  },
  {
   "cell_type": "markdown",
   "id": "organic-learning",
   "metadata": {},
   "source": [
    "하지만 yield from을 사용하면 x라는 한정된 리스트 객체에 있는 요소(원소, 값)들을 한꺼번에 yield에 저장할 수 있습니다.  \n",
    "yield에 저장하게 되면 제네레이터가 되어 해당 이터레이터 객체를 호출시 next 메소드가 작동하게 됩니다."
   ]
  },
  {
   "cell_type": "code",
   "execution_count": 22,
   "id": "sized-emission",
   "metadata": {},
   "outputs": [
    {
     "name": "stdout",
     "output_type": "stream",
     "text": [
      "1\n",
      "2\n",
      "3\n"
     ]
    }
   ],
   "source": [
    "def number_generator():\n",
    "    x = [1, 2, 3]\n",
    "    yield from x    # 리스트에 들어있는 요소를 한 개씩 바깥으로 전달\n",
    "\n",
    "    \n",
    "for i in number_generator():\n",
    "    print(i)"
   ]
  },
  {
   "cell_type": "markdown",
   "id": "perceived-intranet",
   "metadata": {},
   "source": [
    "generator를 사용하면 필요한 값의 메모리 주소만을 가져와서 필요한 순간에만 값을 가져오게 되어서 과도한 메모리의 사용을 줄일 수 있게 되며, 메모리를 좀 더 효율적으로 사용할 수 있게 됨"
   ]
  },
  {
   "cell_type": "markdown",
   "id": "otherwise-parish",
   "metadata": {},
   "source": [
    "list 타입의 데이터를 반환해주느 함수는 generator 로 만들어라!\n",
    "- 읽기 쉬운 장점, 중간 과정에서 loop가 중단될 수 있을 때 사용\n",
    "\n",
    "큰 데이터를 처리할 때는 generator expression을 고려하라!\n",
    "- 데이터가 커도 처리의 어려움이 없음\n",
    "\n",
    "파일 데이터를 처리할 떄도 generator를 쓰자"
   ]
  },
  {
   "cell_type": "markdown",
   "id": "unavailable-vault",
   "metadata": {},
   "source": [
    "#### 6. asterisk"
   ]
  },
  {
   "cell_type": "markdown",
   "id": "forward-conservative",
   "metadata": {},
   "source": [
    "#### function passin arguments"
   ]
  },
  {
   "cell_type": "markdown",
   "id": "prime-folder",
   "metadata": {},
   "source": [
    "함수에 입력되는 arguments의 다양한 형태\n",
    "1. Keyword arguments\n",
    "2. Default arguments\n",
    "3. Variable - length asterisk"
   ]
  },
  {
   "cell_type": "markdown",
   "id": "olympic-accordance",
   "metadata": {},
   "source": [
    "#### Keyword arguments"
   ]
  },
  {
   "cell_type": "markdown",
   "id": "looking-armstrong",
   "metadata": {},
   "source": [
    "- 함수에 입력되는 parameter의 변수명을 사용, arguments를 넘김"
   ]
  },
  {
   "cell_type": "code",
   "execution_count": 75,
   "id": "collective-disposition",
   "metadata": {},
   "outputs": [
    {
     "name": "stdout",
     "output_type": "stream",
     "text": [
      "jim bob\n"
     ]
    }
   ],
   "source": [
    "def print_something(my_name, your_name):\n",
    "    print(my_name, your_name)\n",
    "\n",
    "print_something(your_name=\"bob\", my_name=\"jim\")"
   ]
  },
  {
   "cell_type": "markdown",
   "id": "sized-syracuse",
   "metadata": {},
   "source": [
    "#### Default arguments"
   ]
  },
  {
   "cell_type": "markdown",
   "id": "animated-pottery",
   "metadata": {},
   "source": [
    "- parameter의 기본 값을 사용하여, 입력하지 않을 경우 기본값 출력"
   ]
  },
  {
   "cell_type": "code",
   "execution_count": 77,
   "id": "piano-dinner",
   "metadata": {},
   "outputs": [
    {
     "name": "stdout",
     "output_type": "stream",
     "text": [
      "jim default\n"
     ]
    }
   ],
   "source": [
    "def print_something(my_name, your_name=\"default\"):\n",
    "    print(my_name, your_name)\n",
    "\n",
    "print_something(\"jim\")"
   ]
  },
  {
   "cell_type": "markdown",
   "id": "impressed-cattle",
   "metadata": {},
   "source": [
    "#### Variable - length(가변인자) asterisk"
   ]
  },
  {
   "cell_type": "markdown",
   "id": "thousand-second",
   "metadata": {},
   "source": [
    "함수의 parameter가 정해지지 않은 경우!  \n",
    "가변 인자 사용!"
   ]
  },
  {
   "cell_type": "markdown",
   "id": "functioning-danger",
   "metadata": {},
   "source": [
    "- 개수가 정해지지 않은 변수르 함수의 parameter로 사용하는 법\n",
    "- Keyword arguments와 함께, arguments 추가가 가능\n",
    "- Asterisk(*) 기호를 사용하여 함수의 parameter를 표시함\n",
    "- 입력된 값은 tuple type으로 사용할 수 있음\n",
    "- 가변인자는 오직 한개만 맨 마지막 parameter 위치에 사용가능"
   ]
  },
  {
   "cell_type": "code",
   "execution_count": 79,
   "id": "super-bulletin",
   "metadata": {},
   "outputs": [
    {
     "name": "stdout",
     "output_type": "stream",
     "text": [
      "<class 'tuple'>\n",
      "55\n"
     ]
    }
   ],
   "source": [
    "# 가변인자는 일반적으로 *args를 변수명으로 사용\n",
    "# 기존 parameter 이후에 나오는 값을 tuple로 저장함\n",
    "def asterisk_test(a, b, *args):\n",
    "    print(type(args))\n",
    "    return a+b+sum(args)\n",
    "\n",
    "print(asterisk_test(1,2,3,4,5,6,7,8,9,10))"
   ]
  },
  {
   "cell_type": "markdown",
   "id": "stylish-second",
   "metadata": {},
   "source": [
    "#### Keyword variable-length(키워드 가변인자)"
   ]
  },
  {
   "cell_type": "markdown",
   "id": "cordless-timber",
   "metadata": {},
   "source": [
    "- Parameter 이름을 따로 지정하지 않고 입력하는 방법\n",
    "- asterist(*) 두개를 사용하여 함수의 parameter를 표시함\n",
    "- 입력된 값은 dict type으로 사용할 수 있음\n",
    "- 가변인자는 오직 한개만 기존 가변인자 다음에 사용"
   ]
  },
  {
   "cell_type": "code",
   "execution_count": 89,
   "id": "fifteen-entity",
   "metadata": {},
   "outputs": [
    {
     "name": "stdout",
     "output_type": "stream",
     "text": [
      "{'first': 3, 'second': 4, 'third': 5, 'c': 10, 'd': 20}\n",
      "<class 'dict'>\n"
     ]
    }
   ],
   "source": [
    "def kwargs_test(**kwargs):\n",
    "    print(kwargs)\n",
    "    print(type(kwargs))\n",
    "kwargs_test(first=3, second=4, third=5, c=10, d=20)"
   ]
  },
  {
   "cell_type": "code",
   "execution_count": 99,
   "id": "processed-saturday",
   "metadata": {},
   "outputs": [
    {
     "name": "stdout",
     "output_type": "stream",
     "text": [
      "339\n",
      "300\n",
      "(3, 5, 6, 7, 8)\n",
      "{'first': 3, 'second': 4, 'third': 5}\n"
     ]
    }
   ],
   "source": [
    "# 일반 인자, 키워드 인자, 가변인자, 키워드 가변인자\n",
    "def kwargs_test(one, two = 200, *args, **kwargs):\n",
    "    print(one+two+sum(args))\n",
    "    print(two)\n",
    "    print(args)\n",
    "    print(kwargs)\n",
    "# 키워드가 아닌건 앞에서, 키워드인거는 뒤에서\n",
    "kwargs_test(10, 300, 3,5,6,7,8, first=3, second=4, third=5)"
   ]
  },
  {
   "cell_type": "markdown",
   "id": "handed-injury",
   "metadata": {},
   "source": [
    "#### asterisk - unpacking a container"
   ]
  },
  {
   "cell_type": "markdown",
   "id": "skilled-skirt",
   "metadata": {},
   "source": [
    "- 흔히 알고 있는 *을 의미함\n",
    "- 단순 곱셈, 제곱연산, 가변 인자, 키워드 가변 인자 활용 등 다양하게 사용됨\n",
    "- tuple, dict등 자료형에 들어가 있는 값을 unpacking\n",
    "- 함수의 입력값, zip등에 유용하게 사용가능"
   ]
  },
  {
   "cell_type": "code",
   "execution_count": 103,
   "id": "broadband-advertising",
   "metadata": {},
   "outputs": [
    {
     "name": "stdout",
     "output_type": "stream",
     "text": [
      "1 (2, 3, 4, 5, 6)\n",
      "1 2 3 4 5 6\n",
      "<class 'tuple'>\n"
     ]
    }
   ],
   "source": [
    "def asterisk_test(a, *args):\n",
    "    print(a, args)\n",
    "    print(a, *args)\n",
    "    print(type(args))\n",
    "\n",
    "asterisk_test(1, *(2,3,4,5,6))"
   ]
  },
  {
   "cell_type": "code",
   "execution_count": 105,
   "id": "rapid-iraqi",
   "metadata": {
    "scrolled": true
   },
   "outputs": [
    {
     "name": "stdout",
     "output_type": "stream",
     "text": [
      "1 ((2, 3, 4, 5, 6),)\n",
      "1 (2, 3, 4, 5, 6)\n",
      "<class 'tuple'>\n"
     ]
    }
   ],
   "source": [
    "def asterisk_test(a, *args):\n",
    "    print(a, args)\n",
    "    print(a, *args)\n",
    "    print(type(args))\n",
    "\n",
    "asterisk_test(1, (2,3,4,5,6))"
   ]
  },
  {
   "cell_type": "code",
   "execution_count": 107,
   "id": "offensive-theta",
   "metadata": {},
   "outputs": [
    {
     "name": "stdout",
     "output_type": "stream",
     "text": [
      "1 2 3 4\n"
     ]
    }
   ],
   "source": [
    "print(*[\"1\",\"2\",\"3\",\"4\"]) # unpacking 변수 4개"
   ]
  },
  {
   "cell_type": "code",
   "execution_count": 109,
   "id": "composite-touch",
   "metadata": {},
   "outputs": [
    {
     "name": "stdout",
     "output_type": "stream",
     "text": [
      "['1', '2', '3', '4']\n"
     ]
    }
   ],
   "source": [
    "print([\"1\",\"2\",\"3\",\"4\"]) # 변수 1개"
   ]
  },
  {
   "cell_type": "code",
   "execution_count": 111,
   "id": "speaking-fusion",
   "metadata": {},
   "outputs": [
    {
     "name": "stdout",
     "output_type": "stream",
     "text": [
      "[1, 2] [3, 4] [5, 6]\n",
      "[1, 2] [3, 4] [5, 6]\n"
     ]
    }
   ],
   "source": [
    "# 서로 같은 형태임\n",
    "a, b, c = ([1,2], [3,4], [5,6])\n",
    "print(a,b,c)\n",
    "data =([1,2], [3,4], [5,6])\n",
    "print(*data) # unpacking"
   ]
  },
  {
   "cell_type": "code",
   "execution_count": 113,
   "id": "continued-childhood",
   "metadata": {},
   "outputs": [
    {
     "name": "stdout",
     "output_type": "stream",
     "text": [
      "10 1 2 3\n"
     ]
    }
   ],
   "source": [
    "def asterisk_test(a, b, c, d):\n",
    "    print(a, b, c, d)\n",
    "data = {\"b\":1, \"c\":2, \"d\":3}\n",
    "asterisk_test(10, **data) # b=1, c=2, d=3으로 keyword unpacking이 되어짐"
   ]
  },
  {
   "cell_type": "code",
   "execution_count": 117,
   "id": "little-feelings",
   "metadata": {},
   "outputs": [
    {
     "name": "stdout",
     "output_type": "stream",
     "text": [
      "([1, 2],)\n",
      "([3, 4],)\n",
      "([5, 6],)\n",
      "([7, 8],)\n"
     ]
    }
   ],
   "source": [
    "ex = ([1,2], [3,4], [5,6], [7,8]) # tuple로 묶인 1개의 값\n",
    "for value in zip(ex):\n",
    "    print(value)"
   ]
  },
  {
   "cell_type": "code",
   "execution_count": 118,
   "id": "described-thanks",
   "metadata": {},
   "outputs": [
    {
     "name": "stdout",
     "output_type": "stream",
     "text": [
      "(1, 3, 5, 7)\n",
      "(2, 4, 6, 8)\n"
     ]
    }
   ],
   "source": [
    "for value in zip(*ex): # *를 치면 unpacking되면서 4개의 값이 나옴\n",
    "    print(value)"
   ]
  },
  {
   "cell_type": "markdown",
   "id": "transsexual-subscriber",
   "metadata": {},
   "source": [
    "#### 7. [coroutine(코루틴)](https://dojang.io/mod/page/view.php?id=2418)"
   ]
  },
  {
   "cell_type": "code",
   "execution_count": 23,
   "id": "oriented-israel",
   "metadata": {},
   "outputs": [
    {
     "name": "stdout",
     "output_type": "stream",
     "text": [
      "3\n",
      "add 함수\n",
      "calc 함수\n"
     ]
    }
   ],
   "source": [
    "def add(a, b):\n",
    "    c = a + b    # add 함수가 끝나면 변수와 계산식은 사라짐\n",
    "    print(c)\n",
    "    print('add 함수')\n",
    "\n",
    "def calc():\n",
    "    add(1, 2)    # add 함수가 끝나면 다시 calc 함수로 돌아옴\n",
    "    print('calc 함수')\n",
    "\n",
    "calc()"
   ]
  },
  {
   "cell_type": "markdown",
   "id": "frequent-button",
   "metadata": {},
   "source": [
    "- 기존 작동과정은 서브 루틴(add)가 메인 루틴(calc)에 종속된 관계임\n",
    "    1. 기존의 함수는 calc함수를 호출시 add함수가 계산되고 \n",
    "    2. 계산이 완료되면 다시 calc함수로 돌아가는데, \n",
    "    3. calc함수로 돌아가면 add함수의 변수와 계산식이 사라지게 됩니다. \n",
    "- 코루틴은 서브 루틴이 종료되지 않은 상태로 메인 루틴을 실행함\n",
    "- 서브 루틴이 종료되지 않아서 내용(변수, 값)등이 유지됨\n",
    "- 코루틴은 코드를 여러번 실행 가능하며 코드 실행지점을 진입점이라 부르며 코루틴은 진입점이 여러개 인 함수 입니다."
   ]
  },
  {
   "cell_type": "markdown",
   "id": "heated-milan",
   "metadata": {},
   "source": [
    "```(yield)``` 를 사용하여 바깥의 값들을 받아옵니다"
   ]
  },
  {
   "cell_type": "code",
   "execution_count": 33,
   "id": "owned-boulder",
   "metadata": {
    "scrolled": true
   },
   "outputs": [
    {
     "name": "stdout",
     "output_type": "stream",
     "text": [
      "받은 값 : 1\n",
      "받은 값 : 2\n",
      "받은 값 : 3\n"
     ]
    }
   ],
   "source": [
    "def number_coroutine():\n",
    "    while True:        # 코루틴을 계속 유지하기 위해 무한 루프 사용\n",
    "        x = (yield)    # 코루틴 바깥에서 값을 받아옴, yield를 괄호로 묶어야 함\n",
    "        print(f\"받은 값 : {x}\")\n",
    "        \n",
    "co = number_coroutine()\n",
    "next(co)      # 코루틴 안의 yield까지 코드 실행(최초 실행)\n",
    "\n",
    "co.send(1)    # 코루틴에 숫자 1을 보냄\n",
    "co.send(2)    # 코루틴에 숫자 2을 보냄\n",
    "co.send(3)    # 코루틴에 숫자 3을 보냄"
   ]
  },
  {
   "cell_type": "markdown",
   "id": "documentary-planet",
   "metadata": {},
   "source": [
    "```(yield) 변수``` 를 사용하여 바깥의 값들을 받아오고 변수로 반환합니다."
   ]
  },
  {
   "cell_type": "code",
   "execution_count": 34,
   "id": "drawn-nomination",
   "metadata": {},
   "outputs": [
    {
     "name": "stdout",
     "output_type": "stream",
     "text": [
      "0\n",
      "1\n",
      "3\n",
      "6\n"
     ]
    }
   ],
   "source": [
    "def sum_coroutine():\n",
    "    total = 0\n",
    "    while True:\n",
    "        x = (yield total)    # 코루틴 바깥에서 값을 받아오면서 바깥으로 값을 전달(반환)\n",
    "        total += x\n",
    "\n",
    "co = sum_coroutine()\n",
    "print(next(co))      # 0: 코루틴 안의 yield까지 코드를 실행하고 코루틴에서 나온 값 출력\n",
    " \n",
    "print(co.send(1))    # 1: 코루틴에 숫자 1을 보내고 코루틴에서 나온 값 출력\n",
    "print(co.send(2))    # 3: 코루틴에 숫자 2를 보내고 코루틴에서 나온 값 출력\n",
    "print(co.send(3))    # 6: 코루틴에 숫자 3을 보내고 코루틴에서 나온 값 출력"
   ]
  },
  {
   "cell_type": "markdown",
   "id": "cardiovascular-redhead",
   "metadata": {},
   "source": [
    "```next```함수는 코루틴의 코드를 실행하지만 값을 반환하지 않습니다.  \n",
    "```send```함수는 코루틴의 코드를 실행하면 값을 반환합니다."
   ]
  },
  {
   "cell_type": "markdown",
   "id": "resistant-geneva",
   "metadata": {},
   "source": [
    "제네레이터는 ```next```함수를 반복적으로 호출하여 값을 반환하는 방식입니다.  \n",
    "코루틴은 ```next```함수를 한 번만 호출한 뒤 ```send```함수로 값을 반환 받는 방식입니다."
   ]
  },
  {
   "cell_type": "markdown",
   "id": "small-durham",
   "metadata": {},
   "source": [
    "#### 8. [decorator(데코레이터)](https://dojang.io/mod/page/view.php?id=2427)"
   ]
  },
  {
   "cell_type": "markdown",
   "id": "golden-prescription",
   "metadata": {},
   "source": [
    "- 데코레이터는 함수를 장식할 때 사용합니다.\n",
    "- 데코레이터는 함수를 수정하지 않은 상태에서 추가 기능을 구현할 때 사용됩니다."
   ]
  },
  {
   "cell_type": "markdown",
   "id": "framed-candle",
   "metadata": {},
   "source": [
    "#### 데코레이터 간략 구현"
   ]
  },
  {
   "cell_type": "code",
   "execution_count": 38,
   "id": "better-observation",
   "metadata": {},
   "outputs": [
    {
     "name": "stdout",
     "output_type": "stream",
     "text": [
      "hello 함수 시작\n",
      "hello\n",
      "hello 함수 끝\n",
      "world 함수 시작\n",
      "world\n",
      "world 함수 끝\n"
     ]
    }
   ],
   "source": [
    "def trace(func:\"Method\"):                             # 호출할 함수를 매개변수로 받음\n",
    "    def wrapper():                           # 호출할 함수를 감싸는 함수\n",
    "        print(func.__name__, '함수 시작')    # __name__으로 함수 이름 출력\n",
    "        func()                               # 매개변수로 받은 함수를 호출\n",
    "        print(func.__name__, '함수 끝')\n",
    "    return wrapper                           # wrapper 함수 반환\n",
    " \n",
    "def hello():\n",
    "    print('hello')\n",
    "\n",
    "def world():\n",
    "    print('world')\n",
    "\n",
    "trace_hello = trace(hello)    # 데코레이터에 호출할 함수를 넣음\n",
    "trace_hello()                 # 반환된 함수를 호출\n",
    "trace_world = trace(world)    # 데코레이터에 호출할 함수를 넣음\n",
    "trace_world()                 # 반환된 함수를 호출"
   ]
  },
  {
   "cell_type": "markdown",
   "id": "lucky-accreditation",
   "metadata": {},
   "source": [
    "#### @로 데코레이터 구현"
   ]
  },
  {
   "cell_type": "code",
   "execution_count": 39,
   "id": "dried-portrait",
   "metadata": {},
   "outputs": [
    {
     "name": "stdout",
     "output_type": "stream",
     "text": [
      "hello 함수 시작\n",
      "hello\n",
      "hello 함수 끝\n",
      "world 함수 시작\n",
      "world\n",
      "world 함수 끝\n"
     ]
    }
   ],
   "source": [
    "def trace(func):                             # 호출할 함수를 매개변수로 받음\n",
    "    def wrapper():\n",
    "        print(func.__name__, '함수 시작')    # __name__으로 함수 이름 출력\n",
    "        func()                               # 매개변수로 받은 함수를 호출\n",
    "        print(func.__name__, '함수 끝')\n",
    "    return wrapper                           # wrapper 함수 반환\n",
    " \n",
    "@trace    # @데코레이터\n",
    "def hello():\n",
    "    print('hello')\n",
    "\n",
    "@trace    # @데코레이터\n",
    "def world():\n",
    "    print('world')\n",
    "\n",
    "hello()    # 함수를 그대로 호출\n",
    "world()    # 함수를 그대로 호출"
   ]
  },
  {
   "cell_type": "code",
   "execution_count": 41,
   "id": "controlled-state",
   "metadata": {
    "scrolled": false
   },
   "outputs": [
    {
     "name": "stdout",
     "output_type": "stream",
     "text": [
      "순서 : decorator1\n",
      "순서 : decorator2\n",
      "hello\n"
     ]
    }
   ],
   "source": [
    "def decorator1(func):\n",
    "    def wrapper():\n",
    "        print('순서 : decorator1')\n",
    "        func()\n",
    "    return wrapper\n",
    " \n",
    "def decorator2(func):\n",
    "    def wrapper():\n",
    "        print('순서 : decorator2')\n",
    "        func()\n",
    "    return wrapper\n",
    " \n",
    "# 데코레이터를 여러 개 지정\n",
    "@decorator1\n",
    "@decorator2\n",
    "def hello():\n",
    "    print('hello')\n",
    "\n",
    "hello()"
   ]
  }
 ],
 "metadata": {
  "kernelspec": {
   "display_name": "Python 3",
   "language": "python",
   "name": "python3"
  },
  "language_info": {
   "codemirror_mode": {
    "name": "ipython",
    "version": 3
   },
   "file_extension": ".py",
   "mimetype": "text/x-python",
   "name": "python",
   "nbconvert_exporter": "python",
   "pygments_lexer": "ipython3",
   "version": "3.7.3"
  }
 },
 "nbformat": 4,
 "nbformat_minor": 5
}
