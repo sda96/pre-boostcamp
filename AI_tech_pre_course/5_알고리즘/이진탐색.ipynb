{
 "cells": [
  {
   "cell_type": "code",
   "execution_count": 187,
   "id": "filled-victor",
   "metadata": {},
   "outputs": [
    {
     "name": "stdout",
     "output_type": "stream",
     "text": [
      "4 6\n",
      "19 10 15 17\n"
     ]
    }
   ],
   "source": [
    "n, m = map(int,input().split())\n",
    "ddeoks = list(map(int, input().split()))"
   ]
  },
  {
   "cell_type": "code",
   "execution_count": 171,
   "id": "caring-balloon",
   "metadata": {},
   "outputs": [
    {
     "name": "stdout",
     "output_type": "stream",
     "text": [
      "4.83 µs ± 417 ns per loop (mean ± std. dev. of 7 runs, 100000 loops each)\n"
     ]
    }
   ],
   "source": [
    "def In_order(m, ddeoks):\n",
    "    # 순차탐색의 시작점을 가장 킨 떡의 길이로 정의\n",
    "    max_length = max(ddeoks)\n",
    "    # 순차탐색 시작\n",
    "    while True:\n",
    "        slice_ddeok = 0\n",
    "        for ddeok in ddeoks:\n",
    "            diff = ddeok - max_length\n",
    "            if diff > 0:\n",
    "                slice_ddeok += diff\n",
    "            else:\n",
    "                pass\n",
    "        if slice_ddeok >= m:\n",
    "            break\n",
    "        max_length -= 1    \n",
    "        \n",
    "    return max_length\n",
    "\n",
    "%timeit In_order(m, ddeoks)"
   ]
  },
  {
   "cell_type": "code",
   "execution_count": 224,
   "id": "jewish-gambling",
   "metadata": {},
   "outputs": [
    {
     "name": "stdout",
     "output_type": "stream",
     "text": [
      "5.61 µs ± 517 ns per loop (mean ± std. dev. of 7 runs, 100000 loops each)\n"
     ]
    }
   ],
   "source": [
    "def binary_order(m, ddeoks):\n",
    "    # 이진탐색을 위한 최대, 최소 지점 설정\n",
    "    min_length = 0\n",
    "    max_length = max(ddeoks)\n",
    "\n",
    "\n",
    "    while (min_length <= max_length):\n",
    "        # 중간 지점 구하기\n",
    "        middle_length = (min_length + max_length) // 2\n",
    "        slice_ddeok = 0\n",
    "        # 중간 지점과 각 떡에 대한 길이 구하기\n",
    "        for ddeok in ddeoks:\n",
    "            if ddeok > middle_length:\n",
    "                slice_ddeok += ddeok - middle_length\n",
    "        if slice_ddeok < m:\n",
    "            # 떡의 길이가 목표길이 보다 작으면 최대 지점은 중간지점의 -1 로 이동\n",
    "            max_length = middle_length - 1\n",
    "        else:\n",
    "            # 떡의 길이가 목표길이 보다 크면 최소 지점은 중간 지점의 +1 로 이동\n",
    "            # 중간지점을 결과로 저장\n",
    "            result = middle_length\n",
    "            min_length = middle_length + 1\n",
    "    return result\n",
    "\n",
    "%timeit binary_order(m, ddeoks)"
   ]
  }
 ],
 "metadata": {
  "kernelspec": {
   "display_name": "Python 3",
   "language": "python",
   "name": "python3"
  },
  "language_info": {
   "codemirror_mode": {
    "name": "ipython",
    "version": 3
   },
   "file_extension": ".py",
   "mimetype": "text/x-python",
   "name": "python",
   "nbconvert_exporter": "python",
   "pygments_lexer": "ipython3",
   "version": "3.7.3"
  }
 },
 "nbformat": 4,
 "nbformat_minor": 5
}
