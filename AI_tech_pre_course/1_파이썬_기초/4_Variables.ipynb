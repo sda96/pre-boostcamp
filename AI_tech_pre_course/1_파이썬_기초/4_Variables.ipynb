{
 "cells": [
  {
   "cell_type": "markdown",
   "id": "composed-error",
   "metadata": {},
   "source": [
    "### Variable & List"
   ]
  },
  {
   "cell_type": "markdown",
   "id": "prostate-sending",
   "metadata": {},
   "source": [
    "변수(Variable)와 리스트(List)는 파이썬에서 가장 기본이 되는 데이터 저장 공간입니다.  \n",
    "프로그래밍 언어는 데이터를 저장해서 논리적으로 처리하는 과정을 거칩니다.  \n",
    "1. 데이터가 어떻게 저장하는가?\n",
    "2. 데이터가 어디에 저장이 되는가?\n",
    "3. 데이터에 어떤 종류가 있는가?"
   ]
  },
  {
   "cell_type": "markdown",
   "id": "exterior-camel",
   "metadata": {},
   "source": [
    "#### 1. 데이터가 어떻게 저장하는가?"
   ]
  },
  {
   "cell_type": "markdown",
   "id": "resident-record",
   "metadata": {},
   "source": [
    "변수는\n",
    "- 가장 기초적인 프로그래밍 문법 개념\n",
    "- 데이터(값)을 저장하기 위한 메모리 공간의 프로그래밍상 이름 또는 방식"
   ]
  },
  {
   "cell_type": "code",
   "execution_count": 2,
   "id": "suspected-guest",
   "metadata": {},
   "outputs": [],
   "source": [
    "a = 5"
   ]
  },
  {
   "cell_type": "markdown",
   "id": "infinite-illness",
   "metadata": {},
   "source": [
    "a = 5 인 경우,  \n",
    "a에 5를 넣어라. 라는 의미임.  \n",
    "a라는 **변수**에 5라는 **값**을 넣으라는(저장해라) 의미이기도 함."
   ]
  },
  {
   "cell_type": "markdown",
   "id": "boxed-malpractice",
   "metadata": {},
   "source": [
    "#### 2. 데이터가 어디에(물리적으로) 저장이 되는가?"
   ]
  },
  {
   "cell_type": "markdown",
   "id": "aware-attribute",
   "metadata": {},
   "source": [
    "프로그래밍에서 변수는 **값을 저장하는 장소**로, 변수는 **메모리 주소**를 가지고 있고 변수에 들어가는 값은 **메모리 주소**에 할당됨"
   ]
  },
  {
   "cell_type": "markdown",
   "id": "worse-quality",
   "metadata": {},
   "source": [
    "프로그래밍의 동작과정은\n",
    "- Application(소스 코드, 프로그래밍 언어) -> OS -> CPU, Memory\n",
    "- 소프트웨어에서 하드웨어로"
   ]
  },
  {
   "cell_type": "markdown",
   "id": "forty-tobacco",
   "metadata": {},
   "source": [
    "#### [컴퓨터의 구조  폰 노이만 아키텍처(프로그램 내장 방식)](https://m.blog.naver.com/with_msip/221981730449)"
   ]
  },
  {
   "attachments": {},
   "cell_type": "markdown",
   "id": "local-example",
   "metadata": {},
   "source": [
    "폰 노이만 아키텍체에서는 사용자가 컴퓨터에 값을 입력하거나 프로그램을 실행할 경우 그 정보를 먼저 메모리에 저장시키고 CPU가 순차적으로 그 정보를 해석하고 계산하여 사용자에게 결과값을 전달함.\n",
    "<img src=\"https://imgur.com/BY59KJs.jpg\">\n",
    "1. 값 입력 또는 프로그램 실행\n",
    "2. OS를 통하여 값들이 CPU에 들어감\n",
    "3. 메모리에 저장되어 있는 연산 처리\n",
    "4. CPU가 순차적으로 정보 해석\n",
    "    - 메모리로부터 명령어를 가져오는 fetch, \n",
    "    - 명령어의 의미를 해석하는 decode, \n",
    "    - 명령어를 실행하는 execute, \n",
    "    - 결과를 저장하는 store의 순서로 처리\n",
    "- 폰 노이만 구조는 ‘내장 메모리 순차처리 방식’을 따르고 있기 때문에 CPU는 순차적으로 한 번에 명령어 하나씩 실행합니다.\n",
    "5. 해석된 결과를 사용자에게 전달, 출력\n",
    "\n",
    "프로그래밍을 입력하게 되면 메모리에 어딘가에 값이 저장되어짐, 물리적인 주소를 가짐.  \n",
    "5라는 값이 저장된 메모리 주소는 직접적으로는 외우기 어렵기 때문에 변수명 a로 바꾸어서 간접적으로 사람이 알기가 쉬워지게됨  \n",
    "DRAM에 저장이됨"
   ]
  },
  {
   "cell_type": "markdown",
   "id": "atlantic-headquarters",
   "metadata": {},
   "source": [
    "변수 : 프로그램에서 사용하기 위한 특정한 값을 저장하는 메모리 공간(물리적)\n",
    "- 변수가 선언되는 순간(프로그램이 실행되는 순간) 메모리의 특정영역에 물리적인 공간을 할당시킴\n",
    "- 변수에는 값이 할당되고 해당 값은 메모리에 저장됨\n",
    "- a = 8의 의미는 \"a는 8이다\" 가 아닌 \"파이썬(파이썬 쉘)이라는 Application이 OS에게 8이라는 값을 메모리 공간(주소)에 저장(할당)한다고 요청하였고, 그 메모리 주소의 이름은 a로 설정한다\" 라는 의미임.\n",
    "- 파이썬 -> OS -> memory"
   ]
  },
  {
   "cell_type": "markdown",
   "id": "located-deputy",
   "metadata": {},
   "source": [
    "변수 이름 작명법\n",
    "- 알파벳, 숫자, 언더스코어로 선언가능\n",
    "- 변수명은 의미있는 단어로 표기, 줄임말은 쓰지 말 것\n",
    "- 변수명은 대소문주 구분\n",
    "- 특별한 의미가 있는 예약어(if, for, else)는 쓰지 않음"
   ]
  },
  {
   "cell_type": "markdown",
   "id": "cosmetic-kidney",
   "metadata": {},
   "source": [
    "#### 3. 데이터에 어떤 종류가 있는가?"
   ]
  },
  {
   "cell_type": "markdown",
   "id": "hundred-crisis",
   "metadata": {},
   "source": [
    "1. 기본 자료형(primitive data type)\n",
    "2. 연산자와 피연산자\n",
    "3. 데이터 형변환"
   ]
  },
  {
   "cell_type": "markdown",
   "id": "israeli-madrid",
   "metadata": {},
   "source": [
    "1. 기본 자료형(data type) : 파이썬이 처리할 수 있는 데이터 유형\n",
    "    - 수치자료형 : 정수형, 실수형\n",
    "    - 문자형\n",
    "    - 논리/불린 자료형\n",
    "\n",
    "**데이터의 유형(타입)마다 메모리를 차지하게 되는 공간의 크기가 달라지게 됨.**  \n",
    "int는 32bit(0과 1) 만 쓸수 있음"
   ]
  },
  {
   "cell_type": "markdown",
   "id": "adequate-reading",
   "metadata": {},
   "source": [
    "파이썬의 특징인 Dynamic Typing에 의해서 코드 실행시점에 데이터의 Type을 결정하게 됨, 그로 인해서 Dynamic Typing을 사용하는 인터프리터 언어는 컴파일러 언어보다 속도가 느림.  \n",
    "Java나 C언어와 같은 컴파일러 언어는 경우 데이터의 타입을 미리 선언해줘야함."
   ]
  },
  {
   "cell_type": "markdown",
   "id": "offensive-stations",
   "metadata": {},
   "source": [
    "2. 연산자(Operator)와 피연산자(Operand)\n",
    "    -  + - / * 같은 기호들을 연산자라고 칭함\n",
    "    - 연산자에 의해 계산이 되는 숫자들은 피연산자라 칭함\n",
    "    - 문자간에도 + 연산이 가능하며 이를 concatenate 라고 부름"
   ]
  },
  {
   "cell_type": "code",
   "execution_count": 3,
   "id": "functioning-customs",
   "metadata": {},
   "outputs": [],
   "source": [
    "a = 5"
   ]
  },
  {
   "cell_type": "code",
   "execution_count": 4,
   "id": "boring-blind",
   "metadata": {},
   "outputs": [
    {
     "data": {
      "text/plain": [
       "125"
      ]
     },
     "execution_count": 4,
     "metadata": {},
     "output_type": "execute_result"
    }
   ],
   "source": [
    "a ** 3 # 제곱"
   ]
  },
  {
   "cell_type": "code",
   "execution_count": 5,
   "id": "bored-brand",
   "metadata": {},
   "outputs": [
    {
     "data": {
      "text/plain": [
       "1.6666666666666667"
      ]
     },
     "execution_count": 5,
     "metadata": {},
     "output_type": "execute_result"
    }
   ],
   "source": [
    "a / 3 # 나누기"
   ]
  },
  {
   "cell_type": "code",
   "execution_count": 6,
   "id": "thousand-router",
   "metadata": {},
   "outputs": [
    {
     "data": {
      "text/plain": [
       "1"
      ]
     },
     "execution_count": 6,
     "metadata": {},
     "output_type": "execute_result"
    }
   ],
   "source": [
    "a % 2 # 나머지"
   ]
  },
  {
   "cell_type": "code",
   "execution_count": 7,
   "id": "asian-bible",
   "metadata": {},
   "outputs": [
    {
     "data": {
      "text/plain": [
       "2"
      ]
     },
     "execution_count": 7,
     "metadata": {},
     "output_type": "execute_result"
    }
   ],
   "source": [
    "a // 2 # 몫"
   ]
  },
  {
   "cell_type": "code",
   "execution_count": 11,
   "id": "junior-humanity",
   "metadata": {},
   "outputs": [
    {
     "data": {
      "text/plain": [
       "(2, 1)"
      ]
     },
     "execution_count": 11,
     "metadata": {},
     "output_type": "execute_result"
    }
   ],
   "source": [
    "divmod(a, 2) # (몫, 나머지)"
   ]
  },
  {
   "cell_type": "markdown",
   "id": "medieval-trance",
   "metadata": {},
   "source": [
    "변수는 좌변에 있을 때는 메모리 공간을 가진 변수가 되며 우변에 있으면 값을 불러오게 됩니다."
   ]
  },
  {
   "cell_type": "markdown",
   "id": "stupid-power",
   "metadata": {},
   "source": [
    "```float()```과 ```int()```를 활용한 데이터 타입 변환(형변환)이 가능"
   ]
  },
  {
   "cell_type": "markdown",
   "id": "further-secretary",
   "metadata": {},
   "source": [
    "과거 파이썬 2.7 버전에서는 실수형을 할당시 37.999999...가 나왔는데 이는 컴퓨터의 반올림 오차 때문.  \n",
    "단순한 실수도 이진수로 변환하면 무한소수가 되며 반올림오차는 충분히 작아 반올림을 하여 일반적으로 문제가 되지 않음"
   ]
  },
  {
   "cell_type": "markdown",
   "id": "arctic-buffalo",
   "metadata": {},
   "source": [
    "#### 컴퓨터는 왜 이진수를 쓰나?"
   ]
  },
  {
   "cell_type": "markdown",
   "id": "registered-relaxation",
   "metadata": {},
   "source": [
    "컴퓨터는 실리콘이라는 재료로 만든 반도체로 구성되어 있음.  \n",
    "반도체는 특정 자극을 줬을 때 전기를 통할 수 있게 하는 물질  \n",
    "도체와 부도체에 반해 반도체는 전류의 흐름 제어가 가능하여 전류가 흐르면 1, 흐르지 않으면 0으로 숫자를 표현할 수 있음.  \n",
    "이진수 한자리를 bit라 칭하며 8개의 bit는 1byte임"
   ]
  },
  {
   "cell_type": "markdown",
   "id": "loved-designation",
   "metadata": {},
   "source": [
    "### List()"
   ]
  },
  {
   "cell_type": "markdown",
   "id": "latter-vocabulary",
   "metadata": {},
   "source": [
    "데이터가 100개 있는 경우 어떻게 관리해야 할 것인가?  \n",
    "100명의 성적관리를 위한 변수는 몇 개?\n",
    "- 리스트는 시퀀스 자료형이라고도 부르며 여러 데이터들의 집합\n",
    "- int, float 같은 다양한 데이터 타입들을 하나의 변수에 저장하기 위한 데이터 구조"
   ]
  },
  {
   "cell_type": "markdown",
   "id": "contemporary-relaxation",
   "metadata": {},
   "source": [
    "리스트의 특징\n",
    "1. 인덱싱\n",
    "2. 슬라이싱\n",
    "3. 리스트 연산\n",
    "4. 추가 삭제\n",
    "5. 메모리 저장 방식\n",
    "6. 패킹과 언패킹"
   ]
  },
  {
   "cell_type": "markdown",
   "id": "informative-garlic",
   "metadata": {},
   "source": [
    "1. 인덱싱\n",
    "- list에 있는 값들은 주소(offset, index)을 가짐\n",
    "- 주소를 사용해 할당된 값(요소, elements)을 호출"
   ]
  },
  {
   "cell_type": "code",
   "execution_count": 16,
   "id": "ranking-preference",
   "metadata": {},
   "outputs": [
    {
     "data": {
      "text/plain": [
       "'red'"
      ]
     },
     "execution_count": 16,
     "metadata": {},
     "output_type": "execute_result"
    }
   ],
   "source": [
    "# 메모리 공간에 저장이 됨\n",
    "a = [\"red\", \"blue\", \"green\"]\n",
    "a[0]"
   ]
  },
  {
   "cell_type": "markdown",
   "id": "mediterranean-market",
   "metadata": {},
   "source": [
    "2. 슬라이싱\n",
    "- list의 값들을 잘라서 쓰는 것이 슬라이싱\n",
    "- list의 주소 값을  기반으로 부분 값을 반환"
   ]
  },
  {
   "cell_type": "code",
   "execution_count": 29,
   "id": "apparent-cargo",
   "metadata": {},
   "outputs": [
    {
     "data": {
      "text/plain": [
       "['red', 'blue']"
      ]
     },
     "execution_count": 29,
     "metadata": {},
     "output_type": "execute_result"
    }
   ],
   "source": [
    "# 반환시켜줌\n",
    "a[:2]"
   ]
  },
  {
   "cell_type": "code",
   "execution_count": 19,
   "id": "amber-revolution",
   "metadata": {},
   "outputs": [
    {
     "data": {
      "text/plain": [
       "'green'"
      ]
     },
     "execution_count": 19,
     "metadata": {},
     "output_type": "execute_result"
    }
   ],
   "source": [
    "a[-1]"
   ]
  },
  {
   "cell_type": "code",
   "execution_count": 32,
   "id": "equipped-approach",
   "metadata": {},
   "outputs": [
    {
     "data": {
      "text/plain": [
       "['green', 'blue', 'red']"
      ]
     },
     "execution_count": 32,
     "metadata": {},
     "output_type": "execute_result"
    }
   ],
   "source": [
    "a[::-1] # 역순"
   ]
  },
  {
   "cell_type": "code",
   "execution_count": 34,
   "id": "organized-spread",
   "metadata": {},
   "outputs": [
    {
     "data": {
      "text/plain": [
       "['red', 'green']"
      ]
     },
     "execution_count": 34,
     "metadata": {},
     "output_type": "execute_result"
    }
   ],
   "source": [
    "a[::2]"
   ]
  },
  {
   "cell_type": "code",
   "execution_count": 35,
   "id": "patent-johnson",
   "metadata": {},
   "outputs": [
    {
     "data": {
      "text/plain": [
       "['green', 'red']"
      ]
     },
     "execution_count": 35,
     "metadata": {},
     "output_type": "execute_result"
    }
   ],
   "source": [
    "a[::-2]"
   ]
  },
  {
   "cell_type": "code",
   "execution_count": 37,
   "id": "accepting-press",
   "metadata": {},
   "outputs": [
    {
     "data": {
      "text/plain": [
       "[0, 2, 4, 6, 8]"
      ]
     },
     "execution_count": 37,
     "metadata": {},
     "output_type": "execute_result"
    }
   ],
   "source": [
    "b = list(range(10))\n",
    "# b[시작:끝:스텝]\n",
    "b[0:10:2]"
   ]
  },
  {
   "cell_type": "code",
   "execution_count": 38,
   "id": "macro-declaration",
   "metadata": {},
   "outputs": [
    {
     "data": {
      "text/plain": [
       "[0, 1, 2, 3, 4, 5, 6, 7, 8, 9]"
      ]
     },
     "execution_count": 38,
     "metadata": {},
     "output_type": "execute_result"
    }
   ],
   "source": [
    "b[:]"
   ]
  },
  {
   "cell_type": "markdown",
   "id": "guided-spirituality",
   "metadata": {},
   "source": [
    "3. 리스트 연산\n",
    "- concatenate, is_in, 연산함수들"
   ]
  },
  {
   "cell_type": "code",
   "execution_count": 40,
   "id": "suited-jonathan",
   "metadata": {},
   "outputs": [
    {
     "name": "stdout",
     "output_type": "stream",
     "text": [
      "['orange', ' black', ' white', 'orange', ' black', ' white']\n"
     ]
    }
   ],
   "source": [
    "color = [\"red\", \"blue\", \"green\"]\n",
    "color2 = [\"orange\",\" black\",\" white\"]\n",
    "print(color2 + color2) # 두 리스트 합치기"
   ]
  },
  {
   "cell_type": "code",
   "execution_count": 41,
   "id": "smaller-negotiation",
   "metadata": {},
   "outputs": [
    {
     "data": {
      "text/plain": [
       "3"
      ]
     },
     "execution_count": 41,
     "metadata": {},
     "output_type": "execute_result"
    }
   ],
   "source": [
    "len(color) # 리스트 길이"
   ]
  },
  {
   "cell_type": "code",
   "execution_count": 43,
   "id": "informed-exhibition",
   "metadata": {},
   "outputs": [
    {
     "data": {
      "text/plain": [
       "['yellow', 'blue', 'green']"
      ]
     },
     "execution_count": 43,
     "metadata": {},
     "output_type": "execute_result"
    }
   ],
   "source": [
    "color[0] = \"yellow\" # 0번째 리스트의 값을 변경\n",
    "color"
   ]
  },
  {
   "cell_type": "code",
   "execution_count": 44,
   "id": "collaborative-royal",
   "metadata": {},
   "outputs": [
    {
     "name": "stdout",
     "output_type": "stream",
     "text": [
      "['yellow', 'blue', 'green', 'yellow', 'blue', 'green']\n"
     ]
    }
   ],
   "source": [
    "print(color * 2) # color list 2회 반복"
   ]
  },
  {
   "cell_type": "code",
   "execution_count": 46,
   "id": "starting-classics",
   "metadata": {},
   "outputs": [
    {
     "data": {
      "text/plain": [
       "False"
      ]
     },
     "execution_count": 46,
     "metadata": {},
     "output_type": "execute_result"
    }
   ],
   "source": [
    "\"blue\" in color2 # 문자열 \"blue\"가 color2에 존재 여부 반환"
   ]
  },
  {
   "cell_type": "markdown",
   "id": "spread-necessity",
   "metadata": {},
   "source": [
    "4. 추가와 삭제\n",
    "- append, extend, insert, remove, del등 활용"
   ]
  },
  {
   "cell_type": "code",
   "execution_count": 47,
   "id": "expected-alexandria",
   "metadata": {},
   "outputs": [
    {
     "data": {
      "text/plain": [
       "['yellow', 'blue', 'green']"
      ]
     },
     "execution_count": 47,
     "metadata": {},
     "output_type": "execute_result"
    }
   ],
   "source": [
    "color"
   ]
  },
  {
   "cell_type": "code",
   "execution_count": 49,
   "id": "electric-glory",
   "metadata": {},
   "outputs": [
    {
     "data": {
      "text/plain": [
       "['yellow', 'blue', 'green', 'white']"
      ]
     },
     "execution_count": 49,
     "metadata": {},
     "output_type": "execute_result"
    }
   ],
   "source": [
    "color.append(\"white\") # list에 white 추가\n",
    "color"
   ]
  },
  {
   "cell_type": "code",
   "execution_count": 54,
   "id": "guided-digest",
   "metadata": {},
   "outputs": [
    {
     "data": {
      "text/plain": [
       "['yellow', 'blue', 'green', 'black', 'purple', 'black', 'purple']"
      ]
     },
     "execution_count": 54,
     "metadata": {},
     "output_type": "execute_result"
    }
   ],
   "source": [
    "color.extend([\"black\",\"purple\"]) # list에 새로운 list 추가, + 연산과는 조금 다름 해당 연산이 화면에 찍어주는지 아니면 객체를 바꾸는지 다름\n",
    "color"
   ]
  },
  {
   "cell_type": "code",
   "execution_count": 51,
   "id": "martial-default",
   "metadata": {},
   "outputs": [
    {
     "data": {
      "text/plain": [
       "['orange', 'yellow', 'blue', 'green', 'white', 'black', 'purple']"
      ]
     },
     "execution_count": 51,
     "metadata": {},
     "output_type": "execute_result"
    }
   ],
   "source": [
    "color.insert(0,\"orange\") # 0번째 주소에 orange 추가\n",
    "color"
   ]
  },
  {
   "cell_type": "code",
   "execution_count": 52,
   "id": "unexpected-serum",
   "metadata": {},
   "outputs": [
    {
     "data": {
      "text/plain": [
       "['orange', 'yellow', 'blue', 'green', 'black', 'purple']"
      ]
     },
     "execution_count": 52,
     "metadata": {},
     "output_type": "execute_result"
    }
   ],
   "source": [
    "color.remove(\"white\") # list에 white 삭제\n",
    "color"
   ]
  },
  {
   "cell_type": "code",
   "execution_count": 53,
   "id": "divine-extraction",
   "metadata": {},
   "outputs": [
    {
     "data": {
      "text/plain": [
       "['yellow', 'blue', 'green', 'black', 'purple']"
      ]
     },
     "execution_count": 53,
     "metadata": {},
     "output_type": "execute_result"
    }
   ],
   "source": [
    "del color[0] # 0번쨰 주소 list 객체 삭제\n",
    "color"
   ]
  },
  {
   "cell_type": "markdown",
   "id": "passing-silly",
   "metadata": {},
   "source": [
    "5. 메모리 저장 방식\n",
    "- 다양한 데이터 타입이 하나의 list에 들어갈 수 있음\n",
    "- Java 같은 경우 배열에 하나의 데이터 타입만 넣을 수 있음"
   ]
  },
  {
   "cell_type": "code",
   "execution_count": 55,
   "id": "important-constitution",
   "metadata": {},
   "outputs": [
    {
     "data": {
      "text/plain": [
       "[['yellow', 'blue'], 1, 0.2]"
      ]
     },
     "execution_count": 55,
     "metadata": {},
     "output_type": "execute_result"
    }
   ],
   "source": [
    "a = [\"color\", 1, 0.2]\n",
    "color = [\"yellow\", \"blue\"]\n",
    "a[0] = color\n",
    "a"
   ]
  },
  {
   "cell_type": "markdown",
   "id": "median-cinema",
   "metadata": {},
   "source": [
    "파이썬은 메모리 주소를 계속 참조하는 방식으로 일반 프로그래밍 언어와 시퀀스형 자료형틔 특징이 다름"
   ]
  },
  {
   "cell_type": "code",
   "execution_count": 56,
   "id": "ecological-duncan",
   "metadata": {},
   "outputs": [],
   "source": [
    "a = [5, 4, 3, 2, 1]\n",
    "b = [1, 2, 3, 4, 5]\n",
    "b = a # a와 b가 같은 메모리 주소를 가리키게됨"
   ]
  },
  {
   "cell_type": "code",
   "execution_count": 57,
   "id": "sharing-treat",
   "metadata": {},
   "outputs": [
    {
     "data": {
      "text/plain": [
       "[5, 4, 3, 2, 1]"
      ]
     },
     "execution_count": 57,
     "metadata": {},
     "output_type": "execute_result"
    }
   ],
   "source": [
    "b"
   ]
  },
  {
   "cell_type": "code",
   "execution_count": 58,
   "id": "lasting-estimate",
   "metadata": {},
   "outputs": [],
   "source": [
    "a.sort() # 자기가 변화하는 함수"
   ]
  },
  {
   "cell_type": "code",
   "execution_count": 60,
   "id": "metallic-circuit",
   "metadata": {},
   "outputs": [
    {
     "data": {
      "text/plain": [
       "[1, 2, 3, 4, 5]"
      ]
     },
     "execution_count": 60,
     "metadata": {},
     "output_type": "execute_result"
    }
   ],
   "source": [
    "b # a가 변화하면 b는 같은 메모리 주소를 가리키기에 b도 바뀌게 됨"
   ]
  },
  {
   "cell_type": "code",
   "execution_count": 62,
   "id": "excellent-devices",
   "metadata": {},
   "outputs": [],
   "source": [
    "b = a[:] # 이러면 같은 메모리 공간을 가지는게 아닌 새로운 메모리 공간으로 복사가 됨"
   ]
  },
  {
   "cell_type": "code",
   "execution_count": 63,
   "id": "tamil-period",
   "metadata": {},
   "outputs": [
    {
     "data": {
      "text/plain": [
       "(2177961993736, 2177961374536)"
      ]
     },
     "execution_count": 63,
     "metadata": {},
     "output_type": "execute_result"
    }
   ],
   "source": [
    "id(a), id(b)"
   ]
  },
  {
   "cell_type": "markdown",
   "id": "unusual-burden",
   "metadata": {},
   "source": [
    "6. 패킹과 언패킹\n",
    "- 패킹 : 한 변수에 여러개의 데이터를 넣는 것\n",
    "- 언패킹 : 한 변수의 데이터를 각각의 변수로 반환"
   ]
  },
  {
   "cell_type": "code",
   "execution_count": 64,
   "id": "beneficial-southwest",
   "metadata": {},
   "outputs": [
    {
     "name": "stdout",
     "output_type": "stream",
     "text": [
      "[1, 2, 3] 1 2 3\n"
     ]
    }
   ],
   "source": [
    "t = [1, 2, 3] # 1,2,3을 변수 t에 패킹\n",
    "a, b, c = t # t에 있는 값 1, 2, 3을 변수 a, b, c에 언패킹\n",
    "print(t, a, b, c)"
   ]
  },
  {
   "cell_type": "markdown",
   "id": "charming-syndicate",
   "metadata": {},
   "source": [
    "### 이차원 리스트"
   ]
  },
  {
   "cell_type": "markdown",
   "id": "violent-preview",
   "metadata": {},
   "source": [
    "행렬\n",
    "- 리스트 안에 리스트를 만들어 행렬(matrix) 생성"
   ]
  },
  {
   "cell_type": "code",
   "execution_count": 65,
   "id": "southeast-audience",
   "metadata": {},
   "outputs": [
    {
     "name": "stdout",
     "output_type": "stream",
     "text": [
      "[[49, 79, 20, 100, 80], [43, 59, 85, 30, 90], [49, 79, 48, 60, 100]]\n"
     ]
    }
   ],
   "source": [
    "kor_score = [49, 79, 20, 100, 80]\n",
    "math_score = [43, 59, 85, 30, 90]\n",
    "eng_score = [49, 79, 48, 60, 100]\n",
    "midterm_score = [kor_score, math_score, eng_score]\n",
    "print(midterm_score)"
   ]
  },
  {
   "cell_type": "markdown",
   "id": "revolutionary-acting",
   "metadata": {},
   "source": [
    "- 이차원 리스트를 복사하는 방법"
   ]
  },
  {
   "cell_type": "code",
   "execution_count": 66,
   "id": "varied-raleigh",
   "metadata": {},
   "outputs": [
    {
     "data": {
      "text/plain": [
       "[[49, 79, 20, 100, 80], [43, 59, 85, 30, 90], [49, 79, 48, 60, 100]]"
      ]
     },
     "execution_count": 66,
     "metadata": {},
     "output_type": "execute_result"
    }
   ],
   "source": [
    "copy_score = midterm_score[:] # 일차원 배열의 copy는 [:]로 가능하지만 이차원은 제대로 copy되지 않음\n",
    "copy_score"
   ]
  },
  {
   "cell_type": "code",
   "execution_count": 67,
   "id": "ranging-cherry",
   "metadata": {},
   "outputs": [
    {
     "data": {
      "text/plain": [
       "(2177971696776, 2177962321736)"
      ]
     },
     "execution_count": 67,
     "metadata": {},
     "output_type": "execute_result"
    }
   ],
   "source": [
    "import copy\n",
    "midterm_copy = copy.deepcopy(midterm_score)\n",
    "id(midterm_copy), id(midterm_score)"
   ]
  }
 ],
 "metadata": {
  "kernelspec": {
   "display_name": "Python 3",
   "language": "python",
   "name": "python3"
  },
  "language_info": {
   "codemirror_mode": {
    "name": "ipython",
    "version": 3
   },
   "file_extension": ".py",
   "mimetype": "text/x-python",
   "name": "python",
   "nbconvert_exporter": "python",
   "pygments_lexer": "ipython3",
   "version": "3.7.3"
  }
 },
 "nbformat": 4,
 "nbformat_minor": 5
}
