{
 "cells": [
  {
   "cell_type": "markdown",
   "id": "signed-textbook",
   "metadata": {},
   "source": [
    "### 파이썬(파이쏜!) 미리보기"
   ]
  },
  {
   "cell_type": "markdown",
   "id": "heard-lambda",
   "metadata": {},
   "source": [
    "1. 운영체제, 플랫폼 독립적\n",
    "2. 인터프리터 언어\n",
    "3. 객체 지향\n",
    "4. 동적 타이핑 언어\n",
    "- 1991년 귀도 반 로섬이 발표\n",
    "- 처음엔 c언어로 구현됨\n",
    "- 자비로운 종신 독재자 : 오픈소스인 파이썬의 개선사항(PEP)에 대한 최종 의사결정자"
   ]
  },
  {
   "cell_type": "markdown",
   "id": "ethical-costa",
   "metadata": {},
   "source": [
    "파이썬에 로우레벨(깊은 수준)에 들어가면 c언어가 들어가 있음."
   ]
  },
  {
   "cell_type": "markdown",
   "id": "renewable-titanium",
   "metadata": {},
   "source": [
    "MS의 오픈소스 정책에 동의하여 최근에 MS로 이직한 귀도 반 로썸"
   ]
  },
  {
   "cell_type": "markdown",
   "id": "great-issue",
   "metadata": {},
   "source": [
    "파이썬의 유래\n",
    "- python(피톤)은  그리스 신화속의 괴물 뱀\n",
    "- 몬티 파이썬이라는 코메디 그룹의 이름에서 유래"
   ]
  },
  {
   "cell_type": "markdown",
   "id": "continent-given",
   "metadata": {},
   "source": [
    "#### 1. 플랫폼 독립적"
   ]
  },
  {
   "cell_type": "markdown",
   "id": "aerial-junior",
   "metadata": {},
   "source": [
    "플랫폼 \n",
    "- 운영체제(OS)를 의미하며 윈도우, 리눅스, 안드로이드, 맥OS, iOS 등 프로그램이 실행되는 운영체제를 플랫폼이라고 함.  \n",
    "\n",
    "독립적 \n",
    "- OS에 상관없이 한번 프로그램을 작성하면 사용가능"
   ]
  },
  {
   "cell_type": "markdown",
   "id": "narrow-rough",
   "metadata": {},
   "source": [
    "#### 2. 인터프리터 언어"
   ]
  },
  {
   "cell_type": "markdown",
   "id": "moving-wellington",
   "metadata": {},
   "source": [
    "[고급 언어 = 소스 코드 = 원시 코드](https://blog.naver.com/ehcibear314/221228096291)  \n",
    "저급 언어 = 기계어 = 목적 코드 (어셈블리 언어)  \n",
    "[인터프리터 언어 와 컴파일러 언어 1](https://m.blog.naver.com/ehcibear314/221228200531)  \n",
    "[인터프리터 언어 와 컴파일러 언어 2](https://velog.io/@jaeyunn_15/OS-Compiler-vs-Interpreter)\n",
    "\n",
    "프로그램의 동작 과정\n",
    "- 사람이 알 수 있는 고급 언어(Source Code)를 기계만 알 수 있는 저급 언어(기계어)로 변환시켜주는 방법으로 컴파일러와 인터프리터가 있다.\n",
    "\n",
    "컴파일러 \n",
    "- **Source code -> Compiler -> Assembler -> CPU**\n",
    "- 소스코드 전체를 한번에 하드웨어가 처리하기 용이한 형태인 기계어로 바꾼 뒤 실행하는 방법  \n",
    "- 원시 코드의 크기가 너무 크면 실행 속도가 느릴 수 있음\n",
    "- [플랫폼에 따라서 다르게 작성해야 해서 이식성이 떨어짐](https://m.blog.naver.com/PostView.naver?isHttpsRedirect=true&blogId=wisbj&logNo=220190872669)\n",
    "\n",
    "인터프리터 \n",
    "- **Source code -> Interpreter -> CPU**\n",
    "- 인터프리터는 고급 언어를 한번에 한 줄씩 읽어들여서 중간 코드로 번역한 뒤 바로 실행하는 방법\n",
    "- 컴파일러 방식과 다르게 필요한 부분의 고급 프로그램만 선택하여 실행 가능하여 조건부 실행 속도가 빠를 수 있음\n",
    "- 인터프리터는 대화형 프로그래밍이 가능하기에 교육용으로도 많이 쓰임\n",
    "\n",
    "엣지 컴퓨팅 \n",
    "- 응답 시간을 개선하고 대역폭을 절약하기 위해 필요한 곳에 연산과 데이터 스토리지를 도입하는 분산 컴퓨팅 패러다임의 하나이다"
   ]
  },
  {
   "cell_type": "markdown",
   "id": "fresh-direction",
   "metadata": {},
   "source": [
    "|컴파일러|인터프리터|\n",
    "|:-|:-|\n",
    "|**소스코드를 기계어로 먼저 번역**하고<br>해당 플랫폼에 최적화되어 프로그램을 실행|별도의 번역과정 없이 **소스코드를 실행시점에 해석**<br>하여 컴퓨터가 처리할 수 있도록 함|\n",
    "|1.실행속도가 빠름<br>2.한번의 많은 메모리 필요<br>3.설치 용이|1.간단히 작성<br>2.메모리가 적게 듬<br>3.실행속도가 느림|\n",
    "|C, Java, C++, C#|파이썬, 스칼라|"
   ]
  },
  {
   "cell_type": "markdown",
   "id": "strategic-survivor",
   "metadata": {},
   "source": [
    "#### 3. 객체 지향적 언어"
   ]
  },
  {
   "cell_type": "markdown",
   "id": "brown-snake",
   "metadata": {},
   "source": [
    "프로시저 언어 \n",
    "- 실행순서를 중심으로 프로그램 작성  \n",
    "\n",
    "객체 지향적 언어 \n",
    "- 실행순서가 아닌 단위 모듈(객체) 중심으로 프로그램을 작성  \n",
    "- 하나의 **객체**는 어떤 목적을 달성하기 위한 **행동(method)**와 **속성(attribute)**을 가짐"
   ]
  },
  {
   "cell_type": "markdown",
   "id": "funky-hypothetical",
   "metadata": {},
   "source": [
    "#### 4. 동적 타이핑 언어"
   ]
  },
  {
   "cell_type": "markdown",
   "id": "dense-prairie",
   "metadata": {},
   "source": [
    "동적 타이핑 언어 \n",
    "- 프로그램이 실행하는 시점에 프로그램이 사용해야할 데이터에 대한 타입을 결정함, 미리 타입을 지정할 필요가 없음  \n",
    "- C나 Java의 경우 변수를 선언시 변수의 타입을 미리 지정 해줘야함"
   ]
  },
  {
   "cell_type": "markdown",
   "id": "global-million",
   "metadata": {},
   "source": [
    "### 파이썬을 사용하는 이유"
   ]
  },
  {
   "cell_type": "markdown",
   "id": "terminal-windsor",
   "metadata": {},
   "source": [
    "1. 쉽다\n",
    "2. 다양하다."
   ]
  },
  {
   "cell_type": "markdown",
   "id": "confident-poetry",
   "metadata": {},
   "source": [
    "#### 1. 쉽다\n",
    "이해하기 쉽고 간단한하며 비교적 직관적인 문법, 사람의 시간이 기계의 시간보다 중요하다."
   ]
  },
  {
   "cell_type": "markdown",
   "id": "naked-madrid",
   "metadata": {},
   "source": [
    "#### 2. 다양하다"
   ]
  },
  {
   "cell_type": "markdown",
   "id": "weird-server",
   "metadata": {},
   "source": [
    "다양한 라이브러리, 무엇을 생각하든 그것을 구현할 수 있다.  \n",
    "파이썬은 대부분의 라이브러리가 이미 다른 사용자에 의해서 구현되어있음 (특히, 통계와 데이터 분석)  \n",
    "이미 널리 쓰이고 있는 언어"
   ]
  },
  {
   "cell_type": "markdown",
   "id": "regulated-contamination",
   "metadata": {},
   "source": [
    "# Life is short. You need Python."
   ]
  }
 ],
 "metadata": {
  "kernelspec": {
   "display_name": "Python 3",
   "language": "python",
   "name": "python3"
  },
  "language_info": {
   "codemirror_mode": {
    "name": "ipython",
    "version": 3
   },
   "file_extension": ".py",
   "mimetype": "text/x-python",
   "name": "python",
   "nbconvert_exporter": "python",
   "pygments_lexer": "ipython3",
   "version": "3.7.3"
  }
 },
 "nbformat": 4,
 "nbformat_minor": 5
}
