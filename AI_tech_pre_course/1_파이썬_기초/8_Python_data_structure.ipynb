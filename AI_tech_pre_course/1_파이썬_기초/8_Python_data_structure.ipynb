{
 "cells": [
  {
   "cell_type": "markdown",
   "id": "binding-advice",
   "metadata": {},
   "source": [
    "### Data structure(데이터 구조)"
   ]
  },
  {
   "cell_type": "markdown",
   "id": "consecutive-behalf",
   "metadata": {},
   "source": [
    "데이터 타입(숫자형, 문자형 자료형, data type)  \n",
    "데이터를 어떻게 효율적으로 저장하면 좋을까?"
   ]
  },
  {
   "cell_type": "markdown",
   "id": "downtown-simple",
   "metadata": {},
   "source": [
    "#### 파이썬 기본 데이터 구조"
   ]
  },
  {
   "cell_type": "markdown",
   "id": "successful-detector",
   "metadata": {},
   "source": [
    "1. 스택과 큐(stack & queue with list)\n",
    "2. 튜플과 집합(tuple & set)\n",
    "3. 사전(dictionary)\n",
    "4. Collection 모듈"
   ]
  },
  {
   "cell_type": "markdown",
   "id": "cellular-greece",
   "metadata": {},
   "source": [
    "#### 스택(stack)"
   ]
  },
  {
   "cell_type": "markdown",
   "id": "representative-sterling",
   "metadata": {},
   "source": [
    "- 후입선출 방식으로 나중에 넣은 데이터를 먼저 반환하도록 설계된 메모리 구조\n",
    "- Last In First Out(LIFO)\n",
    "- Data의 입력을 Push 출력을 Pop이라고 함"
   ]
  },
  {
   "cell_type": "code",
   "execution_count": 3,
   "id": "binary-defense",
   "metadata": {},
   "outputs": [
    {
     "name": "stdout",
     "output_type": "stream",
     "text": [
      "10 [1, 2, 3, 4, 5]\n"
     ]
    }
   ],
   "source": [
    "# 리스트를 사용하여 스택 구조를 구현\n",
    "a = [1,2,3,4,5]\n",
    "a.append(10) # 10 Push\n",
    "c = a.pop() # pop함수는 return이 존재하는 함수로 지금은 10을 반환함\n",
    "print(c, a)"
   ]
  },
  {
   "cell_type": "code",
   "execution_count": 8,
   "id": "local-independence",
   "metadata": {},
   "outputs": [
    {
     "name": "stdout",
     "output_type": "stream",
     "text": [
      "입력해주세요 : naver\n",
      "revan\n"
     ]
    }
   ],
   "source": [
    "# 스택 구조를 이용한 입력된 데이터를 역순으로 정렬\n",
    "x = list(map(str, input(\"입력해주세요 : \")))\n",
    "y = []\n",
    "for i in range(len(x)):\n",
    "    y.append(x.pop())\n",
    "y = \"\".join(y)\n",
    "print(y)"
   ]
  },
  {
   "cell_type": "markdown",
   "id": "emerging-latitude",
   "metadata": {},
   "source": [
    "#### 큐(queue)"
   ]
  },
  {
   "cell_type": "markdown",
   "id": "demanding-watts",
   "metadata": {},
   "source": [
    "- 선입후출방식으로 먼저 넣은 데이터를 먼저 반환하도록 설계된 메모리 구조\n",
    "- First In First Out(FIFO)\n",
    "- Stack과 반대되는 개념"
   ]
  },
  {
   "cell_type": "code",
   "execution_count": 10,
   "id": "ultimate-domain",
   "metadata": {},
   "outputs": [
    {
     "name": "stdout",
     "output_type": "stream",
     "text": [
      "1 [2, 3, 4, 5, 10]\n"
     ]
    }
   ],
   "source": [
    "a = [1,2,3,4,5]\n",
    "a.append(10)\n",
    "c = a.pop(0) # 가장 먼저 넣은 값 반환\n",
    "print(c, a)"
   ]
  },
  {
   "cell_type": "markdown",
   "id": "contrary-burton",
   "metadata": {},
   "source": [
    "#### 튜플(tuple)"
   ]
  },
  {
   "cell_type": "markdown",
   "id": "bottom-matrix",
   "metadata": {},
   "source": [
    "- 값의 변경이 불가능한 리스트\n",
    "- 선언시 []가 아닌 ()를 사용\n",
    "- 리스트의 연산, 인덱싱, 슬라이싱 등을 동일하게 사용"
   ]
  },
  {
   "cell_type": "code",
   "execution_count": 11,
   "id": "alive-sellers",
   "metadata": {},
   "outputs": [
    {
     "data": {
      "text/plain": [
       "tuple"
      ]
     },
     "execution_count": 11,
     "metadata": {},
     "output_type": "execute_result"
    }
   ],
   "source": [
    "t = (1,2,3)\n",
    "type(t)"
   ]
  },
  {
   "cell_type": "code",
   "execution_count": 14,
   "id": "quick-olive",
   "metadata": {},
   "outputs": [
    {
     "ename": "TypeError",
     "evalue": "'tuple' object does not support item assignment",
     "output_type": "error",
     "traceback": [
      "\u001b[1;31m---------------------------------------------------------------------------\u001b[0m",
      "\u001b[1;31mTypeError\u001b[0m                                 Traceback (most recent call last)",
      "\u001b[1;32m<ipython-input-14-c34e52410176>\u001b[0m in \u001b[0;36m<module>\u001b[1;34m\u001b[0m\n\u001b[1;32m----> 1\u001b[1;33m \u001b[0mt\u001b[0m\u001b[1;33m[\u001b[0m\u001b[1;36m0\u001b[0m\u001b[1;33m]\u001b[0m \u001b[1;33m=\u001b[0m \u001b[1;36m2\u001b[0m \u001b[1;31m# 데이터 값의 변화가 안됨.\u001b[0m\u001b[1;33m\u001b[0m\u001b[1;33m\u001b[0m\u001b[0m\n\u001b[0m",
      "\u001b[1;31mTypeError\u001b[0m: 'tuple' object does not support item assignment"
     ]
    }
   ],
   "source": [
    "t[0] = 2 # 데이터 값의 변화가 안됨."
   ]
  },
  {
   "cell_type": "markdown",
   "id": "eastern-necklace",
   "metadata": {},
   "source": [
    "튜플은 함수의 반환값등으로 쓰이며 사용자의 실수에 의한 에러를 사전에 방지  \n",
    "프로그램을 작동하는 동안 변경되지 않은 데이터의 저장"
   ]
  },
  {
   "cell_type": "code",
   "execution_count": 16,
   "id": "precise-trance",
   "metadata": {},
   "outputs": [
    {
     "name": "stdout",
     "output_type": "stream",
     "text": [
      "<class 'int'> <class 'tuple'>\n"
     ]
    }
   ],
   "source": [
    "t = (1) # int 타입\n",
    "t1 = (1,) # tuple 타입\n",
    "print(type(t), type(t1))"
   ]
  },
  {
   "cell_type": "markdown",
   "id": "alone-montana",
   "metadata": {},
   "source": [
    "#### 집합(set)"
   ]
  },
  {
   "cell_type": "markdown",
   "id": "unknown-leave",
   "metadata": {},
   "source": [
    "- 값을 순서없이 저장, 중복을 불허하는 자료형\n",
    "- set 객체 선언을 이용하여 객체 생성"
   ]
  },
  {
   "cell_type": "code",
   "execution_count": 17,
   "id": "reasonable-interstate",
   "metadata": {},
   "outputs": [
    {
     "data": {
      "text/plain": [
       "{1, 2, 3}"
      ]
     },
     "execution_count": 17,
     "metadata": {},
     "output_type": "execute_result"
    }
   ],
   "source": [
    "s = set([1,2,3,1,2,3])\n",
    "s"
   ]
  },
  {
   "cell_type": "code",
   "execution_count": 21,
   "id": "fleet-words",
   "metadata": {},
   "outputs": [
    {
     "data": {
      "text/plain": [
       "{1, 2, 3}"
      ]
     },
     "execution_count": 21,
     "metadata": {},
     "output_type": "execute_result"
    }
   ],
   "source": [
    "s = {1,2,3,1,2,3}\n",
    "s"
   ]
  },
  {
   "cell_type": "code",
   "execution_count": 28,
   "id": "superior-theorem",
   "metadata": {},
   "outputs": [
    {
     "name": "stdout",
     "output_type": "stream",
     "text": [
      "{0, 2, 3}\n"
     ]
    }
   ],
   "source": [
    "s = {1,2,3,1,2,3}\n",
    "s.add(0) # 원소 0 추가\n",
    "s.remove(1) # 원소 1 제거\n",
    "print(s)"
   ]
  },
  {
   "cell_type": "code",
   "execution_count": 29,
   "id": "golden-painting",
   "metadata": {},
   "outputs": [
    {
     "name": "stdout",
     "output_type": "stream",
     "text": [
      "{0, 2, 3, 4, 5, 6, 7}\n"
     ]
    }
   ],
   "source": [
    "s.update({4,5,6,7}) # 한번에 여러개의 원소 추가\n",
    "print(s)"
   ]
  },
  {
   "cell_type": "code",
   "execution_count": 35,
   "id": "green-local",
   "metadata": {},
   "outputs": [
    {
     "name": "stdout",
     "output_type": "stream",
     "text": [
      "{0, 2, 3, 5, 6, 7}\n"
     ]
    }
   ],
   "source": [
    "s.discard(4) # 원소 4 제거\n",
    "print(s)"
   ]
  },
  {
   "cell_type": "code",
   "execution_count": 38,
   "id": "gothic-chamber",
   "metadata": {},
   "outputs": [],
   "source": [
    "s.clear() # 변수 s의 원소를 모두 제거"
   ]
  },
  {
   "cell_type": "code",
   "execution_count": 47,
   "id": "simple-sheriff",
   "metadata": {},
   "outputs": [
    {
     "name": "stdout",
     "output_type": "stream",
     "text": [
      "합집합 원소 : {1, 2, 3, 4, 5, 6, 7, 8}\n",
      "다른 합집합 식인 s1|s2 : {1, 2, 3, 4, 5, 6, 7, 8}\n",
      "\n",
      "\n",
      "교집합 원소 : {4, 5}\n",
      "다른 교집합 식인 s1&s2 : {4, 5}\n",
      "\n",
      "\n",
      "s1에 대한 차집합 원소 : {1, 2, 3}\n",
      "다른 차집합 식인 s1-s2 : {1, 2, 3}\n"
     ]
    }
   ],
   "source": [
    "# 수학에서 활용하는 다양한 집합연산 가능\n",
    "s1 = {1,2,3,4,5}\n",
    "s2 = {4,5,6,7,8}\n",
    "union = s1.union(s2) # s1과 s2의 합집합\n",
    "print(f\"합집합 원소 : {union}\")\n",
    "print(f\"다른 합집합 식인 s1|s2 : {s1 | s2}\")\n",
    "print(\"\\n\")\n",
    "intersections = s1.intersection(s2) # s1과 s2의 교집합\n",
    "print(f\"교집합 원소 : {intersections}\")\n",
    "print(f\"다른 교집합 식인 s1&s2 : {s1 & s2}\")\n",
    "print(\"\\n\")\n",
    "difference = s1.difference(s2) # s1에 대한 차집합\n",
    "print(f\"s1에 대한 차집합 원소 : {difference}\")\n",
    "print(f\"다른 차집합 식인 s1-s2 : {s1 - s2}\")"
   ]
  },
  {
   "cell_type": "markdown",
   "id": "tutorial-lancaster",
   "metadata": {},
   "source": [
    "#### 사전(dict)"
   ]
  },
  {
   "cell_type": "markdown",
   "id": "mental-legislation",
   "metadata": {},
   "source": [
    "- 데이터를 저장할 때는 구분 지을 수 있는 값을 함께 저장\n",
    "- 구분을 위한 데이터 고유값을 Identifier 또는 Key라고 부름\n",
    "- 고유한 특징을 지닌 Key값을 활용하여 데이터 값(Value)를 관리함\n",
    "- key와 value를 매칭하여 key로 value를 검색\n",
    "- 다른 언어에서는 Hash Table이라는 용어를 사용"
   ]
  },
  {
   "cell_type": "code",
   "execution_count": 48,
   "id": "intended-gilbert",
   "metadata": {},
   "outputs": [
    {
     "data": {
      "text/plain": [
       "{'America': 1, 'Korea': 82, 'China': 86, 'Japan': 81}"
      ]
     },
     "execution_count": 48,
     "metadata": {},
     "output_type": "execute_result"
    }
   ],
   "source": [
    "country_code = {} # dict()\n",
    "country_code = {\"America\":1, \"Korea\":82, \"China\":86, \"Japan\":81}\n",
    "country_code"
   ]
  },
  {
   "cell_type": "code",
   "execution_count": 49,
   "id": "flush-dryer",
   "metadata": {},
   "outputs": [
    {
     "data": {
      "text/plain": [
       "dict_items([('America', 1), ('Korea', 82), ('China', 86), ('Japan', 81)])"
      ]
     },
     "execution_count": 49,
     "metadata": {},
     "output_type": "execute_result"
    }
   ],
   "source": [
    "country_code.items() # dict 데이터 출력"
   ]
  },
  {
   "cell_type": "code",
   "execution_count": 56,
   "id": "designing-concentrate",
   "metadata": {},
   "outputs": [
    {
     "name": "stdout",
     "output_type": "stream",
     "text": [
      "('America', 1)\n",
      "('Korea', 82)\n",
      "('China', 86)\n",
      "('Japan', 81)\n",
      "('Australia', 49)\n"
     ]
    }
   ],
   "source": [
    "for i in country_code.items():\n",
    "    print(i) # 튜플로 출력"
   ]
  },
  {
   "cell_type": "code",
   "execution_count": 57,
   "id": "medium-composition",
   "metadata": {},
   "outputs": [
    {
     "name": "stdout",
     "output_type": "stream",
     "text": [
      "Country : America, Number : 1\n",
      "Country : Korea, Number : 82\n",
      "Country : China, Number : 86\n",
      "Country : Japan, Number : 81\n",
      "Country : Australia, Number : 49\n"
     ]
    }
   ],
   "source": [
    "for i,j in country_code.items():\n",
    "    print(f\"Country : {i}, Number : {j}\")"
   ]
  },
  {
   "cell_type": "code",
   "execution_count": 50,
   "id": "published-nickel",
   "metadata": {},
   "outputs": [
    {
     "data": {
      "text/plain": [
       "dict_keys(['America', 'Korea', 'China', 'Japan'])"
      ]
     },
     "execution_count": 50,
     "metadata": {},
     "output_type": "execute_result"
    }
   ],
   "source": [
    "country_code.keys() # dict key값만 출력"
   ]
  },
  {
   "cell_type": "code",
   "execution_count": 51,
   "id": "promotional-effort",
   "metadata": {},
   "outputs": [
    {
     "data": {
      "text/plain": [
       "dict_values([1, 82, 86, 81])"
      ]
     },
     "execution_count": 51,
     "metadata": {},
     "output_type": "execute_result"
    }
   ],
   "source": [
    "country_code.values() # dict values값만 출력"
   ]
  },
  {
   "cell_type": "code",
   "execution_count": 53,
   "id": "normal-egyptian",
   "metadata": {},
   "outputs": [
    {
     "name": "stdout",
     "output_type": "stream",
     "text": [
      "{'America': 1, 'Korea': 82, 'China': 86, 'Japan': 81, 'Australia': 49}\n"
     ]
    }
   ],
   "source": [
    "country_code[\"Australia\"] = 49 # 새로운 key 추가\n",
    "print(country_code)"
   ]
  },
  {
   "cell_type": "code",
   "execution_count": 59,
   "id": "basic-evening",
   "metadata": {},
   "outputs": [
    {
     "data": {
      "text/plain": [
       "True"
      ]
     },
     "execution_count": 59,
     "metadata": {},
     "output_type": "execute_result"
    }
   ],
   "source": [
    "\"Korea\" in country_code.keys() # key값중에 \"korea\"가 있는지 확인"
   ]
  },
  {
   "cell_type": "code",
   "execution_count": 62,
   "id": "western-recognition",
   "metadata": {},
   "outputs": [],
   "source": [
    "# VSCode 에서 Rainbow csv extension 사용하는게 좋다."
   ]
  },
  {
   "cell_type": "code",
   "execution_count": null,
   "id": "substantial-commodity",
   "metadata": {},
   "outputs": [],
   "source": [
    "csv.reader()"
   ]
  },
  {
   "cell_type": "code",
   "execution_count": 70,
   "id": "sixth-rabbit",
   "metadata": {},
   "outputs": [
    {
     "name": "stdout",
     "output_type": "stream",
     "text": [
      "[['bookworm', 8500], ['elsa', 7500], ['fillmore', 7394], ['francis', 5978], ['anton_ego', 5819], ['queen_grimhilde', 5000], ['kristoff', 4934], ['brent_mustangburger', 4838], ['emperor_zurg', 4470], ['tarzan', 4193], ['stitch', 3742], ['marlon_the_alligator', 3203], ['faline', 3115], ['meg', 3098], ['fear', 2968], ['roo', 2782], ['claire_wheeler', 2777], ['don_carlton', 2773], ['guido', 2541], ['flynn_rider', 1996], ['mama_odie', 1883], ['darla_sherman', 1861], ['tiger_lily', 1846], ['chick_hicks', 1678], ['louis_the_alligator', 1374], ['the_dodo', 1364], ['ray_the_firefly', 998], ['tigger', 884], ['jane_porter', 852], ['al_mcwhiggin', 777], ['tinker_bell', 696], ['peter_pig', 500], ['rocket_raccoon', 473], ['charlotte_la_bouff', 472], ['peter_pan', 463], ['auto', 458], ['kocoum', 438], ['prince_naveen', 425], ['flik', 424], ['dory', 410], ['bo_peep', 407], ['captain_hook', 403], ['aladdin', 402], ['chatter_telephone', 372], ['django', 371], ['charlie', 363], ['bomb_voyage', 337], ['riley_anderson', 330], ['flo', 324], ['finn_mcmissile', 319], ['nani_pelekai', 319], ['pocahontas', 312], ['chum', 311], ['bing_bong', 311], ['disgust', 305], ['anna', 304], ['boo', 304], ['fa_zhou', 299], ['francesco_bernoulli', 292], ['bambi', 275], ['prince_hans', 275], ['aurora', 267], ['duke_of_weselton', 264], ['bumblebee', 260], ['joy', 258], ['dolly', 254], ['flora', 247], ['fred', 244], ['brock_pearson', 242], ['dim', 240], ['eve', 239], ['white_rabbit', 237], ['mungo', 237], ['crush', 231], ['pascal', 224], ['carrie_williams', 223], ['rapunzel', 219], ['merryweather', 219], ['wendy_darling', 218], ['roger_rabbit', 211], ['collette_tatou', 206], ['cheshire_cat', 200], ['eudora', 191], ['lilo_pelekai', 190], ['mulan', 188], ['coral', 186], ['maximus', 172], ['emile', 168], ['tiana', 167], ['auguste_gusteau', 153], ['darrell_cartrip', 146], ['sadness', 133], ['nakoma', 133], ['chunk', 126], ['alice', 123], ['the_magic_mirror', 116], ['snow_white', 115], ['splunk_teamlab', 115], ['thor', 98], ['fritz', 94]]\n"
     ]
    }
   ],
   "source": [
    "import csv\n",
    "def getKey(item): # 정렬을 위한 함수\n",
    "    return item[1]\n",
    "\n",
    "command_data = []\n",
    "# csv 파일 불러오기\n",
    "with open(\"./command_data.csv\", \"r\", encoding=\"utf-8\") as csvfile:\n",
    "    spamreader = csv.reader(csvfile, delimiter=\",\", quotechar='\"')\n",
    "    for row in spamreader:\n",
    "        command_data.append(row)\n",
    "# command들의 종류를 key에 저장하고 key에 해당하는 값이 나오면 갯수를 추가함\n",
    "command_counter = {}\n",
    "for data in command_data:\n",
    "    if data[1] in command_counter.keys():\n",
    "        command_counter[data[1]] += 1\n",
    "    else:\n",
    "        command_counter[data[1]] = 1\n",
    "# command의 종류와 갯수를 리스트로 묶고 이차원 리스트로 다시 묶어줌        \n",
    "dictlist = []\n",
    "for key, value in command_counter.items():\n",
    "    temp = [key, value]\n",
    "    dictlist.append(temp)\n",
    "# 묶인 이차원 리스트를 갯수 기준으로 내림차순 한 뒤, 상위 100개만 출력    \n",
    "sorted_dict = sorted(dictlist, key=getKey, reverse=True)\n",
    "print(sorted_dict[:100])"
   ]
  },
  {
   "cell_type": "markdown",
   "id": "casual-second",
   "metadata": {},
   "source": [
    "#### collection 모듈"
   ]
  },
  {
   "cell_type": "markdown",
   "id": "experienced-knife",
   "metadata": {},
   "source": [
    "- list, tuple, dict에 대한 Python Built-in 확장 자료 구조(모듈)\n",
    "- 편의성, 실행 효율 등을 사용자에게 제공함\n",
    "- collection 모듈의 메소드\n",
    "1. deque\n",
    "2. OrderedDict\n",
    "3. defaultdict\n",
    "4. Counter\n",
    "5. namedtuple"
   ]
  },
  {
   "cell_type": "markdown",
   "id": "congressional-fraction",
   "metadata": {},
   "source": [
    "#### 1. deque"
   ]
  },
  {
   "cell_type": "markdown",
   "id": "athletic-difficulty",
   "metadata": {},
   "source": [
    "- 스택과 큐를 지원하는 모듈\n",
    "- list에 비해 효율적이고 빠른 자료 저장 방식(자료구조)을 지원함\n",
    "- rotate, reverse등 Linked List의 특성을 지원함\n",
    "- 기존 list 형태의 함수를 모두 지원함\n",
    "- 효율적 메모리 구조로 처리속도 향상"
   ]
  },
  {
   "cell_type": "code",
   "execution_count": 75,
   "id": "surgical-pharmaceutical",
   "metadata": {},
   "outputs": [
    {
     "name": "stdout",
     "output_type": "stream",
     "text": [
      "기본 : deque([0, 1, 2, 3, 4])\n",
      "가장 왼쪽에 10 추가 : deque([10, 0, 1, 2, 3, 4])\n",
      "가장 왼쪽 값 반환 : deque([0, 1, 2, 3, 4])\n",
      "반환값 : 10\n"
     ]
    }
   ],
   "source": [
    "from collections import deque\n",
    "deque_list = deque()\n",
    "for i in range(5):\n",
    "    deque_list.append(i)\n",
    "print(f\"기본 : {deque_list}\")\n",
    "deque_list.appendleft(10)\n",
    "print(f\"가장 왼쪽에 10 추가 : {deque_list}\")\n",
    "pop_return = deque_list.popleft()\n",
    "print(f\"가장 왼쪽 값 반환 : {deque_list}\")\n",
    "print(f\"반환값 : {pop_return}\")"
   ]
  },
  {
   "cell_type": "code",
   "execution_count": 89,
   "id": "documented-norway",
   "metadata": {},
   "outputs": [
    {
     "name": "stdout",
     "output_type": "stream",
     "text": [
      "deque([1, 2, 3, 4, 0])\n"
     ]
    }
   ],
   "source": [
    "deque_list.rotate(1) # 1칸씩 값이 회전(rotate), 실행할 때 마다 달라짐\n",
    "print(deque_list)"
   ]
  },
  {
   "cell_type": "code",
   "execution_count": 90,
   "id": "victorian-cleaning",
   "metadata": {},
   "outputs": [
    {
     "name": "stdout",
     "output_type": "stream",
     "text": [
      "deque([1, 2, 3, 4, 0, 100])\n",
      "deque([120, 1, 2, 3, 4, 0, 100])\n"
     ]
    }
   ],
   "source": [
    "deque_list.append(100) # 오른쪽에 100 추가\n",
    "print(deque_list)\n",
    "deque_list.appendleft(120) # 왼쪽에 120 추가\n",
    "print(deque_list)"
   ]
  },
  {
   "cell_type": "code",
   "execution_count": 91,
   "id": "center-contents",
   "metadata": {},
   "outputs": [
    {
     "name": "stdout",
     "output_type": "stream",
     "text": [
      "deque([120, 1, 2, 3, 4, 0, 100, 5, 6, 7])\n",
      "deque([7, 6, 5, 120, 1, 2, 3, 4, 0, 100, 5, 6, 7])\n"
     ]
    }
   ],
   "source": [
    "deque_list.extend([5,6,7]) # 오른쪽에 [5,6,7] 추가\n",
    "print(deque_list)\n",
    "deque_list.extendleft([5,6,7]) # 왼쪽에 [5,6,7]추가\n",
    "print(deque_list)"
   ]
  },
  {
   "cell_type": "markdown",
   "id": "emotional-repeat",
   "metadata": {},
   "source": [
    "일반 리스트와 deque 모듈의 deque 리스트 메모리 처리 속도 비교"
   ]
  },
  {
   "cell_type": "code",
   "execution_count": 92,
   "id": "dress-virginia",
   "metadata": {},
   "outputs": [
    {
     "name": "stdout",
     "output_type": "stream",
     "text": [
      "8.27 ms ± 581 µs per loop (mean ± std. dev. of 7 runs, 100 loops each)\n"
     ]
    }
   ],
   "source": [
    "import time\n",
    "\n",
    "def general_list():\n",
    "    just_list = []\n",
    "    for i in range(100):\n",
    "        for i in range(100):\n",
    "            just_list.append(i)\n",
    "            just_list.pop()\n",
    "            \n",
    "# 매직 메소드\n",
    "%timeit general_list()"
   ]
  },
  {
   "cell_type": "code",
   "execution_count": 93,
   "id": "fatty-hopkins",
   "metadata": {},
   "outputs": [
    {
     "name": "stdout",
     "output_type": "stream",
     "text": [
      "2.73 ms ± 580 µs per loop (mean ± std. dev. of 7 runs, 100 loops each)\n"
     ]
    }
   ],
   "source": [
    "import time\n",
    "\n",
    "def deque_list():\n",
    "    deque_list = deque()\n",
    "    for i in range(100):\n",
    "        for i in range(100):\n",
    "            deque_list.append(i)\n",
    "            deque_list.pop()\n",
    "            \n",
    "# 매직 메소드\n",
    "%timeit deque_list()"
   ]
  },
  {
   "cell_type": "markdown",
   "id": "saving-lottery",
   "metadata": {},
   "source": [
    "deque list의 처리 속도가 기존 list에 비하여 약 3배가 빠름"
   ]
  },
  {
   "cell_type": "markdown",
   "id": "fitting-difference",
   "metadata": {},
   "source": [
    "#### 2. OrderedDict"
   ]
  },
  {
   "cell_type": "markdown",
   "id": "pursuant-strand",
   "metadata": {},
   "source": [
    "- Dict와 달리, 데이터를 입력한 순서대로 dict를 반환함\n",
    "- 그러나 dict도 python3.6부터 입력한 순서를 보장하여 출력함"
   ]
  },
  {
   "cell_type": "code",
   "execution_count": 100,
   "id": "varying-advertising",
   "metadata": {},
   "outputs": [
    {
     "name": "stdout",
     "output_type": "stream",
     "text": [
      "x 100\n",
      "y 200\n",
      "z 300\n",
      "l 400\n"
     ]
    }
   ],
   "source": [
    "# 옛날에는 입력한 순서대로 출력이 안됬지만 지금은 출력이 됨\n",
    "d = {}\n",
    "d[\"x\"] = 100\n",
    "d[\"y\"] = 200\n",
    "d[\"z\"] = 300\n",
    "d[\"l\"] = 400\n",
    "# 순서 x > y > z > l\n",
    "for i, j in d.items():\n",
    "    print(i,j)"
   ]
  },
  {
   "cell_type": "markdown",
   "id": "african-monitor",
   "metadata": {},
   "source": [
    "#### 3. defaultdict"
   ]
  },
  {
   "cell_type": "markdown",
   "id": "proved-india",
   "metadata": {},
   "source": [
    "- Dict type의 값에 기본 값을 지정, 신규값 생성시 사용하는 방법"
   ]
  },
  {
   "cell_type": "code",
   "execution_count": 103,
   "id": "greek-mechanics",
   "metadata": {},
   "outputs": [
    {
     "ename": "KeyError",
     "evalue": "'first'",
     "output_type": "error",
     "traceback": [
      "\u001b[1;31m---------------------------------------------------------------------------\u001b[0m",
      "\u001b[1;31mKeyError\u001b[0m                                  Traceback (most recent call last)",
      "\u001b[1;32m<ipython-input-103-bad9e9b10081>\u001b[0m in \u001b[0;36m<module>\u001b[1;34m\u001b[0m\n\u001b[0;32m      1\u001b[0m \u001b[1;31m# 기존 dict는 없는 key값은 불러올 수 없음\u001b[0m\u001b[1;33m\u001b[0m\u001b[1;33m\u001b[0m\u001b[1;33m\u001b[0m\u001b[0m\n\u001b[0;32m      2\u001b[0m \u001b[0md\u001b[0m \u001b[1;33m=\u001b[0m \u001b[0mdict\u001b[0m\u001b[1;33m(\u001b[0m\u001b[1;33m)\u001b[0m\u001b[1;33m\u001b[0m\u001b[1;33m\u001b[0m\u001b[0m\n\u001b[1;32m----> 3\u001b[1;33m \u001b[0mprint\u001b[0m\u001b[1;33m(\u001b[0m\u001b[0md\u001b[0m\u001b[1;33m[\u001b[0m\u001b[1;34m\"first\"\u001b[0m\u001b[1;33m]\u001b[0m\u001b[1;33m)\u001b[0m\u001b[1;33m\u001b[0m\u001b[1;33m\u001b[0m\u001b[0m\n\u001b[0m",
      "\u001b[1;31mKeyError\u001b[0m: 'first'"
     ]
    }
   ],
   "source": [
    "# 기존 dict는 없는 key값은 불러올 수 없음\n",
    "d = dict()\n",
    "print(d[\"first\"])"
   ]
  },
  {
   "cell_type": "code",
   "execution_count": 110,
   "id": "established-arizona",
   "metadata": {},
   "outputs": [
    {
     "name": "stdout",
     "output_type": "stream",
     "text": [
      "0\n"
     ]
    }
   ],
   "source": [
    "from collections import defaultdict\n",
    "d = defaultdict(object) # Default dict를 생성\n",
    "d = defaultdict(lambda: 0) # Default key의 value를 0으로 설정\n",
    "print(d[\"first\"])"
   ]
  },
  {
   "cell_type": "code",
   "execution_count": 112,
   "id": "ideal-idaho",
   "metadata": {},
   "outputs": [
    {
     "data": {
      "text/plain": [
       "defaultdict(<function __main__.<lambda>()>,\n",
       "            {'가': 4,\n",
       "             '나': 2,\n",
       "             '다라': 1,\n",
       "             '마다': 1,\n",
       "             '바': 1,\n",
       "             '다': 1,\n",
       "             '라라': 1,\n",
       "             '마마라': 1,\n",
       "             '라하라': 1,\n",
       "             '갈나': 2,\n",
       "             '니나': 1,\n",
       "             '갈': 1,\n",
       "             '가가가': 1,\n",
       "             '나나': 1,\n",
       "             '니': 1})"
      ]
     },
     "execution_count": 112,
     "metadata": {},
     "output_type": "execute_result"
    }
   ],
   "source": [
    "# text - mining 접근법인 vector space model\n",
    "text = \"가 나 다라 마다 바 가 나 다 라라 마마라 라하라 갈나 니나 갈나 갈 가가가 가 가 나나 니\".split()\n",
    "d = defaultdict(lambda : 0)\n",
    "for i in text:\n",
    "    d[i] += 1\n",
    "# 단어 갯수 출력\n",
    "d"
   ]
  },
  {
   "cell_type": "markdown",
   "id": "inclusive-delivery",
   "metadata": {},
   "source": [
    "#### 4. Counter"
   ]
  },
  {
   "cell_type": "markdown",
   "id": "twenty-appeal",
   "metadata": {},
   "source": [
    "- Sequence type의 data elemnet들의 갯수를 dict형태로 반환"
   ]
  },
  {
   "cell_type": "code",
   "execution_count": 114,
   "id": "automatic-surgery",
   "metadata": {},
   "outputs": [
    {
     "name": "stdout",
     "output_type": "stream",
     "text": [
      "Counter({'가': 4, '나': 2, '갈나': 2, '다라': 1, '마다': 1, '바': 1, '다': 1, '라라': 1, '마마라': 1, '라하라': 1, '니나': 1, '갈': 1, '가가가': 1, '나나': 1, '니': 1})\n"
     ]
    }
   ],
   "source": [
    "from collections import Counter\n",
    "text = \"가 나 다라 마다 바 가 나 다 라라 마마라 라하라 갈나 니나 갈나 갈 가가가 가 가 나나 니\".split()\n",
    "print(Counter(text))"
   ]
  },
  {
   "cell_type": "code",
   "execution_count": 116,
   "id": "remarkable-priest",
   "metadata": {},
   "outputs": [
    {
     "name": "stdout",
     "output_type": "stream",
     "text": [
      "Counter({'red': 4, 'blue': 2})\n",
      "['red', 'red', 'red', 'red', 'blue', 'blue']\n"
     ]
    }
   ],
   "source": [
    "c = Counter({\"red\":4, \"blue\":2})\n",
    "print(c)\n",
    "print(list(c.elements()))"
   ]
  },
  {
   "cell_type": "code",
   "execution_count": 124,
   "id": "chronic-sharp",
   "metadata": {},
   "outputs": [
    {
     "name": "stdout",
     "output_type": "stream",
     "text": [
      "Counter({'red': 2, 'blue': 1})\n",
      "Counter({'red': 6, 'blue': 3})\n"
     ]
    }
   ],
   "source": [
    "c = Counter({\"red\":4, \"blue\":2})\n",
    "b = Counter({\"red\":2, \"blue\":1})\n",
    "print(c - b)\n",
    "print(c + b)"
   ]
  },
  {
   "cell_type": "code",
   "execution_count": 123,
   "id": "facial-composer",
   "metadata": {},
   "outputs": [
    {
     "name": "stdout",
     "output_type": "stream",
     "text": [
      "Counter({'b': 2, 'a': 1})\n",
      "Counter({'a': 4, 'd': 4, 'c': 3, 'b': 2})\n"
     ]
    }
   ],
   "source": [
    "c = Counter(a=4, b=2, c=0, d=-2)\n",
    "b = Counter(a=1, b=2, c=3, d=4)\n",
    "print(c & b)\n",
    "print(c | b)"
   ]
  },
  {
   "cell_type": "code",
   "execution_count": 128,
   "id": "infinite-respondent",
   "metadata": {},
   "outputs": [
    {
     "data": {
      "text/plain": [
       "[('가', 4),\n",
       " ('나', 2),\n",
       " ('갈나', 2),\n",
       " ('다라', 1),\n",
       " ('마다', 1),\n",
       " ('바', 1),\n",
       " ('다', 1),\n",
       " ('라라', 1),\n",
       " ('마마라', 1),\n",
       " ('라하라', 1),\n",
       " ('니나', 1),\n",
       " ('갈', 1),\n",
       " ('가가가', 1),\n",
       " ('나나', 1),\n",
       " ('니', 1)]"
      ]
     },
     "execution_count": 128,
     "metadata": {},
     "output_type": "execute_result"
    }
   ],
   "source": [
    "# 단어의 갯수를 내림차순으로 정렬\n",
    "sorted(Counter(text).items(), key=lambda t: t[1], reverse=True)"
   ]
  },
  {
   "cell_type": "code",
   "execution_count": 127,
   "id": "thermal-salmon",
   "metadata": {},
   "outputs": [
    {
     "name": "stdout",
     "output_type": "stream",
     "text": [
      "4\n"
     ]
    }
   ],
   "source": [
    "print(Counter(text)[\"가\"])"
   ]
  },
  {
   "cell_type": "markdown",
   "id": "characteristic-membership",
   "metadata": {},
   "source": [
    "#### 5. namedtuple"
   ]
  },
  {
   "cell_type": "markdown",
   "id": "treated-stocks",
   "metadata": {},
   "source": [
    "- tuple형태로 data 구조체를 저장하는 방법\n",
    "- 저장되는 data의 variable을 사전에 지정해서 저장함"
   ]
  },
  {
   "cell_type": "code",
   "execution_count": 133,
   "id": "random-volunteer",
   "metadata": {},
   "outputs": [
    {
     "name": "stdout",
     "output_type": "stream",
     "text": [
      "<class '__main__.Point'>\n",
      "33\n",
      "11 22\n",
      "11 22\n",
      "Point(x=11, y=22)\n"
     ]
    }
   ],
   "source": [
    "# 데이터를 저장할 때 어떤 식으로 저장할지 사전에 정의함\n",
    "from collections import namedtuple\n",
    "temp = namedtuple(\"Point\", [\"x\", \"y\"]) # 구조체(클래스)의 이름은 Point\n",
    "print(temp)\n",
    "p = temp(11, y=22) # x와 y를 지정하고 구조체로 저장\n",
    "print(p[0] + p[1])\n",
    "x, y = p\n",
    "print(x, y)\n",
    "print(p.x, p.y)\n",
    "print(Point(x=11, y=22))"
   ]
  }
 ],
 "metadata": {
  "kernelspec": {
   "display_name": "Python 3",
   "language": "python",
   "name": "python3"
  },
  "language_info": {
   "codemirror_mode": {
    "name": "ipython",
    "version": 3
   },
   "file_extension": ".py",
   "mimetype": "text/x-python",
   "name": "python",
   "nbconvert_exporter": "python",
   "pygments_lexer": "ipython3",
   "version": "3.7.3"
  }
 },
 "nbformat": 4,
 "nbformat_minor": 5
}
