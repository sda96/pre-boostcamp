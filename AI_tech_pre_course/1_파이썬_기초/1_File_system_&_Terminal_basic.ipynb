{
 "cells": [
  {
   "cell_type": "markdown",
   "id": "major-queen",
   "metadata": {},
   "source": [
    "### 컴퓨터 OS(운영체제, Operating System)"
   ]
  },
  {
   "cell_type": "markdown",
   "id": "living-essay",
   "metadata": {},
   "source": [
    "1. 우리의 프로그램이 동작할 수 있는 구동 환경\n",
    "- 소프트웨어 : OS, Application\n",
    "- 하드웨어 : CPU, Memory\n",
    "2. 소프트웨어가 하드웨어와 연결이 되는 시스템을 운영체제라 부릅니다.\n",
    "3. 운영체제의 예시로는 Mac 과 Window"
   ]
  },
  {
   "cell_type": "markdown",
   "id": "industrial-commission",
   "metadata": {},
   "source": [
    "### 파일시스템"
   ]
  },
  {
   "cell_type": "markdown",
   "id": "solved-compatibility",
   "metadata": {},
   "source": [
    "1. OS에서 파일을 저장하는 트리구조의 저장체계\n",
    "2. 모든 프로그램은 파일로 구성되어서 사용합니다."
   ]
  },
  {
   "cell_type": "markdown",
   "id": "identified-victim",
   "metadata": {},
   "source": [
    "파일의 기본체계\n",
    "- 디렉토리(폴더) : 파일과 다른 디렉토리를 포함할 수 있는 그릇의 역할을 합니다.\n",
    "- 파일이란 컴퓨터등의 기기에서 의미있는 정보를 담는 논리적인 단위입니다.\n",
    "- 파일은 파일명과 확장자로 이루어져있으며 실행, 쓰기, 읽기등이 가능합니다."
   ]
  },
  {
   "cell_type": "markdown",
   "id": "yellow-height",
   "metadata": {},
   "source": [
    "파일시스템은 root 디렉토리로 부터 시작하는 트리구조로 되어 있습니다."
   ]
  },
  {
   "cell_type": "markdown",
   "id": "isolated-crest",
   "metadata": {},
   "source": [
    "### 파일시스템의 경로"
   ]
  },
  {
   "cell_type": "markdown",
   "id": "connected-america",
   "metadata": {},
   "source": [
    "컴퓨터 파일의 고유한 위치로 트리구조상 노드의 연결\n",
    "- 절대경로 : 루트 디렉토리로부터 파일위치까지의 경로\n",
    "- 상대경로 : 현재있는 디렉토리로부터 타깃파일까지의 경로"
   ]
  },
  {
   "cell_type": "markdown",
   "id": "laden-technician",
   "metadata": {},
   "source": [
    "### 터미널"
   ]
  },
  {
   "cell_type": "markdown",
   "id": "extraordinary-painting",
   "metadata": {},
   "source": [
    "사용자 명령 인터페이스에는 두가지가 있습니다.\n",
    "- GUI(Graphical User Interface)\n",
    "- CLI(Command Line Interface)"
   ]
  },
  {
   "cell_type": "markdown",
   "id": "accessory-productivity",
   "metadata": {},
   "source": [
    "Command는 Console, Terminal이라고도 불리며 메인시스템에 접속하기 위한 거쳐가는 터미널과 같아서 붙여진 이름입니다."
   ]
  },
  {
   "cell_type": "markdown",
   "id": "established-excellence",
   "metadata": {},
   "source": [
    "각 터미널에서는 프로그램을 작동하는 shell이 존재 합니다.  \n",
    "터미널 환경에는 cmd, terminal, linux, ubuntu, conda prompt등이 있습니다."
   ]
  },
  {
   "cell_type": "markdown",
   "id": "going-planner",
   "metadata": {},
   "source": [
    "### 명령어 프롬프트(cmd)\n",
    "\n",
    "cd **경로** \n",
    "- 경로로 이동  \n",
    "\n",
    "mkdir **폴더명**  \n",
    "- 현재경로에 폴더생성  \n",
    "\n",
    "dir **경로**   \n",
    "- 현재경로에 디렉토리 출력  \n",
    "\n",
    "copy **..\\..\\ abc.txt** .\\ \n",
    "- 전전폴더에 있는 abc.txt 파일을 현재 경로에 복사\n",
    "\n",
    "cls \n",
    "- cmd창을 청소합니다\n",
    "\n",
    "tree\n",
    "- tree 디렉터리 목록을 그래픽 형식으로 출력\n",
    "\n",
    "systeminfo \n",
    "- 컴퓨터의 속성 및 정보 보기\n",
    "\n",
    "ipconfig\n",
    "- 아이피 주소 확인\n",
    "- IPv4 주소가 개인 아이피 주소임\n",
    "\n",
    "zip, unzip\n",
    "- cmd창에서 폴더를 압축, 압축해제를 시켜줌\n",
    "- https://lee-mandu.tistory.com/530"
   ]
  }
 ],
 "metadata": {
  "kernelspec": {
   "display_name": "Python 3",
   "language": "python",
   "name": "python3"
  },
  "language_info": {
   "codemirror_mode": {
    "name": "ipython",
    "version": 3
   },
   "file_extension": ".py",
   "mimetype": "text/x-python",
   "name": "python",
   "nbconvert_exporter": "python",
   "pygments_lexer": "ipython3",
   "version": "3.7.3"
  }
 },
 "nbformat": 4,
 "nbformat_minor": 5
}
