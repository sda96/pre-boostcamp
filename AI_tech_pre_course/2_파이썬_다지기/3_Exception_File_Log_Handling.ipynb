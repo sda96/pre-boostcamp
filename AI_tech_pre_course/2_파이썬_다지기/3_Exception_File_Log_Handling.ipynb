{
 "cells": [
  {
   "cell_type": "markdown",
   "id": "enhanced-standing",
   "metadata": {},
   "source": [
    "### Exception"
   ]
  },
  {
   "cell_type": "markdown",
   "id": "adverse-alaska",
   "metadata": {},
   "source": [
    "1. 예상 가능한 예외\n",
    "2. 예상이 불가능한 예외"
   ]
  },
  {
   "cell_type": "markdown",
   "id": "french-entry",
   "metadata": {},
   "source": [
    "#### 1. 예상 가능한 예외"
   ]
  },
  {
   "cell_type": "markdown",
   "id": "religious-selling",
   "metadata": {},
   "source": [
    "- 발생 여부를 사전에 인지 할 수 있는 예외\n",
    "- 사용자의 잘못된 입력, 파일 호출 시 파일 없음\n",
    "- 개발자가 반드시 명시적으로 정의 해야함"
   ]
  },
  {
   "cell_type": "markdown",
   "id": "inclusive-theme",
   "metadata": {},
   "source": [
    "#### 2. 예상 불가능한 예외"
   ]
  },
  {
   "cell_type": "markdown",
   "id": "derived-fundamental",
   "metadata": {},
   "source": [
    "- 인터프리터 과정에서 발생하는 예외로 개발자의 실수인 경우도 많음\n",
    "- 리스트의 범위를 넘어가는 값 호출, 정수를 0으로 나누는 경우 인터프리터가 자동으로 종료시킴\n",
    "- 수행 불가시 인터프리터가 자동 호출"
   ]
  },
  {
   "cell_type": "markdown",
   "id": "stone-symbol",
   "metadata": {},
   "source": [
    "예외가 발생할 경우 후속 조치를 취해야 하며 이에 대한 대처 방법을 알아야 함"
   ]
  },
  {
   "cell_type": "markdown",
   "id": "vietnamese-afghanistan",
   "metadata": {},
   "source": [
    "- if문\n",
    "\n",
    "- excpetion handling"
   ]
  },
  {
   "cell_type": "markdown",
   "id": "conservative-electronics",
   "metadata": {},
   "source": [
    "#### Exception Handling - 제품, 모든 잘못된 상황에 대처가 필요"
   ]
  },
  {
   "cell_type": "markdown",
   "id": "worldwide-horizontal",
   "metadata": {},
   "source": [
    "(if문과 유사함)  \n",
    "try:  \n",
    "    예외 발생 가능 코드  \n",
    "except:  \n",
    "    예외 발생 시 대응하는 코드\n",
    "        "
   ]
  },
  {
   "cell_type": "markdown",
   "id": "beginning-promotion",
   "metadata": {},
   "source": [
    "일반적으로 코드에 에러가 발생하는 인터프리터가 종료가 되지만 예외처리를 잘해주면 에러가 발생하여도 다음 순번의 코드로 넘어가는 안정적인 코드를 만들 수 있음"
   ]
  },
  {
   "cell_type": "code",
   "execution_count": 2,
   "id": "specified-breast",
   "metadata": {},
   "outputs": [
    {
     "name": "stdout",
     "output_type": "stream",
     "text": [
      "Not divided by 0\n",
      "10.0\n",
      "5.0\n",
      "3.3333333333333335\n",
      "2.5\n",
      "2.0\n",
      "1.6666666666666667\n",
      "1.4285714285714286\n",
      "1.25\n",
      "1.1111111111111112\n"
     ]
    }
   ],
   "source": [
    "# 0으로 숫자를 나눌때 발생하는 에러 출력\n",
    "for i in range(10):\n",
    "    try:\n",
    "        print(10 / i)\n",
    "    except ZeroDivisionError: # built in error\n",
    "        print(\"Not divided by 0\")"
   ]
  },
  {
   "cell_type": "markdown",
   "id": "scheduled-college",
   "metadata": {},
   "source": [
    "Built-in Exception(파이썬 내부적으로 지정되어 있는 에러함수)  \n",
    "사용자 정의 에러 함수도 만들 수 있음\n",
    "\n",
    "|이름|내용|\n",
    "|-|-|\n",
    "|IndexError|List의 index 범위를 넘어갈 떄|\n",
    "|NameError|존재하지 않은 변수를 호출 할 때|\n",
    "|ZeroDivisionError|0으로 숫자를 나눌 떄|\n",
    "|ValueError|변환할 수 없는 문자/숫자를 변환할 떄|\n",
    "|FileNotFoundError|존재하지 않는 파일을 호출할 떄|"
   ]
  },
  {
   "cell_type": "code",
   "execution_count": 6,
   "id": "interested-glossary",
   "metadata": {},
   "outputs": [
    {
     "name": "stdout",
     "output_type": "stream",
     "text": [
      "Not divided by 0\n",
      "10.0\n",
      "1\n",
      "5.0\n",
      "2\n",
      "3.3333333333333335\n",
      "3\n",
      "2.5\n",
      "4\n",
      "2.0\n",
      "5\n"
     ]
    }
   ],
   "source": [
    "# 0으로 숫자를 나눌때 발생하는 에러 출력\n",
    "a = [0,1,2,3,4,5]\n",
    "for i in a:\n",
    "    try:\n",
    "        print(10 / i)\n",
    "        print(a[i])\n",
    "    except ZeroDivisionError: # built in error\n",
    "        print(\"Not divided by 0\")\n",
    "    except IndexError as e:\n",
    "        print(e)\n",
    "    except Exception as e: # 전체 에러를 잡아버리면 어디서 나오는 에러인지 사용자가 분간하기 어려움\n",
    "        print(e)"
   ]
  },
  {
   "cell_type": "markdown",
   "id": "inclusive-favor",
   "metadata": {},
   "source": [
    "(if문과 유사함)  \n",
    "try:  \n",
    "    예외 발생 가능 코드  \n",
    "except:  \n",
    "    예외 발생 시 대응하는 코드  \n",
    "else:  \n",
    "    예외가 발생하지 않을 때 동작하는 코드"
   ]
  },
  {
   "cell_type": "code",
   "execution_count": 10,
   "id": "baking-leather",
   "metadata": {},
   "outputs": [
    {
     "name": "stdout",
     "output_type": "stream",
     "text": [
      "Not divided by 0\n",
      "10.0\n",
      "1\n",
      "1\n",
      "5.0\n",
      "2\n",
      "2\n",
      "3.3333333333333335\n",
      "3\n",
      "3\n",
      "2.5\n",
      "4\n",
      "4\n",
      "2.0\n",
      "5\n",
      "5\n"
     ]
    }
   ],
   "source": [
    "# 0으로 숫자를 나눌때 발생하는 에러 출력\n",
    "a = [0,1,2,3,4,5]\n",
    "for i in a:\n",
    "    try:\n",
    "        print(10 / i)\n",
    "        print(a[i])\n",
    "    except ZeroDivisionError: # built in error\n",
    "        print(\"Not divided by 0\")\n",
    "    else: # 에러가 발생하지 않은 경우 작동하는 코드\n",
    "        print(i)"
   ]
  },
  {
   "cell_type": "markdown",
   "id": "pointed-thong",
   "metadata": {},
   "source": [
    "(if문과 유사함)  \n",
    "try:  \n",
    "    예외 발생 가능 코드  \n",
    "except:  \n",
    "    예외 발생 시 대응하는 코드  \n",
    "finally:  \n",
    "    예외 발생 여부와 상관없이 실행됨"
   ]
  },
  {
   "cell_type": "code",
   "execution_count": 11,
   "id": "direct-desperate",
   "metadata": {},
   "outputs": [
    {
     "name": "stdout",
     "output_type": "stream",
     "text": [
      "Not divided by 0\n",
      "Finish!\n",
      "10.0\n",
      "1\n",
      "1\n",
      "Finish!\n",
      "5.0\n",
      "2\n",
      "2\n",
      "Finish!\n",
      "3.3333333333333335\n",
      "3\n",
      "3\n",
      "Finish!\n",
      "2.5\n",
      "4\n",
      "4\n",
      "Finish!\n",
      "2.0\n",
      "5\n",
      "5\n",
      "Finish!\n"
     ]
    }
   ],
   "source": [
    "# 0으로 숫자를 나눌때 발생하는 에러 출력\n",
    "a = [0,1,2,3,4,5]\n",
    "for i in a:\n",
    "    try:\n",
    "        print(10 / i)\n",
    "        print(a[i])\n",
    "    except ZeroDivisionError: # built in error\n",
    "        print(\"Not divided by 0\")\n",
    "    else: # 에러가 발생하지 않은 경우 작동하는 코드\n",
    "        print(i)\n",
    "    finally: # 예외 발생 여부와 상관없이 작동하는 코드\n",
    "        print(\"Finish!\")"
   ]
  },
  {
   "cell_type": "markdown",
   "id": "rental-arthritis",
   "metadata": {},
   "source": [
    "#### raise 구문"
   ]
  },
  {
   "cell_type": "markdown",
   "id": "balanced-oracle",
   "metadata": {},
   "source": [
    "- 필요에 따라서 강제로 Exception을 발생시켜서 강제로 프로그램을 종료시킴"
   ]
  },
  {
   "cell_type": "code",
   "execution_count": 13,
   "id": "future-uruguay",
   "metadata": {},
   "outputs": [
    {
     "name": "stdout",
     "output_type": "stream",
     "text": [
      "변환할 정수 값을 입력해주세요 4\n",
      "정수값으로 변환된 숫자 - 4\n",
      "변환할 정수 값을 입력해주세요 3.2\n"
     ]
    },
    {
     "ename": "ValueError",
     "evalue": "숫자값을 입력하지 않으셨습니다.",
     "output_type": "error",
     "traceback": [
      "\u001b[1;31m---------------------------------------------------------------------------\u001b[0m",
      "\u001b[1;31mValueError\u001b[0m                                Traceback (most recent call last)",
      "\u001b[1;32m<ipython-input-13-5152217cb53f>\u001b[0m in \u001b[0;36m<module>\u001b[1;34m\u001b[0m\n\u001b[0;32m      3\u001b[0m     \u001b[1;32mfor\u001b[0m \u001b[0mdigit\u001b[0m \u001b[1;32min\u001b[0m \u001b[0mvalue\u001b[0m\u001b[1;33m:\u001b[0m\u001b[1;33m\u001b[0m\u001b[1;33m\u001b[0m\u001b[0m\n\u001b[0;32m      4\u001b[0m         \u001b[1;32mif\u001b[0m \u001b[0mdigit\u001b[0m \u001b[1;32mnot\u001b[0m \u001b[1;32min\u001b[0m \u001b[1;34m\"0123456789\"\u001b[0m\u001b[1;33m:\u001b[0m\u001b[1;33m\u001b[0m\u001b[1;33m\u001b[0m\u001b[0m\n\u001b[1;32m----> 5\u001b[1;33m             \u001b[1;32mraise\u001b[0m \u001b[0mValueError\u001b[0m\u001b[1;33m(\u001b[0m\u001b[1;34m\"숫자값을 입력하지 않으셨습니다.\"\u001b[0m\u001b[1;33m)\u001b[0m\u001b[1;33m\u001b[0m\u001b[1;33m\u001b[0m\u001b[0m\n\u001b[0m\u001b[0;32m      6\u001b[0m     \u001b[0mprint\u001b[0m\u001b[1;33m(\u001b[0m\u001b[1;34mf\"정수값으로 변환된 숫자 - {int(value)}\"\u001b[0m\u001b[1;33m)\u001b[0m\u001b[1;33m\u001b[0m\u001b[1;33m\u001b[0m\u001b[0m\n",
      "\u001b[1;31mValueError\u001b[0m: 숫자값을 입력하지 않으셨습니다."
     ]
    }
   ],
   "source": [
    "while True:\n",
    "    value = input(\"변환할 정수 값을 입력해주세요 \")\n",
    "    for digit in value:\n",
    "        if digit not in \"0123456789\":\n",
    "            raise ValueError(\"숫자값을 입력하지 않으셨습니다.\")\n",
    "    print(f\"정수값으로 변환된 숫자 - {int(value)}\")"
   ]
  },
  {
   "cell_type": "markdown",
   "id": "integral-comedy",
   "metadata": {},
   "source": [
    "#### assert 구문"
   ]
  },
  {
   "cell_type": "markdown",
   "id": "split-receptor",
   "metadata": {},
   "source": [
    "- 특정 조건에 만족하지 않을 경우 예외 발생\n",
    "- 함수의 parameter에 대한 type hinting이 생겨서 실수가 줄었지만 그래도 필요"
   ]
  },
  {
   "cell_type": "code",
   "execution_count": 21,
   "id": "precise-shopping",
   "metadata": {},
   "outputs": [
    {
     "ename": "AssertionError",
     "evalue": "",
     "output_type": "error",
     "traceback": [
      "\u001b[1;31m---------------------------------------------------------------------------\u001b[0m",
      "\u001b[1;31mAssertionError\u001b[0m                            Traceback (most recent call last)",
      "\u001b[1;32m<ipython-input-21-1758f7099835>\u001b[0m in \u001b[0;36m<module>\u001b[1;34m\u001b[0m\n\u001b[0;32m      3\u001b[0m     \u001b[1;32mreturn\u001b[0m \u001b[0mbin\u001b[0m\u001b[1;33m(\u001b[0m\u001b[0mdecimal_number\u001b[0m\u001b[1;33m)\u001b[0m\u001b[1;33m\u001b[0m\u001b[1;33m\u001b[0m\u001b[0m\n\u001b[0;32m      4\u001b[0m \u001b[1;33m\u001b[0m\u001b[0m\n\u001b[1;32m----> 5\u001b[1;33m \u001b[0mprint\u001b[0m\u001b[1;33m(\u001b[0m\u001b[0mget_binary_number\u001b[0m\u001b[1;33m(\u001b[0m\u001b[1;34m\"bba\"\u001b[0m\u001b[1;33m)\u001b[0m\u001b[1;33m)\u001b[0m\u001b[1;33m\u001b[0m\u001b[1;33m\u001b[0m\u001b[0m\n\u001b[0m",
      "\u001b[1;32m<ipython-input-21-1758f7099835>\u001b[0m in \u001b[0;36mget_binary_number\u001b[1;34m(decimal_number)\u001b[0m\n\u001b[0;32m      1\u001b[0m \u001b[1;32mdef\u001b[0m \u001b[0mget_binary_number\u001b[0m\u001b[1;33m(\u001b[0m\u001b[0mdecimal_number\u001b[0m\u001b[1;33m)\u001b[0m\u001b[1;33m:\u001b[0m\u001b[1;33m\u001b[0m\u001b[1;33m\u001b[0m\u001b[0m\n\u001b[1;32m----> 2\u001b[1;33m     \u001b[1;32massert\u001b[0m \u001b[0misinstance\u001b[0m\u001b[1;33m(\u001b[0m\u001b[0mdecimal_number\u001b[0m\u001b[1;33m,\u001b[0m \u001b[0mint\u001b[0m\u001b[1;33m)\u001b[0m \u001b[1;31m# parameter에 들어온 값의 자료형이 int인가? False면 error를 발생시켜 코드를 종료시킴\u001b[0m\u001b[1;33m\u001b[0m\u001b[1;33m\u001b[0m\u001b[0m\n\u001b[0m\u001b[0;32m      3\u001b[0m     \u001b[1;32mreturn\u001b[0m \u001b[0mbin\u001b[0m\u001b[1;33m(\u001b[0m\u001b[0mdecimal_number\u001b[0m\u001b[1;33m)\u001b[0m\u001b[1;33m\u001b[0m\u001b[1;33m\u001b[0m\u001b[0m\n\u001b[0;32m      4\u001b[0m \u001b[1;33m\u001b[0m\u001b[0m\n\u001b[0;32m      5\u001b[0m \u001b[0mprint\u001b[0m\u001b[1;33m(\u001b[0m\u001b[0mget_binary_number\u001b[0m\u001b[1;33m(\u001b[0m\u001b[1;34m\"bba\"\u001b[0m\u001b[1;33m)\u001b[0m\u001b[1;33m)\u001b[0m\u001b[1;33m\u001b[0m\u001b[1;33m\u001b[0m\u001b[0m\n",
      "\u001b[1;31mAssertionError\u001b[0m: "
     ]
    }
   ],
   "source": [
    "def get_binary_number(decimal_number):\n",
    "    assert isinstance(decimal_number, int) # parameter에 들어온 값의 자료형이 int인가? False면 error를 발생시켜 코드를 종료시킴\n",
    "    return bin(decimal_number)\n",
    "\n",
    "print(get_binary_number(\"bba\"))"
   ]
  },
  {
   "cell_type": "markdown",
   "id": "earned-general",
   "metadata": {},
   "source": [
    "### File Handling"
   ]
  },
  {
   "cell_type": "markdown",
   "id": "junior-dancing",
   "metadata": {},
   "source": [
    "File system(파일 시스템)  "
   ]
  },
  {
   "cell_type": "markdown",
   "id": "respected-money",
   "metadata": {},
   "source": [
    "- OS에서 파일을 저장하는 트리구조 저장 체계  \n",
    "- 컴퓨터등의 기기에서 의미있는 정보를 담는 논리적인 단위\n",
    "- 모든 프로그램은 파일로 구성되어있고, 파일을 사용한다\n"
   ]
  },
  {
   "cell_type": "markdown",
   "id": "alike-mistake",
   "metadata": {},
   "source": [
    "파일의 종류"
   ]
  },
  {
   "cell_type": "markdown",
   "id": "documentary-bristol",
   "metadata": {},
   "source": [
    "- 기본적인 파일 종류로 text파일과 binary파일로 나눔\n",
    "- 컴퓨터는 text파일을 처리하기 위해 binary파일로 변환시킴(ex.pyc파일)\n",
    "- 모든 text파일은 실제로는 binary파일로 ASCII, Unicode 문자열 집합으로 저장되어 사람이 읽을 수 있음"
   ]
  },
  {
   "cell_type": "markdown",
   "id": "indonesian-river",
   "metadata": {},
   "source": [
    "|Binary 파일|Text 파일|\n",
    "|-|-|\n",
    "|컴퓨터만 이해할 수 있는 형태인 이진형식을 저장된 파일|인간도 이해할 수 있는 형태인 문자열 형식으로 저장된 파일|\n",
    "|일반적으로 메모장으로 열면 내용이 꺠져보임|메모장으로 열면 내용 확인 가능|\n",
    "|엑셀파일, 워드파일 등등...|메모장에 저장된 파일, HTML 파일, 파이썬 코드파일 등등...|"
   ]
  },
  {
   "cell_type": "markdown",
   "id": "sealed-phrase",
   "metadata": {},
   "source": [
    "#### python file I/O"
   ]
  },
  {
   "cell_type": "markdown",
   "id": "fuzzy-poison",
   "metadata": {},
   "source": [
    "|파일 접근 모드|설명|\n",
    "|-|-|\n",
    "|r|읽기모드 - 파일을 읽기만 할 때 사용|\n",
    "|w|쓰기모드 - 파일에 내용을 쓸 떄 사용|\n",
    "|a|추가모드 - 파일의 마지막에 새로운 내용을 추가할 때 사용|"
   ]
  },
  {
   "cell_type": "code",
   "execution_count": 24,
   "id": "fewer-thousand",
   "metadata": {},
   "outputs": [
    {
     "name": "stdout",
     "output_type": "stream",
     "text": [
      "Yesterday\n",
      "All my troubles seemed so far away\n",
      "Now it looks as though they're here to stay\n",
      "Oh, I believe in yesterday\n",
      "Suddenly\n",
      "I'm not half the man I used to be\n",
      "There's a shadow hangin' over me\n",
      "Oh, yesterday came suddenly\n",
      "Why she had to go, I don't know, she wouldn't say\n",
      "I said something wrong, now I long for yesterday\n",
      "Yesterday\n",
      "Love was such an easy game to play\n",
      "Now I need a place to hide away\n",
      "Oh, I believe in yesterday\n",
      "Why she had to go, I don't know, she wouldn't say\n",
      "I said something wrong, now I long for yesterday\n",
      "Yesterday\n",
      "Love was such an easy game to play\n",
      "Now I need a place to hide away\n",
      "Oh, I believe in yesterday\n",
      "Mm mm mm mm mm mm mm\n"
     ]
    }
   ],
   "source": [
    "f = open(\"./Yesterday.txt\", \"r\") # 파일을 읽어 올 수 있도록 주소를 지정하는 것\n",
    "contents = f.read()\n",
    "print(contents)\n",
    "f.close() # 연결한 주소를 닫아주는 역할"
   ]
  },
  {
   "cell_type": "code",
   "execution_count": 26,
   "id": "formal-segment",
   "metadata": {},
   "outputs": [
    {
     "name": "stdout",
     "output_type": "stream",
     "text": [
      "Yesterday\n",
      "All my troubles seemed so far away\n",
      "Now it looks as though they're here to stay\n",
      "Oh, I believe in yesterday\n",
      "Suddenly\n",
      "I'm not half the man I used to be\n",
      "There's a shadow hangin' over me\n",
      "Oh, yesterday came suddenly\n",
      "Why she had to go, I don't know, she wouldn't say\n",
      "I said something wrong, now I long for yesterday\n",
      "Yesterday\n",
      "Love was such an easy game to play\n",
      "Now I need a place to hide away\n",
      "Oh, I believe in yesterday\n",
      "Why she had to go, I don't know, she wouldn't say\n",
      "I said something wrong, now I long for yesterday\n",
      "Yesterday\n",
      "Love was such an easy game to play\n",
      "Now I need a place to hide away\n",
      "Oh, I believe in yesterday\n",
      "Mm mm mm mm mm mm mm\n"
     ]
    }
   ],
   "source": [
    "# with 구문은 indentation이 적용되어지는 영역의 코드는 모두 실행을 하고, 실행이 끝나면 자동으로 코드가 종료가됨\n",
    "with open(\"./Yesterday.txt\", \"r\") as f:\n",
    "    contents = f.read()\n",
    "    print(contents)"
   ]
  },
  {
   "cell_type": "code",
   "execution_count": 30,
   "id": "curious-sample",
   "metadata": {},
   "outputs": [
    {
     "name": "stdout",
     "output_type": "stream",
     "text": [
      "<class 'list'>\n",
      "['Yesterday\\n', 'All my troubles seemed so far away\\n', \"Now it looks as though they're here to stay\\n\", 'Oh, I believe in yesterday\\n', 'Suddenly\\n', \"I'm not half the man I used to be\\n\", \"There's a shadow hangin' over me\\n\", 'Oh, yesterday came suddenly\\n', \"Why she had to go, I don't know, she wouldn't say\\n\", 'I said something wrong, now I long for yesterday\\n', 'Yesterday\\n', 'Love was such an easy game to play\\n', 'Now I need a place to hide away\\n', 'Oh, I believe in yesterday\\n', \"Why she had to go, I don't know, she wouldn't say\\n\", 'I said something wrong, now I long for yesterday\\n', 'Yesterday\\n', 'Love was such an easy game to play\\n', 'Now I need a place to hide away\\n', 'Oh, I believe in yesterday\\n', 'Mm mm mm mm mm mm mm']\n"
     ]
    }
   ],
   "source": [
    "with open(\"./Yesterday.txt\", \"r\") as f:\n",
    "    contents = f.readlines() # \\n을 기준으로 나눈 파일 전체를 list형태로 변환, 한번에 메모리에 올리는 방식\n",
    "    print(type(contents))\n",
    "    print(contents)"
   ]
  },
  {
   "cell_type": "code",
   "execution_count": 48,
   "id": "worth-twelve",
   "metadata": {},
   "outputs": [
    {
     "name": "stdout",
     "output_type": "stream",
     "text": [
      "0===Yesterday\n",
      "1===All my troubles seemed so far away\n",
      "2===Now it looks as though they're here to stay\n",
      "3===Oh, I believe in yesterday\n",
      "4===Suddenly\n",
      "5===I'm not half the man I used to be\n",
      "6===There's a shadow hangin' over me\n",
      "7===Oh, yesterday came suddenly\n",
      "8===Why she had to go, I don't know, she wouldn't say\n",
      "9===I said something wrong, now I long for yesterday\n",
      "10===Yesterday\n",
      "11===Love was such an easy game to play\n",
      "12===Now I need a place to hide away\n",
      "13===Oh, I believe in yesterday\n",
      "14===Why she had to go, I don't know, she wouldn't say\n",
      "15===I said something wrong, now I long for yesterday\n",
      "16===Yesterday\n",
      "17===Love was such an easy game to play\n",
      "18===Now I need a place to hide away\n",
      "19===Oh, I believe in yesterday\n",
      "20===Mm mm mm mm mm mm mm\n"
     ]
    }
   ],
   "source": [
    "with open(\"./Yesterday.txt\", \"r\") as f:\n",
    "    i = 0\n",
    "    while True:\n",
    "        line = f.readline() # 실행할 때 마다 한 줄씩 읽어오기, 한 줄씩 메모리에 올림\n",
    "        if not line:\n",
    "            break\n",
    "        print(str(i) + \"===\" + line.replace(\"\\n\",\"\"))\n",
    "        i = i + 1"
   ]
  },
  {
   "cell_type": "markdown",
   "id": "important-establishment",
   "metadata": {},
   "source": [
    "#### python file write"
   ]
  },
  {
   "cell_type": "code",
   "execution_count": 54,
   "id": "shared-biography",
   "metadata": {},
   "outputs": [],
   "source": [
    "f = open(\"./count_log.txt\", \"w\", encoding=\"utf8\")\n",
    "for i in range(1, 11):\n",
    "    data = f\"{i}번째 줄입니다.\\n\"\n",
    "    f.write(data)\n",
    "f.close()"
   ]
  },
  {
   "cell_type": "code",
   "execution_count": 56,
   "id": "decent-session",
   "metadata": {},
   "outputs": [],
   "source": [
    "with open(\"./count_log.txt\", \"a\", encoding=\"utf8\") as f:\n",
    "    for i in range(21, 30):\n",
    "        data = f\"{i}번째 줄입니다.\\n\"\n",
    "        f.write(data)"
   ]
  },
  {
   "cell_type": "markdown",
   "id": "fabulous-mercury",
   "metadata": {},
   "source": [
    "#### 파이썬의 디렉토리 다루기"
   ]
  },
  {
   "cell_type": "code",
   "execution_count": 60,
   "id": "expensive-utility",
   "metadata": {},
   "outputs": [
    {
     "ename": "FileExistsError",
     "evalue": "[WinError 183] 파일이 이미 있으므로 만들 수 없습니다: 'log'",
     "output_type": "error",
     "traceback": [
      "\u001b[1;31m---------------------------------------------------------------------------\u001b[0m",
      "\u001b[1;31mFileExistsError\u001b[0m                           Traceback (most recent call last)",
      "\u001b[1;32m<ipython-input-60-5b63375bc6a8>\u001b[0m in \u001b[0;36m<module>\u001b[1;34m\u001b[0m\n\u001b[0;32m      1\u001b[0m \u001b[1;32mimport\u001b[0m \u001b[0mos\u001b[0m\u001b[1;33m\u001b[0m\u001b[1;33m\u001b[0m\u001b[0m\n\u001b[1;32m----> 2\u001b[1;33m \u001b[0mos\u001b[0m\u001b[1;33m.\u001b[0m\u001b[0mmkdir\u001b[0m\u001b[1;33m(\u001b[0m\u001b[1;34m\"log\"\u001b[0m\u001b[1;33m)\u001b[0m \u001b[1;31m# log라는 폴더명을 가진 폴더를 만듬\u001b[0m\u001b[1;33m\u001b[0m\u001b[1;33m\u001b[0m\u001b[0m\n\u001b[0m",
      "\u001b[1;31mFileExistsError\u001b[0m: [WinError 183] 파일이 이미 있으므로 만들 수 없습니다: 'log'"
     ]
    }
   ],
   "source": [
    "import os\n",
    "os.mkdir(\"log\") # log라는 폴더명을 가진 폴더를 만듬"
   ]
  },
  {
   "cell_type": "code",
   "execution_count": 61,
   "id": "monthly-guess",
   "metadata": {},
   "outputs": [
    {
     "name": "stdout",
     "output_type": "stream",
     "text": [
      "Already created\n"
     ]
    }
   ],
   "source": [
    "import os\n",
    "try:\n",
    "    os.mkdir(\"log\") # log라는 폴더명을 가진 폴더를 만듬\n",
    "except:\n",
    "    print(\"Already created\")"
   ]
  },
  {
   "cell_type": "code",
   "execution_count": 64,
   "id": "engaging-cisco",
   "metadata": {},
   "outputs": [
    {
     "data": {
      "text/plain": [
       "True"
      ]
     },
     "execution_count": 64,
     "metadata": {},
     "output_type": "execute_result"
    }
   ],
   "source": [
    "os.path.exists(\"log\")"
   ]
  },
  {
   "cell_type": "code",
   "execution_count": 69,
   "id": "minimal-manner",
   "metadata": {},
   "outputs": [
    {
     "data": {
      "text/plain": [
       "'./log/count_log.txt'"
      ]
     },
     "execution_count": 69,
     "metadata": {},
     "output_type": "execute_result"
    }
   ],
   "source": [
    "import shutil\n",
    "source = \"count_log.txt\"\n",
    "dest = os.path.join(\"./log/\", source) # 두 디렉토리를 합쳐줌\n",
    "shutil.copy(source, dest) # source 파일을 dest 디렉토리 위치로 복사"
   ]
  },
  {
   "cell_type": "code",
   "execution_count": 77,
   "id": "scenic-package",
   "metadata": {},
   "outputs": [
    {
     "name": "stdout",
     "output_type": "stream",
     "text": [
      "C:\\Users\\park\\Desktop\\github\\pre-boostcamp\\AI_tech_pre_course\\2_파이썬_다지기\n",
      "C:\\Users\\park\\Desktop\\github\\pre-boostcamp\\AI_tech_pre_course\n",
      "C:\\Users\\park\\Desktop\\github\\pre-boostcamp\n",
      "[WindowsPath('C:/Users/park/Desktop/github/pre-boostcamp'), WindowsPath('C:/Users/park/Desktop/github'), WindowsPath('C:/Users/park/Desktop'), WindowsPath('C:/Users/park'), WindowsPath('C:/Users'), WindowsPath('C:/')]\n"
     ]
    }
   ],
   "source": [
    "# 최근에는 pathlib 모듈을 사용하여 path를 객체로 다룸\n",
    "import pathlib\n",
    "cwd = pathlib.Path.cwd() # 현재 위치의 절대경로를 가져옴\n",
    "print(cwd) \n",
    "print(cwd.parent)  # 부모폴더가 나옴\n",
    "print(cwd.parent.parent)  # 부모부모폴더가 나옴\n",
    "print(list(cwd.parent.parents)) # 부모부모폴더이 있는 파일들을 list로 출력"
   ]
  },
  {
   "cell_type": "code",
   "execution_count": 79,
   "id": "ultimate-south",
   "metadata": {},
   "outputs": [
    {
     "data": {
      "text/plain": [
       "[WindowsPath('C:/Users/park/Desktop/github/pre-boostcamp/AI_tech_pre_course/2_파이썬_다지기/.ipynb_checkpoints'),\n",
       " WindowsPath('C:/Users/park/Desktop/github/pre-boostcamp/AI_tech_pre_course/2_파이썬_다지기/1_Python_Object_Oriented_Programming.ipynb'),\n",
       " WindowsPath('C:/Users/park/Desktop/github/pre-boostcamp/AI_tech_pre_course/2_파이썬_다지기/2_Module_and_Package.ipynb'),\n",
       " WindowsPath('C:/Users/park/Desktop/github/pre-boostcamp/AI_tech_pre_course/2_파이썬_다지기/3_Exception_File_Log_Handling.ipynb'),\n",
       " WindowsPath('C:/Users/park/Desktop/github/pre-boostcamp/AI_tech_pre_course/2_파이썬_다지기/count_log.txt'),\n",
       " WindowsPath('C:/Users/park/Desktop/github/pre-boostcamp/AI_tech_pre_course/2_파이썬_다지기/fah_converter.py'),\n",
       " WindowsPath('C:/Users/park/Desktop/github/pre-boostcamp/AI_tech_pre_course/2_파이썬_다지기/log'),\n",
       " WindowsPath('C:/Users/park/Desktop/github/pre-boostcamp/AI_tech_pre_course/2_파이썬_다지기/module_ex.py'),\n",
       " WindowsPath('C:/Users/park/Desktop/github/pre-boostcamp/AI_tech_pre_course/2_파이썬_다지기/package_ex'),\n",
       " WindowsPath('C:/Users/park/Desktop/github/pre-boostcamp/AI_tech_pre_course/2_파이썬_다지기/Yesterday.txt'),\n",
       " WindowsPath('C:/Users/park/Desktop/github/pre-boostcamp/AI_tech_pre_course/2_파이썬_다지기/__pycache__')]"
      ]
     },
     "execution_count": 79,
     "metadata": {},
     "output_type": "execute_result"
    }
   ],
   "source": [
    "list(cwd.glob(\"*\")) # generator 라서 list함수로 만들어야 볼 수 있음"
   ]
  },
  {
   "cell_type": "code",
   "execution_count": 82,
   "id": "czech-stretch",
   "metadata": {},
   "outputs": [],
   "source": [
    "import os\n",
    "if not os.path.isdir(\"log\"):\n",
    "    os.mkdir(\"log\")\n",
    "\n",
    "if not os.path.exists(\"log/count_log.txt\"):\n",
    "    f = open(\"log/count_log.txt\", \"w\", encoding=\"utf8\")\n",
    "    f.write(\"기록을 시작합니다.\\n\")\n",
    "    f.close()\n",
    "\n",
    "with open(\"log/count_log.txt\", \"a\", encoding=\"utf8\") as f:\n",
    "    import random, datetime\n",
    "    for i in range(1, 11):\n",
    "        stamp = str(datetime.datetime.now())\n",
    "        value = random.random() * 1000000\n",
    "        log_line = stamp + \"\\t\" + str(value) + \"값이 생성되었습니다.\" + \"\\n\"\n",
    "        f.write(log_line)"
   ]
  },
  {
   "cell_type": "markdown",
   "id": "elect-sheet",
   "metadata": {},
   "source": [
    "#### pickle"
   ]
  },
  {
   "cell_type": "markdown",
   "id": "productive-concentrate",
   "metadata": {},
   "source": [
    "객체는 원래 메모리 상에 존재하고 있는데,  \n",
    "메모리는 파이썬 인터프리터가 종료가 되면 메모리에 있던 객체나 정보들이 날아가게 됨  \n",
    "이렇게 날아가는 정보들을 영속화, 저장을 시키기 위해서 picke 모듈을 사용함"
   ]
  },
  {
   "cell_type": "markdown",
   "id": "soviet-quantum",
   "metadata": {},
   "source": [
    "- 파이썬의 객체를 영속화(persistence)하는 built-in 객체\n",
    "- 클래스, 인스턴스, 값등을 영속화 시켜줌, 영속화란 파일화라고 생각해도됨\n",
    "- 데이터, object등 실행중 정보를 저장하고 불러오는 것이 가능\n",
    "- 저장해야 하는 정보, 계산 결과(모델)등을 저장하고 불러오는데 활용이 많이 됨"
   ]
  },
  {
   "cell_type": "code",
   "execution_count": 87,
   "id": "worldwide-fighter",
   "metadata": {},
   "outputs": [],
   "source": [
    "import pickle\n",
    "f = open(\"list.pickle\",\"wb\") # pickle은 파이썬에 특화된 binary 파일임\n",
    "test = [1,2,3,4]\n",
    "pickle.dump(test, f)\n",
    "f.close()"
   ]
  },
  {
   "cell_type": "code",
   "execution_count": 88,
   "id": "first-preference",
   "metadata": {},
   "outputs": [],
   "source": [
    "del test # 메모리에서 객체를 지워버림"
   ]
  },
  {
   "cell_type": "code",
   "execution_count": 90,
   "id": "authentic-boring",
   "metadata": {},
   "outputs": [
    {
     "ename": "NameError",
     "evalue": "name 'test' is not defined",
     "output_type": "error",
     "traceback": [
      "\u001b[1;31m---------------------------------------------------------------------------\u001b[0m",
      "\u001b[1;31mNameError\u001b[0m                                 Traceback (most recent call last)",
      "\u001b[1;32m<ipython-input-90-4e1243bd22c6>\u001b[0m in \u001b[0;36m<module>\u001b[1;34m\u001b[0m\n\u001b[1;32m----> 1\u001b[1;33m \u001b[0mtest\u001b[0m\u001b[1;33m\u001b[0m\u001b[1;33m\u001b[0m\u001b[0m\n\u001b[0m",
      "\u001b[1;31mNameError\u001b[0m: name 'test' is not defined"
     ]
    }
   ],
   "source": [
    "test"
   ]
  },
  {
   "cell_type": "code",
   "execution_count": 91,
   "id": "sunrise-colleague",
   "metadata": {},
   "outputs": [],
   "source": [
    "f = open(\"list.pickle\", \"rb\")\n",
    "test_picke = pickle.load(f)\n",
    "f.close()"
   ]
  },
  {
   "cell_type": "code",
   "execution_count": 92,
   "id": "weighted-nicholas",
   "metadata": {},
   "outputs": [
    {
     "data": {
      "text/plain": [
       "[1, 2, 3, 4]"
      ]
     },
     "execution_count": 92,
     "metadata": {},
     "output_type": "execute_result"
    }
   ],
   "source": [
    "test_picke"
   ]
  },
  {
   "cell_type": "markdown",
   "id": "animal-reference",
   "metadata": {},
   "source": [
    "### Log Handling"
   ]
  },
  {
   "cell_type": "markdown",
   "id": "listed-violence",
   "metadata": {},
   "source": [
    "특수한 문제가 발생한 것을 해결하기 위한 기록! 로그 남기기를 Logging 이라함"
   ]
  },
  {
   "cell_type": "markdown",
   "id": "tested-attention",
   "metadata": {},
   "source": [
    "- 프로그램이 실행되는 동안 일어나는 정보를 기록을 남기기\n",
    "- 유저의 접근, 프로그램의 exception, 특정 함수의 사용\n",
    "- console 화면에 출력, 파일에 남기기, db에 남기기 등등...\n",
    "- 기록된 로그를 분석하여 의미있는 결과를 도출 할 수 있음\n",
    "- 실행시점에서 남겨야하는 기록, 개발시점에서 남겨야 하는 기록(디버깅 목적)"
   ]
  },
  {
   "cell_type": "markdown",
   "id": "short-response",
   "metadata": {},
   "source": [
    "print vs logging"
   ]
  },
  {
   "cell_type": "markdown",
   "id": "physical-december",
   "metadata": {},
   "source": [
    "- 기록 자체는 print로 가능하지만 console 창에만 남기는 기록은 분석시 사용불가함\n",
    "- 떄로는 레벨별(개발, 운영)로 기록을 남길 필요가 있음\n",
    "- 모듈별로 별도의 logging 을 남길 필요도 있음\n",
    "- 이러한 기능을 체계적으로 지원하는 모듈이 필요함"
   ]
  },
  {
   "cell_type": "code",
   "execution_count": 104,
   "id": "respiratory-vintage",
   "metadata": {},
   "outputs": [
    {
     "name": "stderr",
     "output_type": "stream",
     "text": [
      "WARNING:root:조심\n",
      "ERROR:root:에러\n",
      "CRITICAL:root:펑!\n"
     ]
    }
   ],
   "source": [
    "import logging # python의 기본 log 관리 모듈\n",
    "\n",
    "logging.debug(\"틀림\")\n",
    "logging.info(\"확인\")\n",
    "logging.warning(\"조심\")\n",
    "logging.error(\"에러\")\n",
    "logging.critical(\"펑!\")"
   ]
  },
  {
   "cell_type": "markdown",
   "id": "considerable-darwin",
   "metadata": {},
   "source": [
    "#### logging level"
   ]
  },
  {
   "cell_type": "markdown",
   "id": "congressional-number",
   "metadata": {},
   "source": [
    "- 프로그램 진행 상황에 따라 다른 level의 log를 출력함\n",
    "- 개발시점(debug) > 운영시점(info, warning) > 사용자 시점(error, critical)\n",
    "- log 관리시 가장 기본이 되는 설정 정보"
   ]
  },
  {
   "cell_type": "markdown",
   "id": "moral-telephone",
   "metadata": {},
   "source": [
    "|level|개요|예시|\n",
    "|-|-|-|\n",
    "|debug|개발자 처리 기록을 남겨야 하는 로그 정보를 넘김|다음 함수로 a를 호출하여 변수 a를 무언가으로 변경함|\n",
    "|info|처리가 진행되는 동안의 정보를 알림|서바가 시작됨, 서버가 종료됨, 사용자A가 프로그램에 접속함|\n",
    "|warning|사용자가 잘못 입력한 정보나 처리는 가능하나 원래 개발시 의도치 않은 정보가 들어온 것을 알림|str입력을 기대했으나 int가 입력됨|\n",
    "|error|잘못된 처리로 인해 에러가 낫으나 프로그램은 동작함|파일에 기록해야하는데 파일이 없음, 외부서비스와 연결불가|\n",
    "|critical|잘못된 처리로 데이터 손실이 발생해 더 이상 프로그램이 동작할 수 없음을 알림|잘못된 접근으로 해당 파일이 삭제됨, 사용자에 의한 강제 종료|\n"
   ]
  },
  {
   "cell_type": "code",
   "execution_count": 103,
   "id": "caring-sound",
   "metadata": {},
   "outputs": [
    {
     "name": "stderr",
     "output_type": "stream",
     "text": [
      "INFO:main:확인\n",
      "WARNING:main:조심\n",
      "ERROR:main:에러\n",
      "CRITICAL:main:펑!\n"
     ]
    }
   ],
   "source": [
    "import logging\n",
    "logger = logging.getLogger(\"main\")\n",
    "logging.basicConfig(level=logging.DEBUG) # 기본 logging levle은 DEBUG 부터 출력한다\n",
    "logger.setLevel(logging.INFO) # INFO부터 출력하도록 재설정한다\n",
    "\n",
    "steam_handler = logging.FileHandler(\"my.log\", mode=\"w\", encoding=\"utf8\") # 로그를 text 파일 저장\n",
    "logger.addHandler(steam_handler)\n",
    "\n",
    "logger.debug(\"틀림\")\n",
    "logger.info(\"확인\")\n",
    "logger.warning(\"조심\")\n",
    "logger.error(\"에러\")\n",
    "logger.critical(\"펑!\")"
   ]
  },
  {
   "cell_type": "markdown",
   "id": "fleet-wheat",
   "metadata": {},
   "source": [
    "logging을 하기 위해서 설정해야되는 점들이 여러가지가 있음"
   ]
  },
  {
   "cell_type": "markdown",
   "id": "raised-induction",
   "metadata": {},
   "source": [
    "- 로그파일 위치\n",
    "- 로그레벨 설정\n",
    "- Operation Type"
   ]
  },
  {
   "cell_type": "markdown",
   "id": "important-guarantee",
   "metadata": {},
   "source": [
    "설정 방법\n",
    "1. configparser - 파일 단위에서 log를 출력\n",
    "2. argparser - 실행시점에서 log를 출력"
   ]
  },
  {
   "cell_type": "markdown",
   "id": "spectacular-jerusalem",
   "metadata": {},
   "source": [
    "#### configparser(설정파일)"
   ]
  },
  {
   "cell_type": "markdown",
   "id": "biblical-taxation",
   "metadata": {},
   "source": [
    "- 프로그램의 실행 설정을 file에 저장함\n",
    "- Section, Key, Value 값의 형태로 설정된 설정 파일을 사용\n",
    "- 설장파일을 dict type으로 호출한 후 사용"
   ]
  },
  {
   "cell_type": "code",
   "execution_count": 107,
   "id": "copyrighted-angle",
   "metadata": {},
   "outputs": [
    {
     "name": "stdout",
     "output_type": "stream",
     "text": [
      "status\n",
      "name\n",
      "value\n",
      "age\n",
      "single\n"
     ]
    },
    {
     "data": {
      "text/plain": [
       "'Single'"
      ]
     },
     "execution_count": 107,
     "metadata": {},
     "output_type": "execute_result"
    }
   ],
   "source": [
    "import configparser\n",
    "config = configparser.ConfigParser()\n",
    "config.sections()\n",
    "\n",
    "config.read(\"example.cfg\")\n",
    "config.sections()\n",
    "\n",
    "for key in config[\"SectionOne\"]:\n",
    "    print(key)\n",
    "\n",
    "config[\"SectionOne\"][\"status\"]"
   ]
  },
  {
   "cell_type": "markdown",
   "id": "stainless-stanford",
   "metadata": {},
   "source": [
    "#### argparser(프로그램실행시 setting 정보)"
   ]
  },
  {
   "cell_type": "markdown",
   "id": "threatened-history",
   "metadata": {},
   "source": [
    "- console 창에서 프로그램 실행시 setting 정보를 저장함\n",
    "- 거의 모든 console 기반 python 프로그램은 기본으로 제공\n",
    "- 특수 모듈도 많이 존재하지만, 일반적으로 argparser를 사용\n",
    "- Command-Line Option 이라고 부름"
   ]
  },
  {
   "cell_type": "code",
   "execution_count": 110,
   "id": "amino-stable",
   "metadata": {},
   "outputs": [
    {
     "name": "stderr",
     "output_type": "stream",
     "text": [
      "'ls'은(는) 내부 또는 외부 명령, 실행할 수 있는 프로그램, 또는\n",
      "배치 파일이 아닙니다.\n"
     ]
    }
   ],
   "source": [
    "!ls -help"
   ]
  },
  {
   "cell_type": "code",
   "execution_count": 112,
   "id": "adequate-product",
   "metadata": {},
   "outputs": [
    {
     "name": "stdout",
     "output_type": "stream",
     "text": [
      "^C\n"
     ]
    }
   ],
   "source": [
    "!python -v"
   ]
  },
  {
   "cell_type": "code",
   "execution_count": 116,
   "id": "pleased-ozone",
   "metadata": {},
   "outputs": [
    {
     "name": "stderr",
     "output_type": "stream",
     "text": [
      "usage: ipykernel_launcher.py [-h] [-a A_VALUE] [-b B_VALUE]\n",
      "ipykernel_launcher.py: error: unrecognized arguments: -f C:\\Users\\park\\AppData\\Roaming\\jupyter\\runtime\\kernel-30ebffdd-dc60-44e0-8ce5-73e05a262084.json\n"
     ]
    },
    {
     "ename": "SystemExit",
     "evalue": "2",
     "output_type": "error",
     "traceback": [
      "An exception has occurred, use %tb to see the full traceback.\n",
      "\u001b[1;31mSystemExit\u001b[0m\u001b[1;31m:\u001b[0m 2\n"
     ]
    },
    {
     "name": "stderr",
     "output_type": "stream",
     "text": [
      "C:\\Users\\park\\Anaconda3\\lib\\site-packages\\IPython\\core\\interactiveshell.py:3445: UserWarning: To exit: use 'exit', 'quit', or Ctrl-D.\n",
      "  warn(\"To exit: use 'exit', 'quit', or Ctrl-D.\", stacklevel=1)\n"
     ]
    }
   ],
   "source": [
    "import argparse\n",
    "\n",
    "parser = argparse.ArgumentParser(description=\"Sum two integers\")\n",
    "\n",
    "parser.add_argument(\"-a\", \"--a_value\", dest = \"A_value\", help=\"A integers\", type=int)\n",
    "parser.add_argument(\"-b\", \"--b_value\", dest = \"B_value\", help=\"B integers\", type=int)\n",
    "\n",
    "args = parser.parse_args()\n",
    "print(args)\n",
    "print(args.a)\n",
    "print(args.b)\n",
    "print(args.a + args.b)"
   ]
  },
  {
   "cell_type": "markdown",
   "id": "enclosed-craps",
   "metadata": {},
   "source": [
    "#### Loggin formmater"
   ]
  },
  {
   "cell_type": "markdown",
   "id": "alpine-tragedy",
   "metadata": {},
   "source": [
    "- log의 결과값의 format을 지정해줄 수 있음"
   ]
  },
  {
   "cell_type": "code",
   "execution_count": 119,
   "id": "latin-episode",
   "metadata": {},
   "outputs": [
    {
     "data": {
      "text/plain": [
       "<logging.Formatter at 0x1e296dcf400>"
      ]
     },
     "execution_count": 119,
     "metadata": {},
     "output_type": "execute_result"
    }
   ],
   "source": [
    "formatter = logging.Formatter(\"%(asctime)s %(levelname)s %(process)d %(message)s\")\n",
    "formatter"
   ]
  },
  {
   "cell_type": "markdown",
   "id": "positive-schedule",
   "metadata": {},
   "source": [
    "#### Log config file"
   ]
  },
  {
   "cell_type": "code",
   "execution_count": 120,
   "id": "level-roller",
   "metadata": {},
   "outputs": [
    {
     "ename": "AttributeError",
     "evalue": "module 'logging' has no attribute 'config'",
     "output_type": "error",
     "traceback": [
      "\u001b[1;31m---------------------------------------------------------------------------\u001b[0m",
      "\u001b[1;31mAttributeError\u001b[0m                            Traceback (most recent call last)",
      "\u001b[1;32m<ipython-input-120-1730360181cd>\u001b[0m in \u001b[0;36m<module>\u001b[1;34m\u001b[0m\n\u001b[1;32m----> 1\u001b[1;33m \u001b[0mlogging\u001b[0m\u001b[1;33m.\u001b[0m\u001b[0mconfig\u001b[0m\u001b[1;33m.\u001b[0m\u001b[0mfileConfig\u001b[0m\u001b[1;33m(\u001b[0m\u001b[1;34m\"logging.conf\"\u001b[0m\u001b[1;33m)\u001b[0m\u001b[1;33m\u001b[0m\u001b[1;33m\u001b[0m\u001b[0m\n\u001b[0m\u001b[0;32m      2\u001b[0m \u001b[0mlogger\u001b[0m \u001b[1;33m=\u001b[0m \u001b[0mlogging\u001b[0m\u001b[1;33m.\u001b[0m\u001b[0mgetLogger\u001b[0m\u001b[1;33m(\u001b[0m\u001b[1;33m)\u001b[0m\u001b[1;33m\u001b[0m\u001b[1;33m\u001b[0m\u001b[0m\n",
      "\u001b[1;31mAttributeError\u001b[0m: module 'logging' has no attribute 'config'"
     ]
    }
   ],
   "source": [
    "logging.config.fileConfig(\"logging.conf\")\n",
    "logger = logging.getLogger()"
   ]
  }
 ],
 "metadata": {
  "kernelspec": {
   "display_name": "Python 3",
   "language": "python",
   "name": "python3"
  },
  "language_info": {
   "codemirror_mode": {
    "name": "ipython",
    "version": 3
   },
   "file_extension": ".py",
   "mimetype": "text/x-python",
   "name": "python",
   "nbconvert_exporter": "python",
   "pygments_lexer": "ipython3",
   "version": "3.7.3"
  }
 },
 "nbformat": 4,
 "nbformat_minor": 5
}
