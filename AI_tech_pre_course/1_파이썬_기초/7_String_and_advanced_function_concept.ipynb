{
 "cells": [
  {
   "cell_type": "markdown",
   "id": "amateur-credits",
   "metadata": {},
   "source": [
    "### String(문자열, 문자형 데이터)"
   ]
  },
  {
   "cell_type": "markdown",
   "id": "infrared-pricing",
   "metadata": {},
   "source": [
    "시퀀스 자료형으로 문자형 data를 메모리에 저장  \n",
    "영문자 한글자는 1byte의 메모리 공간을 사용"
   ]
  },
  {
   "cell_type": "markdown",
   "id": "molecular-registrar",
   "metadata": {},
   "source": [
    "#### 1Byte의 메모리 공간이란?"
   ]
  },
  {
   "cell_type": "markdown",
   "id": "abandoned-iceland",
   "metadata": {},
   "source": [
    "컴퓨터는 2진수로 데이터를 저장  \n",
    "이진수 한 자릿수는 1bit로 저장됨  \n",
    "즉 1bit는 0 또는 1  \n",
    "1byte = 8bit = 2^8 = 256까지 저장가능  \n",
    "8bit cpu란 해당 cpu가 한번에 처리 할 수 있는 용량이 8bit라는 의미임  \n",
    "컴퓨터는 문자를 직접적으로 인식하지는 못하고 모든 데이터는 2진수로 인식을 함  \n",
    "이를 위해서 2진수를 문자로 변환하는 표준 규칙을 정함(ASCII, UTF-8, CP949, EUC-KR)  \n",
    "이러한 규칙에 따라 문자를 2진수로 변환하여 저장하거나 저장된 2진수를 숫자로 변환하여 표시함  \n",
    "예를들어, 대문자 U는 이진수로 1000011 로 변환됨 (UTF-8 기준)  \n"
   ]
  },
  {
   "cell_type": "markdown",
   "id": "turned-vietnam",
   "metadata": {},
   "source": [
    "#### 프로그램 언어에서 데이터 타입"
   ]
  },
  {
   "cell_type": "markdown",
   "id": "great-lancaster",
   "metadata": {},
   "source": [
    "각 데이터 타입 별로 메모리 공간을 할당 받은 크기가 다름\n",
    "\n",
    "|종류|타입|크기|표현범위(32bit)|\n",
    "|-|-|-|-|\n",
    "|정수형|int|4byte|-2^31 ~ 2^31-1|\n",
    "|정수형|long|무제한|무제한|\n",
    "|실수형|float|8byte|약 10^-308 ~ 10^+308|\n",
    "\n",
    "메모리 공간에 따라 표현할 수 있는 숫자범위가 다름  \n",
    "- ex) 4byte = 32bit = 2^32 = 4,294M = -2,147M ~ +2.147M\n",
    "\n",
    "데이터 타입은 메모리의 효율적 활용을 위해 매우 중요함"
   ]
  },
  {
   "cell_type": "markdown",
   "id": "seventh-headquarters",
   "metadata": {},
   "source": [
    "#### 문자열 특징 - 인덱싱(Indexing)"
   ]
  },
  {
   "cell_type": "markdown",
   "id": "overall-toddler",
   "metadata": {},
   "source": [
    "문자열의 각 문자는 시퀀스 자료형(데이터 타입)과 같이 개별 주소(offset, element)을 가짐  \n",
    "이 주소를 사용해 할당된 값을 가져오는 것이 인덱싱  \n",
    "list와 같은 형태로 데이터를 처리함"
   ]
  },
  {
   "cell_type": "code",
   "execution_count": 7,
   "id": "literary-millennium",
   "metadata": {},
   "outputs": [
    {
     "name": "stdout",
     "output_type": "stream",
     "text": [
      "문자열 인덱싱 :  a c\n",
      "문자열 뒤에서 부터 인덱싱 :  e c\n",
      "슬라이싱 :  cde\n",
      "2칸씩 띄어서 :  ace\n",
      "역으로 슬라이싱 :  edcba\n",
      "범위를 넘어갈 경우 자동으로 최대 범위를 지정 :  abcde\n"
     ]
    }
   ],
   "source": [
    "a = \"abcde\"\n",
    "print(\"문자열 인덱싱 : \",a[0], a[2]) # 문자열 인덱싱\n",
    "print(\"문자열 뒤에서 부터 인덱싱 : \",a[-1], a[-3]) # 문자열 뒤에서 부터 인덱싱\n",
    "print(\"슬라이싱 : \",a[2:]) # 슬라이싱\n",
    "print(\"2칸씩 띄어서 : \",a[::2]) # 2칸씩 띄어서 \n",
    "print(\"역으로 슬라이싱 : \",a[::-1]) # 역으로 슬라이싱\n",
    "print(\"범위를 넘어갈 경우 자동으로 최대 범위를 지정 : \",a[-50:50]) # 범위를 넘어갈 경우 자동으로 최대 범위를 지정"
   ]
  },
  {
   "cell_type": "code",
   "execution_count": 30,
   "id": "wrapped-meditation",
   "metadata": {},
   "outputs": [
    {
     "name": "stdout",
     "output_type": "stream",
     "text": [
      "모든 문자열 대문자 : TEAMLAB X UPSTAGE\n",
      "모든 문자열 소문자 : teamlab x upstage\n",
      "문자열 기준에 따라 리스트로 분리 : ['TEAMLAB', 'X', 'uPstage']\n",
      "맨 앞 단어만 대문자 나머지 소문자 : Teamlab X Upstage\n",
      "title 문자열 숫자 여부 : False\n",
      "ex 문자열 숫자 여부 : True\n",
      "a로 시작하는 문자열 여부 : False\n",
      "a라는 문자열 개수 : 1\n",
      "a라는 문자열 위치값 : 14\n",
      "!     Hello     !\n"
     ]
    }
   ],
   "source": [
    "# 문자열 함수 예시\n",
    "title = \"TEAMLAB X uPstage\"\n",
    "ex = \"1024\"\n",
    "print(f\"모든 문자열 대문자 : {title.upper()}\") \n",
    "print(f\"모든 문자열 소문자 : {title.lower()}\") \n",
    "print(f\"문자열 기준에 따라 리스트로 분리 : {title.split()}\") \n",
    "print(f\"맨 앞 단어만 대문자 나머지 소문자 : {title.title()}\") \n",
    "print(f\"title 문자열 숫자 여부 : {title.isdigit()}\") \n",
    "print(f\"ex 문자열 숫자 여부 : {ex.isdigit()}\") \n",
    "print(f'a로 시작하는 문자열 여부 : {title.startswith(\"a\")}') # 그냥 따옴표\n",
    "print(f'a라는 문자열 개수 : {title.count(\"a\")}') # 그냥 따옴표\n",
    "print(f'a라는 문자열 위치값 : {title.find(\"a\")}') # 그냥 따옴표\n",
    "print(\"    !     Hello     !    \".strip()) # 왼쪽 오른쪽 빈칸 제거"
   ]
  },
  {
   "cell_type": "markdown",
   "id": "accessory-stockholm",
   "metadata": {},
   "source": [
    "#### 다양한 문자열 표현"
   ]
  },
  {
   "cell_type": "markdown",
   "id": "sublime-nicaragua",
   "metadata": {},
   "source": [
    "문자열 선언은 큰 따옴표와 작은 따옴표 확인"
   ]
  },
  {
   "cell_type": "code",
   "execution_count": 35,
   "id": "earned-triple",
   "metadata": {},
   "outputs": [
    {
     "name": "stdout",
     "output_type": "stream",
     "text": [
      "it's OK\n"
     ]
    }
   ],
   "source": [
    "a = \"it\\'s OK\" # 역슬래쉬를 써서 표현 가능\n",
    "print(a)"
   ]
  },
  {
   "cell_type": "code",
   "execution_count": 39,
   "id": "induced-mortality",
   "metadata": {},
   "outputs": [
    {
     "name": "stdout",
     "output_type": "stream",
     "text": [
      "\n",
      "Happy New Year\n",
      "\n",
      "This is a class\n",
      "\n"
     ]
    }
   ],
   "source": [
    "a = \"\"\"\n",
    "Happy New Year\\n\n",
    "This is a class\n",
    "\"\"\"\n",
    "print(a)"
   ]
  },
  {
   "cell_type": "markdown",
   "id": "native-investing",
   "metadata": {},
   "source": [
    "#### 특수문자"
   ]
  },
  {
   "cell_type": "markdown",
   "id": "conceptual-taylor",
   "metadata": {},
   "source": [
    "|문자|설명|\n",
    "|-|-|\n",
    "|\\ [enter]|다음 줄과 연속임을 표현|\n",
    "|\\\\|\\ 문자 자체|\n",
    "|\\'|' 문자|\n",
    "|\\\"|\" 문자|\n",
    "|\\b|백 스페이스|\n",
    "|\\n|줄 바꾸기|\n",
    "|\\t|tab 키|\n",
    "|\\e|esc 키|"
   ]
  },
  {
   "cell_type": "markdown",
   "id": "human-japan",
   "metadata": {},
   "source": [
    "#### raw string"
   ]
  },
  {
   "cell_type": "markdown",
   "id": "funny-christmas",
   "metadata": {},
   "source": [
    "특수문자 특수기호인 \\ escape 글자를 무시하고 그대로 출력함"
   ]
  },
  {
   "cell_type": "code",
   "execution_count": 40,
   "id": "radio-postage",
   "metadata": {},
   "outputs": [
    {
     "name": "stdout",
     "output_type": "stream",
     "text": [
      "취업시켜줘요 \n",
      " 잉잉\n",
      "취업시켜줘요 \\n 잉잉\n"
     ]
    }
   ],
   "source": [
    "raw_string = \"취업시켜줘요 \\n 잉잉\"\n",
    "print(raw_string)\n",
    "raw_string = r\"취업시켜줘요 \\n 잉잉\"\n",
    "print(raw_string)"
   ]
  },
  {
   "cell_type": "code",
   "execution_count": 44,
   "id": "pharmaceutical-explanation",
   "metadata": {},
   "outputs": [
    {
     "name": "stderr",
     "output_type": "stream",
     "text": [
      "'cat'은(는) 내부 또는 외부 명령, 실행할 수 있는 프로그램, 또는\n",
      "배치 파일이 아닙니다.\n"
     ]
    }
   ],
   "source": [
    "!cat Yesterday.txt # 파일 읽기"
   ]
  },
  {
   "cell_type": "code",
   "execution_count": 45,
   "id": "moved-paris",
   "metadata": {},
   "outputs": [],
   "source": [
    "# yesterday open close 버전\n",
    "f = open(\"Yesterday.txt\", \"r\")\n",
    "yesterday_lyric = \"\"\n",
    "while True:\n",
    "    line = f.readline()\n",
    "    if not line:\n",
    "        break\n",
    "    yesterday_lyric = yesterday_lyric + line.strip() + \"\\n\"\n",
    "f.close()"
   ]
  },
  {
   "cell_type": "code",
   "execution_count": 50,
   "id": "graphic-eating",
   "metadata": {},
   "outputs": [],
   "source": [
    "# yesterday with open 버전으로 close를 안해줘도 됨\n",
    "with open(\"Yesterday.txt\",\"r\") as f:\n",
    "    yesterday_lyric = \"\"\n",
    "    while True:\n",
    "        line = f.readline()\n",
    "        if not line:\n",
    "            break\n",
    "        yesterday_lyric = yesterday_lyric + line.strip() + \"\\n\""
   ]
  },
  {
   "cell_type": "code",
   "execution_count": 54,
   "id": "dietary-prediction",
   "metadata": {},
   "outputs": [
    {
     "name": "stdout",
     "output_type": "stream",
     "text": [
      "Number of a Word YESTERDAY : 9\n"
     ]
    }
   ],
   "source": [
    "n_of_yesterday = yesterday_lyric.upper().count(\"YESTERDAY\")\n",
    "print(f\"Number of a Word YESTERDAY : {n_of_yesterday}\")"
   ]
  },
  {
   "cell_type": "markdown",
   "id": "whole-roman",
   "metadata": {},
   "source": [
    "Ctrl + / 는 드래그한 부분만 모두 주석 처리"
   ]
  },
  {
   "cell_type": "code",
   "execution_count": 53,
   "id": "stainless-people",
   "metadata": {},
   "outputs": [],
   "source": [
    "# ㅁㅁㅁㅇ\n",
    "# ㅍㅁㅍㅁ\n",
    "# ㅈㄷㅂㅈㄹ\n",
    "# ㅂㄹㄷ"
   ]
  },
  {
   "cell_type": "code",
   "execution_count": 55,
   "id": "rough-keyboard",
   "metadata": {},
   "outputs": [
    {
     "name": "stdout",
     "output_type": "stream",
     "text": [
      "Number of a Word Yesterday : 9\n",
      "Number of a Word yesterday : 9\n"
     ]
    }
   ],
   "source": [
    "n_of_Yesterday = yesterday_lyric.title().count(\"Yesterday\")\n",
    "n_of_yesterday = yesterday_lyric.lower().count(\"yesterday\")\n",
    "print(f\"Number of a Word Yesterday : {n_of_Yesterday}\")\n",
    "print(f\"Number of a Word yesterday : {n_of_yesterday}\")"
   ]
  },
  {
   "cell_type": "markdown",
   "id": "enabling-canberra",
   "metadata": {},
   "source": [
    "### Function"
   ]
  },
  {
   "cell_type": "markdown",
   "id": "dependent-somewhere",
   "metadata": {},
   "source": [
    "함수에서 parameter가 passing 되어질 때 메모리를 어떻게 처리하는지에 대한 내용"
   ]
  },
  {
   "cell_type": "markdown",
   "id": "regulated-polish",
   "metadata": {},
   "source": [
    "#### call by object reference"
   ]
  },
  {
   "cell_type": "markdown",
   "id": "innocent-parameter",
   "metadata": {},
   "source": [
    "함수에서 parameter를 전달하는 방식\n",
    "1. 값에의한 호출(Call by Value)\n",
    "- 함수에 인자를 넘길 때 **값**만 넘김\n",
    "- 함수내에 인자 값 변경시, 호출자에게 영향을 주지 않음\n",
    "2. 참조에 의한 호출(Call by Reference)\n",
    "- 함수에 인자를 넘길 때 **메모리 주소**를 넘김\n",
    "- 함수내에 인자 값 변경 시, 호출자의 값도 변경됨\n",
    "3. 객체 참조에 의한 호출(Call by Object Reference)\n",
    "- 파이썬은 **객체의 주소**가 함수로 전달되는 방식\n",
    "- 전달된 객체를 참조하여 변경 시 호출자에게 영향을 주나, 새로운 객체를 만들 경우 호출자에게 영향을 주지 않음"
   ]
  },
  {
   "cell_type": "code",
   "execution_count": 70,
   "id": "compound-abraham",
   "metadata": {},
   "outputs": [
    {
     "name": "stdout",
     "output_type": "stream",
     "text": [
      "기존 객체의 메모리 주소 : 1240210357192\n",
      "기존 객체에 변화를 준 메모리 주소 : 1240210357192\n",
      "새로운 객체 선언 : 1240198597256\n",
      "함수를 호출한 이후 메모리는 그대로 : 1240210357192\n",
      "함수를 호출한 이후 기존 객체의 값은 변함 : [0, 1]\n"
     ]
    }
   ],
   "source": [
    "def spam(eggs):\n",
    "    eggs.append(1) # 기존 객체의 주소값에 [1] 추가\n",
    "    print(f\"기존 객체에 변화를 준 메모리 주소 : {id(eggs)}\") # 2번\n",
    "    eggs = [2,3] # 새로운 객체 생성\n",
    "    print(f\"새로운 객체 선언 : {id(eggs)}\") # 3번\n",
    "ham = [0]\n",
    "print(f\"기존 객체의 메모리 주소 : {id(ham)}\") # 1번\n",
    "spam(ham)\n",
    "print(f\"함수를 호출한 이후 메모리는 그대로 : {id(ham)}\") # 4번\n",
    "print(f\"함수를 호출한 이후 기존 객체의 값은 변함 : {ham}\") "
   ]
  },
  {
   "cell_type": "markdown",
   "id": "graduate-aruba",
   "metadata": {},
   "source": [
    "#### swap"
   ]
  },
  {
   "cell_type": "markdown",
   "id": "amateur-yacht",
   "metadata": {},
   "source": [
    "함수를 통해 변수 간의 값을 교환(swap)하는 함수  \n",
    "함수의 paraemter 전달 방식을 설명하기 위한 전통적인 함수 예시"
   ]
  },
  {
   "cell_type": "code",
   "execution_count": 71,
   "id": "lasting-belize",
   "metadata": {},
   "outputs": [],
   "source": [
    "def swap_value(x, y):\n",
    "    temp = x\n",
    "    x = y\n",
    "    y = temp\n",
    "\n",
    "def swap_offset(offset_x, offset_y):\n",
    "    temp = a[offset_x]\n",
    "    a[offset_x] = a[offset_y]\n",
    "    a[offset_y] = temp\n",
    "\n",
    "def swap_reference(list, offset_x, offset_y):\n",
    "    temp = list[offset_x]\n",
    "    list[offset_x] = list[offset_y]\n",
    "    list[offset_y] = temp    "
   ]
  },
  {
   "cell_type": "code",
   "execution_count": 85,
   "id": "continued-desert",
   "metadata": {},
   "outputs": [
    {
     "name": "stdout",
     "output_type": "stream",
     "text": [
      "call by value : [1, 2, 3, 4, 5]\n",
      "call by reference : [2, 1, 3, 4, 5]\n",
      "call by reference : [1, 2, 3, 5, 4]\n"
     ]
    }
   ],
   "source": [
    "a = [1, 2, 3, 4, 5]\n",
    "swap_value(a[0], a[1])\n",
    "print(f\"call by value : {a}\")\n",
    "a = [1, 2, 3, 4, 5]\n",
    "swap_offset(0, 1) # offset = 주소\n",
    "print(f\"call by reference : {a}\")\n",
    "a = [1, 2, 3, 4, 5]\n",
    "swap_reference(a, 3, 4) # 객체를 유지를 하면서 쓰기에 가장 좋음\n",
    "print(f\"call by reference : {a}\")"
   ]
  },
  {
   "cell_type": "markdown",
   "id": "taken-exposure",
   "metadata": {},
   "source": [
    "함수를 거치면서 객체의 메모리 주소가 어떻게 변하는지  \n",
    "파이썬의 함수를 사용하는데 parameter에 들어오는 객체가 **함수를 거치면서 값이 변할 수 있기 때문에** 명령문을 시작하기 전에 함수에서 사용할 객체를 **미리 복사(deepcopy, copy())**를 하고 명령문을 시작해야 기존의 객체 값이 변하지 않을 수 있다!!!!!"
   ]
  },
  {
   "cell_type": "code",
   "execution_count": 86,
   "id": "forty-martial",
   "metadata": {},
   "outputs": [],
   "source": [
    "def x(list_object):\n",
    "    temp = list_object[:] # 값만 복사하고 메모리 주소는 다른 변수를 먼저 선언!"
   ]
  },
  {
   "cell_type": "markdown",
   "id": "stuffed-consequence",
   "metadata": {},
   "source": [
    "#### function - scoping rule"
   ]
  },
  {
   "cell_type": "markdown",
   "id": "viral-group",
   "metadata": {},
   "source": [
    "변수가 사용되는 범위(함수 또는 메인 프로그램)  \n",
    "- 지역변수(local variable) : 함수 내에서만 사용되는 변수  \n",
    "- 전역변수(global variable) : 프로그램 전체에서 사용"
   ]
  },
  {
   "cell_type": "code",
   "execution_count": 89,
   "id": "smooth-component",
   "metadata": {},
   "outputs": [
    {
     "name": "stdout",
     "output_type": "stream",
     "text": [
      "Before :  10\n",
      "10\n",
      "In Function : 20\n",
      "After :  10\n"
     ]
    }
   ],
   "source": [
    "# 지역변수 t, 전역변수 x\n",
    "def test(t):\n",
    "    print(x) # 2\n",
    "    t = 20 # 3\n",
    "    print(f\"In Function : {t}\") # 4\n",
    "x = 10 # 1\n",
    "print(\"Before : \", x)\n",
    "test(x)\n",
    "print(\"After : \", x) # 5\n"
   ]
  },
  {
   "cell_type": "code",
   "execution_count": 91,
   "id": "fluid-humanity",
   "metadata": {},
   "outputs": [
    {
     "name": "stdout",
     "output_type": "stream",
     "text": [
      "지역변수 s : I love London\n",
      "전역변수 s : I love Paris\n"
     ]
    }
   ],
   "source": [
    "# 전역변수는 함수에서 사용가능\n",
    "# 하지만, 함수 내에 전역 변수와 같은 이름의 변수를 선언하면 새로운 지역 변수가 생김\n",
    "def f():\n",
    "    s = \"I love London\"\n",
    "    print(f\"지역변수 s : {s}\")\n",
    "\n",
    "s = \"I love Paris\"\n",
    "f()\n",
    "print(f\"전역변수 s : {s}\")"
   ]
  },
  {
   "cell_type": "code",
   "execution_count": 94,
   "id": "regulated-uniform",
   "metadata": {},
   "outputs": [
    {
     "name": "stdout",
     "output_type": "stream",
     "text": [
      "불러온 전역변수 s : I love London\n",
      "전역변수 s : I love London\n"
     ]
    }
   ],
   "source": [
    "# 전역변수를 함수 내에서 그대로 사용하기 위한 global 키워드\n",
    "def f():\n",
    "    global s\n",
    "    s = \"I love London\"\n",
    "    print(f\"불러온 전역변수 s : {s}\")\n",
    "\n",
    "s = \"I love Paris\"\n",
    "f()\n",
    "print(f\"전역변수 s : {s}\")"
   ]
  },
  {
   "cell_type": "code",
   "execution_count": 96,
   "id": "fixed-patient",
   "metadata": {},
   "outputs": [
    {
     "name": "stdout",
     "output_type": "stream",
     "text": [
      "In Program - 1\n",
      "a: 5, b: 7, a+b: 12\n",
      "In Function\n",
      "a: 5, b: 7, a+b: 12, total: 12\n",
      "After Calculation\n",
      "Total: 0, Sum: 12\n"
     ]
    }
   ],
   "source": [
    "def calculation(x, y):\n",
    "    total = x+y # 새로운 값이 할당되어 함수 내 total은 지역변수가 됨\n",
    "    print(\"In Function\")\n",
    "    print(f\"a: {str(a)}, b: {str(b)}, a+b: {str(a+b)}, total: {str(total)}\")\n",
    "    return total\n",
    "\n",
    "a = 5 # 전역변수\n",
    "b = 7 # 전역변수\n",
    "total = 0 # 전역변수\n",
    "print(\"In Program - 1\")\n",
    "print(f\"a: {str(a)}, b: {str(b)}, a+b: {str(a+b)}\")\n",
    "\n",
    "summ = calculation(a,b)\n",
    "print(\"After Calculation\")\n",
    "print(f\"Total: {str(total)}, Sum: {str(summ)}\") # 지역변수는 전역변수에 영향을 주지 않음"
   ]
  },
  {
   "cell_type": "markdown",
   "id": "practical-mouth",
   "metadata": {},
   "source": [
    "In Program - 1  \n",
    "a : 5, b: 7, a+b: 12  \n",
    "In Function  \n",
    "a : 5, b: 7, a+b: 12, total: 12  \n",
    "After Calculation  \n",
    "Total: 0, Sum: 12"
   ]
  },
  {
   "cell_type": "markdown",
   "id": "quiet-anniversary",
   "metadata": {},
   "source": [
    "#### 재귀함수(recursive function)"
   ]
  },
  {
   "cell_type": "markdown",
   "id": "consistent-annual",
   "metadata": {},
   "source": [
    "자기자신을 호출하는 함수  \n",
    "점화식과 같이 재귀적 수학 모형을 표현할 때 사용  \n",
    "재귀 종료 조건이 존재해야 하며, 조건까지 함수의 호출을 반복함"
   ]
  },
  {
   "cell_type": "code",
   "execution_count": 101,
   "id": "generic-iceland",
   "metadata": {},
   "outputs": [
    {
     "name": "stdout",
     "output_type": "stream",
     "text": [
      "Input Number of Factorial Calculation 5\n"
     ]
    },
    {
     "data": {
      "text/plain": [
       "120"
      ]
     },
     "execution_count": 101,
     "metadata": {},
     "output_type": "execute_result"
    }
   ],
   "source": [
    "# 팩토리얼\n",
    "def factorial(n):\n",
    "    if n == 1:\n",
    "        return 1\n",
    "    else:\n",
    "        return n * factorial(n-1)\n",
    "\n",
    "factorial(int(input(\"Input Number of Factorial Calculation \")))"
   ]
  },
  {
   "cell_type": "code",
   "execution_count": 107,
   "id": "terminal-scotland",
   "metadata": {},
   "outputs": [
    {
     "data": {
      "text/plain": [
       "120"
      ]
     },
     "execution_count": 107,
     "metadata": {},
     "output_type": "execute_result"
    }
   ],
   "source": [
    "def factorial(n):\n",
    "    temp = 1\n",
    "    for i in range(n, 1, -1):\n",
    "        temp *= i\n",
    "    return temp\n",
    "\n",
    "factorial(5)"
   ]
  },
  {
   "cell_type": "markdown",
   "id": "professional-password",
   "metadata": {},
   "source": [
    "#### function type hints"
   ]
  },
  {
   "cell_type": "markdown",
   "id": "worldwide-sydney",
   "metadata": {},
   "source": [
    "파이썬의 가장 큰 특징인 dynamic typing은 처음 함수를 사용하는 사용자가 interface(입력 데이터 타입)를 알기 어렵다는 단점이 있음  \n",
    "python3.5 버전 이후로 PEP 484에 기반하여 type hints 기능을 제공"
   ]
  },
  {
   "cell_type": "code",
   "execution_count": 109,
   "id": "daily-plumbing",
   "metadata": {},
   "outputs": [
    {
     "data": {
      "text/plain": [
       "'Hello, Chang'"
      ]
     },
     "execution_count": 109,
     "metadata": {},
     "output_type": "execute_result"
    }
   ],
   "source": [
    "# def do_function(var_name: var_type) -> return_type:\n",
    "#     pass\n",
    "def type_hint_example(name: str) -> str:\n",
    "    return f\"Hello, {name}\"\n",
    "\n",
    "type_hint_example(\"Chang\")"
   ]
  },
  {
   "cell_type": "markdown",
   "id": "valid-myrtle",
   "metadata": {},
   "source": [
    "type hints의 장점\n",
    "1. 사용자에게 인터페이스를 명확히 알려줄 수 있다.\n",
    "2. 함수의 문서화시 parameter에 대한 정보를 명확히 알 수 있다.\n",
    "3. mypy 또는 IDE, linter등을 통해 코드의 발생 가능한 오류를 사전에 확인\n",
    "4. 시스템 전체적인 안정성을 확보할 수 있음"
   ]
  },
  {
   "cell_type": "markdown",
   "id": "working-salon",
   "metadata": {},
   "source": [
    "#### docstring"
   ]
  },
  {
   "cell_type": "markdown",
   "id": "departmental-bruce",
   "metadata": {},
   "source": [
    "파이썬 함수에 대한 상세스펙을 사전에 작성하여 함수 사용자의 이행도를 높여줌  \n",
    "세개의 따옴표로 docstring 영역을표시  \n",
    "VSCode의 docstring generator를 install한 후 Ctrl + Shift + P 를 하면 docstring의 기본적인 타입이 나오게 됨  \n",
    "docstring을 습관화하는게 중요함"
   ]
  },
  {
   "cell_type": "code",
   "execution_count": 110,
   "id": "underlying-syracuse",
   "metadata": {},
   "outputs": [
    {
     "name": "stdout",
     "output_type": "stream",
     "text": [
      "\n",
      "    Returns the sum of two decimal numbers in binary digits\n",
      "        \n",
      "        Parameters:\n",
      "            a (int): A decimal integer\n",
      "            b (int): Another decimal integer\n",
      "        \n",
      "        Returns:\n",
      "            binary_sum (str): Binary string of the sum of a and b\n",
      "    \n"
     ]
    }
   ],
   "source": [
    "def add_binary(a, b):\n",
    "    \"\"\"\n",
    "    Returns the sum of two decimal numbers in binary digits\n",
    "        \n",
    "        Parameters:\n",
    "            a (int): A decimal integer\n",
    "            b (int): Another decimal integer\n",
    "        \n",
    "        Returns:\n",
    "            binary_sum (str): Binary string of the sum of a and b\n",
    "    \"\"\"\n",
    "    binary_sum = bin(a+b)[2:]\n",
    "    return binary_sum\n",
    "\n",
    "print(add_binary.__doc__)"
   ]
  },
  {
   "cell_type": "markdown",
   "id": "sensitive-clinton",
   "metadata": {},
   "source": [
    "### 함수 작성 가이드라인"
   ]
  },
  {
   "cell_type": "markdown",
   "id": "developed-effects",
   "metadata": {},
   "source": [
    "함수는 가능하면 짧게, 여러개 작성하는 것이 좋음(줄 수를 줄일 것)  \n",
    "함수 이름에 함수의 역할, 의도가 명확히 들어날 것"
   ]
  },
  {
   "cell_type": "markdown",
   "id": "rental-momentum",
   "metadata": {},
   "source": [
    "- V(동사) + O(목적어)의 형태로 함수명을 만들어야 한다"
   ]
  },
  {
   "cell_type": "code",
   "execution_count": 111,
   "id": "extra-scientist",
   "metadata": {},
   "outputs": [],
   "source": [
    "def print_hello_world():\n",
    "    print(\"Hello, World!\")"
   ]
  },
  {
   "cell_type": "markdown",
   "id": "funded-monkey",
   "metadata": {},
   "source": [
    "- 하나의 함수에는 유사한 역할을 하는 코드만 포함해야함"
   ]
  },
  {
   "cell_type": "code",
   "execution_count": 112,
   "id": "oriented-amplifier",
   "metadata": {},
   "outputs": [],
   "source": [
    "# 좋은 예시\n",
    "def add_variables(x,y):\n",
    "    return x+y\n",
    "# 다른 기능이 추가된 나쁜 예시\n",
    "def add_variables(x,y):\n",
    "    print(x, y)\n",
    "    return x+y"
   ]
  },
  {
   "cell_type": "markdown",
   "id": "affiliated-fellow",
   "metadata": {},
   "source": [
    "- 인자로 받은 값 자체를 바꾸진 말 것"
   ]
  },
  {
   "cell_type": "code",
   "execution_count": 113,
   "id": "saving-inspiration",
   "metadata": {},
   "outputs": [],
   "source": [
    "# 기존 객체가 변할 수 있기 때문에 나쁜 예시\n",
    "def count_word(string_variable):\n",
    "    string_variable = list(string_variable)\n",
    "    return len(string_variable)\n",
    "# 좋은 예시\n",
    "def count_word(string_variable):\n",
    "    return len(string_variable)"
   ]
  },
  {
   "cell_type": "markdown",
   "id": "occupied-passing",
   "metadata": {},
   "source": [
    "#### 함수는 언제 만드는게 좋은가?"
   ]
  },
  {
   "cell_type": "markdown",
   "id": "parallel-bosnia",
   "metadata": {},
   "source": [
    "- 공통적으로 사용되는 코드는 함수로 변환\n",
    "- 복잡한 수식을 식별 가능한 이름의 함수로 변환\n",
    "- 복잡한 조건을 식별 가능한 이름의 함수로 변환"
   ]
  },
  {
   "cell_type": "markdown",
   "id": "minor-pleasure",
   "metadata": {},
   "source": [
    "#### 좋은 코드란 무엇인가?"
   ]
  },
  {
   "cell_type": "markdown",
   "id": "presidential-universal",
   "metadata": {},
   "source": [
    "코딩은 팀플이기에 사람이 이해할 수 있는 코드를 짜야 한다.  \n",
    "코드는 하나의 보고서로 생각하여 자세하게 간단히 적어야 한다."
   ]
  },
  {
   "cell_type": "markdown",
   "id": "weighted-abraham",
   "metadata": {},
   "source": [
    "일관성을 위한 규친인 코딩 컨벤션이 필요  \n",
    "구글 파이썬 컨벤션을 참고하는게 좋음  \n",
    "중요한건 일관성\n",
    "- 들여쓰기 공백 4칸을 권장\n",
    "- 한 줄은 최대 79자까지\n",
    "- 불필요한 공백은 피함\n",
    "- 연산자는 1칸 이상 안띄움\n",
    "- 주석은 항상 갱신하고 불필요한 주석은 삭제\n",
    "- 코그듸 마지막에는 항상 한 줄 추가\n",
    "- 소문자 l, 대문자 O, 대문자 l 금지\n",
    "- 함수명은 소문자로 구성하며 필요하면 밑줄로 나눔\n",
    "- 파이썬 코딩 컨벤션의 기준인 PEP8을 따르는게 좋음\n",
    "- flake8 모듈로 체크 - flake8 <파일명>\n",
    "- conda install -c anaconda flake8\n",
    "- flake8 파일명"
   ]
  },
  {
   "cell_type": "markdown",
   "id": "exclusive-joseph",
   "metadata": {},
   "source": [
    "최근에는 black 모듈을 활용하여 PEP 8 에 가까운 수준을 준수  \n",
    "conda install black  \n",
    "black 파일명.py 명령을 사용"
   ]
  }
 ],
 "metadata": {
  "kernelspec": {
   "display_name": "Python 3",
   "language": "python",
   "name": "python3"
  },
  "language_info": {
   "codemirror_mode": {
    "name": "ipython",
    "version": 3
   },
   "file_extension": ".py",
   "mimetype": "text/x-python",
   "name": "python",
   "nbconvert_exporter": "python",
   "pygments_lexer": "ipython3",
   "version": "3.7.3"
  }
 },
 "nbformat": 4,
 "nbformat_minor": 5
}
