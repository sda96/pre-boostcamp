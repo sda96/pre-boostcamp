{
 "cells": [
  {
   "cell_type": "markdown",
   "id": "applicable-appeal",
   "metadata": {},
   "source": [
    "### Function"
   ]
  },
  {
   "cell_type": "markdown",
   "id": "noticed-finder",
   "metadata": {},
   "source": [
    "- 어떤 일을 수행하는 코드의 덩어리\n",
    "- 반복적인 수행을 1회만 작성 후 호출\n",
    "- 하나의 코드(하나의 개조식 보고서)를 논리적인 단위로 분리\n",
    "- 캡슐화 : 인터페이스만 알면 타인의 코드 사용 가능"
   ]
  },
  {
   "cell_type": "markdown",
   "id": "nonprofit-arbor",
   "metadata": {},
   "source": [
    "함수 선언 문법 필요 요소\n",
    "- 함수 이름 \n",
    "- parameter\n",
    "- indentation(들여쓰기)\n",
    "- return value(optional)"
   ]
  },
  {
   "cell_type": "code",
   "execution_count": 2,
   "id": "successful-thanks",
   "metadata": {},
   "outputs": [],
   "source": [
    "def function(parameter): # 함수명\n",
    "    print(parameter) # 메인 프로그램, 수행문\n",
    "    return parameter + 1 # 출력값"
   ]
  },
  {
   "cell_type": "code",
   "execution_count": 3,
   "id": "referenced-death",
   "metadata": {},
   "outputs": [
    {
     "name": "stdout",
     "output_type": "stream",
     "text": [
      "5\n"
     ]
    },
    {
     "data": {
      "text/plain": [
       "6"
      ]
     },
     "execution_count": 3,
     "metadata": {},
     "output_type": "execute_result"
    }
   ],
   "source": [
    "function(5)"
   ]
  },
  {
   "cell_type": "markdown",
   "id": "satisfactory-society",
   "metadata": {},
   "source": [
    "함수 수행 순서\n",
    "- 함수 부분을 제외한 메인 프로그램부터 시작\n",
    "- 함수 호출 시 함수부분을 수행 후 되돌아옴"
   ]
  },
  {
   "cell_type": "markdown",
   "id": "acceptable-humidity",
   "metadata": {},
   "source": [
    "프로그래밍 함수와 수학의 함수\n",
    "- 모두 입력값과 출력값을 이루어짐"
   ]
  },
  {
   "cell_type": "markdown",
   "id": "interracial-cutting",
   "metadata": {},
   "source": [
    "함수에 대한 용어\n",
    "- parameter : 함수의 입력값 인터페이스\n",
    "- argument : 실제 parameter에 대입된 값\n",
    "<img src=\"https://imgur.com/lwA7AYR.jpg\">"
   ]
  },
  {
   "cell_type": "markdown",
   "id": "nominated-summit",
   "metadata": {},
   "source": [
    "함수의 형태\n",
    "- parameter 유무, 반환 값(return value) 유무에 따라 함수의 형태가 다름\n",
    "|비고|parameter 없음|parameter 있음|\n",
    "|-|-|-|\n",
    "|반환값 없음|함수 내의 수행문만 수행|parameter를 사용하여 수행문만 수행|\n",
    "|반환값 있음|parameter 없이, 수행문 수행 후 결과값 반환|parameter를 사용하여 수행문 수행 후 결과값 반환|"
   ]
  },
  {
   "cell_type": "code",
   "execution_count": 12,
   "id": "eight-present",
   "metadata": {},
   "outputs": [],
   "source": [
    "def f(x):\n",
    "    return print(x+10)"
   ]
  },
  {
   "cell_type": "code",
   "execution_count": 13,
   "id": "geographic-symphony",
   "metadata": {},
   "outputs": [
    {
     "name": "stdout",
     "output_type": "stream",
     "text": [
      "20\n"
     ]
    }
   ],
   "source": [
    "f(10)"
   ]
  },
  {
   "cell_type": "code",
   "execution_count": 14,
   "id": "driving-toilet",
   "metadata": {},
   "outputs": [
    {
     "name": "stdout",
     "output_type": "stream",
     "text": [
      "20\n"
     ]
    }
   ],
   "source": [
    "c = f(10)"
   ]
  },
  {
   "cell_type": "code",
   "execution_count": 16,
   "id": "limiting-sucking",
   "metadata": {},
   "outputs": [],
   "source": [
    "c # print 함수에는 return 값이 없기 때문에 함수 f(x)를 실행 후 반환되는 값도 없음"
   ]
  },
  {
   "cell_type": "markdown",
   "id": "expected-current",
   "metadata": {},
   "source": [
    "### Console I/O "
   ]
  },
  {
   "cell_type": "markdown",
   "id": "about-wales",
   "metadata": {},
   "source": [
    "- console in/out"
   ]
  },
  {
   "cell_type": "markdown",
   "id": "continent-secretary",
   "metadata": {},
   "source": [
    "어떻게 프로그램과 데이터를 주고(input) 받을 것(output)인가?\n",
    "- 터미널 : mouse가 아닌 키보드로 명령을 입력하여 프로그램 실행\n",
    "- GUI\n",
    "- CLI"
   ]
  },
  {
   "cell_type": "code",
   "execution_count": 19,
   "id": "serious-pledge",
   "metadata": {},
   "outputs": [
    {
     "name": "stdout",
     "output_type": "stream",
     "text": [
      "넣어줘z\n"
     ]
    },
    {
     "data": {
      "text/plain": [
       "'z'"
      ]
     },
     "execution_count": 19,
     "metadata": {},
     "output_type": "execute_result"
    }
   ],
   "source": [
    "input(\"넣어줘\")"
   ]
  },
  {
   "cell_type": "markdown",
   "id": "limiting-stroke",
   "metadata": {},
   "source": [
    "print formatting\n",
    "- % string\n",
    "- format 함수\n",
    "- f string"
   ]
  },
  {
   "cell_type": "code",
   "execution_count": 21,
   "id": "optical-event",
   "metadata": {},
   "outputs": [
    {
     "name": "stdout",
     "output_type": "stream",
     "text": [
      "one two\n",
      "one two\n",
      "1 2\n",
      "1 2\n"
     ]
    }
   ],
   "source": [
    "# old school formatting\n",
    "print(\"%s %s\"%(\"one\", \"two\")) # %str\n",
    "print(\"{} {}\".format(\"one\", \"two\"))\n",
    "print(\"%d %d\"%(1, 2)) # %digit\n",
    "print(\"{} {}\".format(1, 2))"
   ]
  },
  {
   "cell_type": "code",
   "execution_count": 26,
   "id": "distinct-arthritis",
   "metadata": {},
   "outputs": [
    {
     "name": "stdout",
     "output_type": "stream",
     "text": [
      "Art :   453, Price per Unit :    59.07\n"
     ]
    }
   ],
   "source": [
    "# %8.2f는 총 8칸을 확보하고, 소수점은 2번째 자리수 까리 출력해라\n",
    "print(\"Art : %5d, Price per Unit : %8.2f\"%(453, 59.067))"
   ]
  },
  {
   "cell_type": "code",
   "execution_count": 27,
   "id": "right-liver",
   "metadata": {},
   "outputs": [],
   "source": [
    "# 셀 나누기 커맨드 : ctrl + shift + -\n",
    "# 셀 합치기 커맨드 : sift + m"
   ]
  },
  {
   "cell_type": "code",
   "execution_count": 30,
   "id": "center-steam",
   "metadata": {},
   "outputs": [
    {
     "name": "stdout",
     "output_type": "stream",
     "text": [
      "Product : Apple, Price per unit: 5.24300\n",
      "Product : Apple, Price per unit: 5.24300\n",
      "Product :      Apple, Price per unit:    5.24300\n",
      "Product :      Apple, Price per unit:    5.24300\n"
     ]
    }
   ],
   "source": [
    "# padding\n",
    "print(\"Product : %5s, Price per unit: %.5f\"%(\"Apple\", 5.243))\n",
    "print(\"Product : {0:5s}, Price per unit: {1:.5f}\".format(\"Apple\", 5.243))\n",
    "print(\"Product : %10s, Price per unit: %10.5f\"%(\"Apple\", 5.243))\n",
    "print(\"Product : {0:>10s}, Price per unit: {1:10.5f}\".format(\"Apple\", 5.243)) # 오른쪽으로 정렬"
   ]
  },
  {
   "cell_type": "code",
   "execution_count": 31,
   "id": "static-canon",
   "metadata": {},
   "outputs": [
    {
     "name": "stdout",
     "output_type": "stream",
     "text": [
      "Product :      Apple, Price per unit:    5.24300\n",
      "Product :      Apple, Price per unit:    5.24300\n"
     ]
    }
   ],
   "source": [
    "# naming\n",
    "print(\"Product : %(name)10s, Price per unit: %(price)10.5f\"%{\"name\":\"Apple\", \"price\":5.243})\n",
    "print(\"Product : {name:>10s}, Price per unit: {price:10.5f}\".format(name=\"Apple\", price=5.243)) # 오른쪽으로 정렬"
   ]
  },
  {
   "cell_type": "markdown",
   "id": "hydraulic-keeping",
   "metadata": {},
   "source": [
    "f-string\n",
    "- python3.6 이후 PEP498에 근거한 formatting 기법"
   ]
  },
  {
   "cell_type": "code",
   "execution_count": 34,
   "id": "independent-concern",
   "metadata": {},
   "outputs": [
    {
     "name": "stdout",
     "output_type": "stream",
     "text": [
      "Hello ChangHyun, You are 26\n",
      "ChangHyun           \n",
      "           ChangHyun\n",
      "ChangHyun***********\n",
      "***********ChangHyun\n",
      "-----ChangHyun------\n",
      "3.14\n"
     ]
    }
   ],
   "source": [
    "name = \"ChangHyun\"\n",
    "age = 26\n",
    "print(f\"Hello {name}, You are {age}\")\n",
    "print(f\"{name:20}\")\n",
    "print(f\"{name:>20}\")\n",
    "print(f\"{name:*<20}\")\n",
    "print(f\"{name:*>20}\")\n",
    "print(f\"{name:-^20}\") \n",
    "number = 3.14159265353589793\n",
    "print(f\"{number:.2f}\")"
   ]
  }
 ],
 "metadata": {
  "kernelspec": {
   "display_name": "Python 3",
   "language": "python",
   "name": "python3"
  },
  "language_info": {
   "codemirror_mode": {
    "name": "ipython",
    "version": 3
   },
   "file_extension": ".py",
   "mimetype": "text/x-python",
   "name": "python",
   "nbconvert_exporter": "python",
   "pygments_lexer": "ipython3",
   "version": "3.7.3"
  }
 },
 "nbformat": 4,
 "nbformat_minor": 5
}
